{
 "cells": [
  {
   "cell_type": "markdown",
   "metadata": {},
   "source": [
    "# Plot Risk Maps\n",
    "\n",
    "This IPython notebook allows users to plot risk maps from scenario or probabilistic risk analysis. If more than a single asset is situated at a given location, it is possible to plot the aggregated loss, or create loss maps according to each building taxonomy. For the latter option, it is necessary to specify also the file paths for the exposure and vulnerability models used in the calculations.<br />\n",
    "\n",
    "Please specify the type of plotting in variable plotting_type as follows:  <br />\n",
    "0 - Aggregated loss map only <br />\n",
    "1 - Loss maps per taxonomy only <br />\n",
    "2 - Both aggregated and taxonomy-based <br /> \n",
    "\n",
    "Please specify the limits of bounding box for the map in variable bounding_box. If you would like to use the limits from the collapse map, set this variable to 0."
   ]
  },
  {
   "cell_type": "code",
   "execution_count": null,
   "metadata": {
    "collapsed": false,
    "scrolled": false
   },
   "outputs": [],
   "source": [
    "%matplotlib inline\n",
    "import plot_risk_maps as plotrm\n",
    "\n",
    "loss_map_file = '../sample_outputs/scenario_risk/loss-maps-structural.xml'\n",
    "exposure_model = '../input_models/exposure_model_nepal.xml'\n",
    "\n",
    "plotting_type = 2\n",
    "bounding_box = 0\n",
    "marker_size = 5\n",
    "log_scale = True\n",
    "export_map_to_csv = False\n",
    "\n",
    "plotrm.build_map(plotting_type,loss_map_file,bounding_box,log_scale,exposure_model,marker_size,export_map_to_csv)"
   ]
  },
  {
   "cell_type": "code",
   "execution_count": null,
   "metadata": {
    "collapsed": true
   },
   "outputs": [],
   "source": []
  }
 ],
 "metadata": {
  "kernelspec": {
   "display_name": "Python 2",
   "language": "python",
   "name": "python2"
  },
  "language_info": {
   "codemirror_mode": {
    "name": "ipython",
    "version": 2
   },
   "file_extension": ".py",
   "mimetype": "text/x-python",
   "name": "python",
   "nbconvert_exporter": "python",
   "pygments_lexer": "ipython2",
   "version": "2.7.9"
  }
 },
 "nbformat": 4,
 "nbformat_minor": 0
}
