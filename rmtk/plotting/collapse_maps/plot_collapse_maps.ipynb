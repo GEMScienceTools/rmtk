{
 "cells": [
  {
   "cell_type": "markdown",
   "metadata": {},
   "source": [
    "# Plot Collapse Maps\n",
    "\n",
    "This IPython scripts allows users to plot collapse maps from scenario or probabilistic damage analysis. If more than an asset per location exists, it is possible to plot the aggregated number of collapses, or create various maps according to each building taxonomy. For the latter option, it is necessary to specify also the location of the exposure and vulnerability models used in the calculations.\n",
    "<br /> \n",
    "<br />\n",
    "Please specify the type of plotting in variable ploting_type as follows: <br />\n",
    "0 - Aggregated collapse map only <br />\n",
    "1 - Collapse maps per taxonomy only <br />\n",
    "2 - Both aggregated and taxonomy-based <br />\n",
    "<br />\n",
    "Please specify the limits of bounding box for the map in variable bounding_box. If you would like to use the limits from the collapse map, set this variable to 0."
   ]
  },
  {
   "cell_type": "code",
   "execution_count": null,
   "metadata": {
    "collapsed": false
   },
   "outputs": [],
   "source": [
    "%matplotlib inline\n",
    "import plot_collapse_maps as plt\n",
    "\n",
    "collapse_map = '../sample_outputs/scenario_damage/collapse_map.xml'\n",
    "exposure_model = '../input_models/exposure_model_nepal.xml'\n",
    "\n",
    "plotting_type = 2\n",
    "bounding_box = 0\n",
    "marker_size = 10\n",
    "log_scale = True\n",
    "export_map_to_csv = True\n",
    "\n",
    "plt.build_map(plotting_type,collapse_map,bounding_box,log_scale,exposure_model,marker_size,export_map_to_csv)"
   ]
  }
 ],
 "metadata": {
  "kernelspec": {
   "display_name": "Python 2",
   "language": "python",
   "name": "python2"
  },
  "language_info": {
   "codemirror_mode": {
    "name": "ipython",
    "version": 2
   },
   "file_extension": ".py",
   "mimetype": "text/x-python",
   "name": "python",
   "nbconvert_exporter": "python",
   "pygments_lexer": "ipython2",
   "version": "2.7.9"
  }
 },
 "nbformat": 4,
 "nbformat_minor": 0
}
