{
 "cells": [
  {
   "cell_type": "markdown",
   "metadata": {},
   "source": [
    "# Plot Loss Curves\n",
    "\n",
    "This IPython notebook allows the user to visualise the loss curves for individual assets generated from a probabilistic event-based risk analysis or a classical PSHA-based risk analysis.\n",
    "\n",
    "Please specify below the path of the xml file containing the loss curve results, and a list of the asset ids for which loss curve plots are needed (the asset ids should match the ids in the exposure model used for running the analysis).\n"
   ]
  },
  {
   "cell_type": "code",
   "execution_count": null,
   "metadata": {
    "collapsed": false
   },
   "outputs": [],
   "source": [
    "%matplotlib inline\n",
    "import plot_loss_curves as plotlc\n",
    "\n",
    "loss_curves_file = '../sample_outputs/classical_risk/loss-curves-structural.xml'\n",
    "assets_list = ['a1', 'a10', 'a100']\n",
    "\n",
    "log_scale_x = True\n",
    "log_scale_y = True\n",
    "\n",
    "plotlc.plot_loss_curves(loss_curves_file, assets_list, log_scale_x, log_scale_y)"
   ]
  }
 ],
 "metadata": {
  "kernelspec": {
   "display_name": "Python 2",
   "language": "python",
   "name": "python2"
  },
  "language_info": {
   "codemirror_mode": {
    "name": "ipython",
    "version": 2
   },
   "file_extension": ".py",
   "mimetype": "text/x-python",
   "name": "python",
   "nbconvert_exporter": "python",
   "pygments_lexer": "ipython2",
   "version": "2.7.9"
  }
 },
 "nbformat": 4,
 "nbformat_minor": 0
}
