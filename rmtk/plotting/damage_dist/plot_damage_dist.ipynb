{
 "cells": [
  {
   "cell_type": "markdown",
   "metadata": {},
   "source": [
    "# Plot Damage Distribution"
   ]
  },
  {
   "cell_type": "markdown",
   "metadata": {},
   "source": [
    "This IPython notebook allows the user to create bar plots of the damage distribution results obtained from a scenario damage analysis, and to export the plots as png files. Damage distribution per taxonomy as well as total damage distribution results can be visualised using this notebook. The bar plots show the estimated mean and standard deviation of the number of buildings in each damage state."
   ]
  },
  {
   "cell_type": "code",
   "execution_count": 1,
   "metadata": {
    "collapsed": false
   },
   "outputs": [],
   "source": [
    "%matplotlib inline\n",
    "import plot_damage_dist as plotdd"
   ]
  },
  {
   "cell_type": "markdown",
   "metadata": {},
   "source": [
    "Please specify below the path of the xml file containing the damage distribution results:"
   ]
  },
  {
   "cell_type": "code",
   "execution_count": 2,
   "metadata": {
    "collapsed": false
   },
   "outputs": [],
   "source": [
    "total_dmg_dist_file = 'dmg_dist_total-363.xml'\n",
    "tax_dmg_dist_file = 'dmg_dist_per_taxonomy-363.xml'"
   ]
  },
  {
   "cell_type": "markdown",
   "metadata": {},
   "source": [
    "In the cell below, please provide a list of the building taxonomies for which damage distribution plots are needed. The taxonomy strings should match the taxonomies in the fragility model used for running the analysis. If no taxonomies are listed, the notebook script will attempt to plot the damage distribution results for all of the taxonomies used in the analysis."
   ]
  },
  {
   "cell_type": "code",
   "execution_count": 3,
   "metadata": {
    "collapsed": false
   },
   "outputs": [],
   "source": [
    "taxonomy_list=[]"
   ]
  },
  {
   "cell_type": "markdown",
   "metadata": {},
   "source": [
    "Setting the `plot_3d` flag in the cell below to `True` will generate a 3D bar plot (Note: Using this option will plot the damage fractions for each taxonomy instead of the number of assets in each damage state, to allow for a comparison of the damage distribution between different taxonomies).\n",
    "\n",
    "Setting the `export_png` flag in the cell below to `True` will export the loss curve plots for the specifed assets in the png format."
   ]
  },
  {
   "cell_type": "code",
   "execution_count": 4,
   "metadata": {
    "collapsed": false
   },
   "outputs": [],
   "source": [
    "plot_3d = True\n",
    "export_png = True"
   ]
  },
  {
   "cell_type": "code",
   "execution_count": 5,
   "metadata": {
    "collapsed": false
   },
   "outputs": [
    {
     "ename": "IOError",
     "evalue": "[Errno 2] No such file or directory: 'dmg_dist_per_taxonomy-363.xml'",
     "output_type": "error",
     "traceback": [
      "\u001b[0;31m---------------------------------------------------------------------------\u001b[0m",
      "\u001b[0;31mIOError\u001b[0m                                   Traceback (most recent call last)",
      "\u001b[0;32m<ipython-input-5-7c65dd1cb0fe>\u001b[0m in \u001b[0;36m<module>\u001b[0;34m()\u001b[0m\n\u001b[0;32m----> 1\u001b[0;31m \u001b[0mplotdd\u001b[0m\u001b[0;34m.\u001b[0m\u001b[0mplot_damage_dist\u001b[0m\u001b[0;34m(\u001b[0m\u001b[0mtax_dmg_dist_file\u001b[0m\u001b[0;34m,\u001b[0m \u001b[0mtaxonomy_list\u001b[0m\u001b[0;34m,\u001b[0m \u001b[0mplot_3d\u001b[0m\u001b[0;34m,\u001b[0m \u001b[0mexport_png\u001b[0m\u001b[0;34m)\u001b[0m\u001b[0;34m\u001b[0m\u001b[0m\n\u001b[0m",
      "\u001b[0;32m/Users/anirudh/GEM/GEMScienceTools/rmtk/rmtk/plotting/damage_dist/plot_damage_dist.py\u001b[0m in \u001b[0;36mplot_damage_dist\u001b[0;34m(damage_file, taxonomy_list, plot_3d, export_png)\u001b[0m\n\u001b[1;32m     29\u001b[0m     \u001b[0mPlots\u001b[0m \u001b[0mthe\u001b[0m \u001b[0mdamage\u001b[0m \u001b[0mdistribution\u001b[0m \u001b[0;32mfor\u001b[0m \u001b[0mthe\u001b[0m \u001b[0mspecified\u001b[0m \u001b[0mtaxonomies\u001b[0m\u001b[0;34m\u001b[0m\u001b[0m\n\u001b[1;32m     30\u001b[0m     '''\n\u001b[0;32m---> 31\u001b[0;31m     \u001b[0mtaxonomies\u001b[0m\u001b[0;34m,\u001b[0m \u001b[0mdamage_states\u001b[0m\u001b[0;34m,\u001b[0m \u001b[0mdamage_dist_tax\u001b[0m \u001b[0;34m=\u001b[0m \u001b[0mparsedd\u001b[0m\u001b[0;34m.\u001b[0m\u001b[0mparse_damage_file\u001b[0m\u001b[0;34m(\u001b[0m\u001b[0mdamage_file\u001b[0m\u001b[0;34m)\u001b[0m\u001b[0;34m\u001b[0m\u001b[0m\n\u001b[0m\u001b[1;32m     32\u001b[0m     \u001b[0;32mprint\u001b[0m \u001b[0mdamage_states\u001b[0m\u001b[0;34m\u001b[0m\u001b[0m\n\u001b[1;32m     33\u001b[0m     \u001b[0;32mif\u001b[0m \u001b[0mtaxonomy_list\u001b[0m\u001b[0;34m:\u001b[0m\u001b[0;34m\u001b[0m\u001b[0m\n",
      "\u001b[0;32m/Users/anirudh/GEM/GEMScienceTools/rmtk/rmtk/plotting/damage_dist/parse_damage_dist.py\u001b[0m in \u001b[0;36mparse_damage_file\u001b[0;34m(input_file)\u001b[0m\n\u001b[1;32m     75\u001b[0m     \u001b[0mdamage_dist\u001b[0m \u001b[0;34m=\u001b[0m \u001b[0;34m{\u001b[0m\u001b[0;34m}\u001b[0m\u001b[0;34m\u001b[0m\u001b[0m\n\u001b[1;32m     76\u001b[0m     \u001b[0mdamage_dist_tax\u001b[0m \u001b[0;34m=\u001b[0m \u001b[0;34m{\u001b[0m\u001b[0;34m}\u001b[0m\u001b[0;34m\u001b[0m\u001b[0m\n\u001b[0;32m---> 77\u001b[0;31m     \u001b[0;32mfor\u001b[0m \u001b[0m_\u001b[0m\u001b[0;34m,\u001b[0m \u001b[0melement\u001b[0m \u001b[0;32min\u001b[0m \u001b[0metree\u001b[0m\u001b[0;34m.\u001b[0m\u001b[0miterparse\u001b[0m\u001b[0;34m(\u001b[0m\u001b[0minput_file\u001b[0m\u001b[0;34m)\u001b[0m\u001b[0;34m:\u001b[0m\u001b[0;34m\u001b[0m\u001b[0m\n\u001b[0m\u001b[1;32m     78\u001b[0m         \u001b[0;32mif\u001b[0m \u001b[0melement\u001b[0m\u001b[0;34m.\u001b[0m\u001b[0mtag\u001b[0m \u001b[0;34m==\u001b[0m \u001b[0;34m'%stotalDmgDist'\u001b[0m \u001b[0;34m%\u001b[0m \u001b[0mxmlNRML\u001b[0m\u001b[0;34m:\u001b[0m\u001b[0;34m\u001b[0m\u001b[0m\n\u001b[1;32m     79\u001b[0m             \u001b[0mtaxonomy\u001b[0m \u001b[0;34m=\u001b[0m \u001b[0;34m'All taxonomies'\u001b[0m\u001b[0;34m\u001b[0m\u001b[0m\n",
      "\u001b[0;32miterparse.pxi\u001b[0m in \u001b[0;36mlxml.etree.iterparse.__init__ (src/lxml/lxml.etree.c:129419)\u001b[0;34m()\u001b[0m\n",
      "\u001b[0;31mIOError\u001b[0m: [Errno 2] No such file or directory: 'dmg_dist_per_taxonomy-363.xml'"
     ]
    }
   ],
   "source": [
    "plotdd.plot_damage_dist(tax_dmg_dist_file, taxonomy_list, plot_3d, export_png)"
   ]
  },
  {
   "cell_type": "code",
   "execution_count": null,
   "metadata": {
    "collapsed": false
   },
   "outputs": [],
   "source": []
  }
 ],
 "metadata": {
  "kernelspec": {
   "display_name": "Python 2",
   "language": "python",
   "name": "python2"
  },
  "language_info": {
   "codemirror_mode": {
    "name": "ipython",
    "version": 2
   },
   "file_extension": ".py",
   "mimetype": "text/x-python",
   "name": "python",
   "nbconvert_exporter": "python",
   "pygments_lexer": "ipython2",
   "version": "2.7.9"
  }
 },
 "nbformat": 4,
 "nbformat_minor": 0
}
