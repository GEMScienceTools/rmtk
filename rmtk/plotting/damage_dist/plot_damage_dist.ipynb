{
 "cells": [
  {
   "cell_type": "markdown",
   "metadata": {},
   "source": [
    "# Plot Damage Distribution\n",
    "\n",
    "This IPython notebook allows the user to create bar plots of the damage distribution results obtained from a scenario damage analysis, and to export the plots as png files. Damage distribution per taxonomy as well as total damage distribution results can be visualised using this notebook. The bar plots show the estimated mean and standard deviation of the number of buildings in each damage state.\n",
    "\n",
    "## Damage distribution per taxonomy\n",
    "\n",
    "Please specify below the path of the xml file containing the damage distribution results.\n",
    "\n",
    "In the taxonomy_list, please provide a list of the building taxonomies for which damage distribution plots are needed (e.g. `taxonomy_list=[\"W\", \"A\", \"RC\"]`). The taxonomy strings should match the taxonomies in the fragility model used for running the analysis. If no taxonomies are listed (`taxonomy_list=[]`), the notebook script will attempt to plot the damage distribution results for all of the taxonomies used in the analysis.\n",
    "\n",
    "Setting the `plot_3d` flag in the cell below to `True` will generate a 3D bar plot (Note: Using this option will plot the damage fractions for each taxonomy instead of the number of assets in each damage state, to allow for a comparison of the damage distribution between different taxonomies)."
   ]
  },
  {
   "cell_type": "code",
   "execution_count": null,
   "metadata": {
    "collapsed": false
   },
   "outputs": [],
   "source": [
    "%matplotlib inline\n",
    "import plot_damage_dist as plotdd\n",
    "tax_dmg_dist_file = '../sample_outputs/scenario_damage/dmg_dist_per_taxonomy.xml'\n",
    "\n",
    "taxonomy_list=[]\n",
    "plot_3d = True\n",
    "plot_no_damage = False\n",
    "\n",
    "plotdd.plot_taxonomy_damage_dist(tax_dmg_dist_file, taxonomy_list, plot_no_damage, plot_3d)"
   ]
  },
  {
   "cell_type": "markdown",
   "metadata": {},
   "source": [
    "## Total damage distribution\n",
    "\n",
    "Please specify below the path of the xml file containing the total damage distribution results.\n"
   ]
  },
  {
   "cell_type": "code",
   "execution_count": null,
   "metadata": {
    "collapsed": false
   },
   "outputs": [],
   "source": [
    "total_dmg_dist_file = '../sample_outputs/scenario_damage/dmg_dist_total.xml'\n",
    "plot_no_damage = False\n",
    "\n",
    "plotdd.plot_total_damage_dist(total_dmg_dist_file, plot_no_damage)"
   ]
  }
 ],
 "metadata": {
  "kernelspec": {
   "display_name": "Python 2",
   "language": "python",
   "name": "python2"
  },
  "language_info": {
   "codemirror_mode": {
    "name": "ipython",
    "version": 2
   },
   "file_extension": ".py",
   "mimetype": "text/x-python",
   "name": "python",
   "nbconvert_exporter": "python",
   "pygments_lexer": "ipython2",
   "version": "2.7.9"
  }
 },
 "nbformat": 4,
 "nbformat_minor": 0
}
