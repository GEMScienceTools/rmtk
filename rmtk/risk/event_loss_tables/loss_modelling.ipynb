{
 "cells": [
  {
   "cell_type": "markdown",
   "metadata": {},
   "source": [
    "# Probable Maximum Losses (PML)"
   ]
  },
  {
   "cell_type": "markdown",
   "metadata": {},
   "source": [
    "This script processes event loss tables and calculates varies metrics such as loss exceedance curves, average annual losses, and losses for a number of return periods. It can also extract seismic events for specific levels of losses.\n",
    "<br />\n",
    "<br />\n",
    "It is necessary to include all of the event loss table outputs and associated stochastic event sets in the same folder (event_loss_table_folder)."
   ]
  },
  {
   "cell_type": "code",
   "execution_count": 1,
   "metadata": {
    "collapsed": false
   },
   "outputs": [
    {
     "ename": "OSError",
     "evalue": "[Errno 2] No such file or directory: 'California'",
     "output_type": "error",
     "traceback": [
      "\u001b[0;31m---------------------------------------------------------------------------\u001b[0m",
      "\u001b[0;31mOSError\u001b[0m                                   Traceback (most recent call last)",
      "\u001b[0;32m<ipython-input-1-1b3fc3884b58>\u001b[0m in \u001b[0;36m<module>\u001b[0;34m()\u001b[0m\n\u001b[1;32m      7\u001b[0m \u001b[0mreturn_periods\u001b[0m \u001b[0;34m=\u001b[0m \u001b[0;34m[\u001b[0m\u001b[0;36m100\u001b[0m\u001b[0;34m,\u001b[0m\u001b[0;36m475\u001b[0m\u001b[0;34m,\u001b[0m\u001b[0;36m950\u001b[0m\u001b[0;34m,\u001b[0m\u001b[0;36m2450\u001b[0m\u001b[0;34m]\u001b[0m\u001b[0;34m\u001b[0m\u001b[0m\n\u001b[1;32m      8\u001b[0m \u001b[0;34m\u001b[0m\u001b[0m\n\u001b[0;32m----> 9\u001b[0;31m \u001b[0mlossModelling\u001b[0m\u001b[0;34m(\u001b[0m\u001b[0mevent_loss_table_folder\u001b[0m\u001b[0;34m,\u001b[0m\u001b[0msave_ses_csv\u001b[0m\u001b[0;34m,\u001b[0m\u001b[0msave_elt_csv\u001b[0m\u001b[0;34m,\u001b[0m\u001b[0mtotal_cost\u001b[0m\u001b[0;34m,\u001b[0m\u001b[0mreturn_periods\u001b[0m\u001b[0;34m)\u001b[0m\u001b[0;34m\u001b[0m\u001b[0m\n\u001b[0m",
      "\u001b[0;32m/Users/vitorsilva/Documents/GEM/git/gem/rmtk/rmtk/risk/event_loss_tables/loss_modelling.py\u001b[0m in \u001b[0;36mlossModelling\u001b[0;34m(event_loss_table_folder, save_ses_csv, save_elt_csv, total_cost, return_periods)\u001b[0m\n\u001b[1;32m     11\u001b[0m \u001b[0;32mdef\u001b[0m \u001b[0mlossModelling\u001b[0m\u001b[0;34m(\u001b[0m\u001b[0mevent_loss_table_folder\u001b[0m\u001b[0;34m,\u001b[0m\u001b[0msave_ses_csv\u001b[0m\u001b[0;34m,\u001b[0m\u001b[0msave_elt_csv\u001b[0m\u001b[0;34m,\u001b[0m\u001b[0mtotal_cost\u001b[0m\u001b[0;34m,\u001b[0m\u001b[0mreturn_periods\u001b[0m\u001b[0;34m)\u001b[0m\u001b[0;34m:\u001b[0m\u001b[0;34m\u001b[0m\u001b[0m\n\u001b[1;32m     12\u001b[0m \u001b[0;34m\u001b[0m\u001b[0m\n\u001b[0;32m---> 13\u001b[0;31m     \u001b[0minvestigationTime\u001b[0m\u001b[0;34m,\u001b[0m \u001b[0mses\u001b[0m \u001b[0;34m=\u001b[0m \u001b[0mparse_ses\u001b[0m\u001b[0;34m.\u001b[0m\u001b[0mparse_ses\u001b[0m\u001b[0;34m(\u001b[0m\u001b[0mevent_loss_table_folder\u001b[0m\u001b[0;34m,\u001b[0m\u001b[0msave_ses_csv\u001b[0m\u001b[0;34m)\u001b[0m\u001b[0;34m\u001b[0m\u001b[0m\n\u001b[0m\u001b[1;32m     14\u001b[0m \u001b[0;31m#    investigationTime = 170000\u001b[0m\u001b[0;34m\u001b[0m\u001b[0;34m\u001b[0m\u001b[0m\n\u001b[1;32m     15\u001b[0m     \u001b[0mevent_loss_table\u001b[0m \u001b[0;34m=\u001b[0m \u001b[0mparse_elt\u001b[0m\u001b[0;34m.\u001b[0m\u001b[0mparse_elt\u001b[0m\u001b[0;34m(\u001b[0m\u001b[0mevent_loss_table_folder\u001b[0m\u001b[0;34m,\u001b[0m\u001b[0msave_elt_csv\u001b[0m\u001b[0;34m)\u001b[0m\u001b[0;34m\u001b[0m\u001b[0m\n",
      "\u001b[0;32m/Users/vitorsilva/Documents/GEM/git/gem/rmtk/rmtk/risk/event_loss_tables/parse_ses.py\u001b[0m in \u001b[0;36mparse_ses\u001b[0;34m(folder_ses, save_flag)\u001b[0m\n\u001b[1;32m    142\u001b[0m         \u001b[0minvestigationTime\u001b[0m \u001b[0;34m=\u001b[0m \u001b[0;36m0.0\u001b[0m\u001b[0;34m\u001b[0m\u001b[0m\n\u001b[1;32m    143\u001b[0m \u001b[0;34m\u001b[0m\u001b[0m\n\u001b[0;32m--> 144\u001b[0;31m         \u001b[0mses_files\u001b[0m \u001b[0;34m=\u001b[0m \u001b[0;34m[\u001b[0m\u001b[0mx\u001b[0m \u001b[0;32mfor\u001b[0m \u001b[0mx\u001b[0m \u001b[0;32min\u001b[0m \u001b[0mos\u001b[0m\u001b[0;34m.\u001b[0m\u001b[0mlistdir\u001b[0m\u001b[0;34m(\u001b[0m\u001b[0mfolder_ses\u001b[0m\u001b[0;34m)\u001b[0m \u001b[0;32mif\u001b[0m \u001b[0mx\u001b[0m\u001b[0;34m[\u001b[0m\u001b[0;34m-\u001b[0m\u001b[0;36m4\u001b[0m\u001b[0;34m:\u001b[0m\u001b[0;34m]\u001b[0m \u001b[0;34m==\u001b[0m \u001b[0;34m'.xml'\u001b[0m\u001b[0;34m]\u001b[0m\u001b[0;34m\u001b[0m\u001b[0m\n\u001b[0m\u001b[1;32m    145\u001b[0m \u001b[0;34m\u001b[0m\u001b[0m\n\u001b[1;32m    146\u001b[0m         \u001b[0;32mfor\u001b[0m \u001b[0msingleFile\u001b[0m \u001b[0;32min\u001b[0m \u001b[0mses_files\u001b[0m\u001b[0;34m:\u001b[0m\u001b[0;34m\u001b[0m\u001b[0m\n",
      "\u001b[0;31mOSError\u001b[0m: [Errno 2] No such file or directory: 'California'"
     ]
    }
   ],
   "source": [
    "from loss_modelling import lossModelling\n",
    "\n",
    "event_loss_table_folder = 'California'\n",
    "total_cost = 1.044E12\n",
    "return_periods = [100,475,950,2450]\n",
    "\n",
    "save_elt_csv = False\n",
    "save_ses_csv = False\n",
    "\n",
    "lossModelling(event_loss_table_folder,save_ses_csv,save_elt_csv,total_cost,return_periods)"
   ]
  },
  {
   "cell_type": "code",
   "execution_count": 1,
   "metadata": {
    "collapsed": false
   },
   "outputs": [
    {
     "ename": "NameError",
     "evalue": "name 'event_loss_table_folder' is not defined",
     "output_type": "error",
     "traceback": [
      "\u001b[1;31m---------------------------------------------------------------------------\u001b[0m\n\u001b[1;31mNameError\u001b[0m                                 Traceback (most recent call last)",
      "\u001b[1;32m<ipython-input-1-5e7fbb437993>\u001b[0m in \u001b[0;36m<module>\u001b[1;34m()\u001b[0m\n\u001b[0;32m      2\u001b[0m \u001b[0mreturn_periods\u001b[0m \u001b[1;33m=\u001b[0m \u001b[1;33m[\u001b[0m\u001b[1;36m1000\u001b[0m\u001b[1;33m]\u001b[0m\u001b[1;33m\u001b[0m\u001b[0m\n\u001b[0;32m      3\u001b[0m \u001b[0mrups_for_return_period\u001b[0m \u001b[1;33m=\u001b[0m \u001b[1;36m10\u001b[0m\u001b[1;33m\u001b[0m\u001b[0m\n\u001b[1;32m----> 4\u001b[1;33m \u001b[0mselectRuptures\u001b[0m\u001b[1;33m(\u001b[0m\u001b[0mevent_loss_table_folder\u001b[0m\u001b[1;33m,\u001b[0m\u001b[0mreturn_periods\u001b[0m\u001b[1;33m,\u001b[0m\u001b[0mrups_for_return_period\u001b[0m\u001b[1;33m)\u001b[0m\u001b[1;33m\u001b[0m\u001b[0m\n\u001b[0m",
      "\u001b[1;31mNameError\u001b[0m: name 'event_loss_table_folder' is not defined"
     ]
    }
   ],
   "source": [
    "from loss_modelling import selectRuptures \n",
    "return_periods = [1000]\n",
    "rups_for_return_period = 10\n",
    "selectRuptures(event_loss_table_folder,return_periods,rups_for_return_period)"
   ]
  },
  {
   "cell_type": "code",
   "execution_count": 8,
   "metadata": {
    "collapsed": false
   },
   "outputs": [],
   "source": [
    "from loss_modelling import exportInfo \n",
    "event_loss_table_folder = 'Ecuador'\n",
    "exportInfo(event_loss_table_folder)"
   ]
  },
  {
   "cell_type": "code",
   "execution_count": null,
   "metadata": {
    "collapsed": false
   },
   "outputs": [],
   "source": []
  }
 ],
 "metadata": {
  "kernelspec": {
   "display_name": "Python 2",
   "language": "python",
   "name": "python2"
  },
  "language_info": {
   "codemirror_mode": {
    "name": "ipython",
    "version": 2
   },
   "file_extension": ".py",
   "mimetype": "text/x-python",
   "name": "python",
   "nbconvert_exporter": "python",
   "pygments_lexer": "ipython2",
   "version": "2.7.9"
  }
 },
 "nbformat": 4,
 "nbformat_minor": 0
}
