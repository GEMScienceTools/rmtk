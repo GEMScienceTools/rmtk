{
 "cells": [
  {
   "cell_type": "markdown",
   "metadata": {},
   "source": [
    "# Generation of capacity curves using SPBELA\n",
    "This feature of the risk Modellers Toolkit enables the generation of various models (capacity curves), as a way to propogate the building-to-building variability to the final fragility or vulnerability models. The figure below illustrates various capacity curves (in terms of spectral acceleration versus spectral displacement) generated using the Displacement-based Earthquake Loss Assessment (DBELA) approach.\n",
    "\n",
    "<img src=\"../../../../figures/synthethic_capacity_curves.png\" width=\"350\" align=\"middle\">\n"
   ]
  },
  {
   "cell_type": "markdown",
   "metadata": {
    "collapsed": false
   },
   "source": [
    "## Loading probabilistic distribution for geometric and material properties\n",
    "\n",
    "Include a description here of what can be done using this feature. Include an image of the results (Vitor has this)\n",
    "\n",
    "To use this feature click here."
   ]
  },
  {
   "cell_type": "code",
   "execution_count": 1,
   "metadata": {
    "collapsed": false,
    "scrolled": false
   },
   "outputs": [
    {
     "ename": "IOError",
     "evalue": "[Errno 2] No such file or directory: '../../../../../rmtk_data/damage_model_spbela.csv'",
     "output_type": "error",
     "traceback": [
      "\u001b[0;31m---------------------------------------------------------------------------\u001b[0m",
      "\u001b[0;31mIOError\u001b[0m                                   Traceback (most recent call last)",
      "\u001b[0;32m<ipython-input-1-8e6e3841ef7f>\u001b[0m in \u001b[0;36m<module>\u001b[0;34m()\u001b[0m\n\u001b[1;32m      3\u001b[0m \u001b[0mget_ipython\u001b[0m\u001b[0;34m(\u001b[0m\u001b[0;34m)\u001b[0m\u001b[0;34m.\u001b[0m\u001b[0mmagic\u001b[0m\u001b[0;34m(\u001b[0m\u001b[0;34mu'matplotlib inline'\u001b[0m\u001b[0;34m)\u001b[0m\u001b[0;34m\u001b[0m\u001b[0m\n\u001b[1;32m      4\u001b[0m \u001b[0mno_assets\u001b[0m \u001b[0;34m=\u001b[0m \u001b[0;36m200\u001b[0m\u001b[0;34m\u001b[0m\u001b[0m\n\u001b[0;32m----> 5\u001b[0;31m \u001b[0mdamage_model\u001b[0m \u001b[0;34m=\u001b[0m \u001b[0mutils\u001b[0m\u001b[0;34m.\u001b[0m\u001b[0mread_damage_model\u001b[0m\u001b[0;34m(\u001b[0m\u001b[0;34m'../../../../../rmtk_data/damage_model_spbela.csv'\u001b[0m\u001b[0;34m)\u001b[0m\u001b[0;34m\u001b[0m\u001b[0m\n\u001b[0m\u001b[1;32m      6\u001b[0m \u001b[0mbuilding_model_file\u001b[0m \u001b[0;34m=\u001b[0m\u001b[0;34m'../../../../../rmtk_data/SPBELA/bare_frames.csv'\u001b[0m\u001b[0;34m\u001b[0m\u001b[0m\n\u001b[1;32m      7\u001b[0m \u001b[0mbuilding_class_model\u001b[0m \u001b[0;34m=\u001b[0m \u001b[0mSPBELA\u001b[0m\u001b[0;34m.\u001b[0m\u001b[0mread_building_class_model\u001b[0m\u001b[0;34m(\u001b[0m\u001b[0mbuilding_model_file\u001b[0m\u001b[0;34m)\u001b[0m\u001b[0;34m\u001b[0m\u001b[0m\n",
      "\u001b[0;32m/Users/anirudh/GEM/GEMScienceTools/rmtk/rmtk/vulnerability/common/utils.pyc\u001b[0m in \u001b[0;36mread_damage_model\u001b[0;34m(input_file)\u001b[0m\n\u001b[1;32m    491\u001b[0m     \u001b[0mdispersion\u001b[0m \u001b[0;34m=\u001b[0m \u001b[0;34m[\u001b[0m\u001b[0;34m]\u001b[0m\u001b[0;34m\u001b[0m\u001b[0m\n\u001b[1;32m    492\u001b[0m \u001b[0;34m\u001b[0m\u001b[0m\n\u001b[0;32m--> 493\u001b[0;31m     \u001b[0;32mwith\u001b[0m \u001b[0mopen\u001b[0m\u001b[0;34m(\u001b[0m\u001b[0minput_file\u001b[0m\u001b[0;34m)\u001b[0m \u001b[0;32mas\u001b[0m \u001b[0mf\u001b[0m\u001b[0;34m:\u001b[0m\u001b[0;34m\u001b[0m\u001b[0m\n\u001b[0m\u001b[1;32m    494\u001b[0m         \u001b[0mdata\u001b[0m \u001b[0;34m=\u001b[0m \u001b[0mf\u001b[0m\u001b[0;34m.\u001b[0m\u001b[0mreadlines\u001b[0m\u001b[0;34m(\u001b[0m\u001b[0;34m)\u001b[0m\u001b[0;34m\u001b[0m\u001b[0m\n\u001b[1;32m    495\u001b[0m         \u001b[0mline\u001b[0m \u001b[0;34m=\u001b[0m \u001b[0mdata\u001b[0m\u001b[0;34m[\u001b[0m\u001b[0;36m0\u001b[0m\u001b[0;34m]\u001b[0m\u001b[0;34m\u001b[0m\u001b[0m\n",
      "\u001b[0;31mIOError\u001b[0m: [Errno 2] No such file or directory: '../../../../../rmtk_data/damage_model_spbela.csv'"
     ]
    }
   ],
   "source": [
    "import SPBELA\n",
    "from rmtk.vulnerability.common import utils\n",
    "%matplotlib inline \n",
    "no_assets = 200\n",
    "damage_model = utils.read_damage_model('../../../../../rmtk_data/damage_model_spbela.csv')\n",
    "building_model_file ='../../../../../rmtk_data/SPBELA/bare_frames.csv'\n",
    "building_class_model = SPBELA.read_building_class_model(building_model_file)\n",
    "assets = SPBELA.generate_assets(building_class_model,no_assets)\n",
    "capacity_curves = SPBELA.generate_capacity_curves(assets,damage_model)\n",
    "\n",
    "utils.plot_capacity_curves(capacity_curves)"
   ]
  },
  {
   "cell_type": "markdown",
   "metadata": {},
   "source": [
    "## Adding additional information\n",
    "This module can be used to generate many synthethic pushover curves (Base shear versus Roof displacement or Spectral acceleration versus Spectrum displacement), starting from a median pyshover curve and dispersion levels for a number of specific points on the curve. To use this feature click here."
   ]
  },
  {
   "cell_type": "code",
   "execution_count": null,
   "metadata": {
    "collapsed": false
   },
   "outputs": [],
   "source": [
    "gamma = 1.2\n",
    "yielding_point_index = 1\n",
    "\n",
    "capacity_curves = utils.add_information(capacity_curves,'gamma','value',gamma)\n",
    "capacity_curves = utils.add_information(capacity_curves,'yielding point','point',yielding_point_index)\n",
    "\n",
    "utils.save_SdSa_capacity_curves(capacity_curves,'../../../../../rmtk_data/capacity_curves_spbela.csv')"
   ]
  }
 ],
 "metadata": {
  "kernelspec": {
   "display_name": "Python 2",
   "language": "python",
   "name": "python2"
  },
  "language_info": {
   "codemirror_mode": {
    "name": "ipython",
    "version": 2
   },
   "file_extension": ".py",
   "mimetype": "text/x-python",
   "name": "python",
   "nbconvert_exporter": "python",
   "pygments_lexer": "ipython2",
   "version": "2.7.9"
  }
 },
 "nbformat": 4,
 "nbformat_minor": 0
}
