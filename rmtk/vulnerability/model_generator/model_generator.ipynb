{
 "cells": [
  {
   "cell_type": "markdown",
   "metadata": {},
   "source": [
    "# Model Generator\n",
    "This feature of the risk Modellers Toolkit enables the generation of various models (capacity curves), as a way to propogate the building-to-building variability to the final fragility or vulnerability models. The figure below illustrates various capacity curves (in terms of spectral acceleration versus spectral displacement) generated using the Displacement-based Earthquake Loss Assessment (DBELA) approach.\n",
    "\n",
    "<img src=\"../../../figures/synthethic_capacity_curves.png\" height=\"150\" width=\"350\" align=\"middle\">\n"
   ]
  },
  {
   "cell_type": "markdown",
   "metadata": {
    "collapsed": false
   },
   "source": [
    "## Generation of capacity curves using DBELA (Silva et al. 2013)\n",
    "\n",
    "To use this feature click [here](../../../rmtk/vulnerability/model_generator/DBELA_approach/DBELA.ipynb))."
   ]
  },
  {
   "cell_type": "markdown",
   "metadata": {},
   "source": [
    "## Generation of capacity curves using SP-BELA (Borzi et al. 2008)\n",
    "\n",
    "The Simplified Pushover-based Earthquake Loss Assessment methodology allows the calculation of the displacement capacity (i.e. spectral displacement) and collapse multiplier (i.e. spectral acceleration) using simplified mechanics-based procedure (similar to what has been proposed by [Cosenza er al. 2005](http://www.tandfonline.com/doi/abs/10.1080/13632460509350531))\n",
    "To use this feature click [here](../../../rmtk/vulnerability/model_generator/SPBELA_approach/SPBELA.ipynb))."
   ]
  },
  {
   "cell_type": "markdown",
   "metadata": {},
   "source": [
    "## Generation of capacity curves using point dispersion\n",
    "This module can be used to generate many synthethic pushover curves (Base shear versus Roof displacement or Spectral acceleration versus Spectrum displacement), starting from a median pyshover curve and dispersion levels for a number of specific points on the curve. To use this feature click [here](../../../rmtk/vulnerability/model_generator/point_dispersion/point_dispersion.ipynb))."
   ]
  }
 ],
 "metadata": {
  "kernelspec": {
   "display_name": "Python 2",
   "language": "python",
   "name": "python2"
  },
  "language_info": {
   "codemirror_mode": {
    "name": "ipython",
    "version": 2
   },
   "file_extension": ".py",
   "mimetype": "text/x-python",
   "name": "python",
   "nbconvert_exporter": "python",
   "pygments_lexer": "ipython2",
   "version": "2.7.9"
  }
 },
 "nbformat": 4,
 "nbformat_minor": 0
}
