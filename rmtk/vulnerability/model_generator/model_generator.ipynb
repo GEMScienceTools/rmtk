{
 "cells": [
  {
   "cell_type": "markdown",
   "metadata": {},
   "source": [
    "# Model Generator\n",
    "Include a description here of what can be done within this module"
   ]
  },
  {
   "cell_type": "markdown",
   "metadata": {
    "collapsed": false
   },
   "source": [
    "## Generation of capacity curves using DBELA\n",
    "\n",
    "Include a description here of what can be done using this feature. Include an image of the results (Vitor has this)\n",
    "\n",
    "To use this feature click here."
   ]
  },
  {
   "cell_type": "markdown",
   "metadata": {},
   "source": [
    "## Generation of capacity curves using point dispersion\n",
    "Include a description here of what can be done using this feature. Include an image of the results (Mabe has this)\n",
    "\n",
    "To use this feature click here."
   ]
  }
 ],
 "metadata": {
  "kernelspec": {
   "display_name": "Python 2",
   "language": "python",
   "name": "python2"
  },
  "language_info": {
   "codemirror_mode": {
    "name": "ipython",
    "version": 2
   },
   "file_extension": ".py",
   "mimetype": "text/x-python",
   "name": "python",
   "nbconvert_exporter": "python",
   "pygments_lexer": "ipython2",
   "version": "2.7.9"
  }
 },
 "nbformat": 4,
 "nbformat_minor": 0
}
