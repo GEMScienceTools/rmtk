{
 "cells": [
  {
   "cell_type": "markdown",
   "metadata": {},
   "source": [
    "# Generation of capacity curves using DBELA\n",
    "This notebook enables the user to generate capacity curves (in terms of spectral acceleration vs. spectral displacement) using the Displacement-based Earthquake Loss Assessment (DBELA) approach. The DBELA methodology permits the calculation of the displacement capacity of a collection of structures at a number of limit states (which could be structural or non-structural). These displacements are derived based on the capacity of an equivalent SDOF structure, following the principles of structural mechanics ([Crowley et al., 2004](http://link.springer.com/article/10.1007%2Fs10518-004-2290-8); [Bal et al., 2010](http://www.iusspress.it/pc/viewPrd.asp?idcategory=25&idproduct=132); [Silva et al., 2013](http://www.sciencedirect.com/science/article/pii/S0141029613002071)). The figure below illustrates various capacity curves generated using this approach.\n",
    "\n",
    "<img src=\"../../../../figures/synthethic_capacity_curves.png\" width=\"350\" align=\"middle\">\n",
    "\n",
    "**Note**: To run the code in a cell:\n",
    "\n",
    "1. Click on the cell to select it.\n",
    "2. Press `SHIFT+ENTER` on your keyboard or press the play button (<button class='fa fa-play icon-play btn btn-xs btn-default'></button>) in the toolbar above."
   ]
  },
  {
   "cell_type": "code",
   "execution_count": null,
   "metadata": {
    "collapsed": true
   },
   "outputs": [],
   "source": [
    "import DBELA\n",
    "from rmtk.vulnerability.common import utils\n",
    "%matplotlib inline"
   ]
  },
  {
   "cell_type": "markdown",
   "metadata": {
    "collapsed": false
   },
   "source": [
    "---\n",
    "### Load geometric and material properties\n",
    "\n",
    "In order to use this methodology it is necessary to define a building model, which specifies the probabilistic distribution of the geometrical and material properties. These models need to be defined according to the format described in the [RMTK manual](../../../../../rmtk-docs.pdf). Please specify below the paths for the input files containing the building model and damage model:"
   ]
  },
  {
   "cell_type": "code",
   "execution_count": null,
   "metadata": {
    "collapsed": true
   },
   "outputs": [],
   "source": [
    "building_model_file = \"../../../../../rmtk_data/DBELA/bare_frames.csv\"\n",
    "damage_model_file = \"../../../../../rmtk_data/DBELA/damage_model_dbela_low_code.csv\""
   ]
  },
  {
   "cell_type": "markdown",
   "metadata": {},
   "source": [
    "### Number of samples\n",
    "\n",
    "The parameter `no_assets` below controls the number of synthetic structural models or assets (each one with unique geometrical and material properties) that will be generated using a Monte Carlo sampling process:"
   ]
  },
  {
   "cell_type": "code",
   "execution_count": null,
   "metadata": {
    "collapsed": true
   },
   "outputs": [],
   "source": [
    "no_assets = 100"
   ]
  },
  {
   "cell_type": "markdown",
   "metadata": {},
   "source": [
    "### Generate the capacity curves"
   ]
  },
  {
   "cell_type": "code",
   "execution_count": null,
   "metadata": {
    "collapsed": true
   },
   "outputs": [],
   "source": [
    "building_class_model = DBELA.read_building_class_model(building_model_file)\n",
    "assets = DBELA.generate_assets(building_class_model, no_assets)\n",
    "damage_model = utils.read_damage_model(damage_model_file)\n",
    "capacity_curves = DBELA.generate_capacity_curves(assets, damage_model)"
   ]
  },
  {
   "cell_type": "markdown",
   "metadata": {},
   "source": [
    "### Plot the capacity curves"
   ]
  },
  {
   "cell_type": "code",
   "execution_count": null,
   "metadata": {
    "collapsed": false,
    "scrolled": false
   },
   "outputs": [],
   "source": [
    "utils.plot_capacity_curves(capacity_curves)"
   ]
  },
  {
   "cell_type": "markdown",
   "metadata": {},
   "source": [
    "### Include additional information\n",
    "Additional information can be added to the capacity curves generated using the above method. For instance, by setting appropriate values for the parameters `gamma` and `yielding_point_index` in the cell below, the `add_information` function can be used to include this data in the previously generated capacity curves."
   ]
  },
  {
   "cell_type": "code",
   "execution_count": null,
   "metadata": {
    "collapsed": true
   },
   "outputs": [],
   "source": [
    "gamma = 1.2\n",
    "yielding_point_index = 1.0"
   ]
  },
  {
   "cell_type": "code",
   "execution_count": null,
   "metadata": {
    "collapsed": false
   },
   "outputs": [],
   "source": [
    "capacity_curves = utils.add_information(capacity_curves, \"gamma\", \"value\", gamma)\n",
    "capacity_curves = utils.add_information(capacity_curves, \"yielding point\", \"point\", yielding_point_index)"
   ]
  },
  {
   "cell_type": "markdown",
   "metadata": {},
   "source": [
    "### Save capacity curves\n",
    "Please specify below the path for the output file to save the capacity curves:"
   ]
  },
  {
   "cell_type": "code",
   "execution_count": null,
   "metadata": {
    "collapsed": true
   },
   "outputs": [],
   "source": [
    "output_file = \"../../../../../rmtk_data/capacity_curves_dbela.csv\""
   ]
  },
  {
   "cell_type": "code",
   "execution_count": null,
   "metadata": {
    "collapsed": false
   },
   "outputs": [],
   "source": [
    "utils.save_SdSa_capacity_curves(capacity_curves, output_file)"
   ]
  }
 ],
 "metadata": {
  "kernelspec": {
   "display_name": "Python 2",
   "language": "python",
   "name": "python2"
  },
  "language_info": {
   "codemirror_mode": {
    "name": "ipython",
    "version": 2
   },
   "file_extension": ".py",
   "mimetype": "text/x-python",
   "name": "python",
   "nbconvert_exporter": "python",
   "pygments_lexer": "ipython2",
   "version": "2.7.10"
  }
 },
 "nbformat": 4,
 "nbformat_minor": 0
}
