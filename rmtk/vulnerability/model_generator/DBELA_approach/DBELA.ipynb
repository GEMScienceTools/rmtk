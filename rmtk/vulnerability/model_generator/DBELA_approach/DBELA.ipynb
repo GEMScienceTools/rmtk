{
 "cells": [
  {
   "cell_type": "markdown",
   "metadata": {},
   "source": [
    "# Generation of capacity curves using DBELA\n",
    "This feature of the risk Modellers Toolkit enables the generation of various models (capacity curves), as a way to propogate the building-to-building variability to the final fragility or vulnerability models. The figure below illustrates various capacity curves (in terms of spectral acceleration versus spectral displacement) generated using the Displacement-based Earthquake Loss Assessment (DBELA) approach.\n",
    "\n",
    "<img src=\"../../../../figures/synthethic_capacity_curves.png\" height=\"150\" width=\"350\" align=\"middle\">\n"
   ]
  },
  {
   "cell_type": "markdown",
   "metadata": {
    "collapsed": false
   },
   "source": [
    "## Loading probabilistic distribution for geometric and material properties\n",
    "\n",
    "Include a description here of what can be done using this feature. Include an image of the results (Vitor has this)\n",
    "\n",
    "To use this feature click here."
   ]
  },
  {
   "cell_type": "code",
   "execution_count": 1,
   "metadata": {
    "collapsed": false,
    "scrolled": false
   },
   "outputs": [
    {
     "name": "stdout",
     "output_type": "stream",
     "text": [
      "{'damage_states': ['LS1', 'LS2', 'LS3'], 'cov': [[0.0], [0.45, 0.45], [0.45, 0.45]], 'type_criteria': 'strain dependent', 'type_damage_state': ['Sdy', 'strain', 'strain'], 'distribution': ['lognormal', 'lognormal', 'lognormal'], 'mean': [[], [0.0045, 0.0125], [0.0075, 0.0225]]}\n"
     ]
    }
   ],
   "source": [
    "import DBELA\n",
    "from rmtk.vulnerability.common import utils\n",
    "%matplotlib inline \n",
    "no_assets = 100\n",
    "building_model_file ='../../../../../rmtk_data/DBELA/bare_frames.csv'\n",
    "damage_model = utils.read_damage_model('../../../../../rmtk_data/damage_model_dbela_low_code.csv')\n",
    "print damage_model\n",
    "#building_class_model = DBELA.read_building_class_model(building_model_file)\n",
    "#assets = DBELA.generate_assets(building_class_model,no_assets)\n",
    "#capacity_curves = DBELA.generate_capacity_curves(assets,damage_model)\n",
    "\n",
    "#utils.plot_capacity_curves(capacity_curves)"
   ]
  },
  {
   "cell_type": "markdown",
   "metadata": {},
   "source": [
    "## Adding additional information\n",
    "This module can be used to generate many synthethic pushover curves (Base shear versus Roof displacement or Spectral acceleration versus Spectrum displacement), starting from a median pyshover curve and dispersion levels for a number of specific points on the curve. To use this feature click here."
   ]
  },
  {
   "cell_type": "code",
   "execution_count": 2,
   "metadata": {
    "collapsed": false
   },
   "outputs": [],
   "source": [
    "gamma = 1.2\n",
    "yielding_point_index = 1\n",
    "\n",
    "capacity_curves = utils.add_information(capacity_curves,'gamma','value',gamma)\n",
    "capacity_curves = utils.add_information(capacity_curves,'yielding point','point',yielding_point_index)\n",
    "\n",
    "utils.save_SdSa_capacity_curves(capacity_curves,'../../../../../rmtk_data/capacity_curves_dbela.csv')"
   ]
  },
  {
   "cell_type": "code",
   "execution_count": null,
   "metadata": {
    "collapsed": true
   },
   "outputs": [],
   "source": []
  }
 ],
 "metadata": {
  "kernelspec": {
   "display_name": "Python 2",
   "language": "python",
   "name": "python2"
  },
  "language_info": {
   "codemirror_mode": {
    "name": "ipython",
    "version": 2
   },
   "file_extension": ".py",
   "mimetype": "text/x-python",
   "name": "python",
   "nbconvert_exporter": "python",
   "pygments_lexer": "ipython2",
   "version": "2.7.9"
  }
 },
 "nbformat": 4,
 "nbformat_minor": 0
}
