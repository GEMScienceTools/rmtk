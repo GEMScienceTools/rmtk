{
 "cells": [
  {
   "cell_type": "markdown",
   "metadata": {},
   "source": [
    "# Generation of capacity curves using DBELA\n",
    "This notebook enables the user to generate capacity curves (in terms of spectral acceleration vs. spectral displacement) using the Displacement-based Earthquake Loss Assessment (DBELA) approach. The figure below illustrates various capacity curves generated using this approach.\n",
    "\n",
    "<img src=\"../../../../figures/synthethic_capacity_curves.png\" width=\"350\" align=\"middle\">\n"
   ]
  },
  {
   "cell_type": "code",
   "execution_count": 7,
   "metadata": {
    "collapsed": true
   },
   "outputs": [],
   "source": [
    "import DBELA\n",
    "from rmtk.vulnerability.common import utils\n",
    "%matplotlib inline"
   ]
  },
  {
   "cell_type": "markdown",
   "metadata": {
    "collapsed": false
   },
   "source": [
    "---\n",
    "### Load geometric and material properties\n",
    "\n",
    "Please specify below the paths for the input files containing the building model and damage model. These models need to be defined according to the format described in the [RMTK manual](../../../../../rmtk-docs.pdf)."
   ]
  },
  {
   "cell_type": "code",
   "execution_count": 8,
   "metadata": {
    "collapsed": true
   },
   "outputs": [],
   "source": [
    "building_model_file = \"../../../../../rmtk_data/DBELA/bare_frames.csv\"\n",
    "damage_model_file = \"../../../../../rmtk_data/damage_model_dbela_low_code.csv\""
   ]
  },
  {
   "cell_type": "markdown",
   "metadata": {},
   "source": [
    "### Number of samples\n",
    "\n",
    "The parameter `no_assets` below controls the number of building samples that will be generated:"
   ]
  },
  {
   "cell_type": "code",
   "execution_count": 9,
   "metadata": {
    "collapsed": true
   },
   "outputs": [],
   "source": [
    "no_assets = 100"
   ]
  },
  {
   "cell_type": "markdown",
   "metadata": {},
   "source": [
    "### Generate the capacity curves"
   ]
  },
  {
   "cell_type": "code",
   "execution_count": 10,
   "metadata": {
    "collapsed": true
   },
   "outputs": [],
   "source": [
    "building_class_model = DBELA.read_building_class_model(building_model_file)\n",
    "assets = DBELA.generate_assets(building_class_model, no_assets)\n",
    "damage_model = utils.read_damage_model(damage_model_file)\n",
    "capacity_curves = DBELA.generate_capacity_curves(assets, damage_model)"
   ]
  },
  {
   "cell_type": "markdown",
   "metadata": {},
   "source": [
    "### Plot the capacity curves"
   ]
  },
  {
   "cell_type": "code",
   "execution_count": 11,
   "metadata": {
    "collapsed": false,
    "scrolled": false
   },
   "outputs": [
    {
     "data": {
      "image/png": "[encoded data removed]",
      "text/plain": [
       "<matplotlib.figure.Figure at 0x10e1e0410>"
      ]
     },
     "metadata": {},
     "output_type": "display_data"
    }
   ],
   "source": [
    "utils.plot_capacity_curves(capacity_curves)"
   ]
  },
  {
   "cell_type": "markdown",
   "metadata": {},
   "source": [
    "####Adding additional information\n",
    "Additional information can be added to the capacity curves generated using the above method. For instance, by setting appropriate values for the parameters `gamma` and `yielding_point_index` in the cell below, the `add_information` function can be used to include this data in the previously generated capacity curves."
   ]
  },
  {
   "cell_type": "code",
   "execution_count": 12,
   "metadata": {
    "collapsed": true
   },
   "outputs": [],
   "source": [
    "gamma = 1.2\n",
    "yielding_point_index = 1.0"
   ]
  },
  {
   "cell_type": "code",
   "execution_count": 13,
   "metadata": {
    "collapsed": false
   },
   "outputs": [],
   "source": [
    "capacity_curves = utils.add_information(capacity_curves, \"gamma\", \"value\", gamma)\n",
    "capacity_curves = utils.add_information(capacity_curves, \"yielding point\", \"point\", yielding_point_index)"
   ]
  },
  {
   "cell_type": "markdown",
   "metadata": {},
   "source": [
    "####Save capacity curves\n",
    "Please specify below the path for the output file to save the capacity curves:"
   ]
  },
  {
   "cell_type": "code",
   "execution_count": null,
   "metadata": {
    "collapsed": true
   },
   "outputs": [],
   "source": [
    "output_file = \"../../../../../rmtk_data/capacity_curves_dbela.csv\""
   ]
  },
  {
   "cell_type": "code",
   "execution_count": 14,
   "metadata": {
    "collapsed": false
   },
   "outputs": [],
   "source": [
    "utils.save_SdSa_capacity_curves(capacity_curves, output_file)"
   ]
  }
 ],
 "metadata": {
  "kernelspec": {
   "display_name": "Python 2",
   "language": "python",
   "name": "python2"
  },
  "language_info": {
   "codemirror_mode": {
    "name": "ipython",
    "version": 2
   },
   "file_extension": ".py",
   "mimetype": "text/x-python",
   "name": "python",
   "nbconvert_exporter": "python",
   "pygments_lexer": "ipython2",
   "version": "2.7.9"
  }
 },
 "nbformat": 4,
 "nbformat_minor": 0
}
