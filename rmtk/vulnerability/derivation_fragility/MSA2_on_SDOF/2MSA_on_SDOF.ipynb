{
 "cells": [
  {
   "cell_type": "markdown",
   "metadata": {},
   "source": [
    "#Double Multiple Stripe Analysis (2MSA) on Single Degree of Freedom (SDOF) Oscillators\n",
    "\n",
    "In this method, a single degree of freedom (SDOF) model of each structure under analysis is subjected to a series of ground motion records through a non-linear time history analysis (NLTHA). The displacements of the SDOF due to each ground motion record are used as input to determine the distribution of buildings in each damage state for each level of ground motion. A regression algorithm is then applied to derive the fragility model. This fragility method is suitable to test building portfolios against a set of ground motion records.\n",
    "\n",
    "The following figure presents a fragility model developed using this method. \n",
    "\n",
    "<img src=\"../../../../figures/NLTHA_SDOF.png\" width=\"400\" align=\"middle\">\n",
    "\n",
    "##Load capacity curves\n",
    "\n",
    "In order to use this methodology, it is necessary to provide one (or a group) of capacity curves, defined according to the format established on the [RMTK manual](../../../../../rmtk-docs.pdf). Please provide the location of the file containing this input using the parameter `capacity_curves_file`."
   ]
  },
  {
   "cell_type": "code",
   "execution_count": 1,
   "metadata": {
    "collapsed": false
   },
   "outputs": [
    {
     "data": {
      "image/png": "[encoded data removed]",
      "text/plain": [
       "<matplotlib.figure.Figure at 0x10e64f790>"
      ]
     },
     "metadata": {},
     "output_type": "display_data"
    }
   ],
   "source": [
    "from rmtk.vulnerability.common import utils\n",
    "%matplotlib inline \n",
    "\n",
    "capacity_curves_file = '../../../../../rmtk_data/capacity_curves_sdof_first_mode.csv'\n",
    "capacity_curves = utils.read_capacity_curves(capacity_curves_file)\n",
    "utils.plot_capacity_curves(capacity_curves)"
   ]
  },
  {
   "cell_type": "markdown",
   "metadata": {},
   "source": [
    "## Load ground motion records\n",
    "\n",
    "The demand in this methodology is input by a set of ground motion records, which should follow the format established in the [RMTK manual](../../../../../rmtk-docs.pdf). Please provide the location of this folder using the parameter gmrs_folder. It is also possible to plot the corresponding response spectra (displacement, pseudo-acceleration, and Sa-Sd), for which the minimum and maximum periods of interest (minT and maxT) should also be provided."
   ]
  },
  {
   "cell_type": "code",
   "execution_count": 3,
   "metadata": {
    "collapsed": false,
    "scrolled": false
   },
   "outputs": [],
   "source": [
    "gmrs_folder = '../../../../../rmtk_data/recs_trial'\n",
    "gmrs = utils.read_gmrs(gmrs_folder)\n",
    "minT = 0.1\n",
    "maxT = 2\n",
    "#utils.plot_response_spectra(gmrs,minT,maxT)"
   ]
  },
  {
   "cell_type": "markdown",
   "metadata": {},
   "source": [
    "##Calculate fragility function\n",
    "\n",
    "In order to obtain the fragility model, it is necessary to input the location of the damage model (`damage_model`), using the format described in the [RMTK manual](../../../../../rmtk-docs.pdf). It is as well necessary to input the damping value of the structure(s) under analysis and the value of the period (T) to be considered in the regression analysis. The method allows to consider or not degradation. Finally, if desired, it is possible to save the resulting fragility model in a .csv file. \n"
   ]
  },
  {
   "cell_type": "code",
   "execution_count": 4,
   "metadata": {
    "collapsed": false,
    "scrolled": false
   },
   "outputs": [
    {
     "name": "stdout",
     "output_type": "stream",
     "text": [
      "50%\n",
      "WARNING: there are not enough strong ground motions, scaling is required\n",
      "WARNING: there are not enough strong ground motions, scaling is required\n",
      "WARNING: not enough models in DS2\n",
      "WARNING: there are not enough strong ground motions, scaling is required\n",
      "WARNING: not enough models in DS3\n",
      "Initial DS= 1\n",
      "Initial DS= 1\n"
     ]
    },
    {
     "ename": "ValueError",
     "evalue": "max() arg is an empty sequence",
     "output_type": "error",
     "traceback": [
      "\u001b[0;31m---------------------------------------------------------------------------\u001b[0m",
      "\u001b[0;31mValueError\u001b[0m                                Traceback (most recent call last)",
      "\u001b[0;32m<ipython-input-4-6681278c6f6e>\u001b[0m in \u001b[0;36m<module>\u001b[0;34m()\u001b[0m\n\u001b[1;32m      6\u001b[0m \u001b[0mdegradation\u001b[0m \u001b[0;34m=\u001b[0m \u001b[0mFalse\u001b[0m\u001b[0;34m\u001b[0m\u001b[0m\n\u001b[1;32m      7\u001b[0m \u001b[0mnumber_models_in_DS\u001b[0m \u001b[0;34m=\u001b[0m \u001b[0;36m2\u001b[0m\u001b[0;34m\u001b[0m\u001b[0m\n\u001b[0;32m----> 8\u001b[0;31m \u001b[0mPDM\u001b[0m\u001b[0;34m,\u001b[0m \u001b[0mSds\u001b[0m \u001b[0;34m=\u001b[0m \u001b[0mdouble_MSA_on_SDOF\u001b[0m\u001b[0;34m.\u001b[0m\u001b[0mcalculate_fragility\u001b[0m\u001b[0;34m(\u001b[0m\u001b[0mcapacity_curves\u001b[0m\u001b[0;34m,\u001b[0m\u001b[0mgmrs\u001b[0m\u001b[0;34m,\u001b[0m\u001b[0mdamage_model\u001b[0m\u001b[0;34m,\u001b[0m\u001b[0mdamping\u001b[0m\u001b[0;34m,\u001b[0m\u001b[0mdegradation\u001b[0m\u001b[0;34m,\u001b[0m \u001b[0mnumber_models_in_DS\u001b[0m\u001b[0;34m)\u001b[0m\u001b[0;34m\u001b[0m\u001b[0m\n\u001b[0m",
      "\u001b[0;32m/Users/chiaracasotto/GitHub/rmtk/rmtk/vulnerability/derivation_fragility/MSA2_on_SDOF/double_MSA_on_SDOF.pyc\u001b[0m in \u001b[0;36mcalculate_fragility\u001b[0;34m(capacity_curves, gmrs, damage_model, damping, degradation, number_models_in_DS)\u001b[0m\n\u001b[1;32m     26\u001b[0m         \u001b[0mfirst_MSA\u001b[0m\u001b[0;34m(\u001b[0m\u001b[0micc\u001b[0m\u001b[0;34m,\u001b[0m\u001b[0mcapacity_curves\u001b[0m\u001b[0;34m,\u001b[0m\u001b[0mgmrs\u001b[0m\u001b[0;34m,\u001b[0m\u001b[0mlimit_states\u001b[0m\u001b[0;34m,\u001b[0m\u001b[0mdamping\u001b[0m\u001b[0;34m,\u001b[0m\u001b[0mdegradation\u001b[0m\u001b[0;34m,\u001b[0m\u001b[0mnumber_models_in_DS\u001b[0m\u001b[0;34m)\u001b[0m\u001b[0;34m\u001b[0m\u001b[0m\n\u001b[1;32m     27\u001b[0m         \u001b[0;31m# run second Multiple Stripe Analysis\u001b[0m\u001b[0;34m\u001b[0m\u001b[0;34m\u001b[0m\u001b[0m\n\u001b[0;32m---> 28\u001b[0;31m         \u001b[0mPDMs\u001b[0m\u001b[0;34m,\u001b[0m \u001b[0mSds\u001b[0m \u001b[0;34m=\u001b[0m \u001b[0msecond_MSA\u001b[0m\u001b[0;34m(\u001b[0m\u001b[0micc\u001b[0m\u001b[0;34m,\u001b[0m\u001b[0mcapacity_curves\u001b[0m\u001b[0;34m,\u001b[0m\u001b[0mlimit_states\u001b[0m\u001b[0;34m,\u001b[0m\u001b[0mgmrs\u001b[0m\u001b[0;34m,\u001b[0m\u001b[0mdamping\u001b[0m\u001b[0;34m,\u001b[0m\u001b[0mdegradation\u001b[0m\u001b[0;34m,\u001b[0m\u001b[0mPDMs\u001b[0m\u001b[0;34m,\u001b[0m \u001b[0mSds\u001b[0m\u001b[0;34m)\u001b[0m\u001b[0;34m\u001b[0m\u001b[0m\n\u001b[0m\u001b[1;32m     29\u001b[0m \u001b[0;34m\u001b[0m\u001b[0m\n\u001b[1;32m     30\u001b[0m     \u001b[0;32mreturn\u001b[0m \u001b[0mPDMs\u001b[0m\u001b[0;34m,\u001b[0m \u001b[0mSds\u001b[0m\u001b[0;34m\u001b[0m\u001b[0m\n",
      "\u001b[0;32m/Users/chiaracasotto/GitHub/rmtk/rmtk/vulnerability/derivation_fragility/MSA2_on_SDOF/double_MSA_on_SDOF.pyc\u001b[0m in \u001b[0;36msecond_MSA\u001b[0;34m(icc, capacity_curves, limit_states, gmrs, damping, degradation, PDMs, Sds)\u001b[0m\n\u001b[1;32m    104\u001b[0m             \u001b[0;32mfor\u001b[0m \u001b[0migmr2\u001b[0m \u001b[0;32min\u001b[0m \u001b[0mrange\u001b[0m\u001b[0;34m(\u001b[0m\u001b[0mno_gmrs\u001b[0m\u001b[0;34m)\u001b[0m\u001b[0;34m:\u001b[0m\u001b[0;34m\u001b[0m\u001b[0m\n\u001b[1;32m    105\u001b[0m                 \u001b[0mtime\u001b[0m\u001b[0;34m,\u001b[0m \u001b[0mdisps\u001b[0m \u001b[0;34m=\u001b[0m \u001b[0mrun_2time_history_analyses\u001b[0m\u001b[0;34m(\u001b[0m\u001b[0mcapacity_curves\u001b[0m\u001b[0;34m,\u001b[0m\u001b[0micc\u001b[0m\u001b[0;34m,\u001b[0m\u001b[0mgmrs\u001b[0m\u001b[0;34m,\u001b[0m\u001b[0migmr1\u001b[0m\u001b[0;34m,\u001b[0m\u001b[0migmr2\u001b[0m\u001b[0;34m,\u001b[0m\u001b[0mscl1\u001b[0m\u001b[0;34m,\u001b[0m\u001b[0mdamping\u001b[0m\u001b[0;34m,\u001b[0m\u001b[0mdegradation\u001b[0m\u001b[0;34m)\u001b[0m\u001b[0;34m\u001b[0m\u001b[0m\n\u001b[0;32m--> 106\u001b[0;31m                 \u001b[0mSdi\u001b[0m \u001b[0;34m=\u001b[0m \u001b[0mmax\u001b[0m\u001b[0;34m(\u001b[0m\u001b[0mnumpy\u001b[0m\u001b[0;34m.\u001b[0m\u001b[0mabs\u001b[0m\u001b[0;34m(\u001b[0m\u001b[0mnumpy\u001b[0m\u001b[0;34m.\u001b[0m\u001b[0marray\u001b[0m\u001b[0;34m(\u001b[0m\u001b[0mdisps\u001b[0m\u001b[0;34m)\u001b[0m\u001b[0;34m)\u001b[0m\u001b[0;34m)\u001b[0m\u001b[0;34m\u001b[0m\u001b[0m\n\u001b[0m\u001b[1;32m    107\u001b[0m                 \u001b[0mPDM\u001b[0m\u001b[0;34m,\u001b[0m \u001b[0mds\u001b[0m \u001b[0;34m=\u001b[0m \u001b[0mutils\u001b[0m\u001b[0;34m.\u001b[0m\u001b[0mallocate_damage\u001b[0m\u001b[0;34m(\u001b[0m\u001b[0migmr2\u001b[0m\u001b[0;34m,\u001b[0m\u001b[0mPDM\u001b[0m\u001b[0;34m,\u001b[0m\u001b[0mSdi\u001b[0m\u001b[0;34m,\u001b[0m\u001b[0mlimit_states\u001b[0m\u001b[0;34m)\u001b[0m\u001b[0;34m\u001b[0m\u001b[0m\n\u001b[1;32m    108\u001b[0m                 \u001b[0mSds\u001b[0m\u001b[0;34m[\u001b[0m\u001b[0;34m'iDS'\u001b[0m \u001b[0;34m+\u001b[0m \u001b[0mstr\u001b[0m\u001b[0;34m(\u001b[0m\u001b[0miDS\u001b[0m\u001b[0;34m)\u001b[0m\u001b[0;34m]\u001b[0m\u001b[0;34m[\u001b[0m\u001b[0migmr2\u001b[0m\u001b[0;34m,\u001b[0m\u001b[0micc\u001b[0m\u001b[0;34m]\u001b[0m \u001b[0;34m=\u001b[0m \u001b[0mSdi\u001b[0m\u001b[0;34m\u001b[0m\u001b[0m\n",
      "\u001b[0;31mValueError\u001b[0m: max() arg is an empty sequence"
     ]
    }
   ],
   "source": [
    "import double_MSA_on_SDOF\n",
    "damage_model = utils.read_damage_model('../../../../../rmtk_data/damage_model_sdof_first_mode.csv')\n",
    "\n",
    "damping = 0.05\n",
    "T = 0.28\n",
    "degradation = False\n",
    "number_models_in_DS = 2\n",
    "PDM, Sds = double_MSA_on_SDOF.calculate_fragility(capacity_curves,gmrs,damage_model,damping,degradation, number_models_in_DS)"
   ]
  },
  {
   "cell_type": "code",
   "execution_count": 4,
   "metadata": {
    "collapsed": false
   },
   "outputs": [],
   "source": [
    "import MSA_post_processing\n",
    "\n",
    "regression_method = 'least squares'\n",
    "save = True\n",
    "output_type = 'logmean-cov'\n",
    "IMT = 'Sa' # 'Sa','Sd','PGA'\n",
    "Nstripes = 10\n",
    "Nrecords = 10\n",
    "method = 'least squares'\n",
    "fragility_model = MSA_post_processing.calculate_fragility_model_damaged(PDM,Sds,gmrs,IMT,Nstripes,Nrecords,damage_model,T,damping, method)"
   ]
  },
  {
   "cell_type": "code",
   "execution_count": 5,
   "metadata": {
    "collapsed": false
   },
   "outputs": [
    {
     "data": {
      "image/png": "[encoded data removed]",
      "text/plain": [
       "<matplotlib.figure.Figure at 0x10756e910>"
      ]
     },
     "metadata": {},
     "output_type": "display_data"
    }
   ],
   "source": [
    "for iDS in range(1,2):\n",
    "    utils.plot_fragility_model(fragility_model['iDS' + str(iDS)],0.01,2)"
   ]
  },
  {
   "cell_type": "code",
   "execution_count": 6,
   "metadata": {
    "collapsed": true
   },
   "outputs": [],
   "source": [
    "taxonomy = \"RC\"\n",
    "minIML, maxIML = 0.01, 2.00\n",
    "output_type = \"nrml\"\n",
    "iDS = 1\n",
    "utils.save_mean_fragility(taxonomy, fragility_model['iDS' + str(iDS)], minIML, maxIML, output_type)"
   ]
  },
  {
   "cell_type": "code",
   "execution_count": 6,
   "metadata": {
    "collapsed": false
   },
   "outputs": [
    {
     "name": "stdout",
     "output_type": "stream",
     "text": [
      "{'iDS1': {'damage_states': ['Extensive', 'Collapse'], 'logmean': [-0.085695852370193185, 2.0381253373241361], 'IMT': 'Sa(0.28)', 'logstddev': [0.92990369189776645, 1.9379486086631561]}}\n"
     ]
    }
   ],
   "source": [
    "print fragility_model"
   ]
  },
  {
   "cell_type": "code",
   "execution_count": null,
   "metadata": {
    "collapsed": true
   },
   "outputs": [],
   "source": []
  }
 ],
 "metadata": {
  "kernelspec": {
   "display_name": "Python 2",
   "language": "python",
   "name": "python2"
  },
  "language_info": {
   "codemirror_mode": {
    "name": "ipython",
    "version": 2
   },
   "file_extension": ".py",
   "mimetype": "text/x-python",
   "name": "python",
   "nbconvert_exporter": "python",
   "pygments_lexer": "ipython2",
   "version": "2.7.10"
  }
 },
 "nbformat": 4,
 "nbformat_minor": 0
}
