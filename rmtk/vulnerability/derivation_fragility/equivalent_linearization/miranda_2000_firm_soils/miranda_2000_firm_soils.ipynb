{
 "cells": [
  {
   "cell_type": "markdown",
   "metadata": {},
   "source": [
    "# Miranda (2000) for firm soils\n",
    "\n",
    "This methodology, proposed in [Miranda (2000)](http://cedb.asce.org/cgi/WWWdisplay.cgi?123481), aims to estimate the maximum lateral inelastic displacement demands on a structure based on the maximum lateral elastic displacement demands for sites with average shear-wave velocities higher than 180 m/s. A reduction factor based on the displacement ductility ratio and the period of vibration of the system is used to estimate the inelastic displacements, which are then used as inputs to build the fragility model.\n",
    "\n",
    "**Note**: To run the code in a cell:\n",
    "\n",
    "1. Click on the cell to select it.\n",
    "2. Press `SHIFT+ENTER` on your keyboard or press the play button (<button class='fa fa-play icon-play btn btn-xs btn-default'></button>) in the toolbar above."
   ]
  },
  {
   "cell_type": "code",
   "execution_count": 3,
   "metadata": {
    "collapsed": true
   },
   "outputs": [],
   "source": [
    "import miranda_2000_firm_soils\n",
    "from rmtk.vulnerability.common import utils\n",
    "%matplotlib inline"
   ]
  },
  {
   "cell_type": "markdown",
   "metadata": {},
   "source": [
    "---\n",
    "### Load capacity curves\n",
    "\n",
    "In order to use this methodology, it is necessary to provide one (or a group) of capacity curves, defined according to the format described in the [RMTK manual](../../../../../rmtk-docs.pdf).\n",
    "\n",
    "Please provide the location of the file containing the capacity curves using the parameter `capacity_curves_file`."
   ]
  },
  {
   "cell_type": "code",
   "execution_count": 4,
   "metadata": {
    "collapsed": true
   },
   "outputs": [],
   "source": [
    "capacity_curves_file = \"../../../../../../rmtk_data/capacity_curves_Sa-Sd.csv\""
   ]
  },
  {
   "cell_type": "code",
   "execution_count": 5,
   "metadata": {
    "collapsed": false
   },
   "outputs": [
    {
     "data": {
      "image/png": "[encoded data removed]",
      "text/plain": [
       "<matplotlib.figure.Figure at 0x10ffe0350>"
      ]
     },
     "metadata": {},
     "output_type": "display_data"
    }
   ],
   "source": [
    "capacity_curves = utils.read_capacity_curves(capacity_curves_file)\n",
    "utils.plot_capacity_curves(capacity_curves)"
   ]
  },
  {
   "cell_type": "markdown",
   "metadata": {},
   "source": [
    "### Load ground motion records\n",
    "\n",
    "Please indicate the path to the folder containing the ground motion records to be used in the analysis through the parameter `gmrs_folder`.\n",
    "\n",
    "**Note**: Each accelerogram needs to be in a separate CSV file as described in the [RMTK manual](../../../../../rmtk-docs.pdf).\n",
    "\n",
    "The parameters `minT` and `maxT` are used to define the period bounds when plotting the spectra for the provided ground motion fields."
   ]
  },
  {
   "cell_type": "code",
   "execution_count": 6,
   "metadata": {
    "collapsed": false
   },
   "outputs": [],
   "source": [
    "gmrs_folder = '../../../../../../rmtk_data/accelerograms'\n",
    "minT, maxT = 0.01, 2.00\n",
    "\n",
    "gmrs = utils.read_gmrs(gmrs_folder)\n",
    "#utils.plot_response_spectra(gmrs, minT, maxT)"
   ]
  },
  {
   "cell_type": "markdown",
   "metadata": {},
   "source": [
    "### Load damage state thresholds\n",
    "\n",
    "Please provide the path to your damage model file using the parameter `damage_model_file` in the cell below."
   ]
  },
  {
   "cell_type": "code",
   "execution_count": 7,
   "metadata": {
    "collapsed": true
   },
   "outputs": [],
   "source": [
    "damage_model_file = \"../../../../../../rmtk_data/damage_model.csv\""
   ]
  },
  {
   "cell_type": "code",
   "execution_count": 8,
   "metadata": {
    "collapsed": false
   },
   "outputs": [],
   "source": [
    "damage_model = utils.read_damage_model(damage_model_file)"
   ]
  },
  {
   "cell_type": "markdown",
   "metadata": {},
   "source": [
    "### Obtain the damage probability matrix\n",
    "\n",
    "The parameter `damping_ratio` needs to be defined in the cell below in order to calculate the damage probability matrix."
   ]
  },
  {
   "cell_type": "code",
   "execution_count": 9,
   "metadata": {
    "collapsed": true
   },
   "outputs": [],
   "source": [
    "damping_ratio = 0.05"
   ]
  },
  {
   "cell_type": "code",
   "execution_count": 10,
   "metadata": {
    "collapsed": false
   },
   "outputs": [
    {
     "name": "stdout",
     "output_type": "stream",
     "text": [
      "5%\n",
      "10%\n",
      "15%\n",
      "20%\n",
      "25%\n",
      "30%\n",
      "35%\n",
      "40%\n",
      "45%\n",
      "50%\n",
      "55%\n",
      "60%\n",
      "65%\n",
      "70%\n",
      "75%\n",
      "80%\n",
      "85%\n",
      "90%\n",
      "95%\n",
      "100%\n"
     ]
    }
   ],
   "source": [
    "PDM, Sds = miranda_2000_firm_soils.calculate_fragility(capacity_curves, gmrs, damage_model, damping_ratio)"
   ]
  },
  {
   "cell_type": "markdown",
   "metadata": {},
   "source": [
    "### Fit lognormal CDF fragility curves\n",
    "\n",
    "The following parameters need to be defined in the cell below in order to fit lognormal CDF fragility curves to the damage probability matrix obtained above:\n",
    "1. `IMT`: This parameter specifies the intensity measure type to be used. Currently supported options are \"PGA\", \"PGV\" and \"Sa\".\n",
    "2. `period`: This parameter defines the time period of the fundamental mode of vibration of the structure.\n",
    "3. `regression_method`: This parameter defines the regression method to be used for estimating the parameters of the fragility functions. The valid options are \"least squares\" and \"max likelihood\"."
   ]
  },
  {
   "cell_type": "code",
   "execution_count": 9,
   "metadata": {
    "collapsed": true
   },
   "outputs": [],
   "source": [
    "IMT = \"Sa\"\n",
    "period = 2.0\n",
    "regression_method = \"least squares\""
   ]
  },
  {
   "cell_type": "code",
   "execution_count": 10,
   "metadata": {
    "collapsed": true
   },
   "outputs": [],
   "source": [
    "fragility_model = utils.calculate_mean_fragility(gmrs, PDM, period, damping_ratio, \n",
    "                                                 IMT, damage_model, regression_method)"
   ]
  },
  {
   "cell_type": "markdown",
   "metadata": {},
   "source": [
    "### Plot fragility functions\n",
    "\n",
    "The following parameters need to be defined in the cell below in order to plot the lognormal CDF fragility curves obtained above:\n",
    "* `minIML` and `maxIML`: These parameters define the limits of the intensity measure level for plotting the functions"
   ]
  },
  {
   "cell_type": "code",
   "execution_count": 1,
   "metadata": {
    "collapsed": true
   },
   "outputs": [],
   "source": [
    "minIML, maxIML = 0.01, 2.00"
   ]
  },
  {
   "cell_type": "code",
   "execution_count": 2,
   "metadata": {
    "collapsed": false,
    "scrolled": false
   },
   "outputs": [
    {
     "ename": "NameError",
     "evalue": "name 'utils' is not defined",
     "output_type": "error",
     "traceback": [
      "\u001b[0;31m---------------------------------------------------------------------------\u001b[0m",
      "\u001b[0;31mNameError\u001b[0m                                 Traceback (most recent call last)",
      "\u001b[0;32m<ipython-input-2-c3d3bd9f83a3>\u001b[0m in \u001b[0;36m<module>\u001b[0;34m()\u001b[0m\n\u001b[0;32m----> 1\u001b[0;31m \u001b[0mutils\u001b[0m\u001b[0;34m.\u001b[0m\u001b[0mplot_fragility_model\u001b[0m\u001b[0;34m(\u001b[0m\u001b[0mfragility_model\u001b[0m\u001b[0;34m,\u001b[0m \u001b[0mminIML\u001b[0m\u001b[0;34m,\u001b[0m \u001b[0mmaxIML\u001b[0m\u001b[0;34m)\u001b[0m\u001b[0;34m\u001b[0m\u001b[0m\n\u001b[0m\u001b[1;32m      2\u001b[0m \u001b[0;31m# utils.plot_fragility_stats(fragility_statistics,minIML,maxIML)\u001b[0m\u001b[0;34m\u001b[0m\u001b[0;34m\u001b[0m\u001b[0m\n",
      "\u001b[0;31mNameError\u001b[0m: name 'utils' is not defined"
     ]
    }
   ],
   "source": [
    "utils.plot_fragility_model(fragility_model, minIML, maxIML)\n",
    "# utils.plot_fragility_stats(fragility_statistics,minIML,maxIML)"
   ]
  },
  {
   "cell_type": "markdown",
   "metadata": {
    "collapsed": false
   },
   "source": [
    "### Save fragility functions\n",
    "\n",
    "The derived parametric fragility functions can be saved to a file in either CSV format or in the NRML format that is used by all OpenQuake input models. The following parameters need to be defined in the cell below in order to save the lognormal CDF fragility curves obtained above:\n",
    "1. `taxonomy`: This parameter specifies a taxonomy string for the the fragility functions.\n",
    "2. `minIML` and `maxIML`: These parameters define the bounds of applicability of the functions.\n",
    "3. `output_type`: This parameter specifies the file format to be used for saving the functions. Currently, the formats supported are \"csv\" and \"nrml\"."
   ]
  },
  {
   "cell_type": "code",
   "execution_count": 13,
   "metadata": {
    "collapsed": true
   },
   "outputs": [],
   "source": [
    "taxonomy = \"RC\"\n",
    "minIML, maxIML = 0.01, 2.00\n",
    "output_type = \"nrml\""
   ]
  },
  {
   "cell_type": "code",
   "execution_count": 14,
   "metadata": {
    "collapsed": true
   },
   "outputs": [],
   "source": [
    "utils.save_mean_fragility(taxonomy, fragility_model, minIML, maxIML, output_type)"
   ]
  },
  {
   "cell_type": "markdown",
   "metadata": {},
   "source": [
    "### Obtain vulnerability function\n",
    "\n",
    "A vulnerability model can be derived by combining the set of fragility functions obtained above with a consequence model. In this process, the fractions of buildings in each damage state are multiplied by the associated damage ratio from the consequence model, in order to obtain a distribution of loss ratio for each intensity measure level. \n",
    "\n",
    "The following parameters need to be defined in the cell below in order to calculate vulnerability functions using the above derived fragility functions:\n",
    "1. `cons_model_file`: This parameter specifies the path of the consequence model file.\n",
    "2. `imls`: This parameter specifies a list of intensity measure levels in increasing order at which the distribution of loss ratios are required to be calculated.\n",
    "3. `distribution_type`: This parameter specifies the type of distribution to be used for calculating the vulnerability function. The distribution types currently supported are \"lognormal\", \"beta\", and \"PMF\"."
   ]
  },
  {
   "cell_type": "code",
   "execution_count": 15,
   "metadata": {
    "collapsed": true
   },
   "outputs": [],
   "source": [
    "cons_model_file = \"../../../../../../rmtk_data/cons_model.csv\"\n",
    "imls = [0.05, 0.10, 0.15, 0.20, 0.25, 0.30, 0.35, 0.40, 0.45, 0.50, \n",
    "        0.60, 0.70, 0.80, 0.90, 1.00, 1.20, 1.40, 1.60, 1.80, 2.00]\n",
    "distribution_type = \"lognormal\""
   ]
  },
  {
   "cell_type": "code",
   "execution_count": 16,
   "metadata": {
    "collapsed": false
   },
   "outputs": [],
   "source": [
    "cons_model = utils.read_consequence_model(cons_model_file)\n",
    "vulnerability_model = utils.convert_fragility_vulnerability(fragility_model, cons_model, \n",
    "                                                            imls, distribution_type)"
   ]
  },
  {
   "cell_type": "markdown",
   "metadata": {},
   "source": [
    "### Plot vulnerability function"
   ]
  },
  {
   "cell_type": "code",
   "execution_count": 17,
   "metadata": {
    "collapsed": false
   },
   "outputs": [
    {
     "data": {
      "image/png": "[encoded data removed]",
      "text/plain": [
       "<matplotlib.figure.Figure at 0x1124a0510>"
      ]
     },
     "metadata": {},
     "output_type": "display_data"
    }
   ],
   "source": [
    "utils.plot_vulnerability_model(vulnerability_model)"
   ]
  },
  {
   "cell_type": "markdown",
   "metadata": {},
   "source": [
    "### Save vulnerability function\n",
    "\n",
    "The derived parametric or nonparametric vulnerability function can be saved to a file in either CSV format or in the NRML format that is used by all OpenQuake input models. The following parameters need to be defined in the cell below in order to save the lognormal CDF fragility curves obtained above:\n",
    "1. `taxonomy`: This parameter specifies a taxonomy string for the the fragility functions.\n",
    "3. `output_type`: This parameter specifies the file format to be used for saving the functions. Currently, the formats supported are \"csv\" and \"nrml\"."
   ]
  },
  {
   "cell_type": "code",
   "execution_count": 18,
   "metadata": {
    "collapsed": true
   },
   "outputs": [],
   "source": [
    "taxonomy = \"RC\"\n",
    "output_type = \"nrml\""
   ]
  },
  {
   "cell_type": "code",
   "execution_count": null,
   "metadata": {
    "collapsed": false
   },
   "outputs": [],
   "source": [
    "utils.save_vulnerability(taxonomy, vulnerability_model, output_type)"
   ]
  }
 ],
 "metadata": {
  "kernelspec": {
   "display_name": "Python 2",
   "language": "python",
   "name": "python2"
  },
  "language_info": {
   "codemirror_mode": {
    "name": "ipython",
    "version": 2
   },
   "file_extension": ".py",
   "mimetype": "text/x-python",
   "name": "python",
   "nbconvert_exporter": "python",
   "pygments_lexer": "ipython2",
   "version": "2.7.10"
  }
 },
 "nbformat": 4,
 "nbformat_minor": 0
}
