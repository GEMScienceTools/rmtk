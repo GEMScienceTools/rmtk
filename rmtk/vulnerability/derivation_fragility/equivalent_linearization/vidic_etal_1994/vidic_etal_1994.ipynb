{
 "cells": [
  {
   "cell_type": "markdown",
   "metadata": {},
   "source": [
    "# Vidic, Fajfar and Fischinger  (1994)\n",
    "\n",
    "This procedure aims to determine the displacements from an inelastic design spectra for systems with a given ductility factor. The inelastic displacement spectra is determined by means of applying a reduction factor, which depends on the natural period of the system, its ductility factor, the hysteretic behaviour, the damping, and the frequency content of the ground motion."
   ]
  },
  {
   "cell_type": "markdown",
   "metadata": {},
   "source": [
    "##Load capacity curves\n",
    "\n",
    "In order to use this methodology, it is necessary to provide one (or a group) of capacity curves, defined according to the format established on the [RMTK manual](../../../../../rmtk-docs.pdf). Please provide the location of the folder containing this input using the parameter input_folder."
   ]
  },
  {
   "cell_type": "code",
   "execution_count": 1,
   "metadata": {
    "collapsed": true
   },
   "outputs": [],
   "source": [
    "from rmtk.vulnerability.common import utils\n",
    "%matplotlib inline \n",
    "\n",
    "capacity_curves_file = '../../../../../../rmtk_data/capacity_curves_Sa-Sd.csv'\n",
    "capacity_curves = utils.read_capacity_curves(capacity_curves_file)\n",
    "#utils.plot_capacity_curves(capacity_curves)"
   ]
  },
  {
   "cell_type": "markdown",
   "metadata": {},
   "source": [
    "## Load ground motion records\n"
   ]
  },
  {
   "cell_type": "code",
   "execution_count": 2,
   "metadata": {
    "collapsed": true
   },
   "outputs": [],
   "source": [
    "gmrs_folder = '../../../../../../rmtk_data/accelerograms'\n",
    "gmrs = utils.read_gmrs(gmrs_folder)\n",
    "minT = 0.1\n",
    "maxT = 2\n",
    "#utils.plot_response_spectra(gmrs,minT,maxT)"
   ]
  },
  {
   "cell_type": "markdown",
   "metadata": {},
   "source": [
    "##Calculate fragility function\n"
   ]
  },
  {
   "cell_type": "code",
   "execution_count": 3,
   "metadata": {
    "collapsed": false,
    "scrolled": false
   },
   "outputs": [
    {
     "name": "stdout",
     "output_type": "stream",
     "text": [
      "5%\n",
      "10%\n"
     ]
    },
    {
     "ename": "KeyboardInterrupt",
     "evalue": "",
     "output_type": "error",
     "traceback": [
      "\u001b[0;31m---------------------------------------------------------------------------\u001b[0m",
      "\u001b[0;31mKeyboardInterrupt\u001b[0m                         Traceback (most recent call last)",
      "\u001b[0;32m<ipython-input-3-28448c84f2c0>\u001b[0m in \u001b[0;36m<module>\u001b[0;34m()\u001b[0m\n\u001b[1;32m      5\u001b[0m \u001b[0mhysteresis_model\u001b[0m \u001b[0;34m=\u001b[0m \u001b[0;34m'Q'\u001b[0m\u001b[0;34m\u001b[0m\u001b[0m\n\u001b[1;32m      6\u001b[0m \u001b[0mdamping_model\u001b[0m \u001b[0;34m=\u001b[0m \u001b[0;34m'mass'\u001b[0m\u001b[0;34m\u001b[0m\u001b[0m\n\u001b[0;32m----> 7\u001b[0;31m \u001b[0mPDM\u001b[0m\u001b[0;34m,\u001b[0m \u001b[0mSds\u001b[0m \u001b[0;34m=\u001b[0m \u001b[0mvidic_etal_1994\u001b[0m\u001b[0;34m.\u001b[0m\u001b[0mcalculate_fragility\u001b[0m\u001b[0;34m(\u001b[0m\u001b[0mcapacity_curves\u001b[0m\u001b[0;34m,\u001b[0m\u001b[0mgmrs\u001b[0m\u001b[0;34m,\u001b[0m\u001b[0mdamage_model\u001b[0m\u001b[0;34m,\u001b[0m\u001b[0mdamping\u001b[0m\u001b[0;34m,\u001b[0m\u001b[0mhysteresis_model\u001b[0m\u001b[0;34m,\u001b[0m\u001b[0mdamping_model\u001b[0m\u001b[0;34m)\u001b[0m\u001b[0;34m\u001b[0m\u001b[0m\n\u001b[0m\u001b[1;32m      8\u001b[0m \u001b[0;34m\u001b[0m\u001b[0m\n\u001b[1;32m      9\u001b[0m \u001b[0mT\u001b[0m \u001b[0;34m=\u001b[0m \u001b[0;36m2.0\u001b[0m\u001b[0;34m\u001b[0m\u001b[0m\n",
      "\u001b[0;32m/Users/vitorsilva/Documents/GEM/git/gem/rmtk/rmtk/vulnerability/derivation_fragility/equivalent_linearization/vidic_etal_1994/vidic_etal_1994.py\u001b[0m in \u001b[0;36mcalculate_fragility\u001b[0;34m(capacity_curves, gmrs, damage_model, damping, hysteresis_model, damping_model)\u001b[0m\n\u001b[1;32m     27\u001b[0m                 \u001b[0mspec_Te\u001b[0m \u001b[0;34m=\u001b[0m \u001b[0mutils\u001b[0m\u001b[0;34m.\u001b[0m\u001b[0mNigamJennings\u001b[0m\u001b[0;34m(\u001b[0m\u001b[0mtime\u001b[0m\u001b[0;34m,\u001b[0m\u001b[0macc\u001b[0m\u001b[0;34m,\u001b[0m\u001b[0;34m[\u001b[0m\u001b[0mTe\u001b[0m\u001b[0;34m]\u001b[0m\u001b[0;34m,\u001b[0m\u001b[0mdamping\u001b[0m\u001b[0;34m)\u001b[0m\u001b[0;34m\u001b[0m\u001b[0m\n\u001b[1;32m     28\u001b[0m                 \u001b[0mspec_10sec\u001b[0m \u001b[0;34m=\u001b[0m \u001b[0mutils\u001b[0m\u001b[0;34m.\u001b[0m\u001b[0mNigamJennings\u001b[0m\u001b[0;34m(\u001b[0m\u001b[0mtime\u001b[0m\u001b[0;34m,\u001b[0m\u001b[0macc\u001b[0m\u001b[0;34m,\u001b[0m\u001b[0;34m[\u001b[0m\u001b[0;36m1.0\u001b[0m\u001b[0;34m]\u001b[0m\u001b[0;34m,\u001b[0m\u001b[0mdamping\u001b[0m\u001b[0;34m)\u001b[0m\u001b[0;34m\u001b[0m\u001b[0m\n\u001b[0;32m---> 29\u001b[0;31m                 \u001b[0mspec_03sec\u001b[0m \u001b[0;34m=\u001b[0m \u001b[0mutils\u001b[0m\u001b[0;34m.\u001b[0m\u001b[0mNigamJennings\u001b[0m\u001b[0;34m(\u001b[0m\u001b[0mtime\u001b[0m\u001b[0;34m,\u001b[0m\u001b[0macc\u001b[0m\u001b[0;34m,\u001b[0m\u001b[0;34m[\u001b[0m\u001b[0;36m0.3\u001b[0m\u001b[0;34m]\u001b[0m\u001b[0;34m,\u001b[0m\u001b[0mdamping\u001b[0m\u001b[0;34m)\u001b[0m\u001b[0;34m\u001b[0m\u001b[0m\n\u001b[0m\u001b[1;32m     30\u001b[0m                 \u001b[0mTc\u001b[0m \u001b[0;34m=\u001b[0m \u001b[0mspec_10sec\u001b[0m\u001b[0;34m[\u001b[0m\u001b[0;34m'Sa'\u001b[0m\u001b[0;34m]\u001b[0m\u001b[0;34m/\u001b[0m\u001b[0mspec_03sec\u001b[0m\u001b[0;34m[\u001b[0m\u001b[0;34m'Sa'\u001b[0m\u001b[0;34m]\u001b[0m\u001b[0;34m\u001b[0m\u001b[0m\n\u001b[1;32m     31\u001b[0m                 \u001b[0mSdi\u001b[0m \u001b[0;34m=\u001b[0m \u001b[0moptimize\u001b[0m\u001b[0;34m.\u001b[0m\u001b[0mfmin\u001b[0m\u001b[0;34m(\u001b[0m\u001b[0mcalculate_Sd\u001b[0m\u001b[0;34m,\u001b[0m \u001b[0mSdy\u001b[0m\u001b[0;34m,\u001b[0m \u001b[0margs\u001b[0m\u001b[0;34m=\u001b[0m\u001b[0;34m(\u001b[0m\u001b[0mspec_Te\u001b[0m\u001b[0;34m[\u001b[0m\u001b[0;34m'Sd'\u001b[0m\u001b[0;34m]\u001b[0m\u001b[0;34m,\u001b[0m\u001b[0mTc\u001b[0m\u001b[0;34m,\u001b[0m\u001b[0mcapacity_curves\u001b[0m\u001b[0;34m,\u001b[0m\u001b[0micc\u001b[0m\u001b[0;34m,\u001b[0m\u001b[0mc1\u001b[0m\u001b[0;34m,\u001b[0m\u001b[0mc2\u001b[0m\u001b[0;34m,\u001b[0m\u001b[0mcR\u001b[0m\u001b[0;34m,\u001b[0m\u001b[0mcT\u001b[0m\u001b[0;34m)\u001b[0m\u001b[0;34m,\u001b[0m \u001b[0mxtol\u001b[0m\u001b[0;34m=\u001b[0m\u001b[0;36m0.001\u001b[0m\u001b[0;34m,\u001b[0m \u001b[0mftol\u001b[0m\u001b[0;34m=\u001b[0m\u001b[0;36m0.001\u001b[0m\u001b[0;34m,\u001b[0m \u001b[0mdisp\u001b[0m \u001b[0;34m=\u001b[0m \u001b[0mFalse\u001b[0m\u001b[0;34m,\u001b[0m \u001b[0;34m)\u001b[0m\u001b[0;34m\u001b[0m\u001b[0m\n",
      "\u001b[0;32m/Users/vitorsilva/Documents/GEM/git/gem/rmtk/rmtk/vulnerability/common/utils.pyc\u001b[0m in \u001b[0;36mNigamJennings\u001b[0;34m(time, acc, periods, damping)\u001b[0m\n\u001b[1;32m    830\u001b[0m     \u001b[0mconst\u001b[0m\u001b[0;34m[\u001b[0m\u001b[0;34m'h1'\u001b[0m\u001b[0;34m]\u001b[0m \u001b[0;34m=\u001b[0m \u001b[0;34m(\u001b[0m\u001b[0momega_d\u001b[0m \u001b[0;34m*\u001b[0m \u001b[0mconst\u001b[0m\u001b[0;34m[\u001b[0m\u001b[0;34m'g2'\u001b[0m\u001b[0;34m]\u001b[0m\u001b[0;34m)\u001b[0m \u001b[0;34m-\u001b[0m \u001b[0;34m(\u001b[0m\u001b[0mconst\u001b[0m\u001b[0;34m[\u001b[0m\u001b[0;34m'f3'\u001b[0m\u001b[0;34m]\u001b[0m \u001b[0;34m*\u001b[0m \u001b[0mconst\u001b[0m\u001b[0;34m[\u001b[0m\u001b[0;34m'g1'\u001b[0m\u001b[0;34m]\u001b[0m\u001b[0;34m)\u001b[0m\u001b[0;34m\u001b[0m\u001b[0m\n\u001b[1;32m    831\u001b[0m     \u001b[0mconst\u001b[0m\u001b[0;34m[\u001b[0m\u001b[0;34m'h2'\u001b[0m\u001b[0;34m]\u001b[0m \u001b[0;34m=\u001b[0m \u001b[0;34m(\u001b[0m\u001b[0momega_d\u001b[0m \u001b[0;34m*\u001b[0m \u001b[0mconst\u001b[0m\u001b[0;34m[\u001b[0m\u001b[0;34m'g1'\u001b[0m\u001b[0;34m]\u001b[0m\u001b[0;34m)\u001b[0m \u001b[0;34m+\u001b[0m \u001b[0;34m(\u001b[0m\u001b[0mconst\u001b[0m\u001b[0;34m[\u001b[0m\u001b[0;34m'f3'\u001b[0m\u001b[0;34m]\u001b[0m \u001b[0;34m*\u001b[0m \u001b[0mconst\u001b[0m\u001b[0;34m[\u001b[0m\u001b[0;34m'g2'\u001b[0m\u001b[0;34m]\u001b[0m\u001b[0;34m)\u001b[0m\u001b[0;34m\u001b[0m\u001b[0m\n\u001b[0;32m--> 832\u001b[0;31m     \u001b[0mx_a\u001b[0m\u001b[0;34m,\u001b[0m \u001b[0mx_v\u001b[0m\u001b[0;34m,\u001b[0m \u001b[0mx_d\u001b[0m \u001b[0;34m=\u001b[0m \u001b[0mcalculate_time_series\u001b[0m\u001b[0;34m(\u001b[0m\u001b[0mnum_steps\u001b[0m\u001b[0;34m,\u001b[0m\u001b[0mnum_per\u001b[0m\u001b[0;34m,\u001b[0m\u001b[0mtime\u001b[0m\u001b[0;34m,\u001b[0m\u001b[0macc\u001b[0m\u001b[0;34m,\u001b[0m\u001b[0mconst\u001b[0m\u001b[0;34m,\u001b[0m\u001b[0momega2\u001b[0m\u001b[0;34m)\u001b[0m\u001b[0;34m\u001b[0m\u001b[0m\n\u001b[0m\u001b[1;32m    833\u001b[0m \u001b[0;34m\u001b[0m\u001b[0m\n\u001b[1;32m    834\u001b[0m     \u001b[0mspectrum\u001b[0m \u001b[0;34m=\u001b[0m \u001b[0;34m{\u001b[0m\u001b[0;34m'Sa'\u001b[0m\u001b[0;34m:\u001b[0m \u001b[0mNone\u001b[0m\u001b[0;34m,\u001b[0m \u001b[0;34m'Sv'\u001b[0m\u001b[0;34m:\u001b[0m \u001b[0mNone\u001b[0m\u001b[0;34m,\u001b[0m \u001b[0;34m'Sd'\u001b[0m\u001b[0;34m:\u001b[0m \u001b[0mNone\u001b[0m\u001b[0;34m,\u001b[0m \u001b[0;34m'T'\u001b[0m\u001b[0;34m:\u001b[0m \u001b[0mNone\u001b[0m\u001b[0;34m}\u001b[0m\u001b[0;34m\u001b[0m\u001b[0m\n",
      "\u001b[0;32m/Users/vitorsilva/Documents/GEM/git/gem/rmtk/rmtk/vulnerability/common/utils.pyc\u001b[0m in \u001b[0;36mcalculate_time_series\u001b[0;34m(num_steps, num_per, time, acc, const, omega2)\u001b[0m\n\u001b[1;32m    876\u001b[0m             \u001b[0mz_3\u001b[0m \u001b[0;34m-\u001b[0m \u001b[0mz_2\u001b[0m \u001b[0;34m-\u001b[0m \u001b[0mz_1\u001b[0m\u001b[0;34m\u001b[0m\u001b[0m\n\u001b[1;32m    877\u001b[0m         \u001b[0mx_v\u001b[0m\u001b[0;34m[\u001b[0m\u001b[0mk\u001b[0m\u001b[0;34m,\u001b[0m \u001b[0;34m:\u001b[0m\u001b[0;34m]\u001b[0m \u001b[0;34m=\u001b[0m \u001b[0;34m(\u001b[0m\u001b[0ma_val\u001b[0m \u001b[0;34m*\u001b[0m \u001b[0mconst\u001b[0m\u001b[0;34m[\u001b[0m\u001b[0;34m'h1'\u001b[0m\u001b[0;34m]\u001b[0m\u001b[0;34m)\u001b[0m \u001b[0;34m-\u001b[0m \u001b[0;34m(\u001b[0m\u001b[0mb_val\u001b[0m \u001b[0;34m*\u001b[0m \u001b[0mconst\u001b[0m\u001b[0;34m[\u001b[0m\u001b[0;34m'h2'\u001b[0m\u001b[0;34m]\u001b[0m\u001b[0;34m)\u001b[0m \u001b[0;34m-\u001b[0m \u001b[0mz_4\u001b[0m\u001b[0;34m\u001b[0m\u001b[0m\n\u001b[0;32m--> 878\u001b[0;31m         \u001b[0mx_a\u001b[0m\u001b[0;34m[\u001b[0m\u001b[0mk\u001b[0m\u001b[0;34m,\u001b[0m \u001b[0;34m:\u001b[0m\u001b[0;34m]\u001b[0m \u001b[0;34m=\u001b[0m \u001b[0;34m(\u001b[0m\u001b[0;34m-\u001b[0m\u001b[0mconst\u001b[0m\u001b[0;34m[\u001b[0m\u001b[0;34m'f6'\u001b[0m\u001b[0;34m]\u001b[0m \u001b[0;34m*\u001b[0m \u001b[0mx_v\u001b[0m\u001b[0;34m[\u001b[0m\u001b[0mk\u001b[0m\u001b[0;34m,\u001b[0m \u001b[0;34m:\u001b[0m\u001b[0;34m]\u001b[0m\u001b[0;34m)\u001b[0m \u001b[0;34m-\u001b[0m \u001b[0;34m(\u001b[0m\u001b[0momega2\u001b[0m \u001b[0;34m*\u001b[0m \u001b[0mx_d\u001b[0m\u001b[0;34m[\u001b[0m\u001b[0mk\u001b[0m\u001b[0;34m,\u001b[0m \u001b[0;34m:\u001b[0m\u001b[0;34m]\u001b[0m\u001b[0;34m)\u001b[0m\u001b[0;34m\u001b[0m\u001b[0m\n\u001b[0m\u001b[1;32m    879\u001b[0m \u001b[0;34m\u001b[0m\u001b[0m\n\u001b[1;32m    880\u001b[0m     \u001b[0;32mreturn\u001b[0m \u001b[0mx_a\u001b[0m\u001b[0;34m,\u001b[0m \u001b[0mx_v\u001b[0m\u001b[0;34m,\u001b[0m \u001b[0mx_d\u001b[0m\u001b[0;34m\u001b[0m\u001b[0m\n",
      "\u001b[0;31mKeyboardInterrupt\u001b[0m: "
     ]
    }
   ],
   "source": [
    "import vidic_etal_1994\n",
    "\n",
    "damage_model = utils.read_damage_model('../../../../../../rmtk_data/damage_model.csv')\n",
    "damping = 0.05\n",
    "hysteresis_model = 'Q'\n",
    "damping_model = 'mass'\n",
    "PDM, Sds = vidic_etal_1994.calculate_fragility(capacity_curves,gmrs,damage_model,damping,hysteresis_model,damping_model)\n",
    "\n",
    "T = 2.0\n",
    "fragility_model = utils.calculate_mean_fragility(gmrs,PDM,T,damping,'Sa',damage_model)\n",
    "utils.plot_fragility_model(fragility_model,0.01,2)"
   ]
  },
  {
   "cell_type": "code",
   "execution_count": null,
   "metadata": {
    "collapsed": true
   },
   "outputs": [],
   "source": []
  }
 ],
 "metadata": {
  "kernelspec": {
   "display_name": "Python 2",
   "language": "python",
   "name": "python2"
  },
  "language_info": {
   "codemirror_mode": {
    "name": "ipython",
    "version": 2
   },
   "file_extension": ".py",
   "mimetype": "text/x-python",
   "name": "python",
   "nbconvert_exporter": "python",
   "pygments_lexer": "ipython2",
   "version": "2.7.9"
  }
 },
 "nbformat": 4,
 "nbformat_minor": 0
}
