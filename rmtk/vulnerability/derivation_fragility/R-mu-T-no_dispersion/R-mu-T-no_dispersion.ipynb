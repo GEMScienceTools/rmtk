{
 "cells": [
  {
   "cell_type": "markdown",
   "metadata": {},
   "source": [
    "# Risk Modellers Toolkit"
   ]
  },
  {
   "cell_type": "markdown",
   "metadata": {},
   "source": [
    "The Risk Modeller’s Toolkit (rmtk) is a suite of tools written by scientists, which supports engineers and other experts in the visualization of the outputs of the OpenQuake-engine, in the calculation of specific risk metrics, and creation of fragility and vulnerability models. This software contains some of the most commonly used algorithms for risk and vulnerability assessment, and it is intended to be an ever growing tool. The current architecture of the Risk Modeller's Toolkit is depicted in the figure below:<br />\n",
    "\n",
    "<img src=\"figures/rmtk_structure.png\" height=\"200\" width=\"650\" align=\"middle\">"
   ]
  },
  {
   "cell_type": "markdown",
   "metadata": {
    "collapsed": false
   },
   "source": [
    "##Plotting\n",
    "\n",
    "Include a description here of what can be plotted, and a figure of a nice map on the bottom.\n",
    "<img src=\"figures/risk_map_example.png\" height=\"200\" width=\"400\" align=\"middle\">\n",
    "Currently, the Plotting facility of the Risk Modellers Toolkit can generate the following outputs:\n",
    "\n",
    "###Collapse maps\n",
    "Collapse maps represent the spatial distribution of the mean number of assets that collapsed (or within the last damage state of the fragility model - e.g. destruction, complete). To use this feature click [here](rmtk/plotting/collapse_maps/plot_collapse_maps.ipynb)  \n",
    "###Damage distribution\n",
    "Collapse maps represent the spatial distribution of the mean number of assets that collapsed (or within the last damage state of the fragility model - e.g. destruction, complete). To use this feature click [here](rmtk/plotting/damage_dist/plot_damage_dist.ipynb)  \n",
    "###Risk maps\n",
    "Collapse maps represent the spatial distribution of the mean number of assets that collapsed (or within the last damage state of the fragility model - e.g. destruction, complete). To use this feature click [here](rmtk/plotting/risk_maps/plot_risk_maps.ipynb)  \n",
    "###Hazard maps\n",
    "Collapse maps represent the spatial distribution of the mean number of assets that collapsed (or within the last damage state of the fragility model - e.g. destruction, complete). To use this feature click [here](rmtk/plotting/hazard_outputs/hazard_output_plotting.ipynb)\n",
    "###Hazard curves\n",
    "[here](rmtk/plotting/hazard_outputs/hazard_output_plotting.ipynb)\n",
    "###Loss curves\n",
    "[here](rmtk/plotting/loss_curves/plot_loss_curves.ipynb) \n"
   ]
  },
  {
   "cell_type": "markdown",
   "metadata": {},
   "source": [
    "## Risk\n",
    "<img src=\"figures/pml_example.png\" height=\"150\" width=\"350\" align=\"middle\">\n",
    "\n",
    "### Probable maximum loss curve\n",
    "[here](rmtk/risk/event_loss_tables/loss_modelling.ipynb)\n",
    "### Logic tree branch selector\n",
    "[here](rmtk/risk/closest_curves/closest_curves.ipynb)"
   ]
  },
  {
   "cell_type": "markdown",
   "metadata": {},
   "source": [
    "##Vulnerability\n",
    "The Vulnerability Facility of the Risk Modellers Toolkit comprises a number of modules to generate a large number of numerical models (e.g. single degree of freedom ocilators (SDOF) or capacity curves establishing the relation between spectral acceleration and spectral displacement); conversion of results from multi degree of freedom systems (MDOF) to equivalent single degree ocilators (SDOF) or transformation of the elastic displacement to inelastic response, which is fundamental to derive fragility for vulnerability models for single structures or building classes. In the following figure a fragility functions developed using one of the support algorithms is depicted: \n",
    "<img src=\"figures/fragility_example.png\" height=\"200\" width=\"400\" align=\"middle\">\n",
    "\n",
    "### Model generator\n",
    "This module enables users to generate a large number of numerical models that can be used in the derivation of fragility models. This feature allows the inclusion of the building-to-building variability necessary for the derivation of fragility functions for building classes. To use this feature click [here](files/SDOF_to_MDOF.ipynb)\n",
    "### Convertor from SDOF to MDOF\n",
    "[SDOF to MDOF](files/notebook2.ipynb)\n",
    "### Transformation of Sd elastic to Sd inelastic\n",
    "[Sd elastic to Sd inelastic](files/notebook2.ipynb)\n"
   ]
  },
  {
   "cell_type": "code",
   "execution_count": null,
   "metadata": {
    "collapsed": true
   },
   "outputs": [],
   "source": []
  }
 ],
 "metadata": {
  "kernelspec": {
   "display_name": "Python 2",
   "language": "python",
   "name": "python2"
  },
  "language_info": {
   "codemirror_mode": {
    "name": "ipython",
    "version": 2
   },
   "file_extension": ".py",
   "mimetype": "text/x-python",
   "name": "python",
   "nbconvert_exporter": "python",
   "pygments_lexer": "ipython2",
   "version": "2.7.9"
  }
 },
 "nbformat": 4,
 "nbformat_minor": 0
}
