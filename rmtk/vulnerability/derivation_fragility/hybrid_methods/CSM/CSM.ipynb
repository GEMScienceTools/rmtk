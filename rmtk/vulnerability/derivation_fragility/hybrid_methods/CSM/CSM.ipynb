{
 "cells": [
  {
   "cell_type": "markdown",
   "metadata": {},
   "source": [
    "#Capacity Spectrum Method (CSM)\n",
    "\n",
    "The capacity spectrum method (CSM) represents a nonlinear static procedure capable of estimate the nonlinear response of structures, utilizing overdamped response spectra. These response spectra can be extracted from a building code, or derived based on a ground motion records. In this fragility method, the CSM is employed to test building portfolios against a set of ground motion records.\n",
    "\n",
    " In the following figure, a fragility model developed using this method is presented: \n",
    "<img src=\"../../../../../figures/fragility_example.png\" height=\"200\" width=\"400\" align=\"middle\">"
   ]
  },
  {
   "cell_type": "markdown",
   "metadata": {
    "collapsed": false
   },
   "source": [
    "##Load capacity curves\n",
    "\n",
    "In order to use this methodology, it is necessary to provide one (or a group) of capacity curves, defined according to the format established on the [RMTK manual](../../../../../rmtk-docs.pdf). Please provide the location of the folder containing this input using the parameter input_folder."
   ]
  },
  {
   "cell_type": "code",
   "execution_count": 1,
   "metadata": {
    "collapsed": false
   },
   "outputs": [
    {
     "data": {
      "image/png": "[encoded data removed]",
      "text/plain": [
       "<matplotlib.figure.Figure at 0x11507a910>"
      ]
     },
     "metadata": {},
     "output_type": "display_data"
    }
   ],
   "source": [
    "from rmtk.vulnerability.common import utils\n",
    "%matplotlib inline \n",
    "\n",
    "capacity_curves_file = '../../../../../../rmtk_data/capacity_curves_Sa-Sd.csv'\n",
    "capacity_curves = utils.read_capacity_curves(capacity_curves_file)\n",
    "utils.plot_capacity_curves(capacity_curves)"
   ]
  },
  {
   "cell_type": "markdown",
   "metadata": {},
   "source": [
    "## Load ground motion records"
   ]
  },
  {
   "cell_type": "code",
   "execution_count": 2,
   "metadata": {
    "collapsed": false,
    "scrolled": false
   },
   "outputs": [],
   "source": [
    "gmrs_folder = '../../../../../../rmtk_data/accelerograms'\n",
    "gmrs = utils.read_gmrs(gmrs_folder)\n",
    "minT = 0.0\n",
    "maxT = 2\n",
    "#utils.plot_response_spectra(gmrs,minT,maxT)"
   ]
  },
  {
   "cell_type": "markdown",
   "metadata": {},
   "source": [
    "##Assess nonlinear structural response\n"
   ]
  },
  {
   "cell_type": "code",
   "execution_count": 3,
   "metadata": {
    "collapsed": false,
    "scrolled": false
   },
   "outputs": [
    {
     "name": "stdout",
     "output_type": "stream",
     "text": [
      "{'damage_states': ['Slight', 'Moderate', 'Extensive', 'Collapse'], 'cov': [0.0, 0.0, 0.0, 0.0], 'type_criteria': 'capacity curve dependent', 'type_damage_state': ['Sdy', '3 Sdy 1 Sdu', '1 Sdy 1 Sdu', 'Sdu'], 'distribution': ['normal', 'normal', 'normal', 'normal'], 'mean': [0.5, '0', '0', '0']}\n"
     ]
    }
   ],
   "source": [
    "import capacitySpectrumMethod\n",
    "\n",
    "damage_model = utils.read_damage_model('../../../../../../rmtk_data/damage_model.csv')\n",
    "print damage_model\n",
    "damping_model = 'Priesley_et_al2007_frames'\n",
    "damping = 0.05\n",
    "#PDM, Sds = capacitySpectrumMethod.calculate_fragility(capacity_curves,gmrs,damage_model,damping_model,damping)"
   ]
  },
  {
   "cell_type": "markdown",
   "metadata": {},
   "source": [
    "##Calculate fragiity function"
   ]
  },
  {
   "cell_type": "code",
   "execution_count": 4,
   "metadata": {
    "collapsed": false,
    "scrolled": false
   },
   "outputs": [
    {
     "ename": "IOError",
     "evalue": "[Errno 2] No such file or directory: 'PDM.csv'",
     "output_type": "error",
     "traceback": [
      "\u001b[0;31m---------------------------------------------------------------------------\u001b[0m",
      "\u001b[0;31mIOError\u001b[0m                                   Traceback (most recent call last)",
      "\u001b[0;32m<ipython-input-4-12ea67337b1e>\u001b[0m in \u001b[0;36m<module>\u001b[0;34m()\u001b[0m\n\u001b[1;32m     10\u001b[0m \u001b[0;34m\u001b[0m\u001b[0m\n\u001b[1;32m     11\u001b[0m \u001b[0;34m\u001b[0m\u001b[0m\n\u001b[0;32m---> 12\u001b[0;31m \u001b[0mfragility_model\u001b[0m \u001b[0;34m=\u001b[0m \u001b[0mutils\u001b[0m\u001b[0;34m.\u001b[0m\u001b[0mcalculate_mean_fragility\u001b[0m\u001b[0;34m(\u001b[0m\u001b[0mgmrs\u001b[0m\u001b[0;34m,\u001b[0m\u001b[0mPDM\u001b[0m\u001b[0;34m,\u001b[0m\u001b[0mT\u001b[0m\u001b[0;34m,\u001b[0m\u001b[0mdamping\u001b[0m\u001b[0;34m,\u001b[0m\u001b[0;34m'Sa'\u001b[0m\u001b[0;34m,\u001b[0m\u001b[0mdamage_model\u001b[0m\u001b[0;34m,\u001b[0m\u001b[0mregression_method\u001b[0m\u001b[0;34m)\u001b[0m\u001b[0;34m\u001b[0m\u001b[0m\n\u001b[0m\u001b[1;32m     13\u001b[0m \u001b[0mutils\u001b[0m\u001b[0;34m.\u001b[0m\u001b[0mplot_fragility_model\u001b[0m\u001b[0;34m(\u001b[0m\u001b[0mfragility_model\u001b[0m\u001b[0;34m,\u001b[0m\u001b[0;36m0.01\u001b[0m\u001b[0;34m,\u001b[0m\u001b[0;36m2\u001b[0m\u001b[0;34m)\u001b[0m\u001b[0;34m\u001b[0m\u001b[0m\n\u001b[1;32m     14\u001b[0m \u001b[0mutils\u001b[0m\u001b[0;34m.\u001b[0m\u001b[0mplot_fragility_stats\u001b[0m\u001b[0;34m(\u001b[0m\u001b[0mfragility_statistics\u001b[0m\u001b[0;34m,\u001b[0m\u001b[0mminIML\u001b[0m\u001b[0;34m,\u001b[0m\u001b[0mmaxIML\u001b[0m\u001b[0;34m)\u001b[0m\u001b[0;34m\u001b[0m\u001b[0m\n",
      "\u001b[0;32m/Users/chiaracasotto/GitHub/RMTK/rmtk/vulnerability/common/utils.py\u001b[0m in \u001b[0;36mcalculate_mean_fragility\u001b[0;34m(gmrs, PDM, T, damping, IMT, damage_model, method)\u001b[0m\n\u001b[1;32m    714\u001b[0m     \u001b[0;31m#imls = calculate_imls(gmrs,T,damping)\u001b[0m\u001b[0;34m\u001b[0m\u001b[0;34m\u001b[0m\u001b[0m\n\u001b[1;32m    715\u001b[0m \u001b[0;34m\u001b[0m\u001b[0m\n\u001b[0;32m--> 716\u001b[0;31m     \u001b[0mfile\u001b[0m \u001b[0;34m=\u001b[0m \u001b[0mopen\u001b[0m\u001b[0;34m(\u001b[0m\u001b[0;34m'PDM.csv'\u001b[0m\u001b[0;34m)\u001b[0m\u001b[0;34m\u001b[0m\u001b[0m\n\u001b[0m\u001b[1;32m    717\u001b[0m     \u001b[0mdata\u001b[0m \u001b[0;34m=\u001b[0m \u001b[0mcsv\u001b[0m\u001b[0;34m.\u001b[0m\u001b[0mreader\u001b[0m\u001b[0;34m(\u001b[0m\u001b[0mfile\u001b[0m\u001b[0;34m)\u001b[0m\u001b[0;34m\u001b[0m\u001b[0m\n\u001b[1;32m    718\u001b[0m     \u001b[0mnewlist\u001b[0m \u001b[0;34m=\u001b[0m \u001b[0;34m[\u001b[0m\u001b[0mrow\u001b[0m \u001b[0;32mfor\u001b[0m \u001b[0mrow\u001b[0m \u001b[0;32min\u001b[0m \u001b[0mdata\u001b[0m\u001b[0;34m]\u001b[0m\u001b[0;34m\u001b[0m\u001b[0m\n",
      "\u001b[0;31mIOError\u001b[0m: [Errno 2] No such file or directory: 'PDM.csv'"
     ]
    }
   ],
   "source": [
    "T = 0.3\n",
    "regression_method = 'least squares'\n",
    "PDM = 0\n",
    "no_samples = 100\n",
    "size_sample = 60\n",
    "output_type = 'nrml'\n",
    "taxonomy = 'RC'\n",
    "minIML = 0.01\n",
    "maxIML = 1\n",
    "\n",
    "\n",
    "fragility_model = utils.calculate_mean_fragility(gmrs,PDM,T,damping,'Sa',damage_model,regression_method)\n",
    "utils.plot_fragility_model(fragility_model,0.01,2)\n",
    "utils.plot_fragility_stats(fragility_statistics,minIML,maxIML)\n",
    "\n",
    "utils.save_mean_fragility(taxonomy,fragility_model,minIML,maxIML,output_type)"
   ]
  },
  {
   "cell_type": "markdown",
   "metadata": {},
   "source": [
    "##Calculate Vulnerability function"
   ]
  },
  {
   "cell_type": "code",
   "execution_count": 5,
   "metadata": {
    "collapsed": false
   },
   "outputs": [],
   "source": [
    "cons_model_file = '../../../../../../rmtk_data/cons_model.csv'\n",
    "cons_model = utils.read_consequence_model(cons_model_file)\n",
    "imls = [0.1,0.2,0.3,0.4,0.5,0.6,0.8,0.9,1.0]\n",
    "type_distribution = 'PMF'\n",
    "output_type = 'nrml'\n",
    "vulnerability_model = utils.convert_fragility_vulnerability(fragility_model,cons_model,imls,type_distribution)\n",
    "utils.save_vulnerability(taxonomy,vulnerability_model,output_type)"
   ]
  },
  {
   "cell_type": "code",
   "execution_count": 6,
   "metadata": {
    "collapsed": false
   },
   "outputs": [
    {
     "name": "stdout",
     "output_type": "stream",
     "text": [
      "{'probabilities': array([[ 0.,  0.,  0.,  0.,  0.,  0.,  0.,  0.,  0.],\n",
      "       [ 1.,  1.,  1.,  0.,  0.,  0.,  0.,  0.,  0.],\n",
      "       [ 0.,  0.,  0.,  1.,  1.,  0.,  0.,  0.,  0.],\n",
      "       [ 0.,  0.,  0.,  0.,  0.,  1.,  0.,  0.,  0.],\n",
      "       [ 0.,  0.,  0.,  0.,  0.,  0.,  0.,  0.,  0.],\n",
      "       [ 0.,  0.,  0.,  0.,  0.,  0.,  1.,  0.,  0.],\n",
      "       [ 0.,  0.,  0.,  0.,  0.,  0.,  0.,  1.,  1.],\n",
      "       [ 0.,  0.,  0.,  0.,  0.,  0.,  0.,  0.,  0.],\n",
      "       [ 0.,  0.,  0.,  0.,  0.,  0.,  0.,  0.,  0.],\n",
      "       [ 0.,  0.,  0.,  0.,  0.,  0.,  0.,  0.,  0.],\n",
      "       [ 0.,  0.,  0.,  0.,  0.,  0.,  0.,  0.,  0.],\n",
      "       [ 0.,  0.,  0.,  0.,  0.,  0.,  0.,  0.,  0.],\n",
      "       [ 0.,  0.,  0.,  0.,  0.,  0.,  0.,  0.,  0.],\n",
      "       [ 0.,  0.,  0.,  0.,  0.,  0.,  0.,  0.,  0.],\n",
      "       [ 0.,  0.,  0.,  0.,  0.,  0.,  0.,  0.,  0.],\n",
      "       [ 0.,  0.,  0.,  0.,  0.,  0.,  0.,  0.,  0.],\n",
      "       [ 0.,  0.,  0.,  0.,  0.,  0.,  0.,  0.,  0.],\n",
      "       [ 0.,  0.,  0.,  0.,  0.,  0.,  0.,  0.,  0.],\n",
      "       [ 0.,  0.,  0.,  0.,  0.,  0.,  0.,  0.,  0.],\n",
      "       [ 0.,  0.,  0.,  0.,  0.,  0.,  0.,  0.,  0.]]), 'distribution': 'PMF', 'loss_ratios': array([ 0.        ,  0.05263158,  0.10526316,  0.15789474,  0.21052632,\n",
      "        0.26315789,  0.31578947,  0.36842105,  0.42105263,  0.47368421,\n",
      "        0.52631579,  0.57894737,  0.63157895,  0.68421053,  0.73684211,\n",
      "        0.78947368,  0.84210526,  0.89473684,  0.94736842,  1.        ]), 'imls': [0.1, 0.2, 0.3, 0.4, 0.5, 0.6, 0.8, 0.9, 1.0], 'IMT': 'Sa(0.3)'}\n"
     ]
    }
   ],
   "source": [
    "print vulnerability_model"
   ]
  },
  {
   "cell_type": "code",
   "execution_count": null,
   "metadata": {
    "collapsed": true
   },
   "outputs": [],
   "source": []
  }
 ],
 "metadata": {
  "kernelspec": {
   "display_name": "Python 2",
   "language": "python",
   "name": "python2"
  },
  "language_info": {
   "codemirror_mode": {
    "name": "ipython",
    "version": 2
   },
   "file_extension": ".py",
   "mimetype": "text/x-python",
   "name": "python",
   "nbconvert_exporter": "python",
   "pygments_lexer": "ipython2",
   "version": "2.7.10"
  }
 },
 "nbformat": 4,
 "nbformat_minor": 0
}
