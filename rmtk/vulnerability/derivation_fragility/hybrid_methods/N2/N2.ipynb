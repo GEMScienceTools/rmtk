{
 "cells": [
  {
   "cell_type": "markdown",
   "metadata": {},
   "source": [
    "#N2 Method\n",
    "\n",
    "This simplified nonlinear procedure for the estimation of the seismic response of structures uses capacity curves and inelastic spectra. This method has been developed to be combined with code-bsed response spectra, but is is also possible to employ it to assess structural response against ground motion records. It also has the distinct aspect of assuming an elasto-perfectly plastic force-displacement relationship in the construction of the bilinear curve.\n",
    "\n",
    "In the following figure, a fragility model developed using this method is presented: \n",
    "<img src=\"../../../../../figures/fragility_example.png\" height=\"200\" width=\"400\" align=\"middle\">"
   ]
  },
  {
   "cell_type": "markdown",
   "metadata": {
    "collapsed": false
   },
   "source": [
    "##Load capacity curves\n",
    "\n",
    "In order to use this methodology, it is necessary to provide one (or a group) of capacity curves, defined according to the format established on the [RMTK manual](../../../../../rmtk-docs.pdf). Please provide the location of the folder containing this input using the parameter input_folder."
   ]
  },
  {
   "cell_type": "code",
   "execution_count": 1,
   "metadata": {
    "collapsed": false
   },
   "outputs": [
    {
     "data": {
      "image/png": "[encoded data removed]",
      "text/plain": [
       "<matplotlib.figure.Figure at 0x108a77e10>"
      ]
     },
     "metadata": {},
     "output_type": "display_data"
    },
    {
     "name": "stdout",
     "output_type": "stream",
     "text": [
      "{'Say': [0.143, 0.14723, 0.13728, 0.11454, 0.22996, 0.0697, 0.27038, 0.40041, 0.16652, 0.11926, 0.09065, 0.61627, 0.24548, 0.19998, 0.21566, 0.12763, 0.20654, 0.22784, 0.12734, 0.25609], 'periods': [1.52, 1.63, 1.25, 1.43, 1.05, 1.34, 1.02, 1.33, 1.23, 1.43, 1.7, 0.99, 1.42, 1.02, 1.24, 1.35, 1.82, 1.17, 1.73, 1.14], 'Sa': [[0.0, 0.143, 0.143], [0.0, 0.14723, 0.14723], [0.0, 0.13728, 0.13728], [0.0, 0.11454, 0.11454], [0.0, 0.22996, 0.22996], [0.0, 0.0697, 0.0697], [0.0, 0.27038, 0.27038], [0.0, 0.40041, 0.40041], [0.0, 0.16652, 0.16652], [0.0, 0.11926, 0.11926], [0.0, 0.09065, 0.09065], [0.0, 0.61627, 0.61627], [0.0, 0.24548, 0.24548], [0.0, 0.19998, 0.19998], [0.0, 0.21566, 0.21566], [0.0, 0.12763, 0.12763], [0.0, 0.20654, 0.20654], [0.0, 0.22784, 0.22784], [0.0, 0.12734, 0.12734], [0.0, 0.25609, 0.25609]], 'Sd': [[0.0, 0.0821, 0.238], [0.0, 0.0972, 0.264], [0.0, 0.0533, 0.0964], [0.0, 0.0582, 0.12], [0.0, 0.063, 0.218], [0.0, 0.0311, 0.0983], [0.0, 0.0699, 0.168], [0.0, 0.176, 0.33], [0.0, 0.0626, 0.147], [0.0, 0.0606, 0.153], [0.0, 0.0651, 0.0924], [0.0, 0.151, 0.318], [0.0, 0.123, 0.272], [0.0, 0.0517, 0.224], [0.0, 0.0824, 0.138], [0.0, 0.0578, 0.156], [0.0, 0.17, 0.261], [0.0, 0.0775, 0.154], [0.0, 0.0947, 0.279], [0.0, 0.0827, 0.175]], 'type': 'Sd-Sa', 'Sdy': [0.0821, 0.0972, 0.0533, 0.0582, 0.063, 0.0311, 0.0699, 0.176, 0.0626, 0.0606, 0.0651, 0.151, 0.123, 0.0517, 0.0824, 0.0578, 0.17, 0.0775, 0.0947, 0.0827], 'gamma': [1.24, 1.24, 1.24, 1.24, 1.24, 1.24, 1.24, 1.24, 1.24, 1.24, 1.24, 1.24, 1.24, 1.24, 1.24, 1.24, 1.24, 1.24, 1.24, 1.24], 'heights': [6.0, 6.0, 6.0, 6.0, 6.0, 6.0, 6.0, 6.0, 6.0, 6.0, 6.0, 6.0, 6.0, 6.0, 6.0, 6.0, 6.0, 6.0, 6.0, 6.0]}\n"
     ]
    }
   ],
   "source": [
    "from rmtk.vulnerability.common import utils\n",
    "%matplotlib inline \n",
    "\n",
    "capacity_curves_file = '/Users/vitorsilva/Documents/GEM/git/gem/rmtk_data/all_curves.csv'\n",
    "capacity_curves = utils.read_capacity_curves(capacity_curves_file)\n",
    "utils.plot_capacity_curves(capacity_curves)\n",
    "print capacity_curves"
   ]
  },
  {
   "cell_type": "markdown",
   "metadata": {},
   "source": [
    "## Load ground motion records"
   ]
  },
  {
   "cell_type": "code",
   "execution_count": 2,
   "metadata": {
    "collapsed": false,
    "scrolled": false
   },
   "outputs": [],
   "source": [
    "gmrs_folder = '/Users/vitorsilva/Documents/GEM/git/gem/rmtk_data/accelerograms'\n",
    "gmrs = utils.read_gmrs(gmrs_folder)\n",
    "minT = 0.1\n",
    "maxT = 2\n",
    "#utils.plot_response_spectra(gmrs,minT,maxT)"
   ]
  },
  {
   "cell_type": "markdown",
   "metadata": {},
   "source": [
    "##Calculate fragility function\n"
   ]
  },
  {
   "cell_type": "code",
   "execution_count": 3,
   "metadata": {
    "collapsed": false,
    "scrolled": false
   },
   "outputs": [
    {
     "name": "stdout",
     "output_type": "stream",
     "text": [
      "{'damage_states': ['Slight', 'Moderate', 'Extensive', 'Collapse'], 'cov': [0.05, 0.05, 0.05, 0.05], 'type_criteria': 'capacity curve dependent', 'type_damage_state': ['fraction Sdy', 'Sdy', 'mean Sdy Sdu', 'Sdu'], 'distribution': ['normal', 'normal', 'normal', 'normal'], 'mean': [0.5, '0.05', '0.05', '0.05']}\n",
      "5%\n",
      "0\n",
      "normal\n",
      "normal\n",
      "normal\n",
      "normal\n",
      "10%\n",
      "1\n",
      "normal\n",
      "normal\n",
      "normal\n",
      "normal\n",
      "15%\n",
      "2\n",
      "normal\n",
      "normal\n",
      "normal\n",
      "normal\n",
      "20%\n",
      "3\n",
      "normal\n",
      "normal\n",
      "normal\n",
      "normal\n",
      "25%\n",
      "4\n",
      "normal\n",
      "normal\n",
      "normal\n",
      "normal\n",
      "30%\n",
      "5\n",
      "normal\n",
      "normal\n",
      "normal\n",
      "normal\n",
      "35%\n",
      "6\n",
      "normal\n",
      "normal\n",
      "normal\n",
      "normal\n",
      "40%\n",
      "7\n",
      "normal\n",
      "normal\n",
      "normal\n",
      "normal\n",
      "45%\n",
      "8\n",
      "normal\n",
      "normal\n",
      "normal\n",
      "normal\n",
      "50%\n",
      "9\n",
      "normal\n",
      "normal\n",
      "normal\n",
      "normal\n",
      "55%\n",
      "10\n",
      "normal\n",
      "normal\n",
      "normal\n",
      "normal\n",
      "60%\n",
      "11\n",
      "normal\n",
      "normal\n",
      "normal\n",
      "normal\n",
      "65%\n",
      "12\n",
      "normal\n",
      "normal\n",
      "normal\n",
      "normal\n",
      "70%\n",
      "13\n",
      "normal\n",
      "normal\n",
      "normal\n",
      "normal\n",
      "75%\n",
      "14\n",
      "normal\n",
      "normal\n",
      "normal\n",
      "normal\n",
      "80%\n",
      "15\n",
      "normal\n",
      "normal\n",
      "normal\n",
      "normal\n",
      "85%\n",
      "16\n",
      "normal\n",
      "normal\n",
      "normal\n",
      "normal\n",
      "90%\n",
      "17\n",
      "normal\n",
      "normal\n",
      "normal\n",
      "normal\n",
      "95%\n",
      "18\n",
      "normal\n",
      "normal\n",
      "normal\n",
      "normal\n",
      "100%\n",
      "19\n",
      "normal\n",
      "normal\n",
      "normal\n",
      "normal\n"
     ]
    },
    {
     "data": {
      "image/png": "[encoded data removed]",
      "text/plain": [
       "<matplotlib.figure.Figure at 0x108c94290>"
      ]
     },
     "metadata": {},
     "output_type": "display_data"
    }
   ],
   "source": [
    "import N2Method\n",
    "\n",
    "damage_model = utils.read_damage_model('/Users/vitorsilva/Documents/GEM/git/gem/rmtk_data/damage_model.csv')\n",
    "print damage_model\n",
    "damping = 0.05\n",
    "T = 2.0\n",
    "PDM, Sds = N2Method.calculate_fragility(capacity_curves,gmrs,damage_model,damping)\n",
    "fragility_model = utils.calculate_mean_fragility(gmrs,PDM,T,damping,'Sa',damage_model)\n",
    "utils.plot_fragility_model(fragility_model,0.01,2)"
   ]
  }
 ],
 "metadata": {
  "kernelspec": {
   "display_name": "Python 2",
   "language": "python",
   "name": "python2"
  },
  "language_info": {
   "codemirror_mode": {
    "name": "ipython",
    "version": 2
   },
   "file_extension": ".py",
   "mimetype": "text/x-python",
   "name": "python",
   "nbconvert_exporter": "python",
   "pygments_lexer": "ipython2",
   "version": "2.7.9"
  }
 },
 "nbformat": 4,
 "nbformat_minor": 0
}
