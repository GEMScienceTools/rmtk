{
 "cells": [
  {
   "cell_type": "markdown",
   "metadata": {},
   "source": [
    "# Nonlinear Dynamic Procedure"
   ]
  },
  {
   "cell_type": "markdown",
   "metadata": {},
   "source": [
    "The user should change only section 1 \"Define Option\""
   ]
  },
  {
   "cell_type": "code",
   "execution_count": null,
   "metadata": {
    "collapsed": false
   },
   "outputs": [],
   "source": [
    "\"\"\"\n",
    "Created on Mon Jun  9 15:53:53 2014\n",
    "\n",
    "@author: chiaracasotto\n",
    "\"\"\"\n",
    "\n",
    "# Clear existing variables\n",
    "def clearall():\n",
    "    all = [var for var in globals() if var[0] != \"_\"]\n",
    "    for var in all:\n",
    "        del globals()[var]\n",
    "clearall()\n",
    "\n",
    "import numpy as np\n",
    "from rmtk.vulnerability.NDP.read_data import read_data\n",
    "from rmtk.vulnerability.NDP.fragility_process import fragility_process\n",
    "from rmtk.vulnerability.NDP.vulnerability_process import vulnerability_process\n",
    "from rmtk.vulnerability.common.export_vulnerability import export_vulnerability\n",
    "from rmtk.vulnerability.NDP.export_fragility import export_fragility"
   ]
  },
  {
   "cell_type": "markdown",
   "metadata": {},
   "source": [
    "## 1. Define Options"
   ]
  },
  {
   "cell_type": "markdown",
   "metadata": {},
   "source": [
    ">####in_type (input_type)\n",
    "0: input is 'dcm.csv', a Damage Count Matrix with number of buildings in each limit state <br />\n",
    "1: input is 'edp.csv', a matrix with engineering demand corresponding to IM of each dynamic analysis <br />"
   ]
  },
  {
   "cell_type": "code",
   "execution_count": null,
   "metadata": {
    "collapsed": false
   },
   "outputs": [],
   "source": [
    "in_type = 0"
   ]
  },
  {
   "cell_type": "markdown",
   "metadata": {},
   "source": [
    ">####vuln\n",
    "0: derive fragility curves <br />\n",
    "1: derive vulnerability curves from fragility curves <br />\n",
    "\n",
    ">####g\n",
    "value of g (gravity acceleration) expressed in the units used for the intensity measure\n",
    "\n",
    ">####iml\n",
    "array of intensity measure level used to discretise the fragility curves and get discrete vulnerability curves\n",
    ">####plotflag\n",
    "2 integers for each plot: fragility curves, vulenarbility curve\n",
    "1: plot <br />\n",
    "0: don't plot <br />\n",
    "\n",
    ">####IMlabel\n",
    "list of 1 strings defining the Intensity Measure on the x axis of the plots as ['m/s$^{2}$']\n",
    "Line width for plots\n",
    ">####fontsize\n",
    "Fontsize used for labels, graphs etc."
   ]
  },
  {
   "cell_type": "code",
   "execution_count": null,
   "metadata": {
    "collapsed": false
   },
   "outputs": [],
   "source": [
    "vuln = 1\n",
    "g = 981\n",
    "plotflag = [1, 1]\n",
    "iml = np.linspace(0.1, 2, 100)\n",
    "IMlabel = ['m/s$^{2}$']\n",
    "linew = 2\n",
    "fontsize = 14"
   ]
  },
  {
   "cell_type": "markdown",
   "metadata": {},
   "source": [
    "## 2. Read data from csv input file and Process data"
   ]
  },
  {
   "cell_type": "markdown",
   "metadata": {},
   "source": [
    "Obtain: damage count matrix, total number of buildings analysed, Intensity Measures of each record, number of Limit States\n",
    "plot_feature = [plotflag, linew, fontsize, IMlabel, iml]\n",
    "[dcm,totblg,im,noLS] = read_data(in_type)"
   ]
  },
  {
   "cell_type": "code",
   "execution_count": null,
   "metadata": {
    "collapsed": false
   },
   "outputs": [],
   "source": [
    "plot_feature = [plotflag, linew, fontsize, IMlabel, iml]\n",
    "[dcm,totblg,im,noLS] = read_data(in_type)"
   ]
  },
  {
   "cell_type": "markdown",
   "metadata": {},
   "source": [
    "## 3.a Derive Fragility"
   ]
  },
  {
   "cell_type": "markdown",
   "metadata": {},
   "source": [
    "ransfor Damage Count Matrix into matrix of probability of exceedance each damage"
   ]
  },
  {
   "cell_type": "code",
   "execution_count": null,
   "metadata": {
    "collapsed": false
   },
   "outputs": [],
   "source": [
    "[log_meanSa,log_stSa, FR, IML] = fragility_process(dcm,totblg,im,noLS,g)"
   ]
  },
  {
   "cell_type": "markdown",
   "metadata": {},
   "source": [
    "### 3.a.2 Plot and Export fragility"
   ]
  },
  {
   "cell_type": "code",
   "execution_count": null,
   "metadata": {
    "collapsed": false
   },
   "outputs": [],
   "source": [
    "if vuln == 0:\n",
    "    export_fragility(vuln, plot_feature, log_meanSa, log_stSa, IML, FR[:,0,:])"
   ]
  },
  {
   "cell_type": "markdown",
   "metadata": {},
   "source": [
    "## 3.b Derive Vulnerability curves from damage-to-loss ratios"
   ]
  },
  {
   "cell_type": "code",
   "execution_count": null,
   "metadata": {
    "collapsed": false
   },
   "outputs": [],
   "source": [
    "LR50 = vulnerability_process(vuln,iml,log_meanSa,log_stSa)"
   ]
  },
  {
   "cell_type": "markdown",
   "metadata": {},
   "source": [
    "### 3.b.2 Derive and export Vulnerability"
   ]
  },
  {
   "cell_type": "code",
   "execution_count": null,
   "metadata": {
    "collapsed": false
   },
   "outputs": [],
   "source": [
    "if vuln == 1:\n",
    "    export_vulnerability(vuln, plot_feature, LR50, 0)"
   ]
  }
 ],
 "metadata": {
  "kernelspec": {
   "display_name": "Python 2",
   "language": "python",
   "name": "python2"
  },
  "language_info": {
   "codemirror_mode": {
    "name": "ipython",
    "version": 2
   },
   "file_extension": ".py",
   "mimetype": "text/x-python",
   "name": "python",
   "nbconvert_exporter": "python",
   "pygments_lexer": "ipython2",
   "version": "2.7.9"
  }
 },
 "nbformat": 4,
 "nbformat_minor": 0
}
