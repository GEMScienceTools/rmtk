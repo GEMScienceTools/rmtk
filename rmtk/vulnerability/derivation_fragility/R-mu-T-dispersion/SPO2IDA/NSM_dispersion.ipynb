{
 "cells": [
  {
   "cell_type": "markdown",
   "metadata": {},
   "source": [
    "# Nonlinear Static Procedure with dispersion"
   ]
  },
  {
   "cell_type": "markdown",
   "metadata": {},
   "source": [
    "The user should change only section 1 \"Define Option\""
   ]
  },
  {
   "cell_type": "markdown",
   "metadata": {},
   "source": [
    "##Load capacity curves\n",
    "\n",
    "In order to use this methodology, it is necessary to provide one (or a group) of capacity curves, defined according to the format established on the [RMTK manual](../../../../../rmtk-docs.pdf). Please provide the location of the folder containing this input using the parameter input_folder."
   ]
  },
  {
   "cell_type": "code",
   "execution_count": null,
   "metadata": {
    "collapsed": true
   },
   "outputs": [],
   "source": []
  },
  {
   "cell_type": "code",
   "execution_count": 1,
   "metadata": {
    "collapsed": false
   },
   "outputs": [
    {
     "ename": "ImportError",
     "evalue": "No module named NSP.get_data",
     "output_type": "error",
     "traceback": [
      "\u001b[0;31m---------------------------------------------------------------------------\u001b[0m",
      "\u001b[0;31mImportError\u001b[0m                               Traceback (most recent call last)",
      "\u001b[0;32m<ipython-input-1-354534be9a53>\u001b[0m in \u001b[0;36m<module>\u001b[0;34m()\u001b[0m\n\u001b[1;32m     15\u001b[0m \u001b[0;32mimport\u001b[0m \u001b[0mnumpy\u001b[0m \u001b[0;32mas\u001b[0m \u001b[0mnp\u001b[0m\u001b[0;34m\u001b[0m\u001b[0m\n\u001b[1;32m     16\u001b[0m \u001b[0;32mimport\u001b[0m \u001b[0mos\u001b[0m\u001b[0;34m\u001b[0m\u001b[0m\n\u001b[0;32m---> 17\u001b[0;31m \u001b[0;32mfrom\u001b[0m \u001b[0mrmtk\u001b[0m\u001b[0;34m.\u001b[0m\u001b[0mvulnerability\u001b[0m\u001b[0;34m.\u001b[0m\u001b[0mNSP\u001b[0m\u001b[0;34m.\u001b[0m\u001b[0mget_data\u001b[0m \u001b[0;32mimport\u001b[0m \u001b[0mread_data\u001b[0m\u001b[0;34m\u001b[0m\u001b[0m\n\u001b[0m\u001b[1;32m     18\u001b[0m \u001b[0;32mfrom\u001b[0m \u001b[0mrmtk\u001b[0m\u001b[0;34m.\u001b[0m\u001b[0mvulnerability\u001b[0m\u001b[0;34m.\u001b[0m\u001b[0mNSP\u001b[0m\u001b[0;34m.\u001b[0m\u001b[0mfragility_process\u001b[0m \u001b[0;32mimport\u001b[0m \u001b[0mfragility_process\u001b[0m\u001b[0;34m\u001b[0m\u001b[0m\n\u001b[1;32m     19\u001b[0m \u001b[0;32mfrom\u001b[0m \u001b[0mrmtk\u001b[0m\u001b[0;34m.\u001b[0m\u001b[0mvulnerability\u001b[0m\u001b[0;34m.\u001b[0m\u001b[0mNSP\u001b[0m\u001b[0;34m.\u001b[0m\u001b[0mexport_fragility\u001b[0m \u001b[0;32mimport\u001b[0m \u001b[0mexport_fragility\u001b[0m\u001b[0;34m\u001b[0m\u001b[0m\n",
      "\u001b[0;31mImportError\u001b[0m: No module named NSP.get_data"
     ]
    }
   ],
   "source": [
    "\"\"\"\n",
    "Created on Tue May 13 18:04:57 2014\n",
    "\n",
    "@author: chiaracasotto\n",
    "\"\"\"\n",
    "# Clear existing variables\n",
    "def clearall():\n",
    "    all = [var for var in globals() if var[0] != \"_\"]\n",
    "    for var in all:\n",
    "        del globals()[var]\n",
    "clearall()\n",
    "\n",
    "# Import functions\n",
    "import matplotlib.pyplot as plt\n",
    "import numpy as np\n",
    "import os\n",
    "from rmtk.vulnerability.derivation_fragility.R-mu-T-dispersion.SPO2IDA.NSP.get_data import read_data\n",
    "from rmtk.vulnerability.NSP.fragility_process import fragility_process\n",
    "from rmtk.vulnerability.NSP.export_fragility import export_fragility\n",
    "from rmtk.vulnerability.common.export_vulnerability import export_vulnerability\n",
    "from rmtk.vulnerability.NSP.vulnerability_process import vulnerability_process\n",
    "\n",
    "pi = 3.141592653589793\n",
    "plt.close(\"all\")\n",
    "cd = os.getcwd()"
   ]
  },
  {
   "cell_type": "markdown",
   "metadata": {},
   "source": [
    "## 1. Define Options"
   ]
  },
  {
   "cell_type": "markdown",
   "metadata": {},
   "source": [
    ">####an_type (analysis type) <br />\n",
    "0: elastoplastic Pushover, inelastic displacement obtained from Ruiz-Garcia Miranda [1] <br />\n",
    "1: any pushover shape (bilinear, trilinear, quadrilinear) inelastic displacement obtained from spo2ida [2] <br />\n",
    "2: any pushover shape (bilinear, trilinear, quadrilinear) inelastic displacement obtained from Dolsek and Fajfar [3] <br />\n",
    "\n",
    ">####in_type (input_type)\n",
    "0: input is idealised pushover curve <br />\n",
    "1: input is pushover curve <br />\n",
    "\n",
    ">####idealised \n",
    "0: idealised pushover curve is not provided <br />\n",
    "1: idealised pushover curve is input <br />"
   ]
  },
  {
   "cell_type": "code",
   "execution_count": null,
   "metadata": {
    "collapsed": false
   },
   "outputs": [],
   "source": [
    "an_type = 0\n",
    "in_type = 1\n",
    "idealised = 0"
   ]
  },
  {
   "cell_type": "markdown",
   "metadata": {},
   "source": [
    ">####vuln\n",
    "0: derive fragility curves <br />\n",
    "1: derive vulnerability curves from fragility curves <br />\n",
    "####g\n",
    "Units of g compatible with T and displacement\n",
    "####iml\n",
    "Array of intensity measure level used to discretise the fragility curves and get discrete vulnerability curves"
   ]
  },
  {
   "cell_type": "code",
   "execution_count": null,
   "metadata": {
    "collapsed": false
   },
   "outputs": [],
   "source": [
    "vuln = 1\n",
    "g = 9.81\n",
    "iml = np.linspace(0.001,3.5,25)"
   ]
  },
  {
   "cell_type": "markdown",
   "metadata": {},
   "source": [
    ">####plotflag \n",
    "4 integers for each plot: idealised pushover curve, 16%-50%-84% ida curves, fragility curves, vulenarbility curve <br />\n",
    "1: plot <br />\n",
    "0: don't plot <br />\n",
    ">####linew\n",
    "Line width for plots\n",
    ">####fontsize\n",
    "Fontsize used for labels, graphs etc.\n",
    ">####units\n",
    "List of 3 strings defining the displacements, forces and Sa units as ['[kN]' '[m]' ['m/s^2]]"
   ]
  },
  {
   "cell_type": "code",
   "execution_count": null,
   "metadata": {
    "collapsed": false
   },
   "outputs": [],
   "source": [
    "plotflag = [0, 0, 1, 1]\n",
    "linew = 2\n",
    "fontsize = 10\n",
    "units = ['[m]', '[kN]', '[g]']"
   ]
  },
  {
   "cell_type": "markdown",
   "metadata": {},
   "source": [
    ">####N\n",
    "Number of points per segment of IDA curve derived with spo2ida (only spo2ida procedure)\n",
    ">####MC \n",
    "Number of Monte Carlo simulations to account for uncertainty in damage thresholds (only spo2ida procedure)\n",
    ">####Tc, Td\n",
    "Constant accel-constant velocity  and constant velocity-constant displacement corner periods of a Newmark-Hall type spectrum. Default\n",
    "values <br />\n",
    "Tc = 0.5 <br />\n",
    "Td = 1.8 <br />"
   ]
  },
  {
   "cell_type": "code",
   "execution_count": null,
   "metadata": {
    "collapsed": false
   },
   "outputs": [],
   "source": [
    "N = 10\n",
    "MC = 5\n",
    "Tc = 0.5\n",
    "Td = 1.8"
   ]
  },
  {
   "cell_type": "markdown",
   "metadata": {},
   "source": [
    "## 2. Read data from csv input file and Process data"
   ]
  },
  {
   "cell_type": "markdown",
   "metadata": {},
   "source": [
    "Obtain: First period, first modal participation factor, weights associated to each building, roof disp. at each limit state, idealised pushover parameters, dispersion in the limit states"
   ]
  },
  {
   "cell_type": "code",
   "execution_count": null,
   "metadata": {
    "collapsed": false
   },
   "outputs": [],
   "source": [
    "plot_feature = [plotflag, linew, fontsize, units, iml]\n",
    "[T, Gamma, w, EDPlim, dcroof, EDPvec, RDvec, SPO, bUthd, noBlg, Tav, Sa_ratios] = read_data(in_type,an_type,idealised,linew,fontsize,units,plotflag[0])"
   ]
  },
  {
   "cell_type": "markdown",
   "metadata": {},
   "source": [
    "## 3.a Derive Fragility and plot"
   ]
  },
  {
   "cell_type": "code",
   "execution_count": null,
   "metadata": {
    "collapsed": true
   },
   "outputs": [],
   "source": []
  },
  {
   "cell_type": "code",
   "execution_count": null,
   "metadata": {
    "collapsed": false
   },
   "outputs": [],
   "source": [
    "import RGM2007\n",
    "\n",
    "#damage_model = utils.read_damage_model('/Users/vitorsilva/Documents/GEM/git/gem/rmtk_data/damage_model.csv')\n",
    "\n",
    "[log_meanSa, log_stSa] = RGM2007.calculate_fragility(an_type, T, Gamma, w, EDPlim, dcroof, EDPvec, RDvec, SPO, bUthd, noBlg, g, MC, Sa_ratios, plot_feature, N, Tc, Td)\n",
    "#fragilty_model = ...\n",
    "#utils.plot_fragility_model(fragility_model,0.01,2)"
   ]
  },
  {
   "cell_type": "markdown",
   "metadata": {},
   "source": [
    "## 3.b Derive Vulnerability curves from damage-to-loss ratios and export Vulnerability"
   ]
  },
  {
   "cell_type": "code",
   "execution_count": null,
   "metadata": {
    "collapsed": false
   },
   "outputs": [],
   "source": [
    "if vuln == 1:\n",
    "    [LR50, bLR] = vulnerability_process(an_type, T, Gamma, w, EDPlim, dcroof, EDPvec, RDvec, SPO, bUthd, noBlg, g, MC, Sa_ratios, plot_feature, N, Tc, Td)\n",
    "    export_vulnerability(vuln, plot_feature, LR50, bLR)"
   ]
  }
 ],
 "metadata": {
  "kernelspec": {
   "display_name": "Python 2",
   "language": "python",
   "name": "python2"
  },
  "language_info": {
   "codemirror_mode": {
    "name": "ipython",
    "version": 2
   },
   "file_extension": ".py",
   "mimetype": "text/x-python",
   "name": "python",
   "nbconvert_exporter": "python",
   "pygments_lexer": "ipython2",
   "version": "2.7.10"
  }
 },
 "nbformat": 4,
 "nbformat_minor": 0
}
