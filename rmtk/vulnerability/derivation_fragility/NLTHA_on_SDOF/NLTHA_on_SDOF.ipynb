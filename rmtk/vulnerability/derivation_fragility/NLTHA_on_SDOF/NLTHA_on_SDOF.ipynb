{
 "cells": [
  {
   "cell_type": "markdown",
   "metadata": {},
   "source": [
    "# Non-Linear Time History Analysis (NLTHA) for Single Degree of Freedom (SDOF) Oscillators\n",
    "\n",
    "In this method, a single degree of freedom (SDOF) model of each structure is subjected to non-linear time history analysis (NLTHA) using a suite of ground motion records. The displacements of the SDOF due to each ground motion record are used as input to determine the distribution of buildings in each damage state for each level of ground motion intensity. A regression algorithm is then applied to derive the fragility model.\n",
    "\n",
    "The figure below illustrates a fragility model developed using this method.\n",
    "\n",
    "<img src=\"../../../../figures/NLTHA_SDOF.png\" width=\"400\" align=\"middle\">\n",
    "\n",
    "**Note**: To run the code in a cell:\n",
    "\n",
    "1. Click on the cell to select it.\n",
    "2. Press `SHIFT+ENTER` on your keyboard or press the play button (<button class='fa fa-play icon-play btn btn-xs btn-default'></button>) in the toolbar above."
   ]
  },
  {
   "cell_type": "code",
   "execution_count": 1,
   "metadata": {
    "collapsed": true
   },
   "outputs": [],
   "source": [
    "import NLTHA_on_SDOF\n",
    "from rmtk.vulnerability.common import utils\n",
    "%matplotlib inline "
   ]
  },
  {
   "cell_type": "markdown",
   "metadata": {
    "collapsed": false
   },
   "source": [
    "---\n",
    "###Load capacity curves\n",
    "\n",
    "In order to use this methodology, it is necessary to provide one (or a group) of capacity curves, defined according to the format described in the [RMTK manual](../../../../rmtk-docs.pdf).\n",
    "\n",
    "Please provide the location of the file containing the capacity curves using the parameter `capacity_curves_file`."
   ]
  },
  {
   "cell_type": "code",
   "execution_count": 15,
   "metadata": {
    "collapsed": true
   },
   "outputs": [],
   "source": [
    "capacity_curves_file = \"../../../../../rmtk_data/capacity_curve_Sa-Sd.csv\"\n",
    "#sdof_hysteresis = \"Default\"\n",
    "sdof_hysteresis = \"../../../../../rmtk_data/pinching_parameters.csv\""
   ]
  },
  {
   "cell_type": "code",
   "execution_count": 16,
   "metadata": {
    "collapsed": false
   },
   "outputs": [
    {
     "data": {
      "image/png": "[encoded data removed]",
      "text/plain": [
       "<matplotlib.figure.Figure at 0x10c9adb10>"
      ]
     },
     "metadata": {},
     "output_type": "display_data"
    }
   ],
   "source": [
    "capacity_curves = utils.read_capacity_curves(capacity_curves_file)\n",
    "utils.plot_capacity_curves(capacity_curves)\n",
    "if sdof_hysteresis is not \"Default\":\n",
    "    from read_pinching_parameters import read_parameters\n",
    "    hysteresis = read_parameters(sdof_hysteresis)\n",
    "else:\n",
    "    hysteresis = {}; hysteresis['type'] = \"Default\""
   ]
  },
  {
   "cell_type": "markdown",
   "metadata": {},
   "source": [
    "### Load ground motion records\n",
    "\n",
    "Please indicate the path to the folder containing the ground motion records to be used in the analysis through the parameter `gmrs_folder`.\n",
    "\n",
    "**Note**: Each accelerogram needs to be in a separate CSV file as described in the [RMTK manual](../../../../rmtk-docs.pdf).\n",
    "\n",
    "The parameters `minT` and `maxT` are used to define the period bounds when plotting the spectra for the provided ground motion fields."
   ]
  },
  {
   "cell_type": "code",
   "execution_count": 17,
   "metadata": {
    "collapsed": false,
    "scrolled": false
   },
   "outputs": [],
   "source": [
    "gmrs_folder = \"../../../../../rmtk_data/recs_trial\"\n",
    "minT, maxT = 0.1, 2.0\n",
    "\n",
    "gmrs = utils.read_gmrs(gmrs_folder)\n",
    "#utils.plot_response_spectra(gmrs, minT, maxT)"
   ]
  },
  {
   "cell_type": "markdown",
   "metadata": {},
   "source": [
    "###Load damage state thresholds\n",
    "\n",
    "Please provide the path to your damage model file using the parameter `damage_model_file` in the cell below.\n",
    "\n",
    "If the damage model type is `interstorey drift` the user can provide the pushover curve in terms of Vb-dfloor to be able to convert interstorey drift limit states to roof displacements and spectral displacements, otherwise a linear relationship is assumed. In the former case please provide the path to the pushover curve input file in the parameters `pushover_file`, in the latter set `pushover_file=\"Default\"`"
   ]
  },
  {
   "cell_type": "code",
   "execution_count": 18,
   "metadata": {
    "collapsed": true
   },
   "outputs": [],
   "source": [
    "damage_model_file = \"../../../../../rmtk_data/damage_model.csv\"\n",
    "damage_model = utils.read_damage_model(damage_model_file)\n",
    "\n",
    "pushover_file = \"../../../../../rmtk_data/capacity_curve_Vb-dfloor.csv\"\n",
    "\n",
    "if pushover_file is not \"Default\":\n",
    "    pushover_curves = utils.read_capacity_curves(pushover_file)\n",
    "else: pushover_curves = capacity_curves"
   ]
  },
  {
   "cell_type": "markdown",
   "metadata": {},
   "source": [
    "###Obtain the damage probability matrix\n",
    "\n",
    "The following parameters need to be defined in the cell below in order to calculate the damage probability matrix:\n",
    "1. `damping_ratio`: This parameter defines the damping ratio for the structure.\n",
    "2. `degradation`: This boolean parameter should be set to `True` or `False` to specify whether structural degradation should be considered in the analysis or not."
   ]
  },
  {
   "cell_type": "code",
   "execution_count": 7,
   "metadata": {
    "collapsed": true
   },
   "outputs": [],
   "source": [
    "damping_ratio = 0.05\n",
    "degradation = False"
   ]
  },
  {
   "cell_type": "code",
   "execution_count": 8,
   "metadata": {
    "collapsed": false
   },
   "outputs": [
    {
     "name": "stdout",
     "output_type": "stream",
     "text": [
      "100%\n",
      "[0.094, 0.31]\n"
     ]
    }
   ],
   "source": [
    "PDM, Sds = NLTHA_on_SDOF.calculate_fragility(capacity_curves, pushover_curves, hysteresis, gmrs, damage_model, damping_ratio, degradation)"
   ]
  },
  {
   "cell_type": "markdown",
   "metadata": {},
   "source": [
    "### Fit lognormal CDF fragility curves\n",
    "\n",
    "The following parameters need to be defined in the cell below in order to fit lognormal CDF fragility curves to the damage probability matrix obtained above:\n",
    "1. `IMT`: This parameter specifies the intensity measure type to be used. Currently supported options are \"PGA\", \"PGV\" and \"Sa\".\n",
    "2. `period`: This parameter defines the time period of the fundamental mode of vibration of the structure.\n",
    "3. `regression_method`: This parameter defines the regression method to be used for estimating the parameters of the fragility functions. The valid options are \"least squares\" and \"max likelihood\"."
   ]
  },
  {
   "cell_type": "code",
   "execution_count": 8,
   "metadata": {
    "collapsed": true
   },
   "outputs": [],
   "source": [
    "IMT = \"Sa\"\n",
    "period = 2.0\n",
    "regression_method = \"least squares\""
   ]
  },
  {
   "cell_type": "code",
   "execution_count": 9,
   "metadata": {
    "collapsed": true
   },
   "outputs": [],
   "source": [
    "fragility_model = utils.calculate_mean_fragility(gmrs, PDM, period, damping_ratio, \n",
    "                                                 IMT, damage_model, regression_method)"
   ]
  },
  {
   "cell_type": "markdown",
   "metadata": {},
   "source": [
    "### Plot fragility functions\n",
    "\n",
    "The following parameters need to be defined in the cell below in order to plot the lognormal CDF fragility curves obtained above:\n",
    "* `minIML` and `maxIML`: These parameters define the limits of the intensity measure level for plotting the functions"
   ]
  },
  {
   "cell_type": "code",
   "execution_count": 10,
   "metadata": {
    "collapsed": true
   },
   "outputs": [],
   "source": [
    "minIML, maxIML = 0.01, 2.00"
   ]
  },
  {
   "cell_type": "code",
   "execution_count": 11,
   "metadata": {
    "collapsed": false
   },
   "outputs": [
    {
     "data": {
      "image/png": "[encoded data removed]",
      "text/plain": [
       "<matplotlib.figure.Figure at 0x10a2e9690>"
      ]
     },
     "metadata": {},
     "output_type": "display_data"
    }
   ],
   "source": [
    "utils.plot_fragility_model(fragility_model, minIML, maxIML)"
   ]
  },
  {
   "cell_type": "markdown",
   "metadata": {},
   "source": [
    "### Save fragility functions\n",
    "\n",
    "The derived parametric fragility functions can be saved to a file in either CSV format or in the NRML format that is used by all OpenQuake input models. The following parameters need to be defined in the cell below in order to save the lognormal CDF fragility curves obtained above:\n",
    "1. `taxonomy`: This parameter specifies a taxonomy string for the the fragility functions.\n",
    "2. `minIML` and `maxIML`: These parameters define the bounds of applicability of the functions.\n",
    "3. `output_type`: This parameter specifies the file format to be used for saving the functions. Currently, the formats supported are \"csv\" and \"nrml\"."
   ]
  },
  {
   "cell_type": "code",
   "execution_count": 12,
   "metadata": {
    "collapsed": true
   },
   "outputs": [],
   "source": [
    "taxonomy = \"RC\"\n",
    "minIML, maxIML = 0.01, 2.00\n",
    "output_type = \"nrml\""
   ]
  },
  {
   "cell_type": "code",
   "execution_count": 13,
   "metadata": {
    "collapsed": false,
    "scrolled": false
   },
   "outputs": [],
   "source": [
    "utils.save_mean_fragility(taxonomy, fragility_model, minIML, maxIML, output_type)"
   ]
  },
  {
   "cell_type": "markdown",
   "metadata": {
    "collapsed": true
   },
   "source": [
    "### Obtain vulnerability function\n",
    "\n",
    "A vulnerability model can be derived by combining the set of fragility functions obtained above with a consequence model. In this process, the fractions of buildings in each damage state are multiplied by the associated damage ratio from the consequence model, in order to obtain a distribution of loss ratio for each intensity measure level. \n",
    "\n",
    "The following parameters need to be defined in the cell below in order to calculate vulnerability functions using the above derived fragility functions:\n",
    "1. `cons_model_file`: This parameter specifies the path of the consequence model file.\n",
    "2. `imls`: This parameter specifies a list of intensity measure levels in increasing order at which the distribution of loss ratios are required to be calculated.\n",
    "3. `distribution_type`: This parameter specifies the type of distribution to be used for calculating the vulnerability function. The distribution types currently supported are \"lognormal\", \"beta\", and \"PMF\"."
   ]
  },
  {
   "cell_type": "code",
   "execution_count": 14,
   "metadata": {
    "collapsed": true
   },
   "outputs": [],
   "source": [
    "cons_model_file = \"../../../../../rmtk_data/cons_model.csv\"\n",
    "imls = [0.05, 0.10, 0.15, 0.20, 0.25, 0.30, 0.35, 0.40, 0.45, 0.50, \n",
    "        0.60, 0.70, 0.80, 0.90, 1.00, 1.20, 1.40, 1.60, 1.80, 2.00, \n",
    "        2.20, 2.40, 2.60, 2.80, 3.00, 3.20, 3.40, 3.60, 3.80, 4.00]\n",
    "distribution_type = \"lognormal\""
   ]
  },
  {
   "cell_type": "code",
   "execution_count": 15,
   "metadata": {
    "collapsed": false
   },
   "outputs": [],
   "source": [
    "cons_model = utils.read_consequence_model(cons_model_file)\n",
    "vulnerability_model = utils.convert_fragility_vulnerability(fragility_model, cons_model, \n",
    "                                                            imls, distribution_type)"
   ]
  },
  {
   "cell_type": "markdown",
   "metadata": {},
   "source": [
    "### Plot vulnerability function"
   ]
  },
  {
   "cell_type": "code",
   "execution_count": 16,
   "metadata": {
    "collapsed": false
   },
   "outputs": [
    {
     "data": {
      "image/png": "[encoded data removed]",
      "text/plain": [
       "<matplotlib.figure.Figure at 0x10e656ad0>"
      ]
     },
     "metadata": {},
     "output_type": "display_data"
    }
   ],
   "source": [
    "utils.plot_vulnerability_model(vulnerability_model)"
   ]
  },
  {
   "cell_type": "markdown",
   "metadata": {},
   "source": [
    "### Save vulnerability function\n",
    "\n",
    "The derived parametric or nonparametric vulnerability function can be saved to a file in either CSV format or in the NRML format that is used by all OpenQuake input models. The following parameters need to be defined in the cell below in order to save the lognormal CDF fragility curves obtained above:\n",
    "1. `taxonomy`: This parameter specifies a taxonomy string for the the fragility functions.\n",
    "3. `output_type`: This parameter specifies the file format to be used for saving the functions. Currently, the formats supported are \"csv\" and \"nrml\"."
   ]
  },
  {
   "cell_type": "code",
   "execution_count": 17,
   "metadata": {
    "collapsed": true
   },
   "outputs": [],
   "source": [
    "taxonomy = \"RC\"\n",
    "output_type = \"nrml\""
   ]
  },
  {
   "cell_type": "code",
   "execution_count": null,
   "metadata": {
    "collapsed": false
   },
   "outputs": [],
   "source": [
    "utils.save_vulnerability(taxonomy, vulnerability_model, output_type)"
   ]
  }
 ],
 "metadata": {
  "kernelspec": {
   "display_name": "Python 2",
   "language": "python",
   "name": "python2"
  },
  "language_info": {
   "codemirror_mode": {
    "name": "ipython",
    "version": 2
   },
   "file_extension": ".py",
   "mimetype": "text/x-python",
   "name": "python",
   "nbconvert_exporter": "python",
   "pygments_lexer": "ipython2",
   "version": "2.7.10"
  }
 },
 "nbformat": 4,
 "nbformat_minor": 0
}
