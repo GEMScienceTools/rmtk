{
 "cells": [
  {
   "cell_type": "markdown",
   "metadata": {},
   "source": [
    "# Double Multiple Stripe Analysis (2MSA) for Single Degree of Freedom (SDOF) Oscillators"
   ]
  },
  {
   "cell_type": "markdown",
   "metadata": {},
   "source": [
    "<img src=\"../../../../figures/intact-damaged.jpg\" width=\"500\" align=\"middle\">"
   ]
  },
  {
   "cell_type": "code",
   "execution_count": 1,
   "metadata": {
    "collapsed": true
   },
   "outputs": [],
   "source": [
    "from rmtk.vulnerability.common import utils\n",
    "import double_MSA_on_SDOF\n",
    "import numpy\n",
    "from rmtk.vulnerability.derivation_fragility.NLTHA_on_SDOF.read_pinching_parameters import read_parameters\n",
    "import MSA_utils\n",
    "%matplotlib inline"
   ]
  },
  {
   "cell_type": "markdown",
   "metadata": {},
   "source": [
    "---\n",
    "### Load capacity curves\n",
    "\n",
    "In order to use this methodology, it is necessary to provide one (or a group) of capacity curves, defined according to the format described in the [RMTK manual](../../../../rmtk-docs.pdf).\n",
    "\n",
    "Please provide the location of the file containing the capacity curves using the parameter `capacity_curves_file`.\n",
    "\n",
    "If the User wants to specify the cyclic hysteretic behaviour of the SDOF system, please input the path of the file where the hysteretic parameters are contained, using the variable `sdof_hysteresis`. The parameters should be defined according to the format described in the [RMTK manual](../../../../rmtk-docs.pdf). If instead default parameters want to be assumed, please set the `sdof_hysteresis` variable to `\"Default\"`"
   ]
  },
  {
   "cell_type": "code",
   "execution_count": 2,
   "metadata": {
    "collapsed": false
   },
   "outputs": [
    {
     "data": {
      "image/png": "[encoded data removed]",
      "text/plain": [
       "<matplotlib.figure.Figure at 0x114fb7e10>"
      ]
     },
     "metadata": {},
     "output_type": "display_data"
    }
   ],
   "source": [
    "capacity_curves_file = '/Users/chiaracasotto/GitHub/phd_thesis/capacity_curves_Sd-Sa.csv'\n",
    "sdof_hysteresis = \"/Users/chiaracasotto/GitHub/phd_thesis/pinching_parameters.csv\"\n",
    "\n",
    "capacity_curves = utils.read_capacity_curves(capacity_curves_file)\n",
    "utils.plot_capacity_curves(capacity_curves)\n",
    "hysteresis = read_parameters(sdof_hysteresis)"
   ]
  },
  {
   "cell_type": "markdown",
   "metadata": {},
   "source": [
    "### Load ground motion records\n",
    "For what concerns the ground motions to be used in the Double Multiple Stripe Analysis the following inputs are required:\n",
    " 1. `gmrs_folder`: path to the folder containing the ground motion records to be used in the analysis. Each accelerogram needs to be in a separate CSV file as described in the [RMTK manual](../../../../rmtk-docs.pdf).\n",
    " 2. `record_scaled_folder`. In this folder there should be a csv file for each Intensity Measure bin selected for the MSA, containing the names of the records that should be scaled to that IM bin, and the corresponding scaling factors. An example of this type of file is provided in the [RMTK manual](../../../../rmtk-docs.pdf).\n",
    " 3. `no_bins`: number of Intensity Measure bins.\n",
    " 4. `no_rec_bin`: number of records per bin\n",
    " 5. `number_models_in_DS`: the number of model to populate each initial damage state with.\n",
    "\n",
    "If a certain relationship wants to be kept between the ground motion characteristics of the mainshock and the aftershock, the variable `filter_aftershocks` should be set to `TRUE` and the following parameters should be defined:\n",
    " 1. `Mw_multiplier`: the ratio between the aftershock magnitude and the mainshock magnitude.\n",
    " 2. `waveform_path`: the path to the file containing for each gmr magnitude and predominant period;\n",
    "Otherwise the variable `filter_aftershocks` should be set to `FALSE` and the aforementioned parameters can be left empty.\n",
    " \n",
    "If the user wants to plot acceleration, displacement and velocity response spectra, the function `utils.plot_response_spectra(gmrs, minT, maxT)` should be un-commented. The parameters `minT` and `maxT` are used to define the period bounds when plotting the spectra for the provided ground motion fields."
   ]
  },
  {
   "cell_type": "code",
   "execution_count": 3,
   "metadata": {
    "collapsed": true
   },
   "outputs": [],
   "source": [
    "gmrs_folder = '../../../../../rmtk_data/MSA_records'\n",
    "number_models_in_DS = 1\n",
    "no_bins = 2\n",
    "no_rec_bin = 10\n",
    "damping_ratio = 0.05\n",
    "minT = 0.1\n",
    "maxT = 2\n",
    "\n",
    "filter_aftershocks = 'FALSE'\n",
    "Mw_multiplier = 0.92\n",
    "waveform_path = '../../../../../phd_thesis/waveform.csv'\n",
    "\n",
    "gmrs = utils.read_gmrs(gmrs_folder)\n",
    "gmr_characteristics = MSA_utils.assign_Mw_Tg(waveform_path, gmrs, Mw_multiplier, \n",
    "                                                   damping_ratio, filter_aftershocks)\n",
    "#utils.plot_response_spectra(gmrs,minT,maxT)"
   ]
  },
  {
   "cell_type": "markdown",
   "metadata": {},
   "source": [
    "### Load damage state thresholds\n",
    "\n",
    "Please provide the path to your damage model file using the parameter `damage_model_file` in the cell below.\n",
    "\n",
    "Currently the user can provide `spectral displacement`, `capacity curve dependent` and `interstorey drift` damage model type.\n",
    "If the damage model type is `interstorey drift` the user has to input interstorey drift values of the MDOF system. The user can then provide the pushover curve in terms of `Vb-dfloor` to be able to convert interstorey drift limit states to roof displacements and spectral displacements of the SDOF system, otherwise a linear relationship is assumed."
   ]
  },
  {
   "cell_type": "code",
   "execution_count": 4,
   "metadata": {
    "collapsed": false
   },
   "outputs": [],
   "source": [
    "damage_model_file = \"/Users/chiaracasotto/GitHub/phd_thesis/damage_model_ISD.csv\"\n",
    "\n",
    "damage_model = utils.read_damage_model(damage_model_file)"
   ]
  },
  {
   "cell_type": "markdown",
   "metadata": {},
   "source": [
    "### Calculate fragility function\n",
    "\n",
    "In order to obtain the fragility model, it is necessary to input the location of the damage model (`damage_model`), using the format described in the [RMTK manual](../../../../../rmtk-docs.pdf). It is as well necessary to input the damping value of the structure(s) under analysis and the value of the period (T) to be considered in the regression analysis. The method allows to consider or not degradation. Finally, if desired, it is possible to save the resulting fragility model in a .csv file.  "
   ]
  },
  {
   "cell_type": "code",
   "execution_count": 5,
   "metadata": {
    "collapsed": false
   },
   "outputs": [
    {
     "name": "stdout",
     "output_type": "stream",
     "text": [
      "100%\n",
      "Initial DS= 1\n",
      "records_target1.csv\n",
      "gmr n. 1 max disp. = 0.0208554 DS = 0\n",
      "gmr n. 2 max disp. = 0.0202256 DS = 0\n",
      "gmr n. 3 max disp. = 0.0180374 DS = 0\n",
      "gmr n. 4 max disp. = 0.0155886 DS = 0\n",
      "gmr n. 5 max disp. = 0.015386 DS = 0\n",
      "gmr n. 6 max disp. = 0.0276796 DS = 0\n",
      "gmr n. 7 max disp. = 0.0185962 DS = 0\n",
      "gmr n. 8 max disp. = 0.0156193 DS = 0\n",
      "gmr n. 9 max disp. = 0.0173107 DS = 0\n",
      "gmr n. 10 max disp. = 0.0196917 DS = 0\n",
      "records_target10.csv\n",
      "gmr n. 11 max disp. = 0.171101 DS = 2\n",
      "gmr n. 12 max disp. = 0.257631 DS = 3\n",
      "gmr n. 13 max disp. = 0.172298 DS = 2\n",
      "gmr n. 14 max disp. = 0.155495 DS = 2\n",
      "gmr n. 15 max disp. = 0.16947 DS = 2\n",
      "gmr n. 16 max disp. = 0.0812794 DS = 2\n",
      "gmr n. 17 max disp. = 0.3669 DS = 3\n",
      "gmr n. 18 max disp. = 0.48443 DS = 3\n",
      "gmr n. 19 max disp. = 0.103032 DS = 2\n",
      "gmr n. 20 max disp. = 0.336214 DS = 3\n",
      "Initial DS= 2\n",
      "records_target1.csv\n",
      "gmr n. 21 max disp. = 0.0453677 DS = 1\n",
      "gmr n. 22 max disp. = 0.0350112 DS = 1\n",
      "gmr n. 23 max disp. = 0.0390824 DS = 1\n",
      "gmr n. 24 max disp. = 0.0328368 DS = 1\n",
      "gmr n. 25 max disp. = 0.0430113 DS = 1\n",
      "gmr n. 26 max disp. = 0.0475396 DS = 1\n",
      "gmr n. 27 max disp. = 0.0400171 DS = 1\n",
      "gmr n. 28 max disp. = 0.0351376 DS = 1\n",
      "gmr n. 29 max disp. = 0.0342645 DS = 1\n",
      "gmr n. 30 max disp. = 0.0339109 DS = 1\n",
      "records_target10.csv\n",
      "gmr n. 31 max disp. = 0.192787 DS = 3\n",
      "gmr n. 32 max disp. = 0.193334 DS = 3\n",
      "gmr n. 33 max disp. = 0.180359 DS = 2\n",
      "gmr n. 34 max disp. = 0.240702 DS = 3\n",
      "gmr n. 35 max disp. = 0.144591 DS = 2\n",
      "gmr n. 36 max disp. = 0.108003 DS = 2\n",
      "gmr n. 37 max disp. = 0.276004 DS = 3\n",
      "gmr n. 38 max disp. = 0.388705 DS = 3\n",
      "gmr n. 39 max disp. = 0.0921862 DS = 2\n",
      "gmr n. 40 max disp. = 0.253967 DS = 3\n"
     ]
    }
   ],
   "source": [
    "degradation = False\n",
    "record_scaled_folder = \"../../../../../phd_thesis/Scaling_Sa_4storey_EC8_v3_rmtk\"\n",
    "\n",
    "msa = MSA_utils.define_2MSA_parameters(no_bins,no_rec_bin,record_scaled_folder,filter_aftershocks)\n",
    "PDM, Sds, gmr_info = double_MSA_on_SDOF.calculate_fragility(\n",
    "                        capacity_curves, hysteresis, msa, gmrs, gmr_characteristics,\n",
    "                        damage_model, damping_ratio,degradation, number_models_in_DS)"
   ]
  },
  {
   "cell_type": "markdown",
   "metadata": {},
   "source": [
    "### Fit lognormal CDF fragility curves\n",
    "\n",
    "The following parameters need to be defined in the cell below in order to fit lognormal CDF fragility curves to the damage probability matrix obtained above:\n",
    "1. `IMT`: This parameter specifies the intensity measure type to be used. Currently supported options are `\"PGA\"`, `\"Sa\"`,`\"Sd\"` and `\"HI\"` (Housner Intensity).\n",
    "2. `period`: This parameter defines the period for which a spectral intensity measure should be computed. If Housner Intensity is selected as intensity measure a range of periods should be defined instead (for example `T=np.arange(0.3,3.61,0.01)`).\n",
    "3. `regression_method`: This parameter defines the regression method to be used for estimating the parameters of the fragility functions. The valid options are `\"least squares\"` and `\"max likelihood\"`."
   ]
  },
  {
   "cell_type": "code",
   "execution_count": 6,
   "metadata": {
    "collapsed": false
   },
   "outputs": [
    {
     "name": "stdout",
     "output_type": "stream",
     "text": [
      "Optimization terminated successfully.\n",
      "         Current function value: -0.000000\n",
      "         Iterations: 24\n",
      "         Function evaluations: 66\n",
      "Optimization terminated successfully.\n",
      "         Current function value: -0.000000\n",
      "         Iterations: 24\n",
      "         Function evaluations: 66\n",
      "Warning: Maximum number of function evaluations has been exceeded.\n",
      "Optimization terminated successfully.\n",
      "         Current function value: -0.000000\n",
      "         Iterations: 60\n",
      "         Function evaluations: 127\n",
      "Optimization terminated successfully.\n",
      "         Current function value: -0.000000\n",
      "         Iterations: 24\n",
      "         Function evaluations: 66\n",
      "Warning: Maximum number of function evaluations has been exceeded.\n"
     ]
    },
    {
     "name": "stderr",
     "output_type": "stream",
     "text": [
      "/opt/local/Library/Frameworks/Python.framework/Versions/2.7/lib/python2.7/site-packages/scipy/stats/distributions.py:7184: RuntimeWarning: invalid value encountered in greater_equal\n",
      "  return (n >= 0) & (p >= 0) & (p <= 1)\n",
      "/opt/local/Library/Frameworks/Python.framework/Versions/2.7/lib/python2.7/site-packages/scipy/stats/distributions.py:7184: RuntimeWarning: invalid value encountered in less_equal\n",
      "  return (n >= 0) & (p >= 0) & (p <= 1)\n"
     ]
    }
   ],
   "source": [
    "IMT = 'Sa'\n",
    "T = 0.47\n",
    "#T = numpy.arange(0.4,1.91,0.01)\n",
    "regression_method = 'max likelihood'\n",
    "        \n",
    "fragility_model = MSA_utils.calculate_fragility_model_damaged( PDM,gmrs,gmr_info,IMT,msa,damage_model,\n",
    "                                                                        T,damping_ratio, regression_method)"
   ]
  },
  {
   "cell_type": "markdown",
   "metadata": {},
   "source": [
    "### Plot fragility functions\n",
    "\n",
    "The following parameters need to be defined in the cell below in order to plot the lognormal CDF fragility curves obtained above:\n",
    "* `minIML` and `maxIML`: These parameters define the limits of the intensity measure level for plotting the functions"
   ]
  },
  {
   "cell_type": "code",
   "execution_count": 7,
   "metadata": {
    "collapsed": false
   },
   "outputs": [
    {
     "data": {
      "image/png": "[encoded data removed]",
      "text/plain": [
       "<matplotlib.figure.Figure at 0x115177dd0>"
      ]
     },
     "metadata": {},
     "output_type": "display_data"
    },
    {
     "data": {
      "image/png": "[encoded data removed]",
      "text/plain": [
       "<matplotlib.figure.Figure at 0x117d9f110>"
      ]
     },
     "metadata": {},
     "output_type": "display_data"
    }
   ],
   "source": [
    "minIML, maxIML = 0.01, 4\n",
    "\n",
    "MSA_utils.plot_fragility_model(fragility_model,damage_model,minIML, maxIML)"
   ]
  },
  {
   "cell_type": "markdown",
   "metadata": {},
   "source": [
    "### Save fragility functions\n",
    " \n",
    "The derived parametric fragility functions can be saved to a file in either CSV format or in the NRML format that is used by all OpenQuake input models. The following parameters need to be defined in the cell below in order to save the lognormal CDF fragility curves obtained above:\n",
    " 1. `taxonomy`: This parameter specifies a taxonomy string for the the fragility functions.\n",
    " 2. `minIML` and `maxIML`: These parameters define the bounds of applicability of the functions.\n",
    " 3. `output_type`: This parameter specifies the file format to be used for saving the functions. Currently, the formats supported are \"csv\" and \"nrml\"."
   ]
  },
  {
   "cell_type": "code",
   "execution_count": 8,
   "metadata": {
    "collapsed": false
   },
   "outputs": [],
   "source": [
    "output_type = \"csv\"\n",
    "output_path = \"../../../../../rmtk_data/\"\n",
    "minIML, maxIML = 0.01, 4\n",
    "tax = 't'\n",
    "\n",
    "MSA_utils.save_mean_fragility(fragility_model,damage_model,tax,output_type,output_path,minIML, maxIML)"
   ]
  },
  {
   "cell_type": "code",
   "execution_count": null,
   "metadata": {
    "collapsed": true
   },
   "outputs": [],
   "source": []
  }
 ],
 "metadata": {
  "kernelspec": {
   "display_name": "Python 2",
   "language": "python",
   "name": "python2"
  },
  "language_info": {
   "codemirror_mode": {
    "name": "ipython",
    "version": 2
   },
   "file_extension": ".py",
   "mimetype": "text/x-python",
   "name": "python",
   "nbconvert_exporter": "python",
   "pygments_lexer": "ipython2",
   "version": "2.7.10"
  }
 },
 "nbformat": 4,
 "nbformat_minor": 0
}
