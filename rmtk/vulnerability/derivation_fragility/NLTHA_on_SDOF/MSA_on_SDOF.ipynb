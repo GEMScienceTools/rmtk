{
 "cells": [
  {
   "cell_type": "markdown",
   "metadata": {},
   "source": [
    "# Multiple Stripe Analysis (MSA) for Single Degree of Freedom (SDOF) Oscillators\n",
    "\n",
    "In this method, a single degree of freedom (SDOF) model of each structure is subjected to non-linear time history analysis using a suite of ground motion records scaled to multple stripes of intensity measure. The displacements of the SDOF due to each ground motion record are used as input to determine the distribution of buildings in each damage state for each level of ground motion intensity. A regression algorithm is then applied to derive the fragility model.\n",
    "\n",
    "The figure below illustrates a fragility model developed using this method.\n",
    "\n",
    "<img src=\"../../../../figures/NLTHA_SDOF.png\" width=\"400\" align=\"middle\">\n",
    "\n",
    "**Note**: To run the code in a cell:\n",
    "\n",
    "1. Click on the cell to select it.\n",
    "2. Press `SHIFT+ENTER` on your keyboard or press the play button (<button class='fa fa-play icon-play btn btn-xs btn-default'></button>) in the toolbar above."
   ]
  },
  {
   "cell_type": "code",
   "execution_count": 1,
   "metadata": {
    "collapsed": false
   },
   "outputs": [],
   "source": [
    "import MSA_on_SDOF\n",
    "from rmtk.vulnerability.common import utils\n",
    "import numpy as np\n",
    "%matplotlib inline "
   ]
  },
  {
   "cell_type": "markdown",
   "metadata": {},
   "source": [
    "---\n",
    "### Load capacity curves\n",
    "\n",
    "In order to use this methodology, it is necessary to provide one (or a group) of capacity curves, defined according to the format described in the [RMTK manual](../../../../rmtk-docs.pdf).\n",
    "\n",
    "Please provide the location of the file containing the capacity curves using the parameter `capacity_curves_file`.\n",
    "\n",
    "If the User wants to specify the cyclic hysteretic behaviour of the SDOF system, please input the path of the file where the hysteretic parameters are contained, using the variable `sdof_hysteresis`. The parameters should be defined according to the format described in the [RMTK manual](../../../../rmtk-docs.pdf). If instead default parameters want to be assumed, please set the `sdof_hysteresis` variable to `\"Default\"`"
   ]
  },
  {
   "cell_type": "code",
   "execution_count": 2,
   "metadata": {
    "collapsed": true
   },
   "outputs": [],
   "source": [
    "capacity_curves_file = \"../../../../../rmtk_data/capacity_curves_Sd-Sa.csv\"\n",
    "#sdof_hysteresis = \"Default\"\n",
    "sdof_hysteresis = \"../../../../../rmtk_data/pinching_parameters.csv\""
   ]
  },
  {
   "cell_type": "code",
   "execution_count": 3,
   "metadata": {
    "collapsed": false
   },
   "outputs": [
    {
     "data": {
      "image/png": "[encoded data removed]",
      "text/plain": [
       "<matplotlib.figure.Figure at 0x107d028d0>"
      ]
     },
     "metadata": {},
     "output_type": "display_data"
    }
   ],
   "source": [
    "from read_pinching_parameters import read_parameters\n",
    "\n",
    "capacity_curves = utils.read_capacity_curves(capacity_curves_file)\n",
    "utils.plot_capacity_curves(capacity_curves)\n",
    "hysteresis = read_parameters(sdof_hysteresis)"
   ]
  },
  {
   "cell_type": "markdown",
   "metadata": {},
   "source": [
    "### Load ground motion records\n",
    "For what concerns the ground motions to be used in th Multiple Stripe Analysis the following inputs are required:\n",
    " 1. `gmrs_folder`: path to the folder containing the ground motion records to be used in the analysis. Each accelerogram needs to be in a separate CSV file as described in the [RMTK manual](../../../../rmtk-docs.pdf).\n",
    " 2. `record_scaled_folder`. In this folder there should be a csv file for each Intensity Measure bin selected for the MSA, containing the names of the records that should be scaled to that IM bin, and the corresponding scaling factors. An example of this type of file is provided in the [RMTK manual](../../../../rmtk-docs.pdf).\n",
    " 3. `no_bins`: number of Intensity Measure bins.\n",
    " 4. `no_rec_bin`: number of records per bin\n",
    "\n",
    "If the user wants to plot acceleration, displacement and velocity response spectra, the function `utils.plot_response_spectra(gmrs, minT, maxT)` should be un-commented. The parameters `minT` and `maxT` are used to define the period bounds when plotting the spectra for the provided ground motion fields."
   ]
  },
  {
   "cell_type": "code",
   "execution_count": 4,
   "metadata": {
    "collapsed": false
   },
   "outputs": [],
   "source": [
    "gmrs_folder = \"../../../../../rmtk_data/SYMBAD\"\n",
    "minT, maxT = 0.1, 2.0\n",
    "\n",
    "gmrs = utils.read_gmrs(gmrs_folder)\n",
    "#utils.plot_response_spectra(gmrs, minT, maxT)\n",
    "\n",
    "no_bins = 10\n",
    "no_rec_bin = 30\n",
    "record_scaled_folder = \"../../../../../rmtk_data/Records_scaled\""
   ]
  },
  {
   "cell_type": "markdown",
   "metadata": {},
   "source": [
    "### Load damage state thresholds\n",
    "\n",
    "Please provide the path to your damage model file using the parameter `damage_model_file` in the cell below.\n",
    "\n",
    "Currently the user can provide `spectral displacement`, `capacity curve dependent` and `interstorey drift` damage model type.\n",
    "If the damage model type is `interstorey drift` the user has to input interstorey drift values of the MDOF system. The user can then provide the pushover curve in terms of `Vb-dfloor` to be able to convert interstorey drift limit states to roof displacements and spectral displacements of the SDOF system, otherwise a linear relationship is assumed. In the former case please provide the path to the pushover curve input file in the parameters `pushover_file`, in the latter set `pushover_file=\"Default\"`"
   ]
  },
  {
   "cell_type": "code",
   "execution_count": 5,
   "metadata": {
    "collapsed": false
   },
   "outputs": [],
   "source": [
    "damage_model_file = \"../../../../../rmtk_data/damage_model_ISD.csv\"\n",
    "\n",
    "damage_model = utils.read_damage_model(damage_model_file)"
   ]
  },
  {
   "cell_type": "markdown",
   "metadata": {},
   "source": [
    "### Obtain the damage probability matrix\n",
    "\n",
    "The following parameters need to be defined in the cell below in order to calculate the damage probability matrix:\n",
    "1. `damping_ratio`: This parameter defines the damping ratio for the structure.\n",
    "2. `degradation`: This boolean parameter should be set to `True` or `False` to specify whether structural degradation should be considered in the analysis or not."
   ]
  },
  {
   "cell_type": "code",
   "execution_count": 6,
   "metadata": {
    "collapsed": false
   },
   "outputs": [
    {
     "name": "stdout",
     "output_type": "stream",
     "text": [
      "100%\n",
      "records_target1.csv\n",
      "gmr n. 1 max disp. = 0.00804012 DS = 0\n",
      "gmr n. 2 max disp. = 0.0142407 DS = 0\n",
      "gmr n. 3 max disp. = 0.0127882 DS = 0\n",
      "gmr n. 4 max disp. = 0.0190404 DS = 0\n",
      "gmr n. 5 max disp. = 0.035212 DS = 0\n",
      "gmr n. 6 max disp. = 0.0476363 DS = 0\n",
      "gmr n. 7 max disp. = 0.0163531 DS = 0\n",
      "gmr n. 8 max disp. = 0.0195501 DS = 0\n",
      "gmr n. 9 max disp. = 0.0217917 DS = 0\n",
      "gmr n. 10 max disp. = 0.0296046 DS = 0\n",
      "gmr n. 11 max disp. = 0.0140053 DS = 0\n",
      "gmr n. 12 max disp. = 0.0333682 DS = 0\n",
      "gmr n. 13 max disp. = 0.00869235 DS = 0\n",
      "gmr n. 14 max disp. = 0.0320045 DS = 0\n",
      "gmr n. 15 max disp. = 0.021748 DS = 0\n",
      "gmr n. 16 max disp. = 0.0285094 DS = 0\n",
      "gmr n. 17 max disp. = 0.0352228 DS = 0\n",
      "gmr n. 18 max disp. = 0.0346089 DS = 0\n",
      "gmr n. 19 max disp. = 0.0258451 DS = 0\n",
      "gmr n. 20 max disp. = 0.0287681 DS = 0\n",
      "gmr n. 21 max disp. = 0.0304399 DS = 0\n",
      "gmr n. 22 max disp. = 0.0259762 DS = 0\n",
      "gmr n. 23 max disp. = 0.0326322 DS = 0\n",
      "gmr n. 24 max disp. = 0.0221915 DS = 0\n",
      "gmr n. 25 max disp. = 0.0223694 DS = 0\n",
      "gmr n. 26 max disp. = 0.0313793 DS = 0\n",
      "gmr n. 27 max disp. = 0.0183653 DS = 0\n",
      "gmr n. 28 max disp. = 0.0219518 DS = 0\n",
      "gmr n. 29 max disp. = 0.0281419 DS = 0\n",
      "gmr n. 30 max disp. = 0.0268708 DS = 0\n",
      "records_target10.csv\n",
      "gmr n. 31 max disp. = 0.529205 DS = 3\n",
      "gmr n. 32 max disp. = 0.473061 DS = 3\n",
      "gmr n. 33 max disp. = 0.532497 DS = 3\n",
      "gmr n. 34 max disp. = 0.279005 DS = 3\n",
      "gmr n. 35 max disp. = 0.433947 DS = 3\n",
      "gmr n. 36 max disp. = 0.583556 DS = 3\n",
      "gmr n. 37 max disp. = 0.534674 DS = 3\n",
      "gmr n. 38 max disp. = 0.458982 DS = 3\n",
      "gmr n. 39 max disp. = 0.496232 DS = 3\n",
      "gmr n. 40 max disp. = 0.877127 DS = 3\n",
      "gmr n. 41 max disp. = 0.657449 DS = 3\n",
      "gmr n. 42 max disp. = 0.748623 DS = 3\n",
      "gmr n. 43 max disp. = 0.270458 DS = 2\n",
      "gmr n. 44 max disp. = 0.596867 DS = 3\n",
      "gmr n. 45 max disp. = 1.07234 DS = 3\n",
      "gmr n. 46 max disp. = 1.06373 DS = 3\n",
      "gmr n. 47 max disp. = 0.960735 DS = 3\n",
      "gmr n. 48 max disp. = 0.52094 DS = 3\n",
      "gmr n. 49 max disp. = 0.984668 DS = 3\n",
      "gmr n. 50 max disp. = 0.896543 DS = 3\n",
      "gmr n. 51 max disp. = 0.568761 DS = 3\n",
      "gmr n. 52 max disp. = 0.299579 DS = 3\n",
      "gmr n. 53 max disp. = 0.928854 DS = 3\n",
      "gmr n. 54 max disp. = 0.517971 DS = 3\n",
      "gmr n. 55 max disp. = 0.657299 DS = 3\n",
      "gmr n. 56 max disp. = 0.502293 DS = 3\n",
      "gmr n. 57 max disp. = 0.631853 DS = 3\n",
      "gmr n. 58 max disp. = 2.11918 DS = 3\n",
      "gmr n. 59 max disp. = 0.514461 DS = 3\n",
      "gmr n. 60 max disp. = 0.334434 DS = 3\n",
      "records_target2.csv\n",
      "gmr n. 61 max disp. = 0.0562367 DS = 0\n",
      "gmr n. 62 max disp. = 0.090522 DS = 1\n",
      "gmr n. 63 max disp. = 0.0522389 DS = 0\n",
      "gmr n. 64 max disp. = 0.0479845 DS = 0\n",
      "gmr n. 65 max disp. = 0.101322 DS = 1\n",
      "gmr n. 66 max disp. = 0.0861486 DS = 1\n",
      "gmr n. 67 max disp. = 0.0574009 DS = 0\n",
      "gmr n. 68 max disp. = 0.0599548 DS = 1\n",
      "gmr n. 69 max disp. = 0.065751 DS = 1\n",
      "gmr n. 70 max disp. = 0.0446645 DS = 0\n",
      "gmr n. 71 max disp. = 0.0798404 DS = 1\n",
      "gmr n. 72 max disp. = 0.0769197 DS = 1\n",
      "gmr n. 73 max disp. = 0.111552 DS = 1\n",
      "gmr n. 74 max disp. = 0.0364894 DS = 0\n",
      "gmr n. 75 max disp. = 0.0839262 DS = 1\n",
      "gmr n. 76 max disp. = 0.0785078 DS = 1\n",
      "gmr n. 77 max disp. = 0.0516496 DS = 0\n",
      "gmr n. 78 max disp. = 0.0419869 DS = 0\n",
      "gmr n. 79 max disp. = 0.0685789 DS = 1\n",
      "gmr n. 80 max disp. = 0.0458485 DS = 0\n",
      "gmr n. 81 max disp. = 0.100703 DS = 1\n",
      "gmr n. 82 max disp. = 0.0830779 DS = 1\n",
      "gmr n. 83 max disp. = 0.0134205 DS = 0\n",
      "gmr n. 84 max disp. = 0.0608627 DS = 1\n",
      "gmr n. 85 max disp. = 0.0282456 DS = 0\n",
      "gmr n. 86 max disp. = 0.133359 DS = 1\n",
      "gmr n. 87 max disp. = 0.0457421 DS = 0\n",
      "gmr n. 88 max disp. = 0.102669 DS = 1\n",
      "gmr n. 89 max disp. = 0.0372696 DS = 0\n",
      "gmr n. 90 max disp. = 0.113901 DS = 1\n",
      "records_target3.csv\n",
      "gmr n. 91 max disp. = 0.107786 DS = 1\n",
      "gmr n. 92 max disp. = 0.0201869 DS = 0\n",
      "gmr n. 93 max disp. = 0.134547 DS = 1\n",
      "gmr n. 94 max disp. = 0.09602 DS = 1\n",
      "gmr n. 95 max disp. = 0.0751863 DS = 1\n",
      "gmr n. 96 max disp. = 0.029671 DS = 0\n",
      "gmr n. 97 max disp. = 0.0564742 DS = 0\n",
      "gmr n. 98 max disp. = 0.0828685 DS = 1\n",
      "gmr n. 99 max disp. = 0.0547485 DS = 0\n",
      "gmr n. 100 max disp. = 0.0473607 DS = 0\n",
      "gmr n. 101 max disp. = 0.108709 DS = 1\n",
      "gmr n. 102 max disp. = 0.130601 DS = 1\n",
      "gmr n. 103 max disp. = 0.096379 DS = 1\n",
      "gmr n. 104 max disp. = 0.157952 DS = 1\n",
      "gmr n. 105 max disp. = 0.0999242 DS = 1\n",
      "gmr n. 106 max disp. = 0.114711 DS = 1\n",
      "gmr n. 107 max disp. = 0.0422887 DS = 0\n",
      "gmr n. 108 max disp. = 0.11938 DS = 1\n",
      "gmr n. 109 max disp. = 0.0985203 DS = 1\n",
      "gmr n. 110 max disp. = 0.128306 DS = 1\n",
      "gmr n. 111 max disp. = 0.0598478 DS = 1\n",
      "gmr n. 112 max disp. = 0.0410838 DS = 0\n",
      "gmr n. 113 max disp. = 0.0959345 DS = 1\n",
      "gmr n. 114 max disp. = 0.134587 DS = 1\n",
      "gmr n. 115 max disp. = 0.123114 DS = 1\n",
      "gmr n. 116 max disp. = 0.134777 DS = 1\n",
      "gmr n. 117 max disp. = 0.114723 DS = 1\n",
      "gmr n. 118 max disp. = 0.0149759 DS = 0\n",
      "gmr n. 119 max disp. = 0.173135 DS = 1\n",
      "gmr n. 120 max disp. = 0.0493214 DS = 0\n",
      "records_target4.csv\n",
      "gmr n. 121 max disp. = 0.238139 DS = 2\n",
      "gmr n. 122 max disp. = 0.0940497 DS = 1\n",
      "gmr n. 123 max disp. = 0.114496 DS = 1\n",
      "gmr n. 124 max disp. = 0.18496 DS = 1\n",
      "gmr n. 125 max disp. = 0.162064 DS = 1\n",
      "gmr n. 126 max disp. = 0.253567 DS = 2\n",
      "gmr n. 127 max disp. = 0.218817 DS = 2\n",
      "gmr n. 128 max disp. = 0.169275 DS = 1\n",
      "gmr n. 129 max disp. = 0.162559 DS = 1\n",
      "gmr n. 130 max disp. = 0.10919 DS = 1\n",
      "gmr n. 131 max disp. = 0.107648 DS = 1\n",
      "gmr n. 132 max disp. = 0.26331 DS = 2\n",
      "gmr n. 133 max disp. = 0.121132 DS = 1\n",
      "gmr n. 134 max disp. = 0.10655 DS = 1\n",
      "gmr n. 135 max disp. = 0.149119 DS = 1\n",
      "gmr n. 136 max disp. = 0.207463 DS = 1\n",
      "gmr n. 137 max disp. = 0.143438 DS = 1\n",
      "gmr n. 138 max disp. = 0.150493 DS = 1\n",
      "gmr n. 139 max disp. = 0.0854387 DS = 1\n",
      "gmr n. 140 max disp. = 0.11359 DS = 1\n",
      "gmr n. 141 max disp. = 0.0892984 DS = 1\n",
      "gmr n. 142 max disp. = 0.183069 DS = 1\n",
      "gmr n. 143 max disp. = 0.181625 DS = 1\n",
      "gmr n. 144 max disp. = 0.119465 DS = 1\n",
      "gmr n. 145 max disp. = 0.0730473 DS = 1\n",
      "gmr n. 146 max disp. = 0.134515 DS = 1\n",
      "gmr n. 147 max disp. = 0.131074 DS = 1\n",
      "gmr n. 148 max disp. = 0.15167 DS = 1\n",
      "gmr n. 149 max disp. = 0.278718 DS = 3\n",
      "gmr n. 150 max disp. = 0.168856 DS = 1\n",
      "records_target5.csv\n",
      "gmr n. 151 max disp. = 0.236566 DS = 2\n",
      "gmr n. 152 max disp. = 0.279886 DS = 3\n",
      "gmr n. 153 max disp. = 0.244153 DS = 2\n",
      "gmr n. 154 max disp. = 0.169811 DS = 1\n",
      "gmr n. 155 max disp. = 0.0509338 DS = 0\n",
      "gmr n. 156 max disp. = 0.234062 DS = 2\n",
      "gmr n. 157 max disp. = 0.141427 DS = 1\n",
      "gmr n. 158 max disp. = 0.341469 DS = 3\n",
      "gmr n. 159 max disp. = 0.136128 DS = 1\n",
      "gmr n. 160 max disp. = 0.127435 DS = 1\n",
      "gmr n. 161 max disp. = 0.134292 DS = 1\n",
      "gmr n. 162 max disp. = 0.224789 DS = 2\n",
      "gmr n. 163 max disp. = 0.153896 DS = 1\n",
      "gmr n. 164 max disp. = 0.0424098 DS = 0\n",
      "gmr n. 165 max disp. = 0.178957 DS = 1\n",
      "gmr n. 166 max disp. = 0.168493 DS = 1\n",
      "gmr n. 167 max disp. = 0.183651 DS = 1\n",
      "gmr n. 168 max disp. = 0.0809323 DS = 1\n",
      "gmr n. 169 max disp. = 0.165207 DS = 1\n",
      "gmr n. 170 max disp. = 0.0824617 DS = 1\n",
      "gmr n. 171 max disp. = 0.1508 DS = 1\n",
      "gmr n. 172 max disp. = 0.180546 DS = 1\n",
      "gmr n. 173 max disp. = 0.242571 DS = 2\n",
      "gmr n. 174 max disp. = 0.136921 DS = 1\n",
      "gmr n. 175 max disp. = 0.231738 DS = 2\n",
      "gmr n. 176 max disp. = 0.185171 DS = 1\n",
      "gmr n. 177 max disp. = 0.20115 DS = 1\n",
      "gmr n. 178 max disp. = 0.214626 DS = 2\n",
      "gmr n. 179 max disp. = 0.0721903 DS = 1\n",
      "gmr n. 180 max disp. = 0.255434 DS = 2\n",
      "records_target6.csv\n",
      "gmr n. 181 max disp. = 0.238126 DS = 2\n",
      "gmr n. 182 max disp. = 0.124169 DS = 1\n",
      "gmr n. 183 max disp. = 0.113635 DS = 1\n",
      "gmr n. 184 max disp. = 0.322194 DS = 3\n",
      "gmr n. 185 max disp. = 0.283736 DS = 3\n",
      "gmr n. 186 max disp. = 0.467241 DS = 3\n",
      "gmr n. 187 max disp. = 0.165851 DS = 1\n",
      "gmr n. 188 max disp. = 0.117958 DS = 1\n",
      "gmr n. 189 max disp. = 0.209437 DS = 1\n",
      "gmr n. 190 max disp. = 0.213406 DS = 2\n",
      "gmr n. 191 max disp. = 0.258454 DS = 2\n",
      "gmr n. 192 max disp. = 0.0672075 DS = 1\n",
      "gmr n. 193 max disp. = 0.283545 DS = 3\n",
      "gmr n. 194 max disp. = 0.379011 DS = 3\n",
      "gmr n. 195 max disp. = 0.277245 DS = 2\n",
      "gmr n. 196 max disp. = 0.151471 DS = 1\n",
      "gmr n. 197 max disp. = 0.0876845 DS = 1\n",
      "gmr n. 198 max disp. = 0.303816 DS = 3\n",
      "gmr n. 199 max disp. = 0.226279 DS = 2\n",
      "gmr n. 200 max disp. = 0.187771 DS = 1\n",
      "gmr n. 201 max disp. = 0.349293 DS = 3\n",
      "gmr n. 202 max disp. = 0.168476 DS = 1\n",
      "gmr n. 203 max disp. = 0.281492 DS = 3\n",
      "gmr n. 204 max disp. = 0.234957 DS = 2\n",
      "gmr n. 205 max disp. = 0.120729 DS = 1\n",
      "gmr n. 206 max disp. = 0.232005 DS = 2\n",
      "gmr n. 207 max disp. = 0.446869 DS = 3\n",
      "gmr n. 208 max disp. = 0.175671 DS = 1\n",
      "gmr n. 209 max disp. = 0.0490712 DS = 0\n",
      "gmr n. 210 max disp. = 0.0847809 DS = 1\n",
      "records_target7.csv\n",
      "gmr n. 211 max disp. = 0.354886 DS = 3\n",
      "gmr n. 212 max disp. = 0.0531538 DS = 0\n",
      "gmr n. 213 max disp. = 0.290193 DS = 3\n",
      "gmr n. 214 max disp. = 0.211794 DS = 2\n",
      "gmr n. 215 max disp. = 0.198963 DS = 1\n",
      "gmr n. 216 max disp. = 0.189239 DS = 1\n",
      "gmr n. 217 max disp. = 0.549983 DS = 3\n",
      "gmr n. 218 max disp. = 0.293143 DS = 3\n",
      "gmr n. 219 max disp. = 0.214716 DS = 2\n",
      "gmr n. 220 max disp. = 0.201703 DS = 1\n",
      "gmr n. 221 max disp. = 0.672037 DS = 3\n",
      "gmr n. 222 max disp. = 0.246621 DS = 2\n",
      "gmr n. 223 max disp. = 0.452048 DS = 3\n",
      "gmr n. 224 max disp. = 0.196186 DS = 1\n",
      "gmr n. 225 max disp. = 0.300062 DS = 3\n",
      "gmr n. 226 max disp. = 0.219719 DS = 2\n",
      "gmr n. 227 max disp. = 0.188753 DS = 1\n",
      "gmr n. 228 max disp. = 0.261596 DS = 2\n",
      "gmr n. 229 max disp. = 0.732224 DS = 3\n",
      "gmr n. 230 max disp. = 0.147566 DS = 1\n",
      "gmr n. 231 max disp. = 0.472428 DS = 3\n",
      "gmr n. 232 max disp. = 0.262374 DS = 2\n",
      "gmr n. 233 max disp. = 0.118489 DS = 1\n",
      "gmr n. 234 max disp. = 0.571223 DS = 3\n",
      "gmr n. 235 max disp. = 0.243451 DS = 2\n",
      "gmr n. 236 max disp. = 0.150351 DS = 1\n",
      "gmr n. 237 max disp. = 0.250232 DS = 2\n",
      "gmr n. 238 max disp. = 0.183904 DS = 1\n",
      "gmr n. 239 max disp. = 0.375031 DS = 3\n",
      "gmr n. 240 max disp. = 0.153722 DS = 1\n",
      "records_target8.csv\n",
      "gmr n. 241 max disp. = 0.410711 DS = 3\n",
      "gmr n. 242 max disp. = 0.4503 DS = 3\n",
      "gmr n. 243 max disp. = 0.305474 DS = 3\n",
      "gmr n. 244 max disp. = 0.228641 DS = 2\n",
      "gmr n. 245 max disp. = 0.20739 DS = 1\n",
      "gmr n. 246 max disp. = 0.350139 DS = 3\n",
      "gmr n. 247 max disp. = 0.235903 DS = 2\n",
      "gmr n. 248 max disp. = 0.455759 DS = 3\n",
      "gmr n. 249 max disp. = 0.429033 DS = 3\n",
      "gmr n. 250 max disp. = 0.298926 DS = 3\n",
      "gmr n. 251 max disp. = 0.496416 DS = 3\n",
      "gmr n. 252 max disp. = 0.534578 DS = 3\n",
      "gmr n. 253 max disp. = 0.855076 DS = 3\n",
      "gmr n. 254 max disp. = 0.284775 DS = 3\n",
      "gmr n. 255 max disp. = 0.28132 DS = 3\n",
      "gmr n. 256 max disp. = 0.162393 DS = 1\n",
      "gmr n. 257 max disp. = 0.338579 DS = 3\n",
      "gmr n. 258 max disp. = 0.227819 DS = 2\n",
      "gmr n. 259 max disp. = 0.437355 DS = 3\n",
      "gmr n. 260 max disp. = 0.568331 DS = 3\n",
      "gmr n. 261 max disp. = 0.348242 DS = 3\n",
      "gmr n. 262 max disp. = 0.271433 DS = 2\n",
      "gmr n. 263 max disp. = 0.24337 DS = 2\n",
      "gmr n. 264 max disp. = 0.300824 DS = 3\n",
      "gmr n. 265 max disp. = 0.607188 DS = 3\n",
      "gmr n. 266 max disp. = 0.210248 DS = 1\n",
      "gmr n. 267 max disp. = 0.507486 DS = 3\n",
      "gmr n. 268 max disp. = 0.0882174 DS = 1\n",
      "gmr n. 269 max disp. = 0.231417 DS = 2\n",
      "gmr n. 270 max disp. = 0.552561 DS = 3\n",
      "records_target9.csv\n",
      "gmr n. 271 max disp. = 0.855115 DS = 3\n",
      "gmr n. 272 max disp. = 0.72778 DS = 3\n",
      "gmr n. 273 max disp. = 0.288863 DS = 3\n",
      "gmr n. 274 max disp. = 0.714888 DS = 3\n",
      "gmr n. 275 max disp. = 1.00484 DS = 3\n",
      "gmr n. 276 max disp. = 0.602725 DS = 3\n",
      "gmr n. 277 max disp. = 0.213217 DS = 2\n",
      "gmr n. 278 max disp. = 0.280871 DS = 3\n",
      "gmr n. 279 max disp. = 0.29026 DS = 3\n",
      "gmr n. 280 max disp. = 0.740641 DS = 3\n",
      "gmr n. 281 max disp. = 0.643242 DS = 3\n",
      "gmr n. 282 max disp. = 0.460841 DS = 3\n",
      "gmr n. 283 max disp. = 0.762493 DS = 3\n",
      "gmr n. 284 max disp. = 0.581661 DS = 3\n",
      "gmr n. 285 max disp. = 0.639911 DS = 3\n",
      "gmr n. 286 max disp. = 0.524042 DS = 3\n",
      "gmr n. 287 max disp. = 0.544961 DS = 3\n",
      "gmr n. 288 max disp. = 0.449543 DS = 3\n",
      "gmr n. 289 max disp. = 0.872653 DS = 3\n",
      "gmr n. 290 max disp. = 0.64639 DS = 3\n",
      "gmr n. 291 max disp. = 0.435147 DS = 3\n",
      "gmr n. 292 max disp. = 0.288574 DS = 3\n",
      "gmr n. 293 max disp. = 0.431421 DS = 3\n",
      "gmr n. 294 max disp. = 0.285928 DS = 3\n",
      "gmr n. 295 max disp. = 0.45032 DS = 3\n",
      "gmr n. 296 max disp. = 0.37619 DS = 3\n",
      "gmr n. 297 max disp. = 0.228472 DS = 2\n",
      "gmr n. 298 max disp. = 0.345567 DS = 3\n",
      "gmr n. 299 max disp. = 0.345773 DS = 3\n",
      "gmr n. 300 max disp. = 0.302554 DS = 3\n"
     ]
    }
   ],
   "source": [
    "damping_ratio = 0.05\n",
    "degradation = False\n",
    "\n",
    "msa = {}; msa['n. bins']=no_bins; msa['records per bin']=no_rec_bin; msa['input folder']=record_scaled_folder\n",
    "PDM, Sds, IML_info = MSA_on_SDOF.calculate_fragility(capacity_curves, hysteresis, msa, gmrs, \n",
    "                                                      damage_model, damping_ratio, degradation)"
   ]
  },
  {
   "cell_type": "code",
   "execution_count": 7,
   "metadata": {
    "collapsed": false
   },
   "outputs": [],
   "source": [
    "import csv\n",
    "IMT = \"HI\"\n",
    "T = np.arange(0.3,3.6+0.005,0.005)\n",
    "\n",
    "with open('Sds.csv','w') as f:\n",
    "    csv_writer = csv.writer(f)\n",
    "    for row in Sds:\n",
    "        csv_writer.writerow(row)\n",
    "\n",
    "imls = []\n",
    "for index in np.arange(0,len(IML_info)):\n",
    "    igmr = IML_info[index,0]\n",
    "    scaling = IML_info[index,1]\n",
    "    imls.append(utils.calculate_iml(int(igmr), gmrs, 'HI', T, 0.05)*scaling)\n",
    "\n",
    "with open('IML.csv','w') as d:\n",
    "    csv_writer = csv.writer(d)\n",
    "    csv_writer.writerow([row for row in imls])"
   ]
  },
  {
   "cell_type": "markdown",
   "metadata": {},
   "source": [
    "### Fit lognormal CDF fragility curves\n",
    "\n",
    "The following parameters need to be defined in the cell below in order to fit lognormal CDF fragility curves to the damage probability matrix obtained above:\n",
    "1. `IMT`: This parameter specifies the intensity measure type to be used. Currently supported options are `\"PGA\"`, `\"Sa\"`,`\"Sd\"` and `\"HI\"` (Housner Intensity).\n",
    "2. `period`: This parameter defines the period for which a spectral intensity measure should be computed. If Housner Intensity is selected as intensity measure a range of periods should be defined instead (for example `T=np.arange(0.3,3.61,0.01)`).\n",
    "3. `regression_method`: This parameter defines the regression method to be used for estimating the parameters of the fragility functions. The valid options are `\"least squares\"` and `\"max likelihood\"`."
   ]
  },
  {
   "cell_type": "code",
   "execution_count": 8,
   "metadata": {
    "collapsed": false
   },
   "outputs": [
    {
     "name": "stdout",
     "output_type": "stream",
     "text": [
      "Optimization terminated successfully.\n",
      "         Current function value: 13.104851\n",
      "         Iterations: 36\n",
      "         Function evaluations: 73\n",
      "Optimization terminated successfully.\n",
      "         Current function value: 11.541963\n",
      "         Iterations: 50\n",
      "         Function evaluations: 94\n",
      "Optimization terminated successfully.\n",
      "         Current function value: 16.031336\n",
      "         Iterations: 63\n",
      "         Function evaluations: 117\n"
     ]
    },
    {
     "name": "stderr",
     "output_type": "stream",
     "text": [
      "/opt/local/Library/Frameworks/Python.framework/Versions/2.7/lib/python2.7/site-packages/scipy/stats/distributions.py:7184: RuntimeWarning: invalid value encountered in greater_equal\n",
      "  return (n >= 0) & (p >= 0) & (p <= 1)\n",
      "/opt/local/Library/Frameworks/Python.framework/Versions/2.7/lib/python2.7/site-packages/scipy/stats/distributions.py:7184: RuntimeWarning: invalid value encountered in less_equal\n",
      "  return (n >= 0) & (p >= 0) & (p <= 1)\n"
     ]
    }
   ],
   "source": [
    "import MSA_post_processing\n",
    "\n",
    "IMT = \"HI\"\n",
    "T = np.arange(0.3,3.6+0.005,0.005)\n",
    "regression_method = \"max likelihood\"\n",
    "\n",
    "fragility_model = MSA_post_processing.calculate_fragility_model(PDM,gmrs,IML_info,IMT,msa,damage_model,\n",
    "                                                                        T,damping_ratio, regression_method)"
   ]
  },
  {
   "cell_type": "markdown",
   "metadata": {},
   "source": [
    "### Plot fragility functions\n",
    "\n",
    "The following parameters need to be defined in the cell below in order to plot the lognormal CDF fragility curves obtained above:\n",
    "* `minIML` and `maxIML`: These parameters define the limits of the intensity measure level for plotting the functions"
   ]
  },
  {
   "cell_type": "code",
   "execution_count": 9,
   "metadata": {
    "collapsed": false
   },
   "outputs": [
    {
     "data": {
      "image/png": "[encoded data removed]",
      "text/plain": [
       "<matplotlib.figure.Figure at 0x102e19690>"
      ]
     },
     "metadata": {},
     "output_type": "display_data"
    }
   ],
   "source": [
    "minIML, maxIML = 0.01, 11\n",
    "utils.plot_fragility_model(fragility_model, minIML, maxIML)"
   ]
  },
  {
   "cell_type": "markdown",
   "metadata": {},
   "source": [
    "\n",
    "### Save fragility functions\n",
    " \n",
    "The derived parametric fragility functions can be saved to a file in either CSV format or in the NRML format that is used by all OpenQuake input models. The following parameters need to be defined in the cell below in order to save the lognormal CDF fragility curves obtained above:\n",
    " 1. `taxonomy`: This parameter specifies a taxonomy string for the the fragility functions.\n",
    " 2. `minIML` and `maxIML`: These parameters define the bounds of applicability of the functions.\n",
    " 3. `output_type`: This parameter specifies the file format to be used for saving the functions. Currently, the formats supported are \"csv\" and \"nrml\"."
   ]
  },
  {
   "cell_type": "code",
   "execution_count": 10,
   "metadata": {
    "collapsed": true
   },
   "outputs": [],
   "source": [
    "taxonomy = \"sdof\"\n",
    "minIML, maxIML = 0.01, 10.00\n",
    "output_type = \"csv\""
   ]
  },
  {
   "cell_type": "code",
   "execution_count": 11,
   "metadata": {
    "collapsed": true
   },
   "outputs": [],
   "source": [
    "utils.save_mean_fragility(taxonomy, fragility_model, minIML, maxIML, output_type)"
   ]
  },
  {
   "cell_type": "code",
   "execution_count": null,
   "metadata": {
    "collapsed": true
   },
   "outputs": [],
   "source": []
  }
 ],
 "metadata": {
  "kernelspec": {
   "display_name": "Python 2",
   "language": "python",
   "name": "python2"
  },
  "language_info": {
   "codemirror_mode": {
    "name": "ipython",
    "version": 2
   },
   "file_extension": ".py",
   "mimetype": "text/x-python",
   "name": "python",
   "nbconvert_exporter": "python",
   "pygments_lexer": "ipython2",
   "version": "2.7.10"
  }
 },
 "nbformat": 4,
 "nbformat_minor": 0
}
