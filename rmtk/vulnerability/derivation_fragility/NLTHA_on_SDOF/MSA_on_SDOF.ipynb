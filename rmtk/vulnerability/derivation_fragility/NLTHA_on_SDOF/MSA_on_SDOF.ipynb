{
 "cells": [
  {
   "cell_type": "markdown",
   "metadata": {},
   "source": [
    "# Multiple Stripe Analysis (MSA) for Single Degree of Freedom (SDOF) Oscillators\n",
    "\n",
    "In this method, a single degree of freedom (SDOF) model of each structure is subjected to non-linear time history analysis using a suite of ground motion records scaled to multple stripes of intensity measure. The displacements of the SDOF due to each ground motion record are used as input to determine the distribution of buildings in each damage state for each level of ground motion intensity. A regression algorithm is then applied to derive the fragility model.\n",
    "\n",
    "The figure below illustrates the results of a Multiple Stripe Analysis, from which the fragility function is built.\n",
    "\n",
    "<img src=\"../../../../figures/MSA_example.jpg\" width=\"500\" align=\"middle\">\n",
    "\n",
    "**Note**: To run the code in a cell:\n",
    "\n",
    "1. Click on the cell to select it.\n",
    "2. Press `SHIFT+ENTER` on your keyboard or press the play button (<button class='fa fa-play icon-play btn btn-xs btn-default'></button>) in the toolbar above."
   ]
  },
  {
   "cell_type": "code",
   "execution_count": 1,
   "metadata": {
    "collapsed": false
   },
   "outputs": [],
   "source": [
    "import MSA_on_SDOF\n",
    "from rmtk.vulnerability.common import utils\n",
    "import numpy as np\n",
    "%matplotlib inline "
   ]
  },
  {
   "cell_type": "markdown",
   "metadata": {},
   "source": [
    "---\n",
    "### Load capacity curves\n",
    "\n",
    "In order to use this methodology, it is necessary to provide one (or a group) of capacity curves, defined according to the format described in the [RMTK manual](../../../../rmtk-docs.pdf).\n",
    "\n",
    "Please provide the location of the file containing the capacity curves using the parameter `capacity_curves_file`.\n",
    "\n",
    "If the User wants to specify the cyclic hysteretic behaviour of the SDOF system, please input the path of the file where the hysteretic parameters are contained, using the variable `sdof_hysteresis`. The parameters should be defined according to the format described in the [RMTK manual](../../../../rmtk-docs.pdf). If instead default parameters want to be assumed, please set the `sdof_hysteresis` variable to `\"Default\"`"
   ]
  },
  {
   "cell_type": "code",
   "execution_count": 2,
   "metadata": {
    "collapsed": true
   },
   "outputs": [],
   "source": [
    "capacity_curves_file = \"../../../../../rmtk_data/capacity_curves_Sd-Sa.csv\"\n",
    "#sdof_hysteresis = \"Default\"\n",
    "sdof_hysteresis = \"../../../../../rmtk_data/pinching_parameters.csv\""
   ]
  },
  {
   "cell_type": "code",
   "execution_count": 3,
   "metadata": {
    "collapsed": false
   },
   "outputs": [
    {
     "data": {
      "image/png": "[encoded data removed]",
      "text/plain": [
       "<matplotlib.figure.Figure at 0x1069eb8d0>"
      ]
     },
     "metadata": {},
     "output_type": "display_data"
    }
   ],
   "source": [
    "from read_pinching_parameters import read_parameters\n",
    "\n",
    "capacity_curves = utils.read_capacity_curves(capacity_curves_file)\n",
    "capacity_curves = utils.check_SDOF_curves(capacity_curves)\n",
    "utils.plot_capacity_curves(capacity_curves)\n",
    "hysteresis = read_parameters(sdof_hysteresis)"
   ]
  },
  {
   "cell_type": "markdown",
   "metadata": {},
   "source": [
    "### Load ground motion records\n",
    "For what concerns the ground motions to be used in th Multiple Stripe Analysis the following inputs are required:\n",
    " 1. `gmrs_folder`: path to the folder containing the ground motion records to be used in the analysis. Each accelerogram needs to be in a separate CSV file as described in the [RMTK manual](../../../../rmtk-docs.pdf).\n",
    " 2. `record_scaled_folder`. In this folder there should be a csv file for each Intensity Measure bin selected for the MSA, containing the names of the records that should be scaled to that IM bin, and the corresponding scaling factors. An example of this type of file is provided in the [RMTK manual](../../../../rmtk-docs.pdf).\n",
    " 3. `no_bins`: number of Intensity Measure bins.\n",
    " 4. `no_rec_bin`: number of records per bin\n",
    "\n",
    "If the user wants to plot acceleration, displacement and velocity response spectra, the function `utils.plot_response_spectra(gmrs, minT, maxT)` should be un-commented. The parameters `minT` and `maxT` are used to define the period bounds when plotting the spectra for the provided ground motion fields."
   ]
  },
  {
   "cell_type": "code",
   "execution_count": 4,
   "metadata": {
    "collapsed": false
   },
   "outputs": [],
   "source": [
    "gmrs_folder = \"../../../../../rmtk_data/accelerograms\"\n",
    "minT, maxT = 0.1, 2.0\n",
    "no_bins = 4\n",
    "no_rec_bin = 4\n",
    "record_scaled_folder = \"../../../../../rmtk_data/Scaled_trial\"\n",
    "\n",
    "gmrs = utils.read_gmrs(gmrs_folder)\n",
    "#utils.plot_response_spectra(gmrs, minT, maxT)"
   ]
  },
  {
   "cell_type": "markdown",
   "metadata": {},
   "source": [
    "### Load damage state thresholds\n",
    "\n",
    "Please provide the path to your damage model file using the parameter `damage_model_file` in the cell below.\n",
    "\n",
    "Currently the user can provide `spectral displacement`, `capacity curve dependent` and `interstorey drift` damage model type.\n",
    "If the damage model type is `interstorey drift` the user has to input interstorey drift values of the MDOF system. The user can then provide the pushover curve in terms of `Vb-dfloor` to be able to convert interstorey drift limit states to roof displacements and spectral displacements of the SDOF system, otherwise a linear relationship is assumed. In the former case please provide the path to the pushover curve input file in the parameters `pushover_file`, in the latter set `pushover_file=\"Default\"`"
   ]
  },
  {
   "cell_type": "code",
   "execution_count": 5,
   "metadata": {
    "collapsed": false
   },
   "outputs": [],
   "source": [
    "damage_model_file = \"../../../../../rmtk_data/damage_model_ISD.csv\"\n",
    "\n",
    "damage_model = utils.read_damage_model(damage_model_file)"
   ]
  },
  {
   "cell_type": "markdown",
   "metadata": {},
   "source": [
    "### Obtain the damage probability matrix\n",
    "\n",
    "The following parameters need to be defined in the cell below in order to calculate the damage probability matrix:\n",
    "1. `damping_ratio`: This parameter defines the damping ratio for the structure.\n",
    "2. `degradation`: This boolean parameter should be set to `True` or `False` to specify whether structural degradation should be considered in the analysis or not."
   ]
  },
  {
   "cell_type": "code",
   "execution_count": 8,
   "metadata": {
    "collapsed": false
   },
   "outputs": [
    {
     "name": "stdout",
     "output_type": "stream",
     "text": [
      "100%\n",
      "records_target1.csv\n",
      "gmr n. 1 max disp. = 0.0471647 DS = 0\n",
      "gmr n. 2 max disp. = 0.0471647 DS = 0\n",
      "gmr n. 3 max disp. = 0.0471647 DS = 0\n",
      "gmr n. 4 max disp. = 0.0471647 DS = 0\n",
      "records_target2.csv\n",
      "gmr n. 5 max disp. = 0.0704618 DS = 1\n",
      "gmr n. 6 max disp. = 0.0704618 DS = 1\n",
      "gmr n. 7 max disp. = 0.0704618 DS = 1\n",
      "gmr n. 8 max disp. = 0.0704618 DS = 1\n",
      "records_target3.csv\n",
      "gmr n. 9 max disp. = 0.275229 DS = 2\n",
      "gmr n. 10 max disp. = 0.275229 DS = 2\n",
      "gmr n. 11 max disp. = 0.275229 DS = 2\n",
      "gmr n. 12 max disp. = 0.275229 DS = 2\n",
      "records_target4.csv\n",
      "gmr n. 13 max disp. = 0.477489 DS = 3\n",
      "gmr n. 14 max disp. = 0.477489 DS = 3\n",
      "gmr n. 15 max disp. = 0.477489 DS = 3\n",
      "gmr n. 16 max disp. = 0.477489 DS = 3\n"
     ]
    }
   ],
   "source": [
    "damping_ratio = 0.05\n",
    "degradation = False\n",
    "\n",
    "msa = {}; msa['n. bins']=no_bins; msa['records per bin']=no_rec_bin; msa['input folder']=record_scaled_folder\n",
    "PDM, Sds, IML_info = MSA_on_SDOF.calculate_fragility(capacity_curves, hysteresis, msa, gmrs, \n",
    "                                                      damage_model, damping_ratio, degradation)"
   ]
  },
  {
   "cell_type": "markdown",
   "metadata": {},
   "source": [
    "### Fit lognormal CDF fragility curves\n",
    "\n",
    "The following parameters need to be defined in the cell below in order to fit lognormal CDF fragility curves to the damage probability matrix obtained above:\n",
    "1. `IMT`: This parameter specifies the intensity measure type to be used. Currently supported options are `\"PGA\"`, `\"Sa\"`,`\"Sd\"` and `\"HI\"` (Housner Intensity).\n",
    "2. `period`: This parameter defines the period for which a spectral intensity measure should be computed. If Housner Intensity is selected as intensity measure a range of periods should be defined instead (for example `T=np.arange(0.3,3.61,0.01)`).\n",
    "3. `regression_method`: This parameter defines the regression method to be used for estimating the parameters of the fragility functions. The valid options are `\"least squares\"` and `\"max likelihood\"`."
   ]
  },
  {
   "cell_type": "code",
   "execution_count": 9,
   "metadata": {
    "collapsed": false
   },
   "outputs": [
    {
     "name": "stderr",
     "output_type": "stream",
     "text": [
      "/opt/local/Library/Frameworks/Python.framework/Versions/2.7/lib/python2.7/site-packages/scipy/optimize/minpack.py:418: RuntimeWarning: Number of calls to function has reached maxfev = 600.\n",
      "  warnings.warn(errors[info][0], RuntimeWarning)\n"
     ]
    }
   ],
   "source": [
    "import MSA_post_processing\n",
    "\n",
    "IMT = \"Sa\"\n",
    "T = 0.48\n",
    "regression_method = \"least squares\"\n",
    "\n",
    "fragility_model = MSA_post_processing.calculate_fragility_model(PDM,gmrs,IML_info,IMT,msa,damage_model,\n",
    "                                                                        T,damping_ratio, regression_method)"
   ]
  },
  {
   "cell_type": "markdown",
   "metadata": {},
   "source": [
    "### Plot fragility functions\n",
    "\n",
    "The following parameters need to be defined in the cell below in order to plot the lognormal CDF fragility curves obtained above:\n",
    "* `minIML` and `maxIML`: These parameters define the limits of the intensity measure level for plotting the functions"
   ]
  },
  {
   "cell_type": "code",
   "execution_count": 10,
   "metadata": {
    "collapsed": false
   },
   "outputs": [
    {
     "data": {
      "image/png": "[encoded data removed]",
      "text/plain": [
       "<matplotlib.figure.Figure at 0x1069f6150>"
      ]
     },
     "metadata": {},
     "output_type": "display_data"
    }
   ],
   "source": [
    "minIML, maxIML = 0.01, 10\n",
    "utils.plot_fragility_model(fragility_model, minIML, maxIML)"
   ]
  },
  {
   "cell_type": "markdown",
   "metadata": {},
   "source": [
    "\n",
    "### Save fragility functions\n",
    " \n",
    "The derived parametric fragility functions can be saved to a file in either CSV format or in the NRML format that is used by all OpenQuake input models. The following parameters need to be defined in the cell below in order to save the lognormal CDF fragility curves obtained above:\n",
    " 1. `taxonomy`: This parameter specifies a taxonomy string for the the fragility functions.\n",
    " 2. `minIML` and `maxIML`: These parameters define the bounds of applicability of the functions.\n",
    " 3. `output_type`: This parameter specifies the file format to be used for saving the functions. Currently, the formats supported are \"csv\" and \"nrml\"."
   ]
  },
  {
   "cell_type": "code",
   "execution_count": 15,
   "metadata": {
    "collapsed": true
   },
   "outputs": [],
   "source": [
    "taxonomy = \"RC\"\n",
    "minIML, maxIML = 0.01, 10.00\n",
    "output_type = \"csv\"\n",
    "output_path = \"../../../../../rmtk_data/output/\""
   ]
  },
  {
   "cell_type": "code",
   "execution_count": 16,
   "metadata": {
    "collapsed": false
   },
   "outputs": [],
   "source": [
    "utils.save_mean_fragility(taxonomy, fragility_model, minIML, maxIML, output_type, output_path)"
   ]
  },
  {
   "cell_type": "markdown",
   "metadata": {
    "collapsed": true
   },
   "source": [
    "### Obtain vulnerability function\n",
    "\n",
    "A vulnerability model can be derived by combining the set of fragility functions obtained above with a consequence model. In this process, the fractions of buildings in each damage state are multiplied by the associated damage ratio from the consequence model, in order to obtain a distribution of loss ratio for each intensity measure level. \n",
    "\n",
    "The following parameters need to be defined in the cell below in order to calculate vulnerability functions using the above derived fragility functions:\n",
    "1. `cons_model_file`: This parameter specifies the path of the consequence model file.\n",
    "2. `imls`: This parameter specifies a list of intensity measure levels in increasing order at which the distribution of loss ratios are required to be calculated.\n",
    "3. `distribution_type`: This parameter specifies the type of distribution to be used for calculating the vulnerability function. The distribution types currently supported are \"lognormal\", \"beta\", and \"PMF\"."
   ]
  },
  {
   "cell_type": "code",
   "execution_count": 17,
   "metadata": {
    "collapsed": true
   },
   "outputs": [],
   "source": [
    "cons_model_file = \"../../../../../rmtk_data/cons_model.csv\"\n",
    "imls = [0.05, 0.10, 0.15, 0.20, 0.25, 0.30, 0.35, 0.40, 0.45, 0.50, \n",
    "        0.60, 0.70, 0.80, 0.90, 1.00, 1.20, 1.40, 1.60, 1.80, 2.00, \n",
    "        2.20, 2.40, 2.60, 2.80, 3.00, 3.20, 3.40, 3.60, 3.80, 4.00]\n",
    "distribution_type = \"lognormal\""
   ]
  },
  {
   "cell_type": "code",
   "execution_count": 18,
   "metadata": {
    "collapsed": true
   },
   "outputs": [],
   "source": [
    "cons_model = utils.read_consequence_model(cons_model_file)\n",
    "vulnerability_model = utils.convert_fragility_vulnerability(fragility_model, cons_model, \n",
    "                                                            imls, distribution_type)"
   ]
  },
  {
   "cell_type": "code",
   "execution_count": 19,
   "metadata": {
    "collapsed": false
   },
   "outputs": [
    {
     "data": {
      "image/png": "[encoded data removed]",
      "text/plain": [
       "<matplotlib.figure.Figure at 0x106a55790>"
      ]
     },
     "metadata": {},
     "output_type": "display_data"
    }
   ],
   "source": [
    "utils.plot_vulnerability_model(vulnerability_model)"
   ]
  },
  {
   "cell_type": "markdown",
   "metadata": {},
   "source": [
    "### Save vulnerability function\n",
    "\n",
    "The derived parametric or nonparametric vulnerability function can be saved to a file in either CSV format or in the NRML format that is used by all OpenQuake input models. The following parameters need to be defined in the cell below in order to save the lognormal CDF fragility curves obtained above:\n",
    "1. `taxonomy`: This parameter specifies a taxonomy string for the the fragility functions.\n",
    "3. `output_type`: This parameter specifies the file format to be used for saving the functions. Currently, the formats supported are \"csv\" and \"nrml\"."
   ]
  },
  {
   "cell_type": "code",
   "execution_count": 20,
   "metadata": {
    "collapsed": true
   },
   "outputs": [],
   "source": [
    "taxonomy = \"RC\"\n",
    "output_type = \"csv\"\n",
    "output_path = \"../../../../../rmtk_data/output/\""
   ]
  },
  {
   "cell_type": "code",
   "execution_count": 21,
   "metadata": {
    "collapsed": true
   },
   "outputs": [],
   "source": [
    "utils.save_vulnerability(taxonomy, vulnerability_model, output_type, output_path)"
   ]
  },
  {
   "cell_type": "code",
   "execution_count": null,
   "metadata": {
    "collapsed": true
   },
   "outputs": [],
   "source": []
  }
 ],
 "metadata": {
  "kernelspec": {
   "display_name": "Python 2",
   "language": "python",
   "name": "python2"
  },
  "language_info": {
   "codemirror_mode": {
    "name": "ipython",
    "version": 2
   },
   "file_extension": ".py",
   "mimetype": "text/x-python",
   "name": "python",
   "nbconvert_exporter": "python",
   "pygments_lexer": "ipython2",
   "version": "2.7.10"
  }
 },
 "nbformat": 4,
 "nbformat_minor": 0
}
