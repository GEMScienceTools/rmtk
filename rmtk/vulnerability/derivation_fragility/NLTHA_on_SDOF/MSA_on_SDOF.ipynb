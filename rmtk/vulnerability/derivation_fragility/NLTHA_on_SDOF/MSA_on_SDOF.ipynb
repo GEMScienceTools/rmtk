{
 "cells": [
  {
   "cell_type": "markdown",
   "metadata": {},
   "source": [
    "# Multiple Stripe Analysis (MSA) for Single Degree of Freedom (SDOF) Oscillators\n",
    "\n",
    "In this method, a single degree of freedom (SDOF) model of each structure is subjected to non-linear time history analysis using a suite of ground motion records scaled to multple stripes of intensity measure. The displacements of the SDOF due to each ground motion record are used as input to determine the distribution of buildings in each damage state for each level of ground motion intensity. A regression algorithm is then applied to derive the fragility model.\n",
    "\n",
    "The figure below illustrates a fragility model developed using this method.\n",
    "\n",
    "<img src=\"../../../../figures/NLTHA_SDOF.png\" width=\"400\" align=\"middle\">\n",
    "\n",
    "**Note**: To run the code in a cell:\n",
    "\n",
    "1. Click on the cell to select it.\n",
    "2. Press `SHIFT+ENTER` on your keyboard or press the play button (<button class='fa fa-play icon-play btn btn-xs btn-default'></button>) in the toolbar above."
   ]
  },
  {
   "cell_type": "code",
   "execution_count": 7,
   "metadata": {
    "collapsed": false
   },
   "outputs": [],
   "source": [
    "import MSA_on_SDOF\n",
    "from rmtk.vulnerability.common import utils\n",
    "import numpy as np\n",
    "%matplotlib inline "
   ]
  },
  {
   "cell_type": "markdown",
   "metadata": {},
   "source": [
    "---\n",
    "###Load capacity curves\n",
    "\n",
    "In order to use this methodology, it is necessary to provide one (or a group) of capacity curves, defined according to the format described in the [RMTK manual](../../../../rmtk-docs.pdf).\n",
    "\n",
    "Please provide the location of the file containing the capacity curves using the parameter `capacity_curves_file`.\n",
    "\n",
    "If the User wants to specify the cyclic hysteretic behaviour of the SDOF system, please input the path of the file where the hysteretic parameters are contained, using the variable `sdof_hysteresis`. The parameters should be defined according to the format described in the [RMTK manual](../../../../rmtk-docs.pdf). If instead default parameters want to be assumed, please set the `sdof_hysteresis` variable to `\"Default\"`"
   ]
  },
  {
   "cell_type": "code",
   "execution_count": 8,
   "metadata": {
    "collapsed": true
   },
   "outputs": [],
   "source": [
    "capacity_curves_file = \"../../../../../rmtk_data/capacity_curve_Sa-Sd.csv\"\n",
    "#sdof_hysteresis = \"Default\"\n",
    "sdof_hysteresis = \"../../../../../rmtk_data/pinching_parameters.csv\""
   ]
  },
  {
   "cell_type": "code",
   "execution_count": 9,
   "metadata": {
    "collapsed": false
   },
   "outputs": [
    {
     "data": {
      "image/png": "[encoded data removed]",
      "text/plain": [
       "<matplotlib.figure.Figure at 0x113518890>"
      ]
     },
     "metadata": {},
     "output_type": "display_data"
    }
   ],
   "source": [
    "capacity_curves = utils.read_capacity_curves(capacity_curves_file)\n",
    "utils.plot_capacity_curves(capacity_curves)\n",
    "if sdof_hysteresis is not \"Default\":\n",
    "    from read_pinching_parameters import read_parameters\n",
    "    hysteresis = read_parameters(sdof_hysteresis)\n",
    "else:\n",
    "    hysteresis = {}; hysteresis['type'] = \"Default\""
   ]
  },
  {
   "cell_type": "markdown",
   "metadata": {},
   "source": [
    "### Load ground motion records\n",
    "For what concerns the ground motions to be used in th Multiple Stripe Analysis the following inputs are required:\n",
    " 1. `gmrs_folder`: path to the folder containing the ground motion records to be used in the analysis. Each accelerogram needs to be in a separate CSV file as described in the [RMTK manual](../../../../rmtk-docs.pdf).\n",
    " 2. `record_scaled_folder`. In this folder there should be a csv file for each Intensity Measure bin selected for the MSA, containing the names of the records that should be scaled to that IM bin, and the corresponding scaling factors. An example of this type of file is provided in the [RMTK manual](../../../../rmtk-docs.pdf).\n",
    " 3. `no_bins`: number of Intensity Measure bins.\n",
    " 4. `no_rec_bin`: number of records per bin\n",
    "\n",
    "If the user wants to plot acceleration, displacement and velocity response spectra, the function `utils.plot_response_spectra(gmrs, minT, maxT)` should be un-commented. The parameters `minT` and `maxT` are used to define the period bounds when plotting the spectra for the provided ground motion fields."
   ]
  },
  {
   "cell_type": "code",
   "execution_count": 10,
   "metadata": {
    "collapsed": false
   },
   "outputs": [],
   "source": [
    "gmrs_folder = \"../../../../../rmtk_data/SYMBAD_txt\"\n",
    "minT, maxT = 0.1, 2.0\n",
    "\n",
    "gmrs = utils.read_gmrs(gmrs_folder)\n",
    "#utils.plot_response_spectra(gmrs, minT, maxT)\n",
    "\n",
    "no_bins = 10\n",
    "no_rec_bin = 30\n",
    "record_scaled_folder = \"../../../../../rmtk_data/Records_scaled\""
   ]
  },
  {
   "cell_type": "markdown",
   "metadata": {},
   "source": [
    "###Load damage state thresholds\n",
    "\n",
    "Please provide the path to your damage model file using the parameter `damage_model_file` in the cell below.\n",
    "\n",
    "Currently the user can provide `spectral displacement`, `capacity curve dependent` and `interstorey drift` damage model type.\n",
    "If the damage model type is `interstorey drift` the user has to input interstorey drift values of the MDOF system. The user can then provide the pushover curve in terms of `Vb-dfloor` to be able to convert interstorey drift limit states to roof displacements and spectral displacements of the SDOF system, otherwise a linear relationship is assumed. In the former case please provide the path to the pushover curve input file in the parameters `pushover_file`, in the latter set `pushover_file=\"Default\"`"
   ]
  },
  {
   "cell_type": "code",
   "execution_count": 11,
   "metadata": {
    "collapsed": false
   },
   "outputs": [],
   "source": [
    "damage_model_file = \"../../../../../rmtk_data/damage_model_ISD.csv\"\n",
    "damage_model = utils.read_damage_model(damage_model_file)\n",
    "\n",
    "pushover_file = \"../../../../../rmtk_data/capacity_curve_Vb-dfloor.csv\"\n",
    "\n",
    "if pushover_file is not \"Default\":\n",
    "    pushover_curves = utils.read_capacity_curves(pushover_file)\n",
    "else: pushover_curves = capacity_curves"
   ]
  },
  {
   "cell_type": "markdown",
   "metadata": {},
   "source": [
    "###Obtain the damage probability matrix\n",
    "\n",
    "The following parameters need to be defined in the cell below in order to calculate the damage probability matrix:\n",
    "1. `damping_ratio`: This parameter defines the damping ratio for the structure.\n",
    "2. `degradation`: This boolean parameter should be set to `True` or `False` to specify whether structural degradation should be considered in the analysis or not."
   ]
  },
  {
   "cell_type": "code",
   "execution_count": 13,
   "metadata": {
    "collapsed": false
   },
   "outputs": [
    {
     "name": "stdout",
     "output_type": "stream",
     "text": [
      "100%\n",
      "records_target1.csv\n",
      "gmr n. 1 max disp. = 0.00804013 DS = 0\n",
      "gmr n. 2 max disp. = 0.0140219 DS = 0\n",
      "gmr n. 3 max disp. = 0.0127883 DS = 0\n",
      "gmr n. 4 max disp. = 0.01904 DS = 0\n",
      "gmr n. 5 max disp. = 0.0353106 DS = 0\n",
      "gmr n. 6 max disp. = 0.0455577 DS = 0\n",
      "gmr n. 7 max disp. = 0.0163533 DS = 0\n",
      "gmr n. 8 max disp. = 0.0198874 DS = 0\n",
      "gmr n. 9 max disp. = 0.0217917 DS = 0\n",
      "gmr n. 10 max disp. = 0.0314932 DS = 0\n",
      "gmr n. 11 max disp. = 0.0140049 DS = 0\n",
      "gmr n. 12 max disp. = 0.0333681 DS = 0\n",
      "gmr n. 13 max disp. = 0.00869221 DS = 0\n",
      "gmr n. 14 max disp. = 0.0307809 DS = 0\n",
      "gmr n. 15 max disp. = 0.0217426 DS = 0\n",
      "gmr n. 16 max disp. = 0.0265591 DS = 0\n",
      "gmr n. 17 max disp. = 0.0352223 DS = 0\n",
      "gmr n. 18 max disp. = 0.0330807 DS = 0\n",
      "gmr n. 19 max disp. = 0.0260618 DS = 0\n",
      "gmr n. 20 max disp. = 0.0287676 DS = 0\n",
      "gmr n. 21 max disp. = 0.0308829 DS = 0\n",
      "gmr n. 22 max disp. = 0.0259651 DS = 0\n",
      "gmr n. 23 max disp. = 0.0328968 DS = 0\n",
      "gmr n. 24 max disp. = 0.0221919 DS = 0\n",
      "gmr n. 25 max disp. = 0.0223703 DS = 0\n",
      "gmr n. 26 max disp. = 0.0291978 DS = 0\n",
      "gmr n. 27 max disp. = 0.0183646 DS = 0\n",
      "gmr n. 28 max disp. = 0.021568 DS = 0\n",
      "gmr n. 29 max disp. = 0.0267848 DS = 0\n",
      "gmr n. 30 max disp. = 0.0259979 DS = 0\n",
      "records_target10.csv\n",
      "gmr n. 31 max disp. = 0.71627 DS = 3\n",
      "gmr n. 32 max disp. = 0.428925 DS = 3\n",
      "gmr n. 33 max disp. = 0.441491 DS = 3\n",
      "gmr n. 34 max disp. = 0.455864 DS = 3\n",
      "gmr n. 35 max disp. = 0.469808 DS = 3\n",
      "gmr n. 36 max disp. = 0.519231 DS = 3\n",
      "gmr n. 37 max disp. = 0.551801 DS = 3\n",
      "gmr n. 38 max disp. = 0.358289 DS = 3\n",
      "gmr n. 39 max disp. = 0.60369 DS = 3\n",
      "gmr n. 40 max disp. = 1.10678 DS = 3\n",
      "gmr n. 41 max disp. = 0.634212 DS = 3\n",
      "gmr n. 42 max disp. = 0.767096 DS = 3\n",
      "gmr n. 43 max disp. = 0.256261 DS = 2\n",
      "gmr n. 44 max disp. = 0.582103 DS = 3\n",
      "gmr n. 45 max disp. = 1.06242 DS = 3\n",
      "gmr n. 46 max disp. = 0.949321 DS = 3\n",
      "gmr n. 47 max disp. = 0.99414 DS = 3\n",
      "gmr n. 48 max disp. = 0.63743 DS = 3\n",
      "gmr n. 49 max disp. = 1.03293 DS = 3\n",
      "gmr n. 50 max disp. = 0.896539 DS = 3\n",
      "gmr n. 51 max disp. = 0.568687 DS = 3\n",
      "gmr n. 52 max disp. = 0.443956 DS = 3\n",
      "gmr n. 53 max disp. = 1.0483 DS = 3\n",
      "gmr n. 54 max disp. = 0.678041 DS = 3\n",
      "gmr n. 55 max disp. = 0.891366 DS = 3\n",
      "gmr n. 56 max disp. = 0.464646 DS = 3\n",
      "gmr n. 57 max disp. = 0.654103 DS = 3\n",
      "gmr n. 58 max disp. = 2.19395 DS = 3\n",
      "gmr n. 59 max disp. = 0.582771 DS = 3\n",
      "gmr n. 60 max disp. = 0.382629 DS = 3\n",
      "records_target2.csv\n",
      "gmr n. 61 max disp. = 0.0562371 DS = 0\n",
      "gmr n. 62 max disp. = 0.0912228 DS = 1\n",
      "gmr n. 63 max disp. = 0.0479725 DS = 0\n",
      "gmr n. 64 max disp. = 0.0450996 DS = 0\n",
      "gmr n. 65 max disp. = 0.101486 DS = 1\n",
      "gmr n. 66 max disp. = 0.0827038 DS = 1\n",
      "gmr n. 67 max disp. = 0.0581564 DS = 1\n",
      "gmr n. 68 max disp. = 0.0599553 DS = 1\n",
      "gmr n. 69 max disp. = 0.0496036 DS = 0\n",
      "gmr n. 70 max disp. = 0.0316832 DS = 0\n",
      "gmr n. 71 max disp. = 0.0801552 DS = 1\n",
      "gmr n. 72 max disp. = 0.0754005 DS = 1\n",
      "gmr n. 73 max disp. = 0.11152 DS = 1\n",
      "gmr n. 74 max disp. = 0.0444882 DS = 0\n",
      "gmr n. 75 max disp. = 0.0989944 DS = 1\n",
      "gmr n. 76 max disp. = 0.0809145 DS = 1\n",
      "gmr n. 77 max disp. = 0.0413866 DS = 0\n",
      "gmr n. 78 max disp. = 0.036266 DS = 0\n",
      "gmr n. 79 max disp. = 0.0737504 DS = 1\n",
      "gmr n. 80 max disp. = 0.0415455 DS = 0\n",
      "gmr n. 81 max disp. = 0.0988519 DS = 1\n",
      "gmr n. 82 max disp. = 0.0858382 DS = 1\n",
      "gmr n. 83 max disp. = 0.0134205 DS = 0\n",
      "gmr n. 84 max disp. = 0.0541776 DS = 0\n",
      "gmr n. 85 max disp. = 0.0279014 DS = 0\n",
      "gmr n. 86 max disp. = 0.130888 DS = 1\n",
      "gmr n. 87 max disp. = 0.0457442 DS = 0\n",
      "gmr n. 88 max disp. = 0.103692 DS = 1\n",
      "gmr n. 89 max disp. = 0.0371863 DS = 0\n",
      "gmr n. 90 max disp. = 0.114448 DS = 1\n",
      "records_target3.csv\n",
      "gmr n. 91 max disp. = 0.0902116 DS = 1\n",
      "gmr n. 92 max disp. = 0.0201869 DS = 0\n",
      "gmr n. 93 max disp. = 0.129224 DS = 1\n",
      "gmr n. 94 max disp. = 0.112772 DS = 1\n",
      "gmr n. 95 max disp. = 0.0778643 DS = 1\n",
      "gmr n. 96 max disp. = 0.029671 DS = 0\n",
      "gmr n. 97 max disp. = 0.0566204 DS = 0\n",
      "gmr n. 98 max disp. = 0.0956264 DS = 1\n",
      "gmr n. 99 max disp. = 0.0412527 DS = 0\n",
      "gmr n. 100 max disp. = 0.0514402 DS = 0\n",
      "gmr n. 101 max disp. = 0.0985306 DS = 1\n",
      "gmr n. 102 max disp. = 0.138066 DS = 1\n",
      "gmr n. 103 max disp. = 0.0778979 DS = 1\n",
      "gmr n. 104 max disp. = 0.171433 DS = 1\n",
      "gmr n. 105 max disp. = 0.132335 DS = 1\n",
      "gmr n. 106 max disp. = 0.120113 DS = 1\n",
      "gmr n. 107 max disp. = 0.0420005 DS = 0\n",
      "gmr n. 108 max disp. = 0.117193 DS = 1\n",
      "gmr n. 109 max disp. = 0.105412 DS = 1\n",
      "gmr n. 110 max disp. = 0.126114 DS = 1\n",
      "gmr n. 111 max disp. = 0.0683809 DS = 1\n",
      "gmr n. 112 max disp. = 0.030763 DS = 0\n",
      "gmr n. 113 max disp. = 0.0961837 DS = 1\n",
      "gmr n. 114 max disp. = 0.113422 DS = 1\n",
      "gmr n. 115 max disp. = 0.128261 DS = 1\n",
      "gmr n. 116 max disp. = 0.131059 DS = 1\n",
      "gmr n. 117 max disp. = 0.107682 DS = 1\n",
      "gmr n. 118 max disp. = 0.0149784 DS = 0\n",
      "gmr n. 119 max disp. = 0.173023 DS = 1\n",
      "gmr n. 120 max disp. = 0.0528062 DS = 0\n",
      "records_target4.csv\n",
      "gmr n. 121 max disp. = 0.235344 DS = 2\n",
      "gmr n. 122 max disp. = 0.0834222 DS = 1\n",
      "gmr n. 123 max disp. = 0.0881812 DS = 1\n",
      "gmr n. 124 max disp. = 0.158146 DS = 1\n",
      "gmr n. 125 max disp. = 0.162441 DS = 1\n",
      "gmr n. 126 max disp. = 0.294976 DS = 3\n",
      "gmr n. 127 max disp. = 0.200838 DS = 1\n",
      "gmr n. 128 max disp. = 0.176988 DS = 1\n",
      "gmr n. 129 max disp. = 0.139437 DS = 1\n",
      "gmr n. 130 max disp. = 0.105883 DS = 1\n",
      "gmr n. 131 max disp. = 0.12664 DS = 1\n",
      "gmr n. 132 max disp. = 0.272286 DS = 2\n",
      "gmr n. 133 max disp. = 0.116126 DS = 1\n",
      "gmr n. 134 max disp. = 0.0793591 DS = 1\n",
      "gmr n. 135 max disp. = 0.158546 DS = 1\n",
      "gmr n. 136 max disp. = 0.206137 DS = 1\n",
      "gmr n. 137 max disp. = 0.105727 DS = 1\n",
      "gmr n. 138 max disp. = 0.152927 DS = 1\n",
      "gmr n. 139 max disp. = 0.0698077 DS = 1\n",
      "gmr n. 140 max disp. = 0.137689 DS = 1\n",
      "gmr n. 141 max disp. = 0.0908668 DS = 1\n",
      "gmr n. 142 max disp. = 0.186115 DS = 1\n",
      "gmr n. 143 max disp. = 0.199299 DS = 1\n",
      "gmr n. 144 max disp. = 0.128883 DS = 1\n",
      "gmr n. 145 max disp. = 0.0517626 DS = 0\n",
      "gmr n. 146 max disp. = 0.127889 DS = 1\n",
      "gmr n. 147 max disp. = 0.131074 DS = 1\n",
      "gmr n. 148 max disp. = 0.161924 DS = 1\n",
      "gmr n. 149 max disp. = 0.286536 DS = 3\n",
      "gmr n. 150 max disp. = 0.176143 DS = 1\n",
      "records_target5.csv\n",
      "gmr n. 151 max disp. = 0.2481 DS = 2\n",
      "gmr n. 152 max disp. = 0.286783 DS = 3\n",
      "gmr n. 153 max disp. = 0.244151 DS = 2\n",
      "gmr n. 154 max disp. = 0.162282 DS = 1\n",
      "gmr n. 155 max disp. = 0.0515373 DS = 0\n",
      "gmr n. 156 max disp. = 0.233477 DS = 2\n",
      "gmr n. 157 max disp. = 0.122857 DS = 1\n",
      "gmr n. 158 max disp. = 0.390781 DS = 3\n",
      "gmr n. 159 max disp. = 0.152362 DS = 1\n",
      "gmr n. 160 max disp. = 0.151205 DS = 1\n",
      "gmr n. 161 max disp. = 0.127377 DS = 1\n",
      "gmr n. 162 max disp. = 0.22988 DS = 2\n",
      "gmr n. 163 max disp. = 0.132903 DS = 1\n",
      "gmr n. 164 max disp. = 0.040848 DS = 0\n",
      "gmr n. 165 max disp. = 0.166087 DS = 1\n",
      "gmr n. 166 max disp. = 0.148659 DS = 1\n",
      "gmr n. 167 max disp. = 0.196157 DS = 1\n",
      "gmr n. 168 max disp. = 0.0781652 DS = 1\n",
      "gmr n. 169 max disp. = 0.173595 DS = 1\n",
      "gmr n. 170 max disp. = 0.0871561 DS = 1\n",
      "gmr n. 171 max disp. = 0.161185 DS = 1\n",
      "gmr n. 172 max disp. = 0.171346 DS = 1\n",
      "gmr n. 173 max disp. = 0.20838 DS = 1\n",
      "gmr n. 174 max disp. = 0.143134 DS = 1\n",
      "gmr n. 175 max disp. = 0.222448 DS = 2\n",
      "gmr n. 176 max disp. = 0.198852 DS = 1\n",
      "gmr n. 177 max disp. = 0.187322 DS = 1\n",
      "gmr n. 178 max disp. = 0.223259 DS = 2\n",
      "gmr n. 179 max disp. = 0.0586706 DS = 1\n",
      "gmr n. 180 max disp. = 0.236112 DS = 2\n",
      "records_target6.csv\n",
      "gmr n. 181 max disp. = 0.221635 DS = 2\n",
      "gmr n. 182 max disp. = 0.120107 DS = 1\n",
      "gmr n. 183 max disp. = 0.0802733 DS = 1\n",
      "gmr n. 184 max disp. = 0.335234 DS = 3\n",
      "gmr n. 185 max disp. = 0.278329 DS = 3\n",
      "gmr n. 186 max disp. = 0.51334 DS = 3\n",
      "gmr n. 187 max disp. = 0.174309 DS = 1\n",
      "gmr n. 188 max disp. = 0.126939 DS = 1\n",
      "gmr n. 189 max disp. = 0.171406 DS = 1\n",
      "gmr n. 190 max disp. = 0.232035 DS = 2\n",
      "gmr n. 191 max disp. = 0.262006 DS = 2\n",
      "gmr n. 192 max disp. = 0.0823916 DS = 1\n",
      "gmr n. 193 max disp. = 0.283582 DS = 3\n",
      "gmr n. 194 max disp. = 0.379014 DS = 3\n",
      "gmr n. 195 max disp. = 0.274365 DS = 2\n",
      "gmr n. 196 max disp. = 0.168432 DS = 1\n",
      "gmr n. 197 max disp. = 0.0738496 DS = 1\n",
      "gmr n. 198 max disp. = 0.324577 DS = 3\n",
      "gmr n. 199 max disp. = 0.240275 DS = 2\n",
      "gmr n. 200 max disp. = 0.174533 DS = 1\n",
      "gmr n. 201 max disp. = 0.291552 DS = 3\n",
      "gmr n. 202 max disp. = 0.209265 DS = 1\n",
      "gmr n. 203 max disp. = 0.284169 DS = 3\n",
      "gmr n. 204 max disp. = 0.230129 DS = 2\n",
      "gmr n. 205 max disp. = 0.178041 DS = 1\n",
      "gmr n. 206 max disp. = 0.230218 DS = 2\n",
      "gmr n. 207 max disp. = 0.406516 DS = 3\n",
      "gmr n. 208 max disp. = 0.187698 DS = 1\n",
      "gmr n. 209 max disp. = 0.0461542 DS = 0\n",
      "gmr n. 210 max disp. = 0.140605 DS = 1\n",
      "records_target7.csv\n",
      "gmr n. 211 max disp. = 0.412412 DS = 3\n",
      "gmr n. 212 max disp. = 0.051976 DS = 0\n",
      "gmr n. 213 max disp. = 0.267912 DS = 2\n",
      "gmr n. 214 max disp. = 0.215116 DS = 2\n",
      "gmr n. 215 max disp. = 0.242987 DS = 2\n",
      "gmr n. 216 max disp. = 0.207317 DS = 1\n",
      "gmr n. 217 max disp. = 0.434603 DS = 3\n",
      "gmr n. 218 max disp. = 0.27881 DS = 3\n",
      "gmr n. 219 max disp. = 0.20799 DS = 1\n",
      "gmr n. 220 max disp. = 0.215734 DS = 2\n",
      "gmr n. 221 max disp. = 0.715149 DS = 3\n",
      "gmr n. 222 max disp. = 0.233976 DS = 2\n",
      "gmr n. 223 max disp. = 0.40323 DS = 3\n",
      "gmr n. 224 max disp. = 0.261225 DS = 2\n",
      "gmr n. 225 max disp. = 0.344419 DS = 3\n",
      "gmr n. 226 max disp. = 0.231944 DS = 2\n",
      "gmr n. 227 max disp. = 0.203062 DS = 1\n",
      "gmr n. 228 max disp. = 0.25207 DS = 2\n",
      "gmr n. 229 max disp. = 0.731321 DS = 3\n",
      "gmr n. 230 max disp. = 0.144705 DS = 1\n",
      "gmr n. 231 max disp. = 0.464273 DS = 3\n",
      "gmr n. 232 max disp. = 0.266152 DS = 2\n",
      "gmr n. 233 max disp. = 0.132171 DS = 1\n",
      "gmr n. 234 max disp. = 0.578461 DS = 3\n",
      "gmr n. 235 max disp. = 0.246203 DS = 2\n",
      "gmr n. 236 max disp. = 0.205795 DS = 1\n",
      "gmr n. 237 max disp. = 0.263516 DS = 2\n",
      "gmr n. 238 max disp. = 0.207758 DS = 1\n",
      "gmr n. 239 max disp. = 0.288462 DS = 3\n",
      "gmr n. 240 max disp. = 0.17962 DS = 1\n",
      "records_target8.csv\n",
      "gmr n. 241 max disp. = 0.389981 DS = 3\n",
      "gmr n. 242 max disp. = 0.271723 DS = 2\n",
      "gmr n. 243 max disp. = 0.329724 DS = 3\n",
      "gmr n. 244 max disp. = 0.233183 DS = 2\n",
      "gmr n. 245 max disp. = 0.251677 DS = 2\n",
      "gmr n. 246 max disp. = 0.348851 DS = 3\n",
      "gmr n. 247 max disp. = 0.216348 DS = 2\n",
      "gmr n. 248 max disp. = 0.47107 DS = 3\n",
      "gmr n. 249 max disp. = 0.524906 DS = 3\n",
      "gmr n. 250 max disp. = 0.306752 DS = 3\n",
      "gmr n. 251 max disp. = 0.409861 DS = 3\n",
      "gmr n. 252 max disp. = 0.306232 DS = 3\n",
      "gmr n. 253 max disp. = 0.873792 DS = 3\n",
      "gmr n. 254 max disp. = 0.293514 DS = 3\n",
      "gmr n. 255 max disp. = 0.237438 DS = 2\n",
      "gmr n. 256 max disp. = 0.245996 DS = 2\n",
      "gmr n. 257 max disp. = 0.284579 DS = 3\n",
      "gmr n. 258 max disp. = 0.230877 DS = 2\n",
      "gmr n. 259 max disp. = 0.288409 DS = 3\n",
      "gmr n. 260 max disp. = 0.581756 DS = 3\n",
      "gmr n. 261 max disp. = 0.509627 DS = 3\n",
      "gmr n. 262 max disp. = 0.288023 DS = 3\n",
      "gmr n. 263 max disp. = 0.653223 DS = 3\n",
      "gmr n. 264 max disp. = 0.258143 DS = 2\n",
      "gmr n. 265 max disp. = 0.562237 DS = 3\n",
      "gmr n. 266 max disp. = 0.281885 DS = 3\n",
      "gmr n. 267 max disp. = 0.59838 DS = 3\n",
      "gmr n. 268 max disp. = 0.0790464 DS = 1\n",
      "gmr n. 269 max disp. = 0.251785 DS = 2\n",
      "gmr n. 270 max disp. = 0.519456 DS = 3\n",
      "records_target9.csv\n",
      "gmr n. 271 max disp. = 0.284192 DS = 3\n",
      "gmr n. 272 max disp. = 0.653032 DS = 3\n",
      "gmr n. 273 max disp. = 0.307901 DS = 3\n",
      "gmr n. 274 max disp. = 0.677806 DS = 3\n",
      "gmr n. 275 max disp. = 0.863789 DS = 3\n",
      "gmr n. 276 max disp. = 0.618634 DS = 3\n",
      "gmr n. 277 max disp. = 0.244342 DS = 2\n",
      "gmr n. 278 max disp. = 0.303702 DS = 3\n",
      "gmr n. 279 max disp. = 0.452105 DS = 3\n",
      "gmr n. 280 max disp. = 0.773683 DS = 3\n",
      "gmr n. 281 max disp. = 0.743806 DS = 3\n",
      "gmr n. 282 max disp. = 0.437755 DS = 3\n",
      "gmr n. 283 max disp. = 0.597391 DS = 3\n",
      "gmr n. 284 max disp. = 0.453715 DS = 3\n",
      "gmr n. 285 max disp. = 0.66646 DS = 3\n",
      "gmr n. 286 max disp. = 0.588718 DS = 3\n",
      "gmr n. 287 max disp. = 0.516226 DS = 3\n",
      "gmr n. 288 max disp. = 0.466967 DS = 3\n",
      "gmr n. 289 max disp. = 0.304186 DS = 3\n",
      "gmr n. 290 max disp. = 0.581985 DS = 3\n",
      "gmr n. 291 max disp. = 0.365351 DS = 3\n",
      "gmr n. 292 max disp. = 0.306623 DS = 3\n",
      "gmr n. 293 max disp. = 0.792998 DS = 3\n",
      "gmr n. 294 max disp. = 0.287143 DS = 3\n",
      "gmr n. 295 max disp. = 0.430513 DS = 3\n",
      "gmr n. 296 max disp. = 0.435339 DS = 3\n",
      "gmr n. 297 max disp. = 0.273835 DS = 2\n",
      "gmr n. 298 max disp. = 0.302924 DS = 3\n",
      "gmr n. 299 max disp. = 0.709181 DS = 3\n",
      "gmr n. 300 max disp. = 0.299933 DS = 3\n"
     ]
    }
   ],
   "source": [
    "damping_ratio = 0.05\n",
    "degradation = False\n",
    "\n",
    "msa = {}; msa['n. bins']=no_bins; msa['records per bin']=no_rec_bin; msa['input folder']=record_scaled_folder\n",
    "PDM, Sds, IML_info = MSA_on_SDOF.calculate_fragility(capacity_curves, pushover_curves, hysteresis, msa, gmrs, \n",
    "                                                      damage_model, damping_ratio, degradation)"
   ]
  },
  {
   "cell_type": "markdown",
   "metadata": {},
   "source": [
    "### Fit lognormal CDF fragility curves\n",
    "\n",
    "The following parameters need to be defined in the cell below in order to fit lognormal CDF fragility curves to the damage probability matrix obtained above:\n",
    "1. `IMT`: This parameter specifies the intensity measure type to be used. Currently supported options are `\"PGA\"`, `\"Sa\"`,`\"Sd\"` and `\"HI\"` (Housner Intensity).\n",
    "2. `period`: This parameter defines the period for which a spectral intensity measure should be computed. If Housner Intensity is selected as intensity measure a range of periods should be defined instead (for example `T=np.arange(0.3,3.61,0.01)`).\n",
    "3. `regression_method`: This parameter defines the regression method to be used for estimating the parameters of the fragility functions. The valid options are `\"least squares\"` and `\"max likelihood\"`."
   ]
  },
  {
   "cell_type": "code",
   "execution_count": 14,
   "metadata": {
    "collapsed": false
   },
   "outputs": [
    {
     "name": "stdout",
     "output_type": "stream",
     "text": [
      "Optimization terminated successfully.\n",
      "         Current function value: 11.575248\n",
      "         Iterations: 37\n",
      "         Function evaluations: 70\n",
      "Optimization terminated successfully.\n",
      "         Current function value: 12.114309\n",
      "         Iterations: 53\n",
      "         Function evaluations: 99\n",
      "Optimization terminated successfully.\n",
      "         Current function value: 16.147135\n",
      "         Iterations: 71\n",
      "         Function evaluations: 131\n"
     ]
    },
    {
     "name": "stderr",
     "output_type": "stream",
     "text": [
      "/opt/local/Library/Frameworks/Python.framework/Versions/2.7/lib/python2.7/site-packages/scipy/stats/distributions.py:7184: RuntimeWarning: invalid value encountered in greater_equal\n",
      "  return (n >= 0) & (p >= 0) & (p <= 1)\n",
      "/opt/local/Library/Frameworks/Python.framework/Versions/2.7/lib/python2.7/site-packages/scipy/stats/distributions.py:7184: RuntimeWarning: invalid value encountered in less_equal\n",
      "  return (n >= 0) & (p >= 0) & (p <= 1)\n"
     ]
    }
   ],
   "source": [
    "import MSA_post_processing\n",
    "\n",
    "IMT = \"HI\"\n",
    "T = np.arange(0.3,3.6+0.005,0.005)\n",
    "regression_method = \"max likelihood\"\n",
    "\n",
    "fragility_model = MSA_post_processing.calculate_fragility_model(PDM,gmrs,IML_info,IMT,msa,damage_model,\n",
    "                                                                        T,damping_ratio, regression_method)"
   ]
  },
  {
   "cell_type": "markdown",
   "metadata": {},
   "source": [
    "### Plot fragility functions\n",
    "\n",
    "The following parameters need to be defined in the cell below in order to plot the lognormal CDF fragility curves obtained above:\n",
    "* `minIML` and `maxIML`: These parameters define the limits of the intensity measure level for plotting the functions"
   ]
  },
  {
   "cell_type": "code",
   "execution_count": 16,
   "metadata": {
    "collapsed": false
   },
   "outputs": [
    {
     "data": {
      "image/png": "[encoded data removed]",
      "text/plain": [
       "<matplotlib.figure.Figure at 0x10f882210>"
      ]
     },
     "metadata": {},
     "output_type": "display_data"
    }
   ],
   "source": [
    "minIML, maxIML = 0.01, 11\n",
    "utils.plot_fragility_model(fragility_model, minIML, maxIML)"
   ]
  },
  {
   "cell_type": "markdown",
   "metadata": {},
   "source": [
    "\n",
    "### Save fragility functions\n",
    " \n",
    "The derived parametric fragility functions can be saved to a file in either CSV format or in the NRML format that is used by all OpenQuake input models. The following parameters need to be defined in the cell below in order to save the lognormal CDF fragility curves obtained above:\n",
    " 1. `taxonomy`: This parameter specifies a taxonomy string for the the fragility functions.\n",
    " 2. `minIML` and `maxIML`: These parameters define the bounds of applicability of the functions.\n",
    " 3. `output_type`: This parameter specifies the file format to be used for saving the functions. Currently, the formats supported are \"csv\" and \"nrml\"."
   ]
  },
  {
   "cell_type": "code",
   "execution_count": 19,
   "metadata": {
    "collapsed": true
   },
   "outputs": [],
   "source": [
    "taxonomy = \"sdof\"\n",
    "minIML, maxIML = 0.01, 10.00\n",
    "output_type = \"csv\""
   ]
  },
  {
   "cell_type": "code",
   "execution_count": 20,
   "metadata": {
    "collapsed": true
   },
   "outputs": [],
   "source": [
    "utils.save_mean_fragility(taxonomy, fragility_model, minIML, maxIML, output_type)"
   ]
  },
  {
   "cell_type": "code",
   "execution_count": null,
   "metadata": {
    "collapsed": true
   },
   "outputs": [],
   "source": []
  }
 ],
 "metadata": {
  "kernelspec": {
   "display_name": "Python 2",
   "language": "python",
   "name": "python2"
  },
  "language_info": {
   "codemirror_mode": {
    "name": "ipython",
    "version": 2
   },
   "file_extension": ".py",
   "mimetype": "text/x-python",
   "name": "python",
   "nbconvert_exporter": "python",
   "pygments_lexer": "ipython2",
   "version": "2.7.10"
  }
 },
 "nbformat": 4,
 "nbformat_minor": 0
}
