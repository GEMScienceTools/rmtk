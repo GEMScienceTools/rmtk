{
 "cells": [
  {
   "cell_type": "markdown",
   "metadata": {},
   "source": [
    "# Multiple Stripe Analysis (MSA) for Single Degree of Freedom (SDOF) Oscillators\n",
    "\n",
    "In this method, a single degree of freedom (SDOF) model of each structure is subjected to non-linear time history analysis using a suite of ground motion records scaled to multple stripes of intensity measure. The displacements of the SDOF due to each ground motion record are used as input to determine the distribution of buildings in each damage state for each level of ground motion intensity. A regression algorithm is then applied to derive the fragility model.\n",
    "\n",
    "The figure below illustrates the results of a Multiple Stripe Analysis, from which the fragility function is built.\n",
    "\n",
    "<img src=\"../../../../figures/MSA_example.jpg\" width=\"500\" align=\"middle\">\n",
    "\n",
    "**Note**: To run the code in a cell:\n",
    "\n",
    "1. Click on the cell to select it.\n",
    "2. Press `SHIFT+ENTER` on your keyboard or press the play button (<button class='fa fa-play icon-play btn btn-xs btn-default'></button>) in the toolbar above."
   ]
  },
  {
   "cell_type": "code",
   "execution_count": 1,
   "metadata": {
    "collapsed": false
   },
   "outputs": [],
   "source": [
    "import MSA_on_SDOF\n",
    "from rmtk.vulnerability.common import utils\n",
    "import numpy as np\n",
    "%matplotlib inline "
   ]
  },
  {
   "cell_type": "markdown",
   "metadata": {},
   "source": [
    "---\n",
    "### Load capacity curves\n",
    "\n",
    "In order to use this methodology, it is necessary to provide one (or a group) of capacity curves, defined according to the format described in the [RMTK manual](../../../../rmtk-docs.pdf).\n",
    "\n",
    "Please provide the location of the file containing the capacity curves using the parameter `capacity_curves_file`.\n",
    "\n",
    "If the User wants to specify the cyclic hysteretic behaviour of the SDOF system, please input the path of the file where the hysteretic parameters are contained, using the variable `sdof_hysteresis`. The parameters should be defined according to the format described in the [RMTK manual](../../../../rmtk-docs.pdf). If instead default parameters want to be assumed, please set the `sdof_hysteresis` variable to `\"Default\"`"
   ]
  },
  {
   "cell_type": "code",
   "execution_count": 2,
   "metadata": {
    "collapsed": true
   },
   "outputs": [],
   "source": [
    "capacity_curves_file = \"../../../../../rmtk_data/capacity_curves_Sd-Sa.csv\"\n",
    "sdof_hysteresis = \"Default\"\n",
    "#sdof_hysteresis = \"../../../../../rmtk_data/pinching_parameters.csv\""
   ]
  },
  {
   "cell_type": "code",
   "execution_count": 3,
   "metadata": {
    "collapsed": false
   },
   "outputs": [
    {
     "data": {
      "image/png": "[encoded data removed]",
      "text/plain": [
       "<matplotlib.figure.Figure at 0x112342710>"
      ]
     },
     "metadata": {},
     "output_type": "display_data"
    }
   ],
   "source": [
    "from read_pinching_parameters import read_parameters\n",
    "\n",
    "capacity_curves = utils.read_capacity_curves(capacity_curves_file)\n",
    "capacity_curves = utils.check_SDOF_curves(capacity_curves)\n",
    "utils.plot_capacity_curves(capacity_curves)\n",
    "hysteresis = read_parameters(sdof_hysteresis)"
   ]
  },
  {
   "cell_type": "markdown",
   "metadata": {},
   "source": [
    "### Load ground motion records\n",
    "For what concerns the ground motions to be used in th Multiple Stripe Analysis the following inputs are required:\n",
    " 1. `gmrs_folder`: path to the folder containing the ground motion records to be used in the analysis. Each accelerogram needs to be in a separate CSV file as described in the [RMTK manual](../../../../rmtk-docs.pdf).\n",
    " 2. `record_scaled_folder`. In this folder there should be a csv file for each Intensity Measure bin selected for the MSA, containing the names of the records that should be scaled to that IM bin, and the corresponding scaling factors. An example of this type of file is provided in the [RMTK manual](../../../../rmtk-docs.pdf).\n",
    " 3. `no_bins`: number of Intensity Measure bins.\n",
    " 4. `no_rec_bin`: number of records per bin\n",
    "\n",
    "If the user wants to plot acceleration, displacement and velocity response spectra, the function `utils.plot_response_spectra(gmrs, minT, maxT)` should be un-commented. The parameters `minT` and `maxT` are used to define the period bounds when plotting the spectra for the provided ground motion fields."
   ]
  },
  {
   "cell_type": "code",
   "execution_count": 4,
   "metadata": {
    "collapsed": false
   },
   "outputs": [],
   "source": [
    "gmrs_folder = \"../../../../../rmtk_data/MSA_records\"\n",
    "minT, maxT = 0.1, 2.0\n",
    "no_bins = 10\n",
    "no_rec_bin = 30\n",
    "record_scaled_folder = \"../../../../../rmtk_data/Scaling_factors\"\n",
    "\n",
    "gmrs = utils.read_gmrs(gmrs_folder)\n",
    "#utils.plot_response_spectra(gmrs, minT, maxT)"
   ]
  },
  {
   "cell_type": "markdown",
   "metadata": {},
   "source": [
    "### Load damage state thresholds\n",
    "\n",
    "Please provide the path to your damage model file using the parameter `damage_model_file` in the cell below.\n",
    "\n",
    "Currently the user can provide `spectral displacement`, `capacity curve dependent` and `interstorey drift` damage model type.\n",
    "If the damage model type is `interstorey drift` the user has to input interstorey drift values of the MDOF system. The user can then provide the pushover curve in terms of `Vb-dfloor` to be able to convert interstorey drift limit states to roof displacements and spectral displacements of the SDOF system, otherwise a linear relationship is assumed."
   ]
  },
  {
   "cell_type": "code",
   "execution_count": 5,
   "metadata": {
    "collapsed": false
   },
   "outputs": [],
   "source": [
    "damage_model_file = \"../../../../../rmtk_data/damage_model_Sd.csv\"\n",
    "\n",
    "damage_model = utils.read_damage_model(damage_model_file)"
   ]
  },
  {
   "cell_type": "markdown",
   "metadata": {},
   "source": [
    "### Obtain the damage probability matrix\n",
    "\n",
    "The following parameters need to be defined in the cell below in order to calculate the damage probability matrix:\n",
    "1. `damping_ratio`: This parameter defines the damping ratio for the structure.\n",
    "2. `degradation`: This boolean parameter should be set to `True` or `False` to specify whether structural degradation should be considered in the analysis or not."
   ]
  },
  {
   "cell_type": "code",
   "execution_count": 6,
   "metadata": {
    "collapsed": false
   },
   "outputs": [
    {
     "name": "stdout",
     "output_type": "stream",
     "text": [
      "100%\n",
      "records_target1.csv\n",
      "gmr n. 1 max disp. = 0.0124093 DS = 0\n",
      "gmr n. 2 max disp. = 0.0151149 DS = 0\n",
      "gmr n. 3 max disp. = 0.0113261 DS = 0\n",
      "gmr n. 4 max disp. = 0.00923903 DS = 0\n",
      "gmr n. 5 max disp. = 0.00850193 DS = 0\n",
      "gmr n. 6 max disp. = 0.0175093 DS = 0\n",
      "gmr n. 7 max disp. = 0.00970485 DS = 0\n",
      "gmr n. 8 max disp. = 0.0102165 DS = 0\n",
      "gmr n. 9 max disp. = 0.0113753 DS = 0\n",
      "gmr n. 10 max disp. = 0.0204648 DS = 0\n",
      "gmr n. 11 max disp. = 0.0207299 DS = 0\n",
      "gmr n. 12 max disp. = 0.0109805 DS = 0\n",
      "gmr n. 13 max disp. = 0.0192651 DS = 0\n",
      "gmr n. 14 max disp. = 0.015798 DS = 0\n",
      "gmr n. 15 max disp. = 0.0133677 DS = 0\n",
      "gmr n. 16 max disp. = 0.0166268 DS = 0\n",
      "gmr n. 17 max disp. = 0.00635484 DS = 0\n",
      "gmr n. 18 max disp. = 0.0216183 DS = 0\n",
      "gmr n. 19 max disp. = 0.011455 DS = 0\n",
      "gmr n. 20 max disp. = 0.010241 DS = 0\n",
      "gmr n. 21 max disp. = 0.0131586 DS = 0\n",
      "gmr n. 22 max disp. = 0.00895954 DS = 0\n",
      "gmr n. 23 max disp. = 0.0105393 DS = 0\n",
      "gmr n. 24 max disp. = 0.00871449 DS = 0\n",
      "gmr n. 25 max disp. = 0.0107262 DS = 0\n",
      "gmr n. 26 max disp. = 0.00677389 DS = 0\n",
      "gmr n. 27 max disp. = 0.0158495 DS = 0\n",
      "gmr n. 28 max disp. = 0.0154068 DS = 0\n",
      "gmr n. 29 max disp. = 0.0132002 DS = 0\n",
      "gmr n. 30 max disp. = 0.0124054 DS = 0\n",
      "records_target10.csv\n",
      "gmr n. 31 max disp. = 0.182926 DS = 2\n",
      "gmr n. 32 max disp. = 0.317104 DS = 3\n",
      "gmr n. 33 max disp. = 0.141433 DS = 2\n",
      "gmr n. 34 max disp. = 0.200331 DS = 3\n",
      "gmr n. 35 max disp. = 0.147137 DS = 2\n",
      "gmr n. 36 max disp. = 0.0858812 DS = 2\n",
      "gmr n. 37 max disp. = 0.323059 DS = 3\n",
      "gmr n. 38 max disp. = 0.838279 DS = 4\n",
      "gmr n. 39 max disp. = 0.102062 DS = 2\n",
      "gmr n. 40 max disp. = 0.536335 DS = 4\n",
      "gmr n. 41 max disp. = 0.139217 DS = 2\n",
      "gmr n. 42 max disp. = 0.100029 DS = 1\n",
      "gmr n. 43 max disp. = 1.26604 DS = 4\n",
      "gmr n. 44 max disp. = 0.187112 DS = 2\n",
      "gmr n. 45 max disp. = 0.192933 DS = 3\n",
      "gmr n. 46 max disp. = 0.446889 DS = 4\n",
      "gmr n. 47 max disp. = 0.22981 DS = 3\n",
      "gmr n. 48 max disp. = 0.0995927 DS = 2\n",
      "gmr n. 49 max disp. = 0.578043 DS = 4\n",
      "gmr n. 50 max disp. = 2.34634 DS = 4\n",
      "gmr n. 51 max disp. = 0.096487 DS = 1\n",
      "gmr n. 52 max disp. = 0.191631 DS = 2\n",
      "gmr n. 53 max disp. = 0.114238 DS = 2\n",
      "gmr n. 54 max disp. = 1.1339 DS = 4\n",
      "gmr n. 55 max disp. = 1.20376 DS = 4\n",
      "gmr n. 56 max disp. = 0.108983 DS = 2\n",
      "gmr n. 57 max disp. = 0.196181 DS = 3\n",
      "gmr n. 58 max disp. = 0.103243 DS = 1\n",
      "gmr n. 59 max disp. = 0.137621 DS = 2\n",
      "gmr n. 60 max disp. = 0.183069 DS = 2\n",
      "records_target2.csv\n",
      "gmr n. 61 max disp. = 0.0436653 DS = 0\n",
      "gmr n. 62 max disp. = 0.0328525 DS = 0\n",
      "gmr n. 63 max disp. = 0.0276477 DS = 0\n",
      "gmr n. 64 max disp. = 0.0261899 DS = 0\n",
      "gmr n. 65 max disp. = 0.0343299 DS = 0\n",
      "gmr n. 66 max disp. = 0.0230587 DS = 0\n",
      "gmr n. 67 max disp. = 0.0456944 DS = 0\n",
      "gmr n. 68 max disp. = 0.020316 DS = 0\n",
      "gmr n. 69 max disp. = 0.0745652 DS = 1\n",
      "gmr n. 70 max disp. = 0.0310462 DS = 0\n",
      "gmr n. 71 max disp. = 0.0355732 DS = 0\n",
      "gmr n. 72 max disp. = 0.0324094 DS = 0\n",
      "gmr n. 73 max disp. = 0.030959 DS = 0\n",
      "gmr n. 74 max disp. = 0.03472 DS = 0\n",
      "gmr n. 75 max disp. = 0.0198143 DS = 0\n",
      "gmr n. 76 max disp. = 0.0371582 DS = 0\n",
      "gmr n. 77 max disp. = 0.0509163 DS = 1\n",
      "gmr n. 78 max disp. = 0.0357823 DS = 0\n",
      "gmr n. 79 max disp. = 0.0167908 DS = 0\n",
      "gmr n. 80 max disp. = 0.0183578 DS = 0\n",
      "gmr n. 81 max disp. = 0.0288358 DS = 0\n",
      "gmr n. 82 max disp. = 0.0420321 DS = 0\n",
      "gmr n. 83 max disp. = 0.033277 DS = 0\n",
      "gmr n. 84 max disp. = 0.0197624 DS = 0\n",
      "gmr n. 85 max disp. = 0.0286154 DS = 0\n",
      "gmr n. 86 max disp. = 0.0329289 DS = 0\n",
      "gmr n. 87 max disp. = 0.0395361 DS = 0\n",
      "gmr n. 88 max disp. = 0.0665515 DS = 1\n",
      "gmr n. 89 max disp. = 0.0290889 DS = 0\n",
      "gmr n. 90 max disp. = 0.0538127 DS = 1\n",
      "records_target3.csv\n",
      "gmr n. 91 max disp. = 0.03055 DS = 0\n",
      "gmr n. 92 max disp. = 0.661743 DS = 4\n",
      "gmr n. 93 max disp. = 0.0847939 DS = 1\n",
      "gmr n. 94 max disp. = 0.0500529 DS = 1\n",
      "gmr n. 95 max disp. = 0.066907 DS = 1\n",
      "gmr n. 96 max disp. = 0.0578322 DS = 1\n",
      "gmr n. 97 max disp. = 0.125002 DS = 2\n",
      "gmr n. 98 max disp. = 0.0376774 DS = 0\n",
      "gmr n. 99 max disp. = 0.0549832 DS = 1\n",
      "gmr n. 100 max disp. = 0.0499474 DS = 0\n",
      "gmr n. 101 max disp. = 0.166386 DS = 3\n",
      "gmr n. 102 max disp. = 0.0897508 DS = 2\n",
      "gmr n. 103 max disp. = 0.0396103 DS = 0\n",
      "gmr n. 104 max disp. = 0.0714021 DS = 1\n",
      "gmr n. 105 max disp. = 0.0539643 DS = 1\n",
      "gmr n. 106 max disp. = 0.0372375 DS = 0\n",
      "gmr n. 107 max disp. = 0.140782 DS = 2\n",
      "gmr n. 108 max disp. = 0.0429616 DS = 0\n",
      "gmr n. 109 max disp. = 0.11282 DS = 2\n",
      "gmr n. 110 max disp. = 0.0444324 DS = 0\n",
      "gmr n. 111 max disp. = 0.0280933 DS = 0\n",
      "gmr n. 112 max disp. = 0.0603382 DS = 1\n",
      "gmr n. 113 max disp. = 0.0387259 DS = 0\n",
      "gmr n. 114 max disp. = 0.0408986 DS = 0\n",
      "gmr n. 115 max disp. = 0.0465556 DS = 0\n",
      "gmr n. 116 max disp. = 0.0504521 DS = 1\n",
      "gmr n. 117 max disp. = 0.0755927 DS = 1\n",
      "gmr n. 118 max disp. = 0.0826712 DS = 1\n",
      "gmr n. 119 max disp. = 0.0577262 DS = 1\n",
      "gmr n. 120 max disp. = 0.0822369 DS = 1\n",
      "records_target4.csv\n",
      "gmr n. 121 max disp. = 0.0952775 DS = 1\n",
      "gmr n. 122 max disp. = 0.121538 DS = 2\n",
      "gmr n. 123 max disp. = 0.0739462 DS = 1\n",
      "gmr n. 124 max disp. = 0.102575 DS = 2\n",
      "gmr n. 125 max disp. = 0.0567098 DS = 1\n",
      "gmr n. 126 max disp. = 0.0501541 DS = 1\n",
      "gmr n. 127 max disp. = 0.044759 DS = 0\n",
      "gmr n. 128 max disp. = 0.0734534 DS = 1\n",
      "gmr n. 129 max disp. = 0.308347 DS = 4\n",
      "gmr n. 130 max disp. = 0.0485508 DS = 0\n",
      "gmr n. 131 max disp. = 0.129572 DS = 2\n",
      "gmr n. 132 max disp. = 0.043724 DS = 0\n",
      "gmr n. 133 max disp. = 0.106198 DS = 2\n",
      "gmr n. 134 max disp. = 0.0626876 DS = 1\n",
      "gmr n. 135 max disp. = 0.0430436 DS = 0\n",
      "gmr n. 136 max disp. = 0.087779 DS = 1\n",
      "gmr n. 137 max disp. = 0.147703 DS = 2\n",
      "gmr n. 138 max disp. = 0.161577 DS = 2\n",
      "gmr n. 139 max disp. = 0.162998 DS = 2\n",
      "gmr n. 140 max disp. = 0.0366909 DS = 0\n",
      "gmr n. 141 max disp. = 0.0681034 DS = 1\n",
      "gmr n. 142 max disp. = 0.0511633 DS = 1\n",
      "gmr n. 143 max disp. = 0.0347751 DS = 0\n",
      "gmr n. 144 max disp. = 0.0632795 DS = 1\n",
      "gmr n. 145 max disp. = 0.0825541 DS = 1\n",
      "gmr n. 146 max disp. = 0.152466 DS = 2\n",
      "gmr n. 147 max disp. = 0.0923954 DS = 1\n",
      "gmr n. 148 max disp. = 0.14301 DS = 2\n",
      "gmr n. 149 max disp. = 0.0443647 DS = 0\n",
      "gmr n. 150 max disp. = 0.65046 DS = 4\n",
      "records_target5.csv\n",
      "gmr n. 151 max disp. = 0.0398825 DS = 0\n",
      "gmr n. 152 max disp. = 0.302533 DS = 3\n",
      "gmr n. 153 max disp. = 0.203479 DS = 3\n",
      "gmr n. 154 max disp. = 0.0494099 DS = 0\n",
      "gmr n. 155 max disp. = 0.0728285 DS = 1\n",
      "gmr n. 156 max disp. = 0.109581 DS = 2\n",
      "gmr n. 157 max disp. = 0.0676332 DS = 1\n",
      "gmr n. 158 max disp. = 0.163904 DS = 2\n",
      "gmr n. 159 max disp. = 0.121194 DS = 2\n",
      "gmr n. 160 max disp. = 0.0845891 DS = 1\n",
      "gmr n. 161 max disp. = 0.143694 DS = 2\n",
      "gmr n. 162 max disp. = 0.0945848 DS = 1\n",
      "gmr n. 163 max disp. = 0.0571491 DS = 1\n",
      "gmr n. 164 max disp. = 0.481399 DS = 4\n",
      "gmr n. 165 max disp. = 0.0968513 DS = 1\n",
      "gmr n. 166 max disp. = 0.0682292 DS = 1\n",
      "gmr n. 167 max disp. = 0.199741 DS = 3\n",
      "gmr n. 168 max disp. = 0.0509138 DS = 1\n",
      "gmr n. 169 max disp. = 0.148612 DS = 3\n",
      "gmr n. 170 max disp. = 0.0776853 DS = 1\n",
      "gmr n. 171 max disp. = 0.153211 DS = 2\n",
      "gmr n. 172 max disp. = 0.383325 DS = 4\n",
      "gmr n. 173 max disp. = 0.038226 DS = 0\n",
      "gmr n. 174 max disp. = 0.0891979 DS = 1\n",
      "gmr n. 175 max disp. = 0.0643837 DS = 1\n",
      "gmr n. 176 max disp. = 0.0830752 DS = 1\n",
      "gmr n. 177 max disp. = 0.10614 DS = 1\n",
      "gmr n. 178 max disp. = 0.373662 DS = 3\n",
      "gmr n. 179 max disp. = 0.122144 DS = 2\n",
      "gmr n. 180 max disp. = 0.212409 DS = 3\n",
      "records_target6.csv\n",
      "gmr n. 181 max disp. = 0.125313 DS = 2\n",
      "gmr n. 182 max disp. = 0.0861075 DS = 1\n",
      "gmr n. 183 max disp. = 0.0426138 DS = 0\n",
      "gmr n. 184 max disp. = 0.335744 DS = 3\n",
      "gmr n. 185 max disp. = 0.346549 DS = 4\n",
      "gmr n. 186 max disp. = 0.0541226 DS = 1\n",
      "gmr n. 187 max disp. = 0.135864 DS = 2\n",
      "gmr n. 188 max disp. = 0.115723 DS = 2\n",
      "gmr n. 189 max disp. = 0.117767 DS = 1\n",
      "gmr n. 190 max disp. = 0.0733984 DS = 1\n",
      "gmr n. 191 max disp. = 0.180426 DS = 2\n",
      "gmr n. 192 max disp. = 0.142405 DS = 2\n",
      "gmr n. 193 max disp. = 0.108602 DS = 2\n",
      "gmr n. 194 max disp. = 0.193523 DS = 3\n",
      "gmr n. 195 max disp. = 0.133911 DS = 2\n",
      "gmr n. 196 max disp. = 0.0660107 DS = 1\n",
      "gmr n. 197 max disp. = 0.423605 DS = 4\n",
      "gmr n. 198 max disp. = 0.108017 DS = 2\n",
      "gmr n. 199 max disp. = 0.855632 DS = 4\n",
      "gmr n. 200 max disp. = 0.0592832 DS = 1\n",
      "gmr n. 201 max disp. = 0.188289 DS = 3\n",
      "gmr n. 202 max disp. = 0.0783798 DS = 1\n",
      "gmr n. 203 max disp. = 0.211463 DS = 3\n",
      "gmr n. 204 max disp. = 0.18784 DS = 4\n",
      "gmr n. 205 max disp. = 0.591457 DS = 4\n",
      "gmr n. 206 max disp. = 0.0534982 DS = 1\n",
      "gmr n. 207 max disp. = 0.118471 DS = 2\n",
      "gmr n. 208 max disp. = 0.0790045 DS = 1\n",
      "gmr n. 209 max disp. = 0.0941282 DS = 2\n",
      "gmr n. 210 max disp. = 0.127207 DS = 2\n",
      "records_target7.csv\n",
      "gmr n. 211 max disp. = 0.110661 DS = 2\n",
      "gmr n. 212 max disp. = 0.137979 DS = 2\n",
      "gmr n. 213 max disp. = 0.128465 DS = 2\n",
      "gmr n. 214 max disp. = 0.108421 DS = 1\n",
      "gmr n. 215 max disp. = 0.05359 DS = 1\n",
      "gmr n. 216 max disp. = 0.2386 DS = 3\n",
      "gmr n. 217 max disp. = 0.323947 DS = 4\n",
      "gmr n. 218 max disp. = 0.567537 DS = 4\n",
      "gmr n. 219 max disp. = 0.0622551 DS = 1\n",
      "gmr n. 220 max disp. = 0.169679 DS = 3\n",
      "gmr n. 221 max disp. = 0.101002 DS = 2\n",
      "gmr n. 222 max disp. = 0.0858075 DS = 1\n",
      "gmr n. 223 max disp. = 0.215659 DS = 3\n",
      "gmr n. 224 max disp. = 0.157415 DS = 2\n",
      "gmr n. 225 max disp. = 0.131323 DS = 2\n",
      "gmr n. 226 max disp. = 0.237 DS = 3\n",
      "gmr n. 227 max disp. = 0.166474 DS = 4\n",
      "gmr n. 228 max disp. = 0.074098 DS = 1\n",
      "gmr n. 229 max disp. = 0.81499 DS = 4\n",
      "gmr n. 230 max disp. = 1.29351 DS = 4\n",
      "gmr n. 231 max disp. = 0.0676204 DS = 1\n",
      "gmr n. 232 max disp. = 0.20862 DS = 3\n",
      "gmr n. 233 max disp. = 0.103623 DS = 2\n",
      "gmr n. 234 max disp. = 0.486995 DS = 4\n",
      "gmr n. 235 max disp. = 0.796595 DS = 4\n",
      "gmr n. 236 max disp. = 0.0644705 DS = 1\n",
      "gmr n. 237 max disp. = 0.150276 DS = 3\n",
      "gmr n. 238 max disp. = 0.103707 DS = 2\n",
      "gmr n. 239 max disp. = 0.0940603 DS = 1\n",
      "gmr n. 240 max disp. = 0.146917 DS = 2\n",
      "records_target8.csv\n",
      "gmr n. 241 max disp. = 0.128379 DS = 2\n",
      "gmr n. 242 max disp. = 0.131545 DS = 2\n",
      "gmr n. 243 max disp. = 0.138494 DS = 2\n",
      "gmr n. 244 max disp. = 0.150486 DS = 2\n",
      "gmr n. 245 max disp. = 0.274678 DS = 4\n",
      "gmr n. 246 max disp. = 0.0706063 DS = 1\n",
      "gmr n. 247 max disp. = 0.311784 DS = 4\n",
      "gmr n. 248 max disp. = 0.675191 DS = 4\n",
      "gmr n. 249 max disp. = 0.0729409 DS = 1\n",
      "gmr n. 250 max disp. = 0.234121 DS = 3\n",
      "gmr n. 251 max disp. = 0.109621 DS = 2\n",
      "gmr n. 252 max disp. = 0.0780814 DS = 1\n",
      "gmr n. 253 max disp. = 0.240301 DS = 3\n",
      "gmr n. 254 max disp. = 0.166261 DS = 2\n",
      "gmr n. 255 max disp. = 0.154129 DS = 2\n",
      "gmr n. 256 max disp. = 0.287961 DS = 4\n",
      "gmr n. 257 max disp. = 0.182938 DS = 2\n",
      "gmr n. 258 max disp. = 0.0817086 DS = 1\n",
      "gmr n. 259 max disp. = 0.896527 DS = 4\n",
      "gmr n. 260 max disp. = 1.66966 DS = 4\n",
      "gmr n. 261 max disp. = 0.0756811 DS = 1\n",
      "gmr n. 262 max disp. = 0.207623 DS = 3\n",
      "gmr n. 263 max disp. = 0.107535 DS = 2\n",
      "gmr n. 264 max disp. = 0.775393 DS = 4\n",
      "gmr n. 265 max disp. = 0.970876 DS = 4\n",
      "gmr n. 266 max disp. = 0.0768081 DS = 1\n",
      "gmr n. 267 max disp. = 0.165025 DS = 2\n",
      "gmr n. 268 max disp. = 0.115324 DS = 2\n",
      "gmr n. 269 max disp. = 0.111686 DS = 2\n",
      "gmr n. 270 max disp. = 0.165328 DS = 2\n",
      "records_target9.csv\n",
      "gmr n. 271 max disp. = 0.133112 DS = 2\n",
      "gmr n. 272 max disp. = 0.156446 DS = 2\n",
      "gmr n. 273 max disp. = 0.294915 DS = 4\n",
      "gmr n. 274 max disp. = 0.173486 DS = 2\n",
      "gmr n. 275 max disp. = 0.16212 DS = 3\n",
      "gmr n. 276 max disp. = 0.0813944 DS = 1\n",
      "gmr n. 277 max disp. = 0.436032 DS = 4\n",
      "gmr n. 278 max disp. = 0.763186 DS = 4\n",
      "gmr n. 279 max disp. = 0.0845115 DS = 1\n",
      "gmr n. 280 max disp. = 0.368817 DS = 4\n",
      "gmr n. 281 max disp. = 0.125853 DS = 2\n",
      "gmr n. 282 max disp. = 0.0865374 DS = 1\n",
      "gmr n. 283 max disp. = 0.208809 DS = 3\n",
      "gmr n. 284 max disp. = 0.175968 DS = 2\n",
      "gmr n. 285 max disp. = 0.173939 DS = 2\n",
      "gmr n. 286 max disp. = 0.345184 DS = 4\n",
      "gmr n. 287 max disp. = 0.206999 DS = 2\n",
      "gmr n. 288 max disp. = 0.0905347 DS = 2\n",
      "gmr n. 289 max disp. = 0.752201 DS = 4\n",
      "gmr n. 290 max disp. = 2.00679 DS = 4\n",
      "gmr n. 291 max disp. = 0.0843639 DS = 2\n",
      "gmr n. 292 max disp. = 0.202245 DS = 2\n",
      "gmr n. 293 max disp. = 0.105184 DS = 1\n",
      "gmr n. 294 max disp. = 0.980876 DS = 4\n",
      "gmr n. 295 max disp. = 1.07786 DS = 4\n",
      "gmr n. 296 max disp. = 0.090235 DS = 1\n",
      "gmr n. 297 max disp. = 0.169318 DS = 2\n",
      "gmr n. 298 max disp. = 0.111821 DS = 2\n",
      "gmr n. 299 max disp. = 0.128227 DS = 2\n",
      "gmr n. 300 max disp. = 0.176224 DS = 2\n"
     ]
    }
   ],
   "source": [
    "damping_ratio = 0.05\n",
    "degradation = False\n",
    "\n",
    "msa = {}; msa['n. bins']=no_bins; msa['records per bin']=no_rec_bin; msa['input folder']=record_scaled_folder\n",
    "PDM, Sds, IML_info = MSA_on_SDOF.calculate_fragility(capacity_curves, hysteresis, msa, gmrs, \n",
    "                                                      damage_model, damping_ratio, degradation)"
   ]
  },
  {
   "cell_type": "markdown",
   "metadata": {},
   "source": [
    "### Fit lognormal CDF fragility curves\n",
    "\n",
    "The following parameters need to be defined in the cell below in order to fit lognormal CDF fragility curves to the damage probability matrix obtained above:\n",
    "1. `IMT`: This parameter specifies the intensity measure type to be used. Currently supported options are `\"PGA\"`, `\"Sa\"`,`\"Sd\"` and `\"HI\"` (Housner Intensity).\n",
    "2. `period`: This parameter defines the period for which a spectral intensity measure should be computed. If Housner Intensity is selected as intensity measure a range of periods should be defined instead (for example `T=np.arange(0.3,3.61,0.01)`).\n",
    "3. `regression_method`: This parameter defines the regression method to be used for estimating the parameters of the fragility functions. The valid options are `\"least squares\"` and `\"max likelihood\"`."
   ]
  },
  {
   "cell_type": "code",
   "execution_count": 16,
   "metadata": {
    "collapsed": false
   },
   "outputs": [
    {
     "name": "stdout",
     "output_type": "stream",
     "text": [
      "Optimization terminated successfully.\n",
      "         Current function value: 8.873711\n",
      "         Iterations: 36\n",
      "         Function evaluations: 69\n",
      "Optimization terminated successfully.\n",
      "         Current function value: 15.223140\n",
      "         Iterations: 34\n",
      "         Function evaluations: 64\n",
      "Optimization terminated successfully.\n",
      "         Current function value: 15.785185\n",
      "         Iterations: 47\n",
      "         Function evaluations: 91\n",
      "Optimization terminated successfully.\n",
      "         Current function value: 13.457298\n",
      "         Iterations: 48\n",
      "         Function evaluations: 93\n"
     ]
    }
   ],
   "source": [
    "import MSA_post_processing\n",
    "\n",
    "IMT = \"Sa\"\n",
    "T = 0.45\n",
    "regression_method = \"max likelihood\"\n",
    "\n",
    "fragility_model = MSA_post_processing.calculate_fragility_model(PDM,gmrs,IML_info,IMT,msa,damage_model,\n",
    "                                                                        T,damping_ratio, regression_method)"
   ]
  },
  {
   "cell_type": "markdown",
   "metadata": {},
   "source": [
    "### Plot fragility functions\n",
    "\n",
    "The following parameters need to be defined in the cell below in order to plot the lognormal CDF fragility curves obtained above:\n",
    "* `minIML` and `maxIML`: These parameters define the limits of the intensity measure level for plotting the functions"
   ]
  },
  {
   "cell_type": "code",
   "execution_count": 18,
   "metadata": {
    "collapsed": false
   },
   "outputs": [
    {
     "data": {
      "image/png": "[encoded data removed]",
      "text/plain": [
       "<matplotlib.figure.Figure at 0x1123948d0>"
      ]
     },
     "metadata": {},
     "output_type": "display_data"
    }
   ],
   "source": [
    "minIML, maxIML = 0.01, 4\n",
    "utils.plot_fragility_model(fragility_model, minIML, maxIML)"
   ]
  },
  {
   "cell_type": "markdown",
   "metadata": {},
   "source": [
    "\n",
    "### Save fragility functions\n",
    " \n",
    "The derived parametric fragility functions can be saved to a file in either CSV format or in the NRML format that is used by all OpenQuake input models. The following parameters need to be defined in the cell below in order to save the lognormal CDF fragility curves obtained above:\n",
    " 1. `taxonomy`: This parameter specifies a taxonomy string for the the fragility functions.\n",
    " 2. `minIML` and `maxIML`: These parameters define the bounds of applicability of the functions.\n",
    " 3. `output_type`: This parameter specifies the file format to be used for saving the functions. Currently, the formats supported are \"csv\" and \"nrml\"."
   ]
  },
  {
   "cell_type": "code",
   "execution_count": 19,
   "metadata": {
    "collapsed": true
   },
   "outputs": [],
   "source": [
    "taxonomy = \"RC\"\n",
    "minIML, maxIML = 0.01, 3.00\n",
    "output_type = \"csv\"\n",
    "output_path = \"../../../../../phd_thesis/\""
   ]
  },
  {
   "cell_type": "code",
   "execution_count": 20,
   "metadata": {
    "collapsed": false
   },
   "outputs": [],
   "source": [
    "utils.save_mean_fragility(taxonomy, fragility_model, minIML, maxIML, output_type, output_path)"
   ]
  },
  {
   "cell_type": "markdown",
   "metadata": {
    "collapsed": true
   },
   "source": [
    "### Obtain vulnerability function\n",
    "\n",
    "A vulnerability model can be derived by combining the set of fragility functions obtained above with a consequence model. In this process, the fractions of buildings in each damage state are multiplied by the associated damage ratio from the consequence model, in order to obtain a distribution of loss ratio for each intensity measure level. \n",
    "\n",
    "The following parameters need to be defined in the cell below in order to calculate vulnerability functions using the above derived fragility functions:\n",
    "1. `cons_model_file`: This parameter specifies the path of the consequence model file.\n",
    "2. `imls`: This parameter specifies a list of intensity measure levels in increasing order at which the distribution of loss ratios are required to be calculated.\n",
    "3. `distribution_type`: This parameter specifies the type of distribution to be used for calculating the vulnerability function. The distribution types currently supported are \"lognormal\", \"beta\", and \"PMF\"."
   ]
  },
  {
   "cell_type": "code",
   "execution_count": 21,
   "metadata": {
    "collapsed": true
   },
   "outputs": [],
   "source": [
    "cons_model_file = \"../../../../../rmtk_data/cons_model.csv\"\n",
    "imls = [0.05, 0.10, 0.15, 0.20, 0.25, 0.30, 0.35, 0.40, 0.45, 0.50, \n",
    "        0.60, 0.70, 0.80, 0.90, 1.00, 1.20, 1.40, 1.60, 1.80, 2.00, \n",
    "        2.20, 2.40, 2.60, 2.80, 3.00, 3.20, 3.40, 3.60, 3.80, 4.00]\n",
    "distribution_type = \"lognormal\""
   ]
  },
  {
   "cell_type": "code",
   "execution_count": 22,
   "metadata": {
    "collapsed": true
   },
   "outputs": [],
   "source": [
    "cons_model = utils.read_consequence_model(cons_model_file)\n",
    "vulnerability_model = utils.convert_fragility_vulnerability(fragility_model, cons_model, \n",
    "                                                            imls, distribution_type)"
   ]
  },
  {
   "cell_type": "code",
   "execution_count": 23,
   "metadata": {
    "collapsed": false
   },
   "outputs": [
    {
     "data": {
      "image/png": "[encoded data removed]",
      "text/plain": [
       "<matplotlib.figure.Figure at 0x112351650>"
      ]
     },
     "metadata": {},
     "output_type": "display_data"
    }
   ],
   "source": [
    "utils.plot_vulnerability_model(vulnerability_model)"
   ]
  },
  {
   "cell_type": "markdown",
   "metadata": {},
   "source": [
    "### Save vulnerability function\n",
    "\n",
    "The derived parametric or nonparametric vulnerability function can be saved to a file in either CSV format or in the NRML format that is used by all OpenQuake input models. The following parameters need to be defined in the cell below in order to save the lognormal CDF fragility curves obtained above:\n",
    "1. `taxonomy`: This parameter specifies a taxonomy string for the the fragility functions.\n",
    "3. `output_type`: This parameter specifies the file format to be used for saving the functions. Currently, the formats supported are \"csv\" and \"nrml\"."
   ]
  },
  {
   "cell_type": "code",
   "execution_count": 28,
   "metadata": {
    "collapsed": true
   },
   "outputs": [],
   "source": [
    "taxonomy = \"RC\"\n",
    "output_type = \"csv\"\n",
    "output_path = \"../../../../../rmtk_data/output/\""
   ]
  },
  {
   "cell_type": "code",
   "execution_count": 29,
   "metadata": {
    "collapsed": false
   },
   "outputs": [],
   "source": [
    "utils.save_vulnerability(taxonomy, vulnerability_model, output_type, output_path)"
   ]
  },
  {
   "cell_type": "code",
   "execution_count": null,
   "metadata": {
    "collapsed": true
   },
   "outputs": [],
   "source": []
  }
 ],
 "metadata": {
  "kernelspec": {
   "display_name": "Python 2",
   "language": "python",
   "name": "python2"
  },
  "language_info": {
   "codemirror_mode": {
    "name": "ipython",
    "version": 2
   },
   "file_extension": ".py",
   "mimetype": "text/x-python",
   "name": "python",
   "nbconvert_exporter": "python",
   "pygments_lexer": "ipython2",
   "version": "2.7.10"
  }
 },
 "nbformat": 4,
 "nbformat_minor": 0
}
