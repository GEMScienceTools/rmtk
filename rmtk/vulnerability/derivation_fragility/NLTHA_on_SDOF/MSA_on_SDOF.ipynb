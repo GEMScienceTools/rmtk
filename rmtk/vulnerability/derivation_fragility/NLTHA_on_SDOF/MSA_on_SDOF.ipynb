{
 "cells": [
  {
   "cell_type": "markdown",
   "metadata": {},
   "source": [
    "# Multiple Stripe Analysis (MSA) for Single Degree of Freedom (SDOF) Oscillators\n",
    "\n",
    "In this method, a single degree of freedom (SDOF) model of each structure is subjected to non-linear time history analysis using a suite of ground motion records scaled to multple stripes of intensity measure. The displacements of the SDOF due to each ground motion record are used as input to determine the distribution of buildings in each damage state for each level of ground motion intensity. A regression algorithm is then applied to derive the fragility model.\n",
    "\n",
    "The figure below illustrates a fragility model developed using this method.\n",
    "\n",
    "<img src=\"../../../../figures/NLTHA_SDOF.png\" width=\"400\" align=\"middle\">\n",
    "\n",
    "**Note**: To run the code in a cell:\n",
    "\n",
    "1. Click on the cell to select it.\n",
    "2. Press `SHIFT+ENTER` on your keyboard or press the play button (<button class='fa fa-play icon-play btn btn-xs btn-default'></button>) in the toolbar above."
   ]
  },
  {
   "cell_type": "code",
   "execution_count": 1,
   "metadata": {
    "collapsed": false
   },
   "outputs": [],
   "source": [
    "import MSA_on_SDOF\n",
    "from rmtk.vulnerability.common import utils\n",
    "import numpy as np\n",
    "%matplotlib inline "
   ]
  },
  {
   "cell_type": "markdown",
   "metadata": {},
   "source": [
    "---\n",
    "###Load capacity curves\n",
    "\n",
    "In order to use this methodology, it is necessary to provide one (or a group) of capacity curves, defined according to the format described in the [RMTK manual](../../../../rmtk-docs.pdf).\n",
    "\n",
    "Please provide the location of the file containing the capacity curves using the parameter `capacity_curves_file`.\n",
    "\n",
    "If the User wants to specify the cyclic hysteretic behaviour of the SDOF system, please input the path of the file where the hysteretic parameters are contained, using the variable `sdof_hysteresis`. The parameters should be defined according to the format described in the [RMTK manual](../../../../rmtk-docs.pdf). If instead default parameters want to be assumed, please set the `sdof_hysteresis` variable to `\"Default\"`"
   ]
  },
  {
   "cell_type": "code",
   "execution_count": 2,
   "metadata": {
    "collapsed": true
   },
   "outputs": [],
   "source": [
    "capacity_curves_file = \"../../../../../rmtk_data/capacity_curve_Sa-Sd.csv\"\n",
    "#sdof_hysteresis = \"Default\"\n",
    "sdof_hysteresis = \"../../../../../rmtk_data/pinching_parameters.csv\""
   ]
  },
  {
   "cell_type": "code",
   "execution_count": 3,
   "metadata": {
    "collapsed": false
   },
   "outputs": [
    {
     "data": {
      "image/png": "[encoded data removed]",
      "text/plain": [
       "<matplotlib.figure.Figure at 0x10f6baf50>"
      ]
     },
     "metadata": {},
     "output_type": "display_data"
    }
   ],
   "source": [
    "capacity_curves = utils.read_capacity_curves(capacity_curves_file)\n",
    "utils.plot_capacity_curves(capacity_curves)\n",
    "if sdof_hysteresis is not \"Default\":\n",
    "    from read_pinching_parameters import read_parameters\n",
    "    hysteresis = read_parameters(sdof_hysteresis)\n",
    "else:\n",
    "    hysteresis = {}; hysteresis['type'] = \"Default\""
   ]
  },
  {
   "cell_type": "markdown",
   "metadata": {},
   "source": [
    "### Load ground motion records\n",
    "For what concerns the ground motions to be used in th Multiple Stripe Analysis the following inputs are required:\n",
    " 1. `gmrs_folder`: path to the folder containing the ground motion records to be used in the analysis. Each accelerogram needs to be in a separate CSV file as described in the [RMTK manual](../../../../rmtk-docs.pdf).\n",
    " 2. `record_scaled_folder`. In this folder there should be a csv file for each Intensity Measure bin selected for the MSA, containing the names of the records that should be scaled to that IM bin, and the corresponding scaling factors. An example of this type of file is provided in the [RMTK manual](../../../../rmtk-docs.pdf).\n",
    " 3. `no_bins`: number of Intensity Measure bins.\n",
    " 4. `no_rec_bin`: number of records per bin\n",
    "\n",
    "If the user wants to plot acceleration, displacement and velocity response spectra, the function `utils.plot_response_spectra(gmrs, minT, maxT)` should be un-commented. The parameters `minT` and `maxT` are used to define the period bounds when plotting the spectra for the provided ground motion fields."
   ]
  },
  {
   "cell_type": "code",
   "execution_count": 4,
   "metadata": {
    "collapsed": false
   },
   "outputs": [],
   "source": [
    "gmrs_folder = \"../../../../../rmtk_data/SYMBAD_txt\"\n",
    "minT, maxT = 0.1, 2.0\n",
    "\n",
    "gmrs = utils.read_gmrs(gmrs_folder)\n",
    "#utils.plot_response_spectra(gmrs, minT, maxT)\n",
    "\n",
    "no_bins = 10\n",
    "no_rec_bin = 30\n",
    "record_scaled_folder = \"../../../../../rmtk_data/Records_scaled\""
   ]
  },
  {
   "cell_type": "markdown",
   "metadata": {},
   "source": [
    "###Load damage state thresholds\n",
    "\n",
    "Please provide the path to your damage model file using the parameter `damage_model_file` in the cell below.\n",
    "\n",
    "Currently the user can provide `spectral displacement`, `capacity curve dependent` and `interstorey drift` damage model type.\n",
    "If the damage model type is `interstorey drift` the user has to input interstorey drift values of the MDOF system. The user can then provide the pushover curve in terms of `Vb-dfloor` to be able to convert interstorey drift limit states to roof displacements and spectral displacements of the SDOF system, otherwise a linear relationship is assumed. In the former case please provide the path to the pushover curve input file in the parameters `pushover_file`, in the latter set `pushover_file=\"Default\"`"
   ]
  },
  {
   "cell_type": "code",
   "execution_count": 5,
   "metadata": {
    "collapsed": false
   },
   "outputs": [],
   "source": [
    "damage_model_file = \"../../../../../rmtk_data/damage_model_ISD.csv\"\n",
    "damage_model = utils.read_damage_model(damage_model_file)\n",
    "\n",
    "pushover_file = \"../../../../../rmtk_data/capacity_curve_Vb-dfloor.csv\"\n",
    "\n",
    "if pushover_file is not \"Default\":\n",
    "    pushover_curves = utils.read_capacity_curves(pushover_file)\n",
    "else: pushover_curves = capacity_curves"
   ]
  },
  {
   "cell_type": "markdown",
   "metadata": {},
   "source": [
    "###Obtain the damage probability matrix\n",
    "\n",
    "The following parameters need to be defined in the cell below in order to calculate the damage probability matrix:\n",
    "1. `damping_ratio`: This parameter defines the damping ratio for the structure.\n",
    "2. `degradation`: This boolean parameter should be set to `True` or `False` to specify whether structural degradation should be considered in the analysis or not."
   ]
  },
  {
   "cell_type": "code",
   "execution_count": 6,
   "metadata": {
    "collapsed": false
   },
   "outputs": [
    {
     "name": "stdout",
     "output_type": "stream",
     "text": [
      "100%\n",
      "records_target1.csv\n",
      "gmr n. 1 max disp. = 0.0331654 DS = 0\n",
      "gmr n. 2 max disp. = 0.0246189 DS = 0\n",
      "gmr n. 3 max disp. = 0.0291384 DS = 0\n",
      "gmr n. 4 max disp. = 0.0179007 DS = 0\n",
      "gmr n. 5 max disp. = 0.0345893 DS = 0\n",
      "gmr n. 6 max disp. = 0.0393778 DS = 0\n",
      "gmr n. 7 max disp. = 0.0279349 DS = 0\n",
      "gmr n. 8 max disp. = 0.0150092 DS = 0\n",
      "gmr n. 9 max disp. = 0.0214157 DS = 0\n",
      "gmr n. 10 max disp. = 0.0231638 DS = 0\n",
      "gmr n. 11 max disp. = 0.0380778 DS = 0\n",
      "gmr n. 12 max disp. = 0.0682725 DS = 1\n",
      "gmr n. 13 max disp. = 0.0421574 DS = 0\n",
      "gmr n. 14 max disp. = 0.0482338 DS = 0\n",
      "gmr n. 15 max disp. = 0.0304082 DS = 0\n",
      "gmr n. 16 max disp. = 0.0292421 DS = 0\n",
      "gmr n. 17 max disp. = 0.031948 DS = 0\n",
      "gmr n. 18 max disp. = 0.0158296 DS = 0\n",
      "gmr n. 19 max disp. = 0.0240536 DS = 0\n",
      "gmr n. 20 max disp. = 0.0532212 DS = 0\n",
      "gmr n. 21 max disp. = 0.0135263 DS = 0\n",
      "gmr n. 22 max disp. = 0.0362676 DS = 0\n",
      "gmr n. 23 max disp. = 0.0184917 DS = 0\n",
      "gmr n. 24 max disp. = 0.0626718 DS = 1\n",
      "gmr n. 25 max disp. = 0.0229002 DS = 0\n",
      "gmr n. 26 max disp. = 0.0250693 DS = 0\n",
      "gmr n. 27 max disp. = 0.0501969 DS = 0\n",
      "gmr n. 28 max disp. = 0.020312 DS = 0\n",
      "gmr n. 29 max disp. = 0.0326702 DS = 0\n",
      "gmr n. 30 max disp. = 0.0255183 DS = 0\n",
      "records_target10.csv\n",
      "gmr n. 31 max disp. = 1.19516 DS = 3\n",
      "gmr n. 32 max disp. = 1.12661 DS = 3\n",
      "gmr n. 33 max disp. = 1.19533 DS = 3\n",
      "gmr n. 34 max disp. = 1.19061 DS = 3\n",
      "gmr n. 35 max disp. = 1.51278 DS = 3\n",
      "gmr n. 36 max disp. = 1.1115 DS = 3\n",
      "gmr n. 37 max disp. = 0.865266 DS = 3\n",
      "gmr n. 38 max disp. = 0.773042 DS = 3\n",
      "gmr n. 39 max disp. = 1.63211 DS = 3\n",
      "gmr n. 40 max disp. = 0.960621 DS = 3\n",
      "gmr n. 41 max disp. = 0.926198 DS = 3\n",
      "gmr n. 42 max disp. = 1.25365 DS = 3\n",
      "gmr n. 43 max disp. = 1.07496 DS = 3\n",
      "gmr n. 44 max disp. = 0.920521 DS = 3\n",
      "gmr n. 45 max disp. = 2.28792 DS = 3\n",
      "gmr n. 46 max disp. = 0.604686 DS = 3\n",
      "gmr n. 47 max disp. = 0.808722 DS = 3\n",
      "gmr n. 48 max disp. = 1.00792 DS = 3\n",
      "gmr n. 49 max disp. = 0.766261 DS = 3\n",
      "gmr n. 50 max disp. = 1.64463 DS = 3\n",
      "gmr n. 51 max disp. = 0.742169 DS = 3\n",
      "gmr n. 52 max disp. = 1.88752 DS = 3\n",
      "gmr n. 53 max disp. = 2.02212 DS = 3\n",
      "gmr n. 54 max disp. = 4.01833 DS = 3\n",
      "gmr n. 55 max disp. = 0.917978 DS = 3\n",
      "gmr n. 56 max disp. = 1.41228 DS = 3\n",
      "gmr n. 57 max disp. = 0.748617 DS = 3\n",
      "gmr n. 58 max disp. = 1.14917 DS = 3\n",
      "gmr n. 59 max disp. = 1.374 DS = 3\n",
      "gmr n. 60 max disp. = 0.675352 DS = 3\n",
      "records_target2.csv\n",
      "gmr n. 61 max disp. = 0.131147 DS = 1\n",
      "gmr n. 62 max disp. = 0.114305 DS = 1\n",
      "gmr n. 63 max disp. = 0.0794028 DS = 1\n",
      "gmr n. 64 max disp. = 0.0905338 DS = 1\n",
      "gmr n. 65 max disp. = 0.0579785 DS = 1\n",
      "gmr n. 66 max disp. = 0.0204856 DS = 0\n",
      "gmr n. 67 max disp. = 0.0302245 DS = 0\n",
      "gmr n. 68 max disp. = 0.0386665 DS = 0\n",
      "gmr n. 69 max disp. = 0.140498 DS = 1\n",
      "gmr n. 70 max disp. = 0.0965917 DS = 1\n",
      "gmr n. 71 max disp. = 0.0523361 DS = 0\n",
      "gmr n. 72 max disp. = 0.173869 DS = 1\n",
      "gmr n. 73 max disp. = 0.136312 DS = 1\n",
      "gmr n. 74 max disp. = 0.100156 DS = 1\n",
      "gmr n. 75 max disp. = 0.10548 DS = 1\n",
      "gmr n. 76 max disp. = 0.128557 DS = 1\n",
      "gmr n. 77 max disp. = 0.0797441 DS = 1\n",
      "gmr n. 78 max disp. = 0.13345 DS = 1\n",
      "gmr n. 79 max disp. = 0.109462 DS = 1\n",
      "gmr n. 80 max disp. = 0.121651 DS = 1\n",
      "gmr n. 81 max disp. = 0.0152009 DS = 0\n",
      "gmr n. 82 max disp. = 0.174022 DS = 1\n",
      "gmr n. 83 max disp. = 0.0552728 DS = 0\n",
      "gmr n. 84 max disp. = 0.0431961 DS = 0\n",
      "gmr n. 85 max disp. = 0.11864 DS = 1\n",
      "gmr n. 86 max disp. = 0.100134 DS = 1\n",
      "gmr n. 87 max disp. = 0.0643849 DS = 1\n",
      "gmr n. 88 max disp. = 0.0684412 DS = 1\n",
      "gmr n. 89 max disp. = 0.0313926 DS = 0\n",
      "gmr n. 90 max disp. = 0.047114 DS = 0\n",
      "records_target3.csv\n",
      "gmr n. 91 max disp. = 0.150086 DS = 1\n",
      "gmr n. 92 max disp. = 0.130384 DS = 1\n",
      "gmr n. 93 max disp. = 0.151469 DS = 1\n",
      "gmr n. 94 max disp. = 0.206869 DS = 1\n",
      "gmr n. 95 max disp. = 0.144523 DS = 1\n",
      "gmr n. 96 max disp. = 0.0777879 DS = 1\n",
      "gmr n. 97 max disp. = 0.14738 DS = 1\n",
      "gmr n. 98 max disp. = 0.154123 DS = 1\n",
      "gmr n. 99 max disp. = 0.203434 DS = 1\n",
      "gmr n. 100 max disp. = 0.177148 DS = 1\n",
      "gmr n. 101 max disp. = 0.324013 DS = 3\n",
      "gmr n. 102 max disp. = 0.11356 DS = 1\n",
      "gmr n. 103 max disp. = 0.207228 DS = 1\n",
      "gmr n. 104 max disp. = 0.169979 DS = 1\n",
      "gmr n. 105 max disp. = 0.2444 DS = 2\n",
      "gmr n. 106 max disp. = 0.276763 DS = 2\n",
      "gmr n. 107 max disp. = 0.0732187 DS = 1\n",
      "gmr n. 108 max disp. = 0.222855 DS = 2\n",
      "gmr n. 109 max disp. = 0.232562 DS = 2\n",
      "gmr n. 110 max disp. = 0.158017 DS = 1\n",
      "gmr n. 111 max disp. = 0.239022 DS = 2\n",
      "gmr n. 112 max disp. = 0.207835 DS = 1\n",
      "gmr n. 113 max disp. = 0.304705 DS = 3\n",
      "gmr n. 114 max disp. = 0.0477878 DS = 0\n",
      "gmr n. 115 max disp. = 0.206878 DS = 1\n",
      "gmr n. 116 max disp. = 0.117912 DS = 1\n",
      "gmr n. 117 max disp. = 0.255005 DS = 2\n",
      "gmr n. 118 max disp. = 0.123466 DS = 1\n",
      "gmr n. 119 max disp. = 0.037617 DS = 0\n",
      "gmr n. 120 max disp. = 0.10408 DS = 1\n",
      "records_target4.csv\n",
      "gmr n. 121 max disp. = 0.102045 DS = 1\n",
      "gmr n. 122 max disp. = 0.242737 DS = 2\n",
      "gmr n. 123 max disp. = 0.416909 DS = 3\n",
      "gmr n. 124 max disp. = 0.101404 DS = 1\n",
      "gmr n. 125 max disp. = 0.286627 DS = 3\n",
      "gmr n. 126 max disp. = 0.188893 DS = 1\n",
      "gmr n. 127 max disp. = 0.22581 DS = 2\n",
      "gmr n. 128 max disp. = 0.221178 DS = 2\n",
      "gmr n. 129 max disp. = 0.298672 DS = 3\n",
      "gmr n. 130 max disp. = 0.181148 DS = 1\n",
      "gmr n. 131 max disp. = 0.112083 DS = 1\n",
      "gmr n. 132 max disp. = 0.572464 DS = 3\n",
      "gmr n. 133 max disp. = 0.205421 DS = 1\n",
      "gmr n. 134 max disp. = 0.227612 DS = 2\n",
      "gmr n. 135 max disp. = 0.16955 DS = 1\n",
      "gmr n. 136 max disp. = 0.267153 DS = 2\n",
      "gmr n. 137 max disp. = 0.218995 DS = 2\n",
      "gmr n. 138 max disp. = 0.20292 DS = 1\n",
      "gmr n. 139 max disp. = 0.301838 DS = 3\n",
      "gmr n. 140 max disp. = 0.131742 DS = 1\n",
      "gmr n. 141 max disp. = 0.384338 DS = 3\n",
      "gmr n. 142 max disp. = 0.0466719 DS = 0\n",
      "gmr n. 143 max disp. = 0.218267 DS = 2\n",
      "gmr n. 144 max disp. = 0.299605 DS = 3\n",
      "gmr n. 145 max disp. = 0.474212 DS = 3\n",
      "gmr n. 146 max disp. = 0.184001 DS = 1\n",
      "gmr n. 147 max disp. = 0.153585 DS = 1\n",
      "gmr n. 148 max disp. = 0.262081 DS = 2\n",
      "gmr n. 149 max disp. = 0.202862 DS = 1\n",
      "gmr n. 150 max disp. = 0.264694 DS = 2\n",
      "records_target5.csv\n",
      "gmr n. 151 max disp. = 0.323129 DS = 3\n",
      "gmr n. 152 max disp. = 0.240587 DS = 2\n",
      "gmr n. 153 max disp. = 0.395951 DS = 3\n",
      "gmr n. 154 max disp. = 0.2676 DS = 2\n",
      "gmr n. 155 max disp. = 0.226321 DS = 2\n",
      "gmr n. 156 max disp. = 0.480802 DS = 3\n",
      "gmr n. 157 max disp. = 0.529473 DS = 3\n",
      "gmr n. 158 max disp. = 0.537647 DS = 3\n",
      "gmr n. 159 max disp. = 0.261475 DS = 2\n",
      "gmr n. 160 max disp. = 0.412978 DS = 3\n",
      "gmr n. 161 max disp. = 0.308317 DS = 3\n",
      "gmr n. 162 max disp. = 0.299293 DS = 3\n",
      "gmr n. 163 max disp. = 0.262264 DS = 2\n",
      "gmr n. 164 max disp. = 0.356029 DS = 3\n",
      "gmr n. 165 max disp. = 0.288587 DS = 3\n",
      "gmr n. 166 max disp. = 0.887174 DS = 3\n",
      "gmr n. 167 max disp. = 0.243472 DS = 2\n",
      "gmr n. 168 max disp. = 0.247255 DS = 2\n",
      "gmr n. 169 max disp. = 0.58611 DS = 3\n",
      "gmr n. 170 max disp. = 0.580887 DS = 3\n",
      "gmr n. 171 max disp. = 0.26199 DS = 2\n",
      "gmr n. 172 max disp. = 0.294585 DS = 3\n",
      "gmr n. 173 max disp. = 0.322765 DS = 3\n",
      "gmr n. 174 max disp. = 0.295103 DS = 3\n",
      "gmr n. 175 max disp. = 0.257911 DS = 2\n",
      "gmr n. 176 max disp. = 0.539119 DS = 3\n",
      "gmr n. 177 max disp. = 0.702395 DS = 3\n",
      "gmr n. 178 max disp. = 0.551384 DS = 3\n",
      "gmr n. 179 max disp. = 0.203445 DS = 1\n",
      "gmr n. 180 max disp. = 0.287759 DS = 3\n",
      "records_target6.csv\n",
      "gmr n. 181 max disp. = 0.433889 DS = 3\n",
      "gmr n. 182 max disp. = 0.535483 DS = 3\n",
      "gmr n. 183 max disp. = 0.426452 DS = 3\n",
      "gmr n. 184 max disp. = 0.468746 DS = 3\n",
      "gmr n. 185 max disp. = 0.734127 DS = 3\n",
      "gmr n. 186 max disp. = 0.499922 DS = 3\n",
      "gmr n. 187 max disp. = 0.53834 DS = 3\n",
      "gmr n. 188 max disp. = 0.756301 DS = 3\n",
      "gmr n. 189 max disp. = 0.309341 DS = 3\n",
      "gmr n. 190 max disp. = 0.281449 DS = 3\n",
      "gmr n. 191 max disp. = 0.66837 DS = 3\n",
      "gmr n. 192 max disp. = 1.1355 DS = 3\n",
      "gmr n. 193 max disp. = 0.932611 DS = 3\n",
      "gmr n. 194 max disp. = 0.963394 DS = 3\n",
      "gmr n. 195 max disp. = 0.578865 DS = 3\n",
      "gmr n. 196 max disp. = 0.656591 DS = 3\n",
      "gmr n. 197 max disp. = 0.742629 DS = 3\n",
      "gmr n. 198 max disp. = 0.859324 DS = 3\n",
      "gmr n. 199 max disp. = 0.576353 DS = 3\n",
      "gmr n. 200 max disp. = 1.02789 DS = 3\n",
      "gmr n. 201 max disp. = 1.03213 DS = 3\n",
      "gmr n. 202 max disp. = 0.647537 DS = 3\n",
      "gmr n. 203 max disp. = 0.923354 DS = 3\n",
      "gmr n. 204 max disp. = 0.587182 DS = 3\n",
      "gmr n. 205 max disp. = 1.38216 DS = 3\n",
      "gmr n. 206 max disp. = 0.372861 DS = 3\n",
      "gmr n. 207 max disp. = 0.299244 DS = 3\n",
      "gmr n. 208 max disp. = 1.0062 DS = 3\n",
      "gmr n. 209 max disp. = 0.940457 DS = 3\n",
      "gmr n. 210 max disp. = 0.69031 DS = 3\n",
      "records_target7.csv\n",
      "gmr n. 211 max disp. = 0.570399 DS = 3\n",
      "gmr n. 212 max disp. = 0.805035 DS = 3\n",
      "gmr n. 213 max disp. = 0.493605 DS = 3\n",
      "gmr n. 214 max disp. = 1.25713 DS = 3\n",
      "gmr n. 215 max disp. = 0.887465 DS = 3\n",
      "gmr n. 216 max disp. = 0.677551 DS = 3\n",
      "gmr n. 217 max disp. = 0.74684 DS = 3\n",
      "gmr n. 218 max disp. = 0.934775 DS = 3\n",
      "gmr n. 219 max disp. = 1.00249 DS = 3\n",
      "gmr n. 220 max disp. = 1.28765 DS = 3\n",
      "gmr n. 221 max disp. = 0.757695 DS = 3\n",
      "gmr n. 222 max disp. = 0.697705 DS = 3\n",
      "gmr n. 223 max disp. = 0.627465 DS = 3\n",
      "gmr n. 224 max disp. = 1.14703 DS = 3\n",
      "gmr n. 225 max disp. = 1.46313 DS = 3\n",
      "gmr n. 226 max disp. = 0.864111 DS = 3\n",
      "gmr n. 227 max disp. = 0.833327 DS = 3\n",
      "gmr n. 228 max disp. = 0.603274 DS = 3\n",
      "gmr n. 229 max disp. = 0.861735 DS = 3\n",
      "gmr n. 230 max disp. = 0.526469 DS = 3\n",
      "gmr n. 231 max disp. = 0.573975 DS = 3\n",
      "gmr n. 232 max disp. = 0.43982 DS = 3\n",
      "gmr n. 233 max disp. = 0.608013 DS = 3\n",
      "gmr n. 234 max disp. = 0.607827 DS = 3\n",
      "gmr n. 235 max disp. = 0.359668 DS = 3\n",
      "gmr n. 236 max disp. = 0.724758 DS = 3\n",
      "gmr n. 237 max disp. = 0.640461 DS = 3\n",
      "gmr n. 238 max disp. = 0.516589 DS = 3\n",
      "gmr n. 239 max disp. = 0.843352 DS = 3\n",
      "gmr n. 240 max disp. = 0.899514 DS = 3\n",
      "records_target8.csv\n",
      "gmr n. 241 max disp. = 0.814658 DS = 3\n",
      "gmr n. 242 max disp. = 0.694121 DS = 3\n",
      "gmr n. 243 max disp. = 1.48859 DS = 3\n",
      "gmr n. 244 max disp. = 0.911845 DS = 3\n",
      "gmr n. 245 max disp. = 0.620474 DS = 3\n",
      "gmr n. 246 max disp. = 0.886955 DS = 3\n",
      "gmr n. 247 max disp. = 0.566432 DS = 3\n",
      "gmr n. 248 max disp. = 1.10105 DS = 3\n",
      "gmr n. 249 max disp. = 0.58555 DS = 3\n",
      "gmr n. 250 max disp. = 1.00784 DS = 3\n",
      "gmr n. 251 max disp. = 1.08928 DS = 3\n",
      "gmr n. 252 max disp. = 0.560461 DS = 3\n",
      "gmr n. 253 max disp. = 1.52616 DS = 3\n",
      "gmr n. 254 max disp. = 1.39321 DS = 3\n",
      "gmr n. 255 max disp. = 0.757309 DS = 3\n",
      "gmr n. 256 max disp. = 0.870587 DS = 3\n",
      "gmr n. 257 max disp. = 0.840238 DS = 3\n",
      "gmr n. 258 max disp. = 1.54212 DS = 3\n",
      "gmr n. 259 max disp. = 1.39613 DS = 3\n",
      "gmr n. 260 max disp. = 0.522779 DS = 3\n",
      "gmr n. 261 max disp. = 1.01509 DS = 3\n",
      "gmr n. 262 max disp. = 1.07001 DS = 3\n",
      "gmr n. 263 max disp. = 0.949206 DS = 3\n",
      "gmr n. 264 max disp. = 0.639373 DS = 3\n",
      "gmr n. 265 max disp. = 0.491236 DS = 3\n",
      "gmr n. 266 max disp. = 0.499837 DS = 3\n",
      "gmr n. 267 max disp. = 1.56566 DS = 3\n",
      "gmr n. 268 max disp. = 1.30365 DS = 3\n",
      "gmr n. 269 max disp. = 0.740331 DS = 3\n",
      "gmr n. 270 max disp. = 0.849249 DS = 3\n",
      "records_target9.csv\n",
      "gmr n. 271 max disp. = 0.973442 DS = 3\n",
      "gmr n. 272 max disp. = 0.56371 DS = 3\n",
      "gmr n. 273 max disp. = 0.595473 DS = 3\n",
      "gmr n. 274 max disp. = 0.58729 DS = 3\n",
      "gmr n. 275 max disp. = 1.39592 DS = 3\n",
      "gmr n. 276 max disp. = 0.896899 DS = 3\n",
      "gmr n. 277 max disp. = 0.748697 DS = 3\n",
      "gmr n. 278 max disp. = 0.825223 DS = 3\n",
      "gmr n. 279 max disp. = 0.645999 DS = 3\n",
      "gmr n. 280 max disp. = 0.625868 DS = 3\n",
      "gmr n. 281 max disp. = 1.02436 DS = 3\n",
      "gmr n. 282 max disp. = 0.706097 DS = 3\n",
      "gmr n. 283 max disp. = 1.24783 DS = 3\n",
      "gmr n. 284 max disp. = 0.925426 DS = 3\n",
      "gmr n. 285 max disp. = 1.38956 DS = 3\n",
      "gmr n. 286 max disp. = 0.729841 DS = 3\n",
      "gmr n. 287 max disp. = 0.895639 DS = 3\n",
      "gmr n. 288 max disp. = 1.13779 DS = 3\n",
      "gmr n. 289 max disp. = 1.07351 DS = 3\n",
      "gmr n. 290 max disp. = 0.68519 DS = 3\n",
      "gmr n. 291 max disp. = 1.23023 DS = 3\n",
      "gmr n. 292 max disp. = 1.05694 DS = 3\n",
      "gmr n. 293 max disp. = 0.962164 DS = 3\n",
      "gmr n. 294 max disp. = 0.864821 DS = 3\n",
      "gmr n. 295 max disp. = 1.3143 DS = 3\n",
      "gmr n. 296 max disp. = 0.627406 DS = 3\n",
      "gmr n. 297 max disp. = 1.47295 DS = 3\n",
      "gmr n. 298 max disp. = 1.16266 DS = 3\n",
      "gmr n. 299 max disp. = 0.643807 DS = 3\n",
      "gmr n. 300 max disp. = 1.04831 DS = 3\n"
     ]
    }
   ],
   "source": [
    "damping_ratio = 0.05\n",
    "degradation = False\n",
    "\n",
    "msa = {}; msa['n. bins']=no_bins; msa['records per bin']=no_rec_bin; msa['input folder']=record_scaled_folder\n",
    "PDM, Sds, IML_info = MSA_on_SDOF.calculate_fragility(capacity_curves, pushover_curves, hysteresis, msa, gmrs, \n",
    "                                                      damage_model, damping_ratio, degradation)"
   ]
  },
  {
   "cell_type": "markdown",
   "metadata": {},
   "source": [
    "### Fit lognormal CDF fragility curves\n",
    "\n",
    "The following parameters need to be defined in the cell below in order to fit lognormal CDF fragility curves to the damage probability matrix obtained above:\n",
    "1. `IMT`: This parameter specifies the intensity measure type to be used. Currently supported options are `\"PGA\"`, `\"Sa\"`,`\"Sd\"` and `\"HI\"` (Housner Intensity).\n",
    "2. `period`: This parameter defines the period for which a spectral intensity measure should be computed. If Housner Intensity is selected as intensity measure a range of periods should be defined instead (for example `T=np.arange(0.3,3.61,0.01)`).\n",
    "3. `regression_method`: This parameter defines the regression method to be used for estimating the parameters of the fragility functions. The valid options are `\"least squares\"` and `\"max likelihood\"`."
   ]
  },
  {
   "cell_type": "code",
   "execution_count": 7,
   "metadata": {
    "collapsed": false
   },
   "outputs": [
    {
     "name": "stdout",
     "output_type": "stream",
     "text": [
      "Optimization terminated successfully.\n",
      "         Current function value: 5.772658\n",
      "         Iterations: 43\n",
      "         Function evaluations: 81\n",
      "Optimization terminated successfully.\n",
      "         Current function value: 6.895889\n",
      "         Iterations: 49\n",
      "         Function evaluations: 96\n",
      "Optimization terminated successfully.\n",
      "         Current function value: 8.644254\n",
      "         Iterations: 63\n",
      "         Function evaluations: 120\n"
     ]
    },
    {
     "name": "stderr",
     "output_type": "stream",
     "text": [
      "/opt/local/Library/Frameworks/Python.framework/Versions/2.7/lib/python2.7/site-packages/scipy/stats/distributions.py:7184: RuntimeWarning: invalid value encountered in greater_equal\n",
      "  return (n >= 0) & (p >= 0) & (p <= 1)\n",
      "/opt/local/Library/Frameworks/Python.framework/Versions/2.7/lib/python2.7/site-packages/scipy/stats/distributions.py:7184: RuntimeWarning: invalid value encountered in less_equal\n",
      "  return (n >= 0) & (p >= 0) & (p <= 1)\n"
     ]
    }
   ],
   "source": [
    "import MSA_post_processing\n",
    "\n",
    "IMT = \"HI\"\n",
    "T = np.arange(0.3,3.6+0.005,0.005)\n",
    "regression_method = \"max likelihood\"\n",
    "\n",
    "fragility_model = MSA_post_processing.calculate_fragility_model(PDM,gmrs,IML_info,IMT,msa,damage_model,\n",
    "                                                                        T,damping_ratio, regression_method)"
   ]
  },
  {
   "cell_type": "markdown",
   "metadata": {},
   "source": [
    "### Plot fragility functions\n",
    "\n",
    "The following parameters need to be defined in the cell below in order to plot the lognormal CDF fragility curves obtained above:\n",
    "* `minIML` and `maxIML`: These parameters define the limits of the intensity measure level for plotting the functions"
   ]
  },
  {
   "cell_type": "code",
   "execution_count": 8,
   "metadata": {
    "collapsed": false
   },
   "outputs": [
    {
     "data": {
      "image/png": "[encoded data removed]",
      "text/plain": [
       "<matplotlib.figure.Figure at 0x10c73dbd0>"
      ]
     },
     "metadata": {},
     "output_type": "display_data"
    }
   ],
   "source": [
    "minIML, maxIML = 0.01, 16\n",
    "utils.plot_fragility_model(fragility_model, minIML, maxIML)"
   ]
  },
  {
   "cell_type": "markdown",
   "metadata": {},
   "source": [
    "\n",
    "### Save fragility functions\n",
    " \n",
    "The derived parametric fragility functions can be saved to a file in either CSV format or in the NRML format that is used by all OpenQuake input models. The following parameters need to be defined in the cell below in order to save the lognormal CDF fragility curves obtained above:\n",
    " 1. `taxonomy`: This parameter specifies a taxonomy string for the the fragility functions.\n",
    " 2. `minIML` and `maxIML`: These parameters define the bounds of applicability of the functions.\n",
    " 3. `output_type`: This parameter specifies the file format to be used for saving the functions. Currently, the formats supported are \"csv\" and \"nrml\"."
   ]
  },
  {
   "cell_type": "code",
   "execution_count": null,
   "metadata": {
    "collapsed": true
   },
   "outputs": [],
   "source": [
    "taxonomy = \"RC\"\n",
    "minIML, maxIML = 0.01, 16.00\n",
    "output_type = \"nrml\""
   ]
  },
  {
   "cell_type": "code",
   "execution_count": null,
   "metadata": {
    "collapsed": true
   },
   "outputs": [],
   "source": [
    "utils.save_mean_fragility(taxonomy, fragility_model, minIML, maxIML, output_type)"
   ]
  }
 ],
 "metadata": {
  "kernelspec": {
   "display_name": "Python 2",
   "language": "python",
   "name": "python2"
  },
  "language_info": {
   "codemirror_mode": {
    "name": "ipython",
    "version": 2
   },
   "file_extension": ".py",
   "mimetype": "text/x-python",
   "name": "python",
   "nbconvert_exporter": "python",
   "pygments_lexer": "ipython2",
   "version": "2.7.10"
  }
 },
 "nbformat": 4,
 "nbformat_minor": 0
}
