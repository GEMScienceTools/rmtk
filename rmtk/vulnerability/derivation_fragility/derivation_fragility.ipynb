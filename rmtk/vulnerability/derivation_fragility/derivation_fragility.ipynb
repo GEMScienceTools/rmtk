{
 "cells": [
  {
   "cell_type": "markdown",
   "metadata": {},
   "source": [
    "# Derivation of fragility and vulnerability models\n",
    "\n",
    "This module comprises a wide range of methodologies for the assessment of the nonlinear response of one or multiple structures using nonlinear static procedures. One of the main outputs of this module are fragility functions, which can be converted into vulnerability functions by employing a suitable damage-to-loss (i.e. consequence) model.\n",
    "\n",
    "**Note**: It is important to mention that the majority of the methodologies implemented in this module were not originally developed in order to derive fragility models, but rather for the assessment of the nonlinear structural response of individual structures. Therefore, their employment in the derivation of fragility models needs to be undertaken with due care, recognizing the inherent limitations of this approach.\n",
    "\n",
    "The figure below illustrates the different methodologies for the derivation of fragility functions implemented in this module.\n",
    "\n",
    "<img src=\"../../../figures/vulnerability_methods.jpg\" width=\"700\" align=\"middle\">"
   ]
  },
  {
   "cell_type": "markdown",
   "metadata": {
    "collapsed": false
   },
   "source": [
    "---\n",
    "## 1 — Direct Nonlinear Static Procedures\n",
    "\n",
    "These methodologies estimate the median seismic intensity values corresponding to the attainment of the damage state of interest, taking into account record-to-record dispersion and dispersion in the damage state thresholds. The inelastic displacements are estimated from the maximum elastic displacements by means of pre-computed $R-\\mu-T$ relationships.\n",
    "\n",
    "### 1.1 - SPO2IDA (2006)\n",
    "This methodology uses the SPO2IDA tool (Vamvatsikos and Cornell, 2006) to convert static pushover curves into $16\\%$, $50\\%$, and $84\\%$ IDA curves. The procedure is applicable to any kind of multi-linear capacity curve and it is suitable for single-building fragility curve estimation. Individual fragility curves can later be combined into a single fragility curve that considers the inter-building uncertainty. To use this feature click [here](../../../rmtk/vulnerability/derivation_fragility/R_mu_T_dispersion/SPO2IDA/spo2ida.ipynb).\n",
    "\n",
    "### 1.2 - Ruiz-García and Miranda (2007)\n",
    "This methodology makes use of the work by Ruiz-García and Miranda (2007), where the inelastic displacement demand is related to the elastic displacement by a simple relationship. This procedure is suitable for single-building fragility curve estimation and is applicable to bilinear elasto-plastic capacity curves. Individual fragility curves can later be combined into a single fragility curve that considers the inter-building uncertainty. To use this feature click [here](../../../rmtk/vulnerability/derivation_fragility/R_mu_T_dispersion/ruiz_garcia_miranda/ruiz-garcia_miranda.ipynb).\n",
    "\n",
    "### 1.3 - Dolsek and Fajfar (2004)\n",
    "This methodology makes use of work by Dolsek and Fajfar (2004) to estimate the inelastic displacement of a SDOF system based on its elastic displacement and the proposed $R-\\mu-T$ relationship. Record-to-record dispersion from Ruiz-García and Miranda (2007) can be included in the derivation of fragility curves. It is suitable for single-building fragility curve estimation and is applicable to any kind of multi-linear capacity curves. Individual fragility curves can be later combined into a single fragility curve that considers inter-building uncertainty.  To use this feature click [here](../../../rmtk/vulnerability/derivation_fragility/R_mu_T_no_dispersion/dolsek_fajfar/dolsek_fajfar.ipynb)."
   ]
  },
  {
   "cell_type": "markdown",
   "metadata": {},
   "source": [
    "---\n",
    "## 2 — Record-based Nonlinear Static Procedures\n",
    "Record-based Nonlinear Static Procedures allow the User to input its own set of accelograms and estimate for each of them the inelastic target displacement of the structure. This can be achieved either multiplying the elastic spectral displacement by a displacement modification factor or by considering an equivalent linear system.\n",
    "\n",
    "### 2.1 - Vidic, Fajfar and Fischinger (1994)\n",
    "This procedure aims to determine the displacements from an inelastic design spectra for systems with a given ductility factor. The inelastic displacement spectra is determined by means of applying a reduction factor, which depends on the natural period of the system, its ductility factor, the hysteretic behaviour, the damping, and the frequency content of the ground motion. To use this feature click [here](../../../rmtk/vulnerability/derivation_fragility/equivalent_linearization/vidic_etal_1994/vidic_etal_1994.ipynb).\n",
    "\n",
    "### 2.2 - Miranda (2000) for firm soils \n",
    "This methodology aims to estimate the maximum lateral inelastic displacement demands on a structure based on the maximum lateral elastic displacement demands for sites with average shear-wave velocities higher than $180~m/s$. A reduction factor based on the displacement ductility ratio and the period of vibration of the system is used to estimate the inelastic displacements, which are then used as inputs to build the fragility model.  To use this feature click [here](../../../rmtk/vulnerability/derivation_fragility/equivalent_linearization/miranda_2000_firm_soils/miranda_2000_firm_soils.ipynb).\n",
    "\n",
    "### 2.3 - Lin and Miranda (2008)\n",
    "This method estimates the maximum inelastic displacement of an existing structure based on the maximum elastic displacement response of its equivalent linear system without the need of iterations, based on the strength ratio. The equivalent linear system has a longer period of vibration and a higher viscous damping than the original system. The estimation of these parameters is based on the strength ratio $R$. To use this feature click [here](../../../rmtk/vulnerability/derivation_fragility/equivalent_linearization/lin_miranda_2008/lin_miranda_2008.ipynb).\n",
    "\n",
    "### 2.4 - Capacity Spectrum Method - FEMA-440 (2005)\n",
    "The Capacity Spectrum Method (CSM) is a procedure capable of estimating the nonlinear response of structures, utilizing overdamped response spectra. These response spectra can either be obtained from a building code or derived based on ground motion records. In this fragility method, the CSM is employed to test building portfolios against a set of ground motion records. To use this feature click [here](../../../rmtk/vulnerability/derivation_fragility/hybrid_methods/CSM/CSM.ipynb).\n",
    "\n",
    "### 2.5 - N2 - Eurocode 8, CEN (2005)\n",
    "This simplified nonlinear procedure for the estimation of the seismic response of structures uses capacity curves and  inelastic spectra. This method has been developed to be used in combination with code-based response spectra, but it is also possible to employ it for the assessment of structural response subject to ground motion records. It also has the distinct aspect of assuming an elastic-perfectly plastic force-displacement relationship in the construction of the bilinear curve. To use this feature click [here](../../../rmtk/vulnerability/derivation_fragility/hybrid_methods/N2/N2.ipynb).\n",
    "\n",
    "### 2.6 -  Displacement-based Earthquake Loss Assessment - Silva et al. (2013)\n",
    "In this fragility method, thousands of synthetic buildings can be produced considering probabilistic distributions for the variability in the geometrical and material properties. The nonlinear capacity can be estimated using the displacement-based earthquake loss assessment theory. In this process, the performance against a large set of ground motion records is been calculated. Global limit states are used to estimate the distribution of buildings in each damage state for different levels of ground motion, and a regression algorithm is applied to derive fragility functions for each limit state. To use this feature click [here](../../../rmtk/vulnerability/derivation_fragility/hybrid_methods/DBELA/DBELA.ipynb)."
   ]
  },
  {
   "cell_type": "markdown",
   "metadata": {},
   "source": [
    "---\n",
    "## 3 — Nonlinear Time History Analysis of SDOF Oscillators\n",
    "\n",
    "In this method, a single degree of freedom (SDOF) model of each structure is subjected to non-linear time history analysis (NLTHA) using a suite of ground motion records. \n",
    "\n",
    "### 3.1 Unscaled Records\n",
    "In this method ground motion records are unscaled. The displacements of the SDOF due to each ground motion record are used as input to determine the distribution of buildings in each damage state for each level of ground motion intensity. A regression algorithm is then applied to derive the fragility model.\n",
    "To use this module click [here](../../../rmtk/vulnerability/derivation_fragility/NLTHA_on_SDOF/NLTHA_on_SDOF.ipynb).\n",
    "\n",
    "### 3.2 Multiple Stripe Analysis\n",
    "Multiple Stripe Analysis (MSA) consists of applying a set of ground motion records that are scaled to multiple levels of intensity measure (intensity measure bins). Multiple “stripes” of response are thus obtained from the displacements of the SDOF due to each ground motion record and used as input to determine the distribution of buildings in each damage state for intensity measure bin.\n",
    "To use this module click [here](../../../rmtk/vulnerability/derivation_fragility/NLTHA_on_SDOF/MSA_on_SDOF.ipynb).\n",
    "\n",
    "---"
   ]
  },
  {
   "cell_type": "code",
   "execution_count": null,
   "metadata": {
    "collapsed": true
   },
   "outputs": [],
   "source": []
  }
 ],
 "metadata": {
  "kernelspec": {
   "display_name": "Python 2",
   "language": "python",
   "name": "python2"
  },
  "language_info": {
   "codemirror_mode": {
    "name": "ipython",
    "version": 2
   },
   "file_extension": ".py",
   "mimetype": "text/x-python",
   "name": "python",
   "nbconvert_exporter": "python",
   "pygments_lexer": "ipython2",
   "version": "2.7.10"
  }
 },
 "nbformat": 4,
 "nbformat_minor": 0
}
