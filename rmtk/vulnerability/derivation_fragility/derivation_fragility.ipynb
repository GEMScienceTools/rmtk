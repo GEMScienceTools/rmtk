{
 "cells": [
  {
   "cell_type": "markdown",
   "metadata": {},
   "source": [
    "# Derivation of fragility and vulnerability models\n",
    "\n",
    "This module comprises a wide spectrum methodologies to assess the nonlinear response of one, or multiple, structures using nonlinear static procedures. One of the main outputs of this module are fragility functions, which can be converted into a vulnerability model using a damage-to-loss (i.e. consequence) model. It is important to mention that the vast majority of the methodologies implemented herein were not developed so derive fragility models, but simple to assess the nonlinear structural response of single structures. Therefore, their employment in fragility derivation needs to be performed with due care, and recognizing all of the inherent limitations. <br />\n",
    "\n",
    "<img src=\"../../../figures/sdel_to_sdinel_structure.png\" height=\"200\" width=\"650\" align=\"middle\">"
   ]
  },
  {
   "cell_type": "markdown",
   "metadata": {
    "collapsed": false
   },
   "source": [
    "##1 - R-mu-T (dispersion)\n",
    "\n",
    "Include here a brief description of this class of methodologies.\n",
    "\n",
    "###1.1 - SPO2IDA\n",
    "Include here a brief description of the methodology To use this feature click [here](../../../rmtk/vulnerability/derivation_fragility/R_mu_T_dispersion/SPO2IDA/spo2ida.ipynb)\n",
    "###1.2 - Ruiz-Garcia and Miranda\n",
    "Include here a brief description of the methodology To use this feature click [here](../../../rmtk/vulnerability/derivation_fragility/R_mu_T_dispersion/ruiz_garcia_miranda/ruiz-garcia_miranda.ipynb)"
   ]
  },
  {
   "cell_type": "markdown",
   "metadata": {},
   "source": [
    "##2 - R-mu-T (no dispersion)\n",
    "\n",
    "Include here a brief description of this class of methodologies.\n",
    "\n",
    "###2.1 - Dolsek and Fajfar\n",
    "Include here a brief description of the methodology To use this feature click [here](../../../rmtk/vulnerability/derivation_fragility/R_mu_T_no_dispersion/dolsek_fajfar/dolsek_fajfar.ipynb)\n",
    "###2.2 - Miranda firm/soft soils 2007\n",
    "Include here a brief description of the methodology To use this feature click [here](../../../rmtk/vulnerability/derivation_fragility/R_mu_T_no_dispersion/miranda_firm-soft-soils/miranda_firm-soft-soils.ipynb)\n",
    "###2.3 - N2 Vidic and Fajfar 1994\n",
    "Include here a brief description of the methodology To use this feature click [here](../../../rmtk/vulnerability/derivation_fragility/R_mu_T_no_dispersion/N2-vidic_fajfar/N2-vidic_fajfar.ipynb)"
   ]
  },
  {
   "cell_type": "markdown",
   "metadata": {},
   "source": [
    "##3 - Equivalent linearization\n",
    "\n",
    "Include here a brief description of this class of methodologies.\n",
    "\n",
    "###3.1 -  Iwan 1980\n",
    "Include here a brief description of the methodology To use this feature click [here](../../../rmtk/vulnerability/derivation_fragility/equivalent_linearization/iwan/iwan.ipynb)\n",
    "###3.2 - Kowalsky 1994\n",
    "Include here a brief description of the methodology To use this feature click [here](../../../rmtk/vulnerability/derivation_fragility/equivalent_linearization/kowalsky/kowalsky.ipynb)\n",
    "###3.3 - Lin and Miranda 2008 \n",
    "Include here a brief description of the methodology To use this feature click [here](../../../rmtk/vulnerability/derivation_fragility/equivalent_linearization/lin_miranda/lin_miranda.ipynb)"
   ]
  },
  {
   "cell_type": "markdown",
   "metadata": {},
   "source": [
    "##4 - Hybrid methods\n",
    "\n",
    "Include here a brief description of this class of methodologies.\n",
    "\n",
    "###4.1 -  DBELA - Silva et al. 2013\n",
    "In this fragility method, thousands of synthetic buildings can be produced considering probabilistic distributions for the variability in the geometrical and material properties. The nonlinear capacity can be estimated using the displacement-based earthquake loss assessment theory. In this process, the performance against a large set of ground motion records is been calculated. Global limit states are used to estimate the distribution of buildings in each damage state for different levels of ground motion, and a regression algorithm is applied to derive fragility functions for each limit state. To use this feature click [here](../../../rmtk/vulnerability/derivation_fragility/hybrid_methods/DBELA/DBELA.ipynb).\n",
    "###4.2 - Capacity Spectrum Method - FEMA-440 (2005)\n",
    "The capacity spectrum method (CSM) represents a nonlinear static procedure capable of estimate the nonlinear response of structures, utilizing overdamped response spectra. These response spectra can be extracted from a building code, or derived based on a ground motion records. In this fragility method, the CSM is employed to test building portfolios against a set of ground motion records. To use this feature click [here](../../../rmtk/vulnerability/derivation_fragility/hybrid_methods/CSM/CSM.ipynb).\n",
    "###4.3 - N2 - Eurocode 8, CEN (2005)\n",
    "This simplified nonlinear procedure for the estimation of the seismic response of structures uses capacity curves and  inelastic spectra. This method has been developed to be combined with code-bsed response spectra, but is is also possible to employ it to assess structural response against ground motion records. It also has the distinct aspect of assuming an elasto-perfectly plastic force-displacement relationship in the construction of the bilinear curve. To use this feature click [here](../../../rmtk/vulnerability/derivation_fragility/hybrid_methods/N2/N2.ipynb)."
   ]
  },
  {
   "cell_type": "markdown",
   "metadata": {},
   "source": [
    "##5 - NLTHA in SDOF\n",
    "\n",
    "Include here a brief description of the methodology To use this feature click [here](../../../rmtk/vulnerability/derivation_fragility/NLTHA_on_SDOF/NLTHA_on_SDOF.ipynb)"
   ]
  },
  {
   "cell_type": "code",
   "execution_count": null,
   "metadata": {
    "collapsed": true
   },
   "outputs": [],
   "source": []
  }
 ],
 "metadata": {
  "kernelspec": {
   "display_name": "Python 2",
   "language": "python",
   "name": "python2"
  },
  "language_info": {
   "codemirror_mode": {
    "name": "ipython",
    "version": 2
   },
   "file_extension": ".py",
   "mimetype": "text/x-python",
   "name": "python",
   "nbconvert_exporter": "python",
   "pygments_lexer": "ipython2",
   "version": "2.7.10"
  }
 },
 "nbformat": 4,
 "nbformat_minor": 0
}
