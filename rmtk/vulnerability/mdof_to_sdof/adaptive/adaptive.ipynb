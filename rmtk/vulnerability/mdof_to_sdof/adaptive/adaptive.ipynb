{
 "metadata": {
  "kernelspec": {
   "display_name": "Python 2",
   "language": "python",
   "name": "python2"
  },
  "language_info": {
   "codemirror_mode": {
    "name": "ipython",
    "version": 2
   },
   "file_extension": ".py",
   "mimetype": "text/x-python",
   "name": "python",
   "nbconvert_exporter": "python",
   "pygments_lexer": "ipython2",
   "version": "2.7.9"
  },
  "name": "",
  "signature": "sha256:7f37a7c5b0eebdda2aeb33a715fb1935211e63267745e64744a7d20d69742f17"
 },
 "nbformat": 3,
 "nbformat_minor": 0,
 "worksheets": [
  {
   "cells": [
    {
     "cell_type": "heading",
     "level": 1,
     "metadata": {},
     "source": [
      "MDOF to equivalent SDOF using the adaptive approach"
     ]
    },
    {
     "cell_type": "markdown",
     "metadata": {
      "collapsed": true
     },
     "source": [
      "The equivalent SDOF capacity curve is calculated step by step based on the actual displacements, rather than a transformation of the capacity curve referred to the roof displacement. In this method, the equivalent system displacement and acceleration are calculated at each analysis step, using the actual displacements at that step.\n",
      "\n",
      "Note that this method assumes that the forces in the input pushover curves are normalized by the seismic mass of the structure.\n",
      "\n",
      "For more details on this procedure and the equations used to make the transformation, refer to: Casarotti, C., & Pinho, R. (2007). An adaptive capacity spectrum method for assessment of bridges subjected to earthquake action. Bulletin of Earthquake Engineering, 5(3), 377\u2013390."
     ]
    },
    {
     "cell_type": "code",
     "collapsed": false,
     "input": [
      "%matplotlib inline\n",
      "from rmtk.vulnerability.common import utils\n",
      "from rmtk.vulnerability.mdof_to_sdof.adaptive import adaptive\n",
      "\n",
      "pushover_file = \"../../../../../rmtk_data/capacity_curves_Vb-dfloor_adaptive.csv\""
     ],
     "language": "python",
     "metadata": {},
     "outputs": [],
     "prompt_number": 1
    },
    {
     "cell_type": "code",
     "collapsed": false,
     "input": [
      "capacity_curves = utils.read_capacity_curves(pushover_file)\n",
      "sdof_capacity_curves = adaptive.mdof_to_sdof(capacity_curves)\n",
      "utils.save_SdSa_capacity_curves(sdof_capacity_curves,'../../../../../rmtk_data/capacity_curves_sdof_adaptive.csv')"
     ],
     "language": "python",
     "metadata": {},
     "outputs": [
      {
       "ename": "IndexError",
       "evalue": "list index out of range",
       "output_type": "pyerr",
       "traceback": [
        "\u001b[0;31m---------------------------------------------------------------------------\u001b[0m\n\u001b[0;31mIndexError\u001b[0m                                Traceback (most recent call last)",
        "\u001b[0;32m<ipython-input-2-b8272ff35498>\u001b[0m in \u001b[0;36m<module>\u001b[0;34m()\u001b[0m\n\u001b[0;32m----> 1\u001b[0;31m \u001b[0mcapacity_curves\u001b[0m \u001b[0;34m=\u001b[0m \u001b[0mutils\u001b[0m\u001b[0;34m.\u001b[0m\u001b[0mread_capacity_curves\u001b[0m\u001b[0;34m(\u001b[0m\u001b[0mpushover_file\u001b[0m\u001b[0;34m)\u001b[0m\u001b[0;34m\u001b[0m\u001b[0m\n\u001b[0m\u001b[1;32m      2\u001b[0m \u001b[0msdof_capacity_curves\u001b[0m \u001b[0;34m=\u001b[0m \u001b[0madaptive\u001b[0m\u001b[0;34m.\u001b[0m\u001b[0mmdof_to_sdof\u001b[0m\u001b[0;34m(\u001b[0m\u001b[0mcapacity_curves\u001b[0m\u001b[0;34m)\u001b[0m\u001b[0;34m\u001b[0m\u001b[0m\n\u001b[1;32m      3\u001b[0m \u001b[0mutils\u001b[0m\u001b[0;34m.\u001b[0m\u001b[0msave_SdSa_capacity_curves\u001b[0m\u001b[0;34m(\u001b[0m\u001b[0msdof_capacity_curves\u001b[0m\u001b[0;34m,\u001b[0m\u001b[0;34m'../../../../../rmtk_data/capacity_curves_sdof_adaptive.csv'\u001b[0m\u001b[0;34m)\u001b[0m\u001b[0;34m\u001b[0m\u001b[0m\n",
        "\u001b[0;32m/Users/catalinayepes/OpenQuake/rmtk/rmtk/vulnerability/common/utils.pyc\u001b[0m in \u001b[0;36mread_capacity_curves\u001b[0;34m(input_file)\u001b[0m\n\u001b[1;32m     18\u001b[0m                 \u001b[0;32mbreak\u001b[0m\u001b[0;34m\u001b[0m\u001b[0m\n\u001b[1;32m     19\u001b[0m             \u001b[0;32melif\u001b[0m \u001b[0mline\u001b[0m\u001b[0;34m[\u001b[0m\u001b[0;36m0\u001b[0m\u001b[0;34m]\u001b[0m \u001b[0;34m==\u001b[0m \u001b[0;34m'Vb-dfloor'\u001b[0m \u001b[0;32mand\u001b[0m \u001b[0mline\u001b[0m\u001b[0;34m[\u001b[0m\u001b[0;36m1\u001b[0m\u001b[0;34m]\u001b[0m \u001b[0;34m==\u001b[0m \u001b[0;34m'TRUE'\u001b[0m\u001b[0;34m:\u001b[0m\u001b[0;34m\u001b[0m\u001b[0m\n\u001b[0;32m---> 20\u001b[0;31m                 \u001b[0mcapacity_curves\u001b[0m \u001b[0;34m=\u001b[0m \u001b[0mread_Vbdfloor_capacity_curves\u001b[0m\u001b[0;34m(\u001b[0m\u001b[0mdata\u001b[0m\u001b[0;34m)\u001b[0m\u001b[0;34m\u001b[0m\u001b[0m\n\u001b[0m\u001b[1;32m     21\u001b[0m                 \u001b[0;32mbreak\u001b[0m\u001b[0;34m\u001b[0m\u001b[0m\n\u001b[1;32m     22\u001b[0m             \u001b[0;32melif\u001b[0m \u001b[0mline\u001b[0m\u001b[0;34m[\u001b[0m\u001b[0;36m0\u001b[0m\u001b[0;34m]\u001b[0m \u001b[0;34m==\u001b[0m \u001b[0;34m'Sd-Sa'\u001b[0m \u001b[0;32mand\u001b[0m \u001b[0mline\u001b[0m\u001b[0;34m[\u001b[0m\u001b[0;36m1\u001b[0m\u001b[0;34m]\u001b[0m \u001b[0;34m==\u001b[0m \u001b[0;34m'TRUE'\u001b[0m\u001b[0;34m:\u001b[0m\u001b[0;34m\u001b[0m\u001b[0m\n",
        "\u001b[0;32m/Users/catalinayepes/OpenQuake/rmtk/rmtk/vulnerability/common/utils.pyc\u001b[0m in \u001b[0;36mread_Vbdfloor_capacity_curves\u001b[0;34m(data)\u001b[0m\n\u001b[1;32m    102\u001b[0m \u001b[0;34m\u001b[0m\u001b[0m\n\u001b[1;32m    103\u001b[0m     \u001b[0mcapacity_curves\u001b[0m\u001b[0;34m[\u001b[0m\u001b[0;34m'type'\u001b[0m\u001b[0;34m]\u001b[0m \u001b[0;34m=\u001b[0m \u001b[0;34m'Vb-dfloor'\u001b[0m\u001b[0;34m\u001b[0m\u001b[0m\n\u001b[0;32m--> 104\u001b[0;31m     \u001b[0mcapacity_curves\u001b[0m\u001b[0;34m[\u001b[0m \u001b[0;34m'idealised'\u001b[0m \u001b[0;34m]\u001b[0m \u001b[0;34m=\u001b[0m \u001b[0midealised\u001b[0m\u001b[0;34m[\u001b[0m\u001b[0;36m0\u001b[0m\u001b[0;34m]\u001b[0m\u001b[0;34m\u001b[0m\u001b[0m\n\u001b[0m\u001b[1;32m    105\u001b[0m     \u001b[0mcapacity_curves\u001b[0m\u001b[0;34m[\u001b[0m\u001b[0;34m'periods'\u001b[0m\u001b[0;34m]\u001b[0m \u001b[0;34m=\u001b[0m \u001b[0mperiods\u001b[0m\u001b[0;34m\u001b[0m\u001b[0m\n\u001b[1;32m    106\u001b[0m     \u001b[0mcapacity_curves\u001b[0m\u001b[0;34m[\u001b[0m\u001b[0;34m'mean_period'\u001b[0m\u001b[0;34m]\u001b[0m \u001b[0;34m=\u001b[0m \u001b[0maverage_period\u001b[0m\u001b[0;34m\u001b[0m\u001b[0m\n",
        "\u001b[0;31mIndexError\u001b[0m: list index out of range"
       ]
      }
     ],
     "prompt_number": 2
    },
    {
     "cell_type": "code",
     "collapsed": false,
     "input": [
      "utils.plot_capacity_curves(capacity_curves)\n",
      "utils.plot_capacity_curves(sdof_capacity_curves)"
     ],
     "language": "python",
     "metadata": {},
     "outputs": []
    }
   ],
   "metadata": {}
  }
 ]
}