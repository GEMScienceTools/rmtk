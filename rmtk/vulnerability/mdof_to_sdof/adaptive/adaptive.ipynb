{
 "cells": [
  {
   "cell_type": "markdown",
   "metadata": {},
   "source": [
    "# MDOF to equivalent SDOF using the adaptive approach"
   ]
  },
  {
   "cell_type": "markdown",
   "metadata": {
    "collapsed": true
   },
   "source": [
    "The equivalent SDOF capacity curve is calculated step by step based on the actual displacements, rather than a transformation of the capacity curve referred to the roof displacement. In this method, the equivalent system displacement and acceleration are calculated at each analysis step, using the actual displacements at that step.\n",
    "For more details on this procedure and the equations used to make the transformation, refer to: Casarotti, C., & Pinho, R. (2007). An adaptive capacity spectrum method for assessment of bridges subjected to earthquake action. Bulletin of Earthquake Engineering, 5(3), 377–390."
   ]
  },
  {
   "cell_type": "code",
   "execution_count": 1,
   "metadata": {
    "collapsed": false
   },
   "outputs": [],
   "source": [
    "from rmtk.vulnerability.common import utils\n",
    "from rmtk.vulnerability.mdof_to_sdof.adaptive import adaptive\n",
    "\n",
    "pushover_file = \"../../../../../rmtk_data/capacity_curves_Vb-dfloor_adaptive.csv\"\n",
    "\n",
    "capacity_curves = utils.read_capacity_curves(pushover_file)"
   ]
  },
  {
   "cell_type": "code",
   "execution_count": 2,
   "metadata": {
    "collapsed": false
   },
   "outputs": [],
   "source": [
    "sdof_capacity_curves = adaptive.mdof_to_sdof(capacity_curves)\n",
    "\n",
    "utils.save_SdSa_capacity_curves(sdof_capacity_curves,'../../../../../rmtk_data/capacity_curves_sdof_adaptive.csv')"
   ]
  }
 ],
 "metadata": {
  "kernelspec": {
   "display_name": "Python 2",
   "language": "python",
   "name": "python2"
  },
  "language_info": {
   "codemirror_mode": {
    "name": "ipython",
    "version": 2
   },
   "file_extension": ".py",
   "mimetype": "text/x-python",
   "name": "python",
   "nbconvert_exporter": "python",
   "pygments_lexer": "ipython2",
   "version": "2.7.9"
  }
 },
 "nbformat": 4,
 "nbformat_minor": 0
}
