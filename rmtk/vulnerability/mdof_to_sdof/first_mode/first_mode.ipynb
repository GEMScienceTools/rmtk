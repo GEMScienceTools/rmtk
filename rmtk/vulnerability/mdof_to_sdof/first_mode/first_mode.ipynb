{
 "cells": [
  {
   "cell_type": "markdown",
   "metadata": {},
   "source": [
    "# MDOF to equivalent SDOF using the first mode only"
   ]
  },
  {
   "cell_type": "markdown",
   "metadata": {},
   "source": [
    "This method requires the user to provide the first mode of vibration of the structure. The supplied pushover curve, which is in terms of base shear and roof displacement, is transformed into an equivalent SDOF capacity curve, which is in terms of spectral acceleration and spectral displacement.\n",
    "For more details on this procedure and the equations used to make the transformation, refer to: Applied Technology Council. (1996). Seismic Evaluation and Retrofit of Concrete Buildings (Vol. 1)."
   ]
  },
  {
   "cell_type": "code",
   "execution_count": 3,
   "metadata": {
    "collapsed": false
   },
   "outputs": [],
   "source": [
    "from rmtk.vulnerability.common import utils\n",
    "from rmtk.vulnerability.mdof_to_sdof.first_mode import first_mode\n",
    "\n",
    "pushover_file = \"../../../../../rmtk_data/capacity_curves_Vb-droof_first_mode.csv\"\n",
    "\n",
    "capacity_curves = utils.read_capacity_curves(pushover_file)"
   ]
  },
  {
   "cell_type": "code",
   "execution_count": 4,
   "metadata": {
    "collapsed": false
   },
   "outputs": [
    {
     "data": {
      "text/plain": [
       "{'Vb': [[0.0, 1.0, 2.0, 3.0], [0.0, 1.0, 2.0, 3.0, 4.0]],\n",
       " 'droof': [[0.1, 0.2, 0.3, 0.4], [0.1, 0.2, 0.3, 0.4, 0.5]],\n",
       " 'gamma': [1.24, 1.24],\n",
       " 'ground_heights': [3.0, 3.0],\n",
       " 'no_storeys': [7.0, 7.0],\n",
       " 'periods': [1.52, 1.63],\n",
       " 'regular_heights': [2.5, 2.5],\n",
       " 'type': 'Vb-droof'}"
      ]
     },
     "execution_count": 4,
     "metadata": {},
     "output_type": "execute_result"
    }
   ],
   "source": [
    "capacity_curves"
   ]
  },
  {
   "cell_type": "code",
   "execution_count": null,
   "metadata": {
    "collapsed": true
   },
   "outputs": [],
   "source": [
    "sdof_capacity_curves = first_mode.mdof_to_sdof(capacity_curves)\n",
    "\n",
    "utils.save_SdSa_capacity_curves(sdof_capacity_curves,'../../../../../rmtk_data/capacity_curves_sdof_first_mode.csv')"
   ]
  }
 ],
 "metadata": {
  "kernelspec": {
   "display_name": "Python 2",
   "language": "python",
   "name": "python2"
  },
  "language_info": {
   "codemirror_mode": {
    "name": "ipython",
    "version": 2
   },
   "file_extension": ".py",
   "mimetype": "text/x-python",
   "name": "python",
   "nbconvert_exporter": "python",
   "pygments_lexer": "ipython2",
   "version": "2.7.9"
  }
 },
 "nbformat": 4,
 "nbformat_minor": 0
}
