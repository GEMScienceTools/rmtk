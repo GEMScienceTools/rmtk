{
 "cells": [
  {
   "cell_type": "markdown",
   "metadata": {},
   "source": [
    "# MDOF to equivalent SDOF using the first mode only"
   ]
  },
  {
   "cell_type": "markdown",
   "metadata": {},
   "source": [
    "This IPython notebook converts a pushover curve for an MDOF system into an equivalent SDOF capacity curve, considering the first mode of vibration only. The supplied pushover curve, which is in terms of base shear and roof displacement, is transformed into an equivalent SDOF capacity curve, which is in terms of spectral acceleration and spectral displacement.\n",
    "\n",
    "Note that this method assumes that the first mode shape Φ has been normalised to unit amplitude at the roof, i.e. Φn = 1, where n denotes the roof level. Similarly, the forces in the input pushover curves are assumed to be  normalized by the seismic weight of the structure.\n",
    "\n",
    "The user has the option to derive the yielding Sa and Sd, if needed, using an idealisation of the sdof capacity curve, either bilinear or quadrilinear. To do so set the variable `idealised_type` to `'quadrilinear'` or `'bilinear'`, if the idealisation is not required then set it to `'none'`."
   ]
  },
  {
   "cell_type": "code",
   "execution_count": 1,
   "metadata": {
    "collapsed": false
   },
   "outputs": [],
   "source": [
    "%matplotlib inline\n",
    "from rmtk.vulnerability.common import utils\n",
    "from rmtk.vulnerability.mdof_to_sdof.first_mode import first_mode\n",
    "\n",
    "pushover_file = \"../../../../../rmtk_data/capacity_curve_Vb-dfloor.csv\""
   ]
  },
  {
   "cell_type": "code",
   "execution_count": 2,
   "metadata": {
    "collapsed": false
   },
   "outputs": [],
   "source": [
    "capacity_curves = utils.read_capacity_curves(pushover_file)\n",
    "idealised_type = 'quadrilinear'; # 'bilinear', 'quadrilinear' or 'none'\n",
    "\n",
    "[sdof_capacity_curves, sdof_idealised_capacity] = first_mode.mdof_to_sdof(capacity_curves, idealised_type)\n",
    "utils.save_SdSa_capacity_curves(sdof_idealised_capacity,'../../../../../rmtk_data/capacity_curves_sdof_first_mode.csv')"
   ]
  },
  {
   "cell_type": "code",
   "execution_count": 3,
   "metadata": {
    "collapsed": false
   },
   "outputs": [
    {
     "data": {
      "image/png": "[encoded data removed]",
      "text/plain": [
       "<matplotlib.figure.Figure at 0x1116a3a50>"
      ]
     },
     "metadata": {},
     "output_type": "display_data"
    }
   ],
   "source": [
    "if idealised_type is not 'none':\n",
    "    idealised_capacity = utils.idealisation(idealised_type, sdof_capacity_curves)\n",
    "    utils.plot_idealised_capacity(idealised_capacity, sdof_capacity_curves, idealised_type)\n",
    "else:\n",
    "    utils.plot_capacity_curves(capacity_curves)\n",
    "    utils.plot_capacity_curves(sdof_capacity_curves)"
   ]
  },
  {
   "cell_type": "code",
   "execution_count": 4,
   "metadata": {
    "collapsed": false
   },
   "outputs": [],
   "source": []
  }
 ],
 "metadata": {
  "kernelspec": {
   "display_name": "Python 2",
   "language": "python",
   "name": "python2"
  },
  "language_info": {
   "codemirror_mode": {
    "name": "ipython",
    "version": 2
   },
   "file_extension": ".py",
   "mimetype": "text/x-python",
   "name": "python",
   "nbconvert_exporter": "python",
   "pygments_lexer": "ipython2",
   "version": "2.7.10"
  }
 },
 "nbformat": 4,
 "nbformat_minor": 0
}
