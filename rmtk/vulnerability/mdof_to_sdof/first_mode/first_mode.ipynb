{
 "cells": [
  {
   "cell_type": "markdown",
   "metadata": {},
   "source": [
    "# MDOF to equivalent SDOF using the first mode only"
   ]
  },
  {
   "cell_type": "markdown",
   "metadata": {},
   "source": [
    "This IPython notebook converts a pushover curve for an MDOF system into an equivalent SDOF capacity curve, considering the first mode of vibration only. The supplied pushover curve, which is in terms of base shear and roof displacement, is transformed into an equivalent SDOF capacity curve, which is in terms of spectral acceleration and spectral displacement.\n",
    "\n",
    "Note that this method assumes that the first mode shape Φ has been normalised to unit amplitude at the roof, i.e. Φn = 1, where n denotes the roof level.\n",
    "\n",
    "The user has the option to derive the yielding Sa and Sd, if needed, using an idealisation of the sdof capacity curve, either bilinear or quadrilinear. To do so set the variable `idealised_type` to `'quadrilinear'` or `'bilinear'`, if the idealisation is not required then set it to `'none'`."
   ]
  },
  {
   "cell_type": "code",
   "execution_count": 1,
   "metadata": {
    "collapsed": false
   },
   "outputs": [],
   "source": [
    "%matplotlib inline\n",
    "from rmtk.vulnerability.common import utils\n",
    "from rmtk.vulnerability.mdof_to_sdof.first_mode import first_mode"
   ]
  },
  {
   "cell_type": "code",
   "execution_count": 2,
   "metadata": {
    "collapsed": false
   },
   "outputs": [],
   "source": [
    "pushover_file = \"../../../../../rmtk_data/capacity_curve_Vb-dfloor.csv\"\n",
    "idealised_type = 'quadrilinear'; # 'bilinear', 'quadrilinear' or 'none'\n",
    "\n",
    "capacity_curves = utils.read_capacity_curves(pushover_file)\n",
    "[sdof_capacity_curves, sdof_idealised_capacity] = first_mode.mdof_to_sdof(capacity_curves, idealised_type)"
   ]
  },
  {
   "cell_type": "markdown",
   "metadata": {
    "collapsed": true
   },
   "source": [
    "## Save capacity curves\n",
    "\n",
    "Please define what capacity curve should be saved assigning the variable `capacity_to_save` one of the following:\n",
    "1. `capacity_to_save = sdof_idealised_capacity`: idealised capacity curve is saved. If `idealised_type` was previously set to `none`, an error will be raised because the variable `sdof_idealised_capacity` is empty.\n",
    "2. `capacity_to_save = sdof_capacity_curves`: full capacity curve is saved."
   ]
  },
  {
   "cell_type": "code",
   "execution_count": 5,
   "metadata": {
    "collapsed": true
   },
   "outputs": [],
   "source": [
    "capacity_to_save = sdof_idealised_capacity\n",
    "\n",
    "utils.save_SdSa_capacity_curves(capacity_to_save,'../../../../../rmtk_data/capacity_curves_sdof_first_mode.csv')"
   ]
  },
  {
   "cell_type": "code",
   "execution_count": 6,
   "metadata": {
    "collapsed": false
   },
   "outputs": [
    {
     "data": {
      "image/png": "[encoded data removed]",
      "text/plain": [
       "<matplotlib.figure.Figure at 0x1149fc110>"
      ]
     },
     "metadata": {},
     "output_type": "display_data"
    }
   ],
   "source": [
    "if idealised_type is not 'none':\n",
    "    idealised_capacity = utils.idealisation(idealised_type, sdof_capacity_curves)\n",
    "    utils.plot_idealised_capacity(idealised_capacity, sdof_capacity_curves, idealised_type)\n",
    "else:\n",
    "    utils.plot_capacity_curves(capacity_curves)\n",
    "    utils.plot_capacity_curves(sdof_capacity_curves)"
   ]
  },
  {
   "cell_type": "markdown",
   "metadata": {
    "collapsed": false
   },
   "source": [
    "## Defined deformed shape for converting ISD damage model\n",
    "\n",
    "This function allows to define the relationship between the maximum Inter-Storey Drift (ISD) along the building height and spectral displacement. This relationship serves the purpuse of converting interstorey drift damage thresholds to spectral displacement damage threshold, if `damage_model['type']=interstorey drift` of the MDOF system wants to be used for the equivalent SDOF system. \n",
    "\n",
    "If `capacity_curves['type'] = 'Vb-dfloor'` the relationship is extracted from the displacement at each storey, otherwise a linear relationship is assumed."
   ]
  },
  {
   "cell_type": "code",
   "execution_count": 7,
   "metadata": {
    "collapsed": false
   },
   "outputs": [],
   "source": [
    "deformed_shape_file =  \"../../../../../rmtk_data/ISD_Sd.csv\"\n",
    "\n",
    "[ISD_vectors, Sd_vectors] = first_mode.define_deformed_shape(capacity_curves, deformed_shape_file)"
   ]
  },
  {
   "cell_type": "code",
   "execution_count": null,
   "metadata": {
    "collapsed": true
   },
   "outputs": [],
   "source": []
  }
 ],
 "metadata": {
  "kernelspec": {
   "display_name": "Python 2",
   "language": "python",
   "name": "python2"
  },
  "language_info": {
   "codemirror_mode": {
    "name": "ipython",
    "version": 2
   },
   "file_extension": ".py",
   "mimetype": "text/x-python",
   "name": "python",
   "nbconvert_exporter": "python",
   "pygments_lexer": "ipython2",
   "version": "2.7.10"
  }
 },
 "nbformat": 4,
 "nbformat_minor": 0
}
