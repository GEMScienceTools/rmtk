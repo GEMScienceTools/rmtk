{
 "metadata": {
  "name": ""
 },
 "nbformat": 3,
 "nbformat_minor": 0,
 "worksheets": [
  {
   "cells": [
    {
     "cell_type": "code",
     "collapsed": false,
     "input": [
      "\"\"\"\n",
      "Created on Wed Dec 17 15:20:10 2014\n",
      "\n",
      "@author: chiaracasotto\n",
      "\"\"\"\n",
      "# Clear existing variables\n",
      "def clearall():\n",
      "    all = [var for var in globals() if var[0] != \"_\"]\n",
      "    for var in all:\n",
      "        del globals()[var]\n",
      "clearall()\n",
      "from rmtk.vulnerability.NDP.read_IDA import read_IDA\n",
      "from rmtk.vulnerability.NDP.IDA_postprocess import IDA_postprocess\n",
      "import numpy as np\n",
      "import scipy.stats as stat\n",
      "import matplotlib.pyplot as plt\n",
      "\n",
      "import os \n",
      "cd = os.getcwd()"
     ],
     "language": "python",
     "metadata": {},
     "outputs": []
    },
    {
     "cell_type": "code",
     "collapsed": false,
     "input": [
      "vuln = 0\n",
      "g = 1\n",
      "plotflag = [1, 1]\n",
      "iml = np.linspace(0.1, 2, 100)\n",
      "IMlabel = ['m/s$^{2}$']\n",
      "linew = 2\n",
      "fontsize = 14\n",
      "plot_feature = [plotflag, linew, fontsize, IMlabel, iml]\n",
      "\n",
      "[IM, EDP, limits, bUthd, rec_data] = read_IDA()"
     ],
     "language": "python",
     "metadata": {},
     "outputs": []
    },
    {
     "cell_type": "code",
     "collapsed": false,
     "input": [
      "[log_meanSa, log_stSa, Pex] = IDA_postprocess(IM, EDP, limits, bUthd, rec_data, g)"
     ],
     "language": "python",
     "metadata": {},
     "outputs": []
    },
    {
     "cell_type": "code",
     "collapsed": false,
     "input": [
      "colours = ['b','r','g','k','c','y']\n",
      "for q in range(0,len(log_meanSa)):\n",
      "    damage = Pex[q]\n",
      "    txt = 'Damage State '+str(q+1)\n",
      "    plt.plot(IM,damage,marker='o',color=colours[q], linestyle='None',label=txt)\n",
      "    y = stat.norm(log_meanSa[q],log_stSa[q]).cdf(np.log(IM))\n",
      "    plt.plot(IM,y,color=colours[q],linewidth=linew,label = txt)\n",
      "      \n",
      "plt.xlabel('Spectral acceleration at T elastic, Sa(Tel) '+IMlabel[0],fontsize = fontsize)\n",
      "plt.ylabel('Probabilty of Exceedance',fontsize = fontsize)\n",
      "plt.suptitle('Fragility Curves',fontsize = fontsize)\n",
      "plt.legend(loc='lower right',frameon = False)\n",
      "plt.savefig(cd+'/outputs/fragility_curves.png')\n",
      "plt.show()"
     ],
     "language": "python",
     "metadata": {},
     "outputs": []
    }
   ],
   "metadata": {}
  }
 ]
}