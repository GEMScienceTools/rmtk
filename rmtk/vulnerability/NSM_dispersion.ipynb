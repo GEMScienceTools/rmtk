{
 "metadata": {
  "name": ""
 },
 "nbformat": 3,
 "nbformat_minor": 0,
 "worksheets": [
  {
   "cells": [
    {
     "cell_type": "heading",
     "level": 1,
     "metadata": {},
     "source": [
      "Nonlinear Static Procedure with dispersion"
     ]
    },
    {
     "cell_type": "markdown",
     "metadata": {},
     "source": [
      "The user should change only section 1 \"Define Option\""
     ]
    },
    {
     "cell_type": "code",
     "collapsed": false,
     "input": [
      "\"\"\"\n",
      "Created on Tue May 13 18:04:57 2014\n",
      "\n",
      "@author: chiaracasotto\n",
      "\"\"\"\n",
      "# Clear existing variables\n",
      "def clearall():\n",
      "    all = [var for var in globals() if var[0] != \"_\"]\n",
      "    for var in all:\n",
      "        del globals()[var]\n",
      "clearall()\n",
      "\n",
      "# Import functions\n",
      "import matplotlib.pyplot as plt\n",
      "import numpy as np\n",
      "import os\n",
      "from rmtk.vulnerability.NSP.get_data import read_data\n",
      "from rmtk.vulnerability.NSP.fragility_process import fragility_process\n",
      "from rmtk.vulnerability.NSP.export_fragility import export_fragility\n",
      "from rmtk.vulnerability.common.export_vulnerability import export_vulnerability\n",
      "from rmtk.vulnerability.NSP.vulnerability_process import vulnerability_process\n",
      "\n",
      "pi = 3.141592653589793\n",
      "plt.close(\"all\")\n",
      "cd = os.getcwd()"
     ],
     "language": "python",
     "metadata": {},
     "outputs": [],
     "prompt_number": 1
    },
    {
     "cell_type": "heading",
     "level": 2,
     "metadata": {},
     "source": [
      "1. Define Options"
     ]
    },
    {
     "cell_type": "markdown",
     "metadata": {},
     "source": [
      ">####an_type (analysis type) <br />\n",
      "0: elastoplastic Pushover, inelastic displacement obtained from Ruiz-Garcia Miranda [1] <br />\n",
      "1: any pushover shape (bilinear, trilinear, quadrilinear) inelastic displacement obtained from spo2ida [2] <br />\n",
      "2: any pushover shape (bilinear, trilinear, quadrilinear) inelastic displacement obtained from Dolsek and Fajfar [3] <br />\n",
      "\n",
      ">####in_type (input_type)\n",
      "0: input is idealised pushover curve <br />\n",
      "1: input is pushover curve <br />\n",
      "\n",
      ">####idealised \n",
      "0: idealised pushover curve is not provided <br />\n",
      "1: idealised pushover curve is input <br />"
     ]
    },
    {
     "cell_type": "code",
     "collapsed": false,
     "input": [
      "an_type = 1\n",
      "in_type = 1\n",
      "idealised = 0"
     ],
     "language": "python",
     "metadata": {},
     "outputs": [],
     "prompt_number": 9
    },
    {
     "cell_type": "markdown",
     "metadata": {},
     "source": [
      ">####vuln\n",
      "0: derive fragility curves <br />\n",
      "1: derive vulnerability curves from fragility curves <br />\n",
      "####g\n",
      "Units of g compatible with T and displacement\n",
      "####iml\n",
      "Array of intensity measure level used to discretise the fragility curves and get discrete vulnerability curves"
     ]
    },
    {
     "cell_type": "code",
     "collapsed": false,
     "input": [
      "vuln = 0\n",
      "g = 9.81\n",
      "iml = np.linspace(0.001,3.5,25)"
     ],
     "language": "python",
     "metadata": {},
     "outputs": [],
     "prompt_number": 20
    },
    {
     "cell_type": "markdown",
     "metadata": {},
     "source": [
      ">####plotflag \n",
      "4 integers for each plot: idealised pushover curve, 16%-50%-84% ida curves, fragility curves, vulenarbility curve <br />\n",
      "1: plot <br />\n",
      "0: don't plot <br />\n",
      ">####linew\n",
      "Line width for plots\n",
      ">####fontsize\n",
      "Fontsize used for labels, graphs etc.\n",
      ">####units\n",
      "List of 3 strings defining the displacements, forces and Sa units as ['[kN]' '[m]' ['m/s^2]]"
     ]
    },
    {
     "cell_type": "code",
     "collapsed": false,
     "input": [
      "plotflag = [1, 0, 1, 1]\n",
      "linew = 2\n",
      "fontsize = 10\n",
      "units = ['[m]', '[kN]', '[g]']"
     ],
     "language": "python",
     "metadata": {},
     "outputs": [],
     "prompt_number": 21
    },
    {
     "cell_type": "markdown",
     "metadata": {},
     "source": [
      ">####N\n",
      "Number of points per segment of IDA curve derived with spo2ida (only spo2ida procedure)\n",
      ">####MC \n",
      "Number of Monte Carlo simulations to account for uncertainty in damage thresholds (only spo2ida procedure)\n",
      ">####Tc, Td\n",
      "Constant accel-constant velocity  and constant velocity-constant displacement corner periods of a Newmark-Hall type spectrum. Default\n",
      "values <br />\n",
      "Tc = 0.5 <br />\n",
      "Td = 1.8 <br />"
     ]
    },
    {
     "cell_type": "code",
     "collapsed": false,
     "input": [
      "N = 10\n",
      "MC = 25\n",
      "Tc = 0.5\n",
      "Td = 1.8"
     ],
     "language": "python",
     "metadata": {},
     "outputs": [],
     "prompt_number": 26
    },
    {
     "cell_type": "heading",
     "level": 2,
     "metadata": {},
     "source": [
      "2. Read data from csv input file and Process data"
     ]
    },
    {
     "cell_type": "markdown",
     "metadata": {},
     "source": [
      "Obtain: First period, first modal participation factor, weights associated to each building, roof disp. at each limit state, idealised pushover parameters, dispersion in the limit states"
     ]
    },
    {
     "cell_type": "code",
     "collapsed": false,
     "input": [
      "plot_feature = [plotflag, linew, fontsize, units, iml]\n",
      "[T, Gamma, w, EDPlim, dcroof, EDPvec, RDvec, SPO, bUthd, noBlg, Tav, Sa_ratios] = read_data(in_type,an_type,idealised,linew,fontsize,units,plotflag[0])"
     ],
     "language": "python",
     "metadata": {},
     "outputs": [],
     "prompt_number": 27
    },
    {
     "cell_type": "heading",
     "level": 2,
     "metadata": {},
     "source": [
      "3.a Derive Fragility and plot"
     ]
    },
    {
     "cell_type": "code",
     "collapsed": false,
     "input": [
      "if vuln == 0:\n",
      "    [log_meanSa, log_stSa] = fragility_process(an_type, T, Gamma, w, EDPlim, dcroof, EDPvec, RDvec, SPO, bUthd, noBlg, g, MC, Sa_ratios, plot_feature, N, Tc, Td)\n",
      "    export_fragility(vuln, plot_feature, log_meanSa, log_stSa,'on')"
     ],
     "language": "python",
     "metadata": {},
     "outputs": [
      {
       "output_type": "stream",
       "stream": "stdout",
       "text": [
        "mu(LS) =  [ 0.43848626  1.01944018  2.02678158  4.53093238  6.93909052  9.00340945\n",
        "  9.00340945]\n",
        "median IM =  [ 0.05489133  0.12793056  0.2619967   0.53147582  0.69792818  0.75525138\n",
        "  0.75525138]\n",
        "total dispersion =  [ 0.          0.00763612  0.21278485  0.35839053  0.39369843  0.40163974\n",
        "  0.40163974]\n"
       ]
      }
     ],
     "prompt_number": 28
    },
    {
     "cell_type": "heading",
     "level": 2,
     "metadata": {},
     "source": [
      "3.b Derive Vulnerability curves from damage-to-loss ratios and export Vulnerability"
     ]
    },
    {
     "cell_type": "code",
     "collapsed": false,
     "input": [
      "if vuln == 1:\n",
      "    [LR50, bLR] = vulnerability_process(an_type, T, Gamma, w, EDPlim, dcroof, EDPvec, RDvec, SPO, bUthd, noBlg, g, MC, Sa_ratios, plot_feature, N, Tc, Td)\n",
      "    export_vulnerability(vuln, plot_feature, LR50, bLR)"
     ],
     "language": "python",
     "metadata": {},
     "outputs": [],
     "prompt_number": 19
    },
    {
     "cell_type": "code",
     "collapsed": false,
     "input": [],
     "language": "python",
     "metadata": {},
     "outputs": []
    }
   ],
   "metadata": {}
  }
 ]
}