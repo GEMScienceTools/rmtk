{
 "cells": [
  {
   "cell_type": "markdown",
   "metadata": {},
   "source": [
    "# Risk Modeller's Toolkit\n",
    "\n",
    "The Risk Modeller’s Toolkit (RMTK) is a suite of tools written by scientists, which supports engineers and other experts in the visualization of the outputs of the OpenQuake-engine, in the calculation of specific risk metrics, and creation of fragility and vulnerability models. This software contains some of the most commonly used algorithms for risk and vulnerability assessment, and it is intended to be an ever growing tool. The current architecture of the Risk Modeller's Toolkit is depicted in the figure below:<br />\n",
    "<img src=\"figures/rmtk_structure.svg\" width=800>"
   ]
  },
  {
   "cell_type": "markdown",
   "metadata": {
    "collapsed": false
   },
   "source": [
    "---\n",
    "##Plotting Module\n",
    "\n",
    "The Plotting Module of the Risk Modeller's Toolkit offers a wide spectrum of tools to visualize maps, curves and other type of outputs produced by the OpenQuake-engine. Furthermore, it also enables users to convert their results from nrml (natural risks marked language), to other formats such as csv, which can then be used with other visualization tools such as [QGIS](http://www.qgis.org/en/site/). The figure below presents a loss map produced using one of modules of the Plotting facility.\n",
    "\n",
    "<img src=\"figures/risk_map_example.png\" width=\"400\" align=\"middle\">\n",
    "\n",
    "Currently, the Plotting module of the Risk Modeller's Toolkit can generate plots for the following outputs:\n",
    "\n",
    "###Collapse maps\n",
    "Collapse maps represent the spatial distribution of the mean number of assets that collapsed (or within the last damage state of the fragility model - e.g. destruction, complete). To use this feature click [here](rmtk/plotting/collapse_maps/plot_collapse_maps.ipynb).\n",
    "\n",
    "###Damage distribution\n",
    "The OpenQuake-engine can calculate the damage distribution for a given earthquake scenario. This module can be used to plot the total damage distribution (i.e. mean number of assets in each damage state), as well as the distribution of damage for the vulnerability class (i.e. mean number of assets in each damage states, according to each vulnerabilioty class). To use this feature click [here](rmtk/plotting/damage_dist/plot_damage_dist.ipynb).\n",
    "\n",
    "###Loss maps\n",
    "Risk maps (or loss maps) represent the spatial distribution of the estimated losses (economic or human) within the region of interest. This maps can be derived for earthquake scenarios (single events) or considering probabilistic hazard. In the former case, the spatial distribution of the mean losses are illustrated. For the latter case, the losses corresponding to a given return period are presented. To use this feature click [here](rmtk/plotting/risk_maps/plot_risk_maps.ipynb).\n",
    "\n",
    "###Hazard maps\n",
    "Hazard maps present the expected ground motion (e.g. peak ground acceleration, peak ground velocity, spectral acceleration at a given period of vibration) for a given level of frequency (represented by a probability of exceedance within a given time span (e.g. 10% in 50 years) or return periods in years (e.g. 475-year). To use this feature click [here](rmtk/plotting/hazard_outputs/plot_hazard_maps.ipynb).\n",
    "\n",
    "###Hazard curves\n",
    "Seismic hazard curves express the relation between probability of exceedance (in a given time span) and a set of ground motion levels (e.g. peak ground acceleration, peak ground velocity, spectral acceleration at a given period of vibration). A seismic hazard curve is associated with a specific location. To use this feature click [here](rmtk/plotting/hazard_outputs/plot_hazard_curves.ipynb).\n",
    "\n",
    "###Uniform hazard spectra\n",
    "A uniform hazard spectrum (UHS) calculated at a specific location describes the spectral acceleration values at different periods of vibration which correspond to a particular \"uniform\" probability of exceedance (in a given time span). This feature enables a user to plot the UHS results obtained from an OpenQuake probabilistic hazard calculation. To use this feature click [here](rmtk/plotting/hazard_outputs/plot_hazard_curves.ipynb).\n",
    "\n",
    "###Loss curves\n",
    "Loss exceedance curves provide the probability of exceedance (in a given time span) for a set of loss levels. A seismic exceedance curve is associated with a specific asset. To use this feature click [here](rmtk/plotting/loss_curves/plot_loss_curves.ipynb).\n"
   ]
  },
  {
   "cell_type": "markdown",
   "metadata": {},
   "source": [
    "---\n",
    "## Risk Module\n",
    "In addition to the risk outputs and capabilities already support by the OpenQuake-engine, there are other types of results or calculations that might be of interest of particular end users. This module of the Risk Modeller's Toolkit aims to provide support to assess additional risk metrics. The Figure below illustrates one of these outputs.\n",
    "<img src=\"figures/pml_example.png\" width=\"400\" align=\"middle\">\n",
    "\n",
    "### Probable maximum loss curve\n",
    "This functionality of the Risk Modeller's Toolkit allows users to generate probable maximum loss curves, establishing the return period of exceedance for a set of loss levels. To use this feature click here [here](rmtk/risk/event_loss_tables/loss_modelling.ipynb).\n",
    "\n",
    "### Logic tree branch selector\n",
    "This feature of the Risk Modeller's Toolkit allows users to analyse sets of hazard curves derived using the Classical PSHA-based approach, and identify the branch of the logic tree that generated the hazard curve closest to the mean hazard curve, or a specific hazard curve fractile. This information can then be used to perform risk calculations for the identified logic tree branch. To use this feature click here [here](rmtk/risk/closest_curves/closest_curves.ipynb).\n"
   ]
  },
  {
   "cell_type": "markdown",
   "metadata": {},
   "source": [
    "---\n",
    "##Vulnerability Module\n",
    "The Vulnerability Module of the Risk Modeller's Toolkit comprises a number of tools to generate a large number of numerical models (e.g. single degree of freedom oscillators (SDOF) or capacity curves establishing the relation between spectral acceleration and spectral displacement); for the conversion of results from multiple degree of freedom systems (MDOF) to equivalent single degree ocilators (SDOF) or for the transformation of the elastic displacement to inelastic response, which is fundamental to derive fragility or vulnerability models for single structures or building classes. In the following figure, a fragility model developed using one of algorithms supported by this toolkit is depicted: \n",
    "<img src=\"figures/fragility_example.png\" width=\"400\" align=\"middle\">\n",
    "\n",
    "### Model generator\n",
    "This module enables users to generate a large number of numerical models that can be used in the derivation of fragility models. This feature allows the inclusion of the building-to-building variability necessary for the derivation of fragility functions for building classes. To use this feature click [here](rmtk/vulnerability/model_generator/model_generator.ipynb).\n",
    "\n",
    "### Conversion from MDOF to SDOF\n",
    "Several structural analysis packages allow the derivation of pushover curves (base shear versus top displacement) for multiple degree of freedom systems (MDOF). This module allows the conversion of results from MDOF analyses into equivalent single degree of freedom (SDOF) models, thus making them compatible with a wide range of non-linear static procedures. To use this feature click [here](rmtk/vulnerability/mdof_to_sdof/mdof_to_sdof.ipynb).\n",
    "\n",
    "### Derivation of fragility and vulnerability models\n",
    "This module comprises a wide spectrum methdologies to assess the nonlinear response of one, or multiple, structures using nonlinear static procedures. One of the main outputs of this module are fragility functions. Fragility functions obtained using this module can be further transformed into vulnerability functions using appropriate damage-to-loss (i.e. consequence) models. To use this feature click [here](rmtk/vulnerability/derivation_fragility/derivation_fragility.ipynb).\n"
   ]
  },
  {
   "cell_type": "markdown",
   "metadata": {},
   "source": [
    "---\n",
    "© 2014-2015, [GEM Foundation](http://www.globalquakemodel.org/), [Chiara Casotto](https://github.com/ccasotto/), [Vitor Silva](https://github.com/vsilva), [Anirudh Rao](https://github.com/raoanirudh/), [Mabé Villar](https://github.com/mabevillar).\n",
    "\n",
    "---"
   ]
  }
 ],
 "metadata": {
  "kernelspec": {
   "display_name": "Python 2",
   "language": "python",
   "name": "python2"
  },
  "language_info": {
   "codemirror_mode": {
    "name": "ipython",
    "version": 2
   },
   "file_extension": ".py",
   "mimetype": "text/x-python",
   "name": "python",
   "nbconvert_exporter": "python",
   "pygments_lexer": "ipython2",
   "version": "2.7.9"
  }
 },
 "nbformat": 4,
 "nbformat_minor": 0
}
