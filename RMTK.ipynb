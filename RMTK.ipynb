{
 "cells": [
  {
   "cell_type": "markdown",
   "metadata": {},
   "source": [
    "<div class=\"clearfix\" style=\"padding: 10px; padding-left: 0px\">\n",
    "<a href=\"http://www.globalquakemodel.org/\"><img src=\"figures/gem-logo.png\" width=\"300px\" style=\"display: inline-block;\"></a>\n",
    "<a href=\"http://www.globalquakemodel.org/openquake/\"><img src=\"figures/oq-logo.png\" width=\"300px\" class=\"pull-right\" style=\"display: inline-block;\"></a>\n",
    "</div>"
   ]
  },
  {
   "cell_type": "markdown",
   "metadata": {},
   "source": [
    "# Risk Modeller's Toolkit\n",
    "\n",
    "The OpenQuake Risk Modeller’s Toolkit (RMTK) is a suite of tools written by scientists, which supports engineers and other experts in the creation of fragility and vulnerability models for seismic risk analysis. This software contains some of the most commonly used algorithms for risk and vulnerability assessment, and it is intended to be an ever growing tool.\n",
    "\n",
    "The RMTK offers risk modellers a highly customizable and interactive computing experience through the use of [Jupyter notebooks](http://jupyter.org/). The RMTK notebooks allow you to combine live code, mathematics and TeX equations, plots, descriptive text, and HTML in the same document. The use of these notebooks enables risk modellers to maintain a fully reproducible record of a computation. The results obtained can be easily shared with colleagues through email or web-hosting services such as [GitHub](https://github.com/), [Dropbox](https://www.dropbox.com/), and [nbviewer](http://nbviewer.jupyter.org/).\n",
    "\n",
    "All of the RMTK notebooks are open-source and fully editable, including the text you are currently reading."
   ]
  },
  {
   "cell_type": "markdown",
   "metadata": {},
   "source": [
    "---\n",
    "## Vulnerability Module\n",
    "The *Vulnerability Module* of the Risk Modeller's Toolkit comprises a number of tools to generate a large number of numerical models (e.g. single degree of freedom oscillators (SDOF) or capacity curves establishing the relation between spectral acceleration and spectral displacement), and to calculate the response of these numerical models against large sets of ground motion records. In the following figure, a fragility model developed using one of algorithms supported by this toolkit is depicted: \n",
    "<img src=\"figures/fragility_example.png\" width=\"400\" align=\"middle\">\n",
    "\n",
    "### Capacity model generator\n",
    "This module enables users to generate a large number of numerical models that can be used in the derivation of fragility models. This feature allows the inclusion of the building-to-building variability necessary for the derivation of fragility functions for building classes. To use this feature click [here](notebooks/vulnerability/model_generator/model_generator.ipynb).\n",
    "\n",
    "\n",
    "### Derivation of fragility and vulnerability models\n",
    "This module comprises a wide spectrum methdologies to assess the nonlinear response of one, or multiple, structures using nonlinear static procedures. One of the main outputs of this module are fragility functions. Fragility functions obtained using this module can be further transformed into vulnerability functions using appropriate damage-to-loss (i.e. consequence) models. To use this feature click [here](notebooks/vulnerability/derivation_fragility/derivation_fragility.ipynb).\n"
   ]
  },
  {
   "cell_type": "markdown",
   "metadata": {},
   "source": [
    "---\n",
    "<strong><span style=\"color:#444444\">The OpenQuake Risk Modeller's Toolkit (RMTK)</span></strong>\n",
    "\n",
    "© 2014–2017, [GEM Foundation](http://www.globalquakemodel.org/), [Chiara Casotto](https://github.com/ccasotto/), [Vitor Silva](https://github.com/vsilva), [Anirudh Rao](https://github.com/raoanirudh/), [Mabé Villar](https://github.com/mabevillar).<br/>\n",
    "\n",
    "<small>\n",
    "This program is free software: you can redistribute it and/or modify it under the terms of the GNU General Public License as published by the Free Software Foundation, either [version 3 of the License](http://www.gnu.org/licenses/agpl-3.0.en.html), or (at your option) any later version.\n",
    "\n",
    "This program is distributed in the hope that it will be useful, but WITHOUT ANY WARRANTY; without even the implied warranty of MERCHANTABILITY or FITNESS FOR A PARTICULAR PURPOSE. See the GNU General Public License for more details.</small>\n",
    "\n",
    "---"
   ]
  }
 ],
 "metadata": {
  "kernelspec": {
   "display_name": "Python 3",
   "language": "python",
   "name": "python3"
  },
  "language_info": {
   "codemirror_mode": {
    "name": "ipython",
    "version": 3
   },
   "file_extension": ".py",
   "mimetype": "text/x-python",
   "name": "python",
   "nbconvert_exporter": "python",
   "pygments_lexer": "ipython3",
   "version": "3.6.6"
  }
 },
 "nbformat": 4,
 "nbformat_minor": 1
}
