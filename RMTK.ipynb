{
 "cells": [
  {
   "cell_type": "markdown",
   "metadata": {},
   "source": [
    "# Risk Modeller's Toolkit\n",
    "\n",
    "The Risk Modeller’s Toolkit (RMTK) is a suite of tools written by scientists, which supports engineers and other experts in the visualization of the outputs of the OpenQuake-engine, in the calculation of specific risk metrics, and creation of fragility and vulnerability models. This software contains some of the most commonly used algorithms for risk and vulnerability assessment, and it is intended to be an ever growing tool. The current architecture of the Risk Modeller's Toolkit is depicted in the figure below:<br />"
   ]
  },
  {
   "cell_type": "code",
   "execution_count": 5,
   "metadata": {
    "collapsed": false
   },
   "outputs": [
    {
     "data": {
      "image/svg+xml": [
       "<svg height=\"400\" width=\"800\" xmlns=\"http://www.w3.org/2000/svg\" xmlns:svg=\"http://www.w3.org/2000/svg\" xmlns:xlink=\"http://www.w3.org/1999/xlink\">\n",
       " <!-- Created with SVG-edit - http://svg-edit.googlecode.com/ -->\n",
       " <g>\n",
       "  <title>Layer 1</title>\n",
       "  <text fill=\"#000000\" font-family=\"Sans-serif\" font-size=\"16\" id=\"svg_5\" stroke=\"#191919\" stroke-width=\"0\" text-anchor=\"middle\" x=\"111.82813\" xml:space=\"preserve\" y=\"253\">Ground motion fields</text>\n",
       "  <a id=\"svg_17\" xlink:href=\"rmtk/plotting/hazard_outputs/plot_hazard_curves.ipynb\">\n",
       "   <text fill=\"#000000\" font-family=\"Sans-serif\" font-size=\"16\" id=\"svg_1\" stroke=\"#191919\" stroke-width=\"0\" text-anchor=\"middle\" x=\"89.57813\" xml:space=\"preserve\" y=\"163\">Hazard curves</text>\n",
       "  </a>\n",
       "  <a id=\"svg_18\" xlink:href=\"rmtk/plotting/collapse_maps/plot_collapse_maps.ipynb\">\n",
       "   <text fill=\"#000000\" font-family=\"Sans-serif\" font-size=\"16\" id=\"svg_6\" stroke=\"#191919\" stroke-width=\"0\" text-anchor=\"middle\" x=\"90.92188\" xml:space=\"preserve\" y=\"283\">Collapse maps</text>\n",
       "  </a>\n",
       "  <a id=\"svg_19\" xlink:href=\"rmtk/plotting/hazard_outputs/plot_hazard_maps.ipynb\">\n",
       "   <text fill=\"#000000\" font-family=\"Sans-serif\" font-size=\"16\" id=\"svg_4\" stroke=\"#191919\" stroke-width=\"0\" text-anchor=\"middle\" x=\"85.57813\" xml:space=\"preserve\" y=\"223\">Hazard maps</text>\n",
       "  </a>\n",
       "  <a id=\"svg_20\" xlink:href=\"rmtk/plotting/hazard_outputs/plot_hazard_curves.ipynb\">\n",
       "   <text fill=\"#000000\" font-family=\"Sans-serif\" font-size=\"16\" id=\"svg_3\" stroke=\"#191919\" stroke-width=\"0\" text-anchor=\"middle\" x=\"121.15625\" xml:space=\"preserve\" y=\"193\">Uniform hazard spectra</text>\n",
       "  </a>\n",
       "  <a id=\"svg_21\" xlink:href=\"rmtk/plotting/damage_dist/plot_damage_dist.ipynb\">\n",
       "   <text fill=\"#000000\" font-family=\"Sans-serif\" font-size=\"16\" id=\"svg_7\" stroke=\"#191919\" stroke-width=\"0\" text-anchor=\"middle\" x=\"109.15625\" xml:space=\"preserve\" y=\"313\">Damage distribution</text>\n",
       "  </a>\n",
       "  <a id=\"svg_22\" xlink:href=\"rmtk/plotting/loss_curves/plot_loss_curves.ipynb\">\n",
       "   <text fill=\"#000000\" font-family=\"Sans-serif\" font-size=\"16\" id=\"svg_8\" stroke=\"#191919\" stroke-width=\"0\" text-anchor=\"middle\" x=\"80.6875\" xml:space=\"preserve\" y=\"343\">Loss curves</text>\n",
       "  </a>\n",
       "  <a id=\"svg_23\" xlink:href=\"rmtk/plotting/risk_maps/plot_risk_maps.ipynb\">\n",
       "   <text fill=\"#000000\" font-family=\"Sans-serif\" font-size=\"16\" id=\"svg_9\" stroke=\"#191919\" stroke-width=\"0\" text-anchor=\"middle\" x=\"76.6875\" xml:space=\"preserve\" y=\"373\">Loss maps</text>\n",
       "  </a>\n",
       "  <a id=\"svg_25\" xlink:href=\"rmtk/risk/closest_curves/closest_curves.ipynb\">\n",
       "   <text fill=\"#000000\" font-family=\"Sans-serif\" font-size=\"16\" id=\"svg_11\" stroke=\"#191919\" stroke-dasharray=\"null\" stroke-linecap=\"null\" stroke-linejoin=\"null\" stroke-width=\"0\" text-anchor=\"middle\" x=\"341.8125\" xml:space=\"preserve\" y=\"193\">Logic-tree selector</text>\n",
       "  </a>\n",
       "  <a id=\"svg_26\" xlink:href=\"rmtk/vulnerability/model_generator/model_generator.ipynb\">\n",
       "   <text fill=\"#000000\" font-family=\"Sans-serif\" font-size=\"16\" id=\"svg_12\" stroke=\"#191919\" stroke-dasharray=\"null\" stroke-linecap=\"null\" stroke-linejoin=\"null\" stroke-width=\"0\" text-anchor=\"middle\" transform=\"matrix(1,0,0,1,0,0) \" x=\"609.20313\" xml:space=\"preserve\" y=\"163\">Capacity curve generation</text>\n",
       "  </a>\n",
       "  <a id=\"svg_27\" xlink:href=\"rmtk/vulnerability/mdof_to_sdof/mdof_to_sdof.ipynb\">\n",
       "   <text fill=\"#000000\" font-family=\"Sans-serif\" font-size=\"16\" id=\"svg_13\" stroke=\"#191919\" stroke-dasharray=\"null\" stroke-linecap=\"null\" stroke-linejoin=\"null\" stroke-width=\"0\" text-anchor=\"middle\" x=\"614.0625\" xml:space=\"preserve\" y=\"193\">MDOF to SDOF conversion</text>\n",
       "  </a>\n",
       "  <a id=\"svg_28\" xlink:href=\"rmtk/vulnerability/derivation_fragility/derivation_fragility.ipynb\">\n",
       "   <text fill=\"#000000\" font-family=\"Sans-serif\" font-size=\"16\" id=\"svg_14\" stroke=\"#191919\" stroke-dasharray=\"null\" stroke-linecap=\"null\" stroke-linejoin=\"null\" stroke-width=\"0\" text-anchor=\"middle\" transform=\"matrix(1,0,0,1,0,0) \" x=\"626.07813\" xml:space=\"preserve\" y=\"223\">Direct nonlinear static methods</text>\n",
       "  </a>\n",
       "  <a id=\"svg_29\" xlink:href=\"rmtk/vulnerability/derivation_fragility/derivation_fragility.ipynb\">\n",
       "   <text fill=\"#000000\" font-family=\"Sans-serif\" font-size=\"16\" id=\"svg_15\" stroke=\"#191919\" stroke-dasharray=\"null\" stroke-linecap=\"null\" stroke-linejoin=\"null\" stroke-width=\"0\" text-anchor=\"middle\" transform=\"matrix(1,0,0,1,0,0) \" x=\"655\" xml:space=\"preserve\" y=\"253\">Record based nonlinear static methods</text>\n",
       "  </a>\n",
       "  <a id=\"svg_30\" xlink:href=\"rmtk/vulnerability/derivation_fragility/derivation_fragility.ipynb\">\n",
       "   <text fill=\"#000000\" font-family=\"Sans-serif\" font-size=\"16\" id=\"svg_16\" stroke=\"#191919\" stroke-dasharray=\"null\" stroke-linecap=\"null\" stroke-linejoin=\"null\" stroke-width=\"0\" text-anchor=\"middle\" transform=\"matrix(1,0,0,1,0,0) \" x=\"624.75\" xml:space=\"preserve\" y=\"283\">Nonlinear time history analysis</text>\n",
       "  </a>\n",
       "  <text fill=\"#000000\" font-family=\"Sans-serif\" font-size=\"20\" id=\"svg_31\" stroke=\"#191919\" stroke-dasharray=\"null\" stroke-linecap=\"null\" stroke-linejoin=\"null\" stroke-width=\"0\" text-anchor=\"middle\" x=\"134\" xml:space=\"preserve\" y=\"124.5\">Plotting</text>\n",
       "  <rect fill=\"#000000\" fill-opacity=\"0\" height=\"40\" id=\"svg_36\" rx=\"10\" ry=\"10\" stroke=\"#005fbf\" stroke-dasharray=\"null\" stroke-linecap=\"null\" stroke-linejoin=\"null\" stroke-width=\"3\" width=\"130\" x=\"307.5\" y=\"97.5\"/>\n",
       "  <text fill=\"#000000\" font-family=\"Sans-serif\" font-size=\"20\" id=\"svg_10\" stroke=\"#191919\" stroke-dasharray=\"null\" stroke-linecap=\"null\" stroke-linejoin=\"null\" stroke-width=\"0\" text-anchor=\"middle\" x=\"372.50781\" xml:space=\"preserve\" y=\"124.5\">Risk</text>\n",
       "  <rect fill=\"#000000\" fill-opacity=\"0\" height=\"40\" id=\"svg_34\" rx=\"10\" ry=\"10\" stroke=\"#005fbf\" stroke-dasharray=\"null\" stroke-linecap=\"null\" stroke-linejoin=\"null\" stroke-width=\"3\" width=\"130\" x=\"548.5\" y=\"97.5\"/>\n",
       "  <text fill=\"#000000\" font-family=\"Sans-serif\" font-size=\"20\" id=\"svg_24\" stroke=\"#191919\" stroke-dasharray=\"null\" stroke-linecap=\"null\" stroke-linejoin=\"null\" stroke-width=\"0\" text-anchor=\"middle\" x=\"613.50781\" xml:space=\"preserve\" y=\"124.5\">Vulnerability</text>\n",
       "  <rect fill=\"#000000\" fill-opacity=\"0\" height=\"40\" id=\"svg_37\" rx=\"10\" ry=\"10\" stroke=\"#005fbf\" stroke-dasharray=\"null\" stroke-linecap=\"null\" stroke-linejoin=\"null\" stroke-width=\"3\" width=\"130\" x=\"68.99219\" y=\"97.5\"/>\n",
       "  <line fill=\"none\" fill-opacity=\"0\" id=\"svg_39\" stroke=\"#005fbf\" stroke-dasharray=\"null\" stroke-linecap=\"null\" stroke-linejoin=\"null\" stroke-width=\"3\" x1=\"30.526306\" x2=\"11.500009\" y1=\"158\" y2=\"158\"/>\n",
       "  <line fill=\"none\" fill-opacity=\"0\" id=\"svg_2\" stroke=\"#005fbf\" stroke-dasharray=\"null\" stroke-linecap=\"null\" stroke-linejoin=\"null\" stroke-width=\"3\" x1=\"10\" x2=\"10\" y1=\"119\" y2=\"369.5\"/>\n",
       "  <line fill=\"none\" fill-opacity=\"0\" id=\"svg_66\" stroke=\"#005fbf\" stroke-dasharray=\"null\" stroke-linecap=\"null\" stroke-linejoin=\"null\" stroke-width=\"3\" x1=\"70\" x2=\"8.477646\" y1=\"118\" y2=\"118\"/>\n",
       "  <line fill=\"none\" fill-opacity=\"0\" id=\"svg_38\" stroke=\"#005fbf\" stroke-dasharray=\"null\" stroke-linecap=\"null\" stroke-linejoin=\"null\" stroke-width=\"3\" x1=\"70\" x2=\"8.477646\" y1=\"118\" y2=\"118\"/>\n",
       "  <line fill=\"none\" fill-opacity=\"0\" id=\"svg_43\" stroke=\"#005fbf\" stroke-dasharray=\"null\" stroke-linecap=\"null\" stroke-linejoin=\"null\" stroke-width=\"3\" x1=\"30.526276\" x2=\"11.499978\" y1=\"368\" y2=\"368\"/>\n",
       "  <line fill=\"none\" fill-opacity=\"0\" id=\"svg_44\" stroke=\"#005fbf\" stroke-dasharray=\"null\" stroke-linecap=\"null\" stroke-linejoin=\"null\" stroke-width=\"3\" x1=\"30.526276\" x2=\"11.499978\" y1=\"338\" y2=\"338\"/>\n",
       "  <line fill=\"none\" fill-opacity=\"0\" id=\"svg_45\" stroke=\"#005fbf\" stroke-dasharray=\"null\" stroke-linecap=\"null\" stroke-linejoin=\"null\" stroke-width=\"3\" x1=\"30.526276\" x2=\"11.499978\" y1=\"308\" y2=\"308\"/>\n",
       "  <line fill=\"none\" fill-opacity=\"0\" id=\"svg_46\" stroke=\"#005fbf\" stroke-dasharray=\"null\" stroke-linecap=\"null\" stroke-linejoin=\"null\" stroke-width=\"3\" x1=\"30.526276\" x2=\"11.499978\" y1=\"278\" y2=\"278\"/>\n",
       "  <line fill=\"none\" fill-opacity=\"0\" id=\"svg_47\" stroke=\"#005fbf\" stroke-dasharray=\"null\" stroke-linecap=\"null\" stroke-linejoin=\"null\" stroke-width=\"3\" x1=\"30.526276\" x2=\"11.499978\" y1=\"248\" y2=\"248\"/>\n",
       "  <line fill=\"none\" fill-opacity=\"0\" id=\"svg_48\" stroke=\"#005fbf\" stroke-dasharray=\"null\" stroke-linecap=\"null\" stroke-linejoin=\"null\" stroke-width=\"3\" x1=\"30.526276\" x2=\"11.499978\" y1=\"218\" y2=\"218\"/>\n",
       "  <line fill=\"none\" fill-opacity=\"0\" id=\"svg_49\" stroke=\"#005fbf\" stroke-dasharray=\"null\" stroke-linecap=\"null\" stroke-linejoin=\"null\" stroke-width=\"3\" x1=\"30.526276\" x2=\"11.499978\" y1=\"188\" y2=\"188\"/>\n",
       "  <line fill=\"none\" fill-opacity=\"0\" id=\"svg_50\" stroke=\"#005fbf\" stroke-dasharray=\"null\" stroke-linecap=\"null\" stroke-linejoin=\"null\" stroke-width=\"3\" x1=\"508.013153\" x2=\"488.986855\" y1=\"158.5\" y2=\"158.5\"/>\n",
       "  <line fill=\"none\" fill-opacity=\"0\" id=\"svg_54\" stroke=\"#005fbf\" stroke-dasharray=\"null\" stroke-linecap=\"null\" stroke-linejoin=\"null\" stroke-width=\"3\" x1=\"508.013123\" x2=\"488.986825\" y1=\"278.5\" y2=\"278.5\"/>\n",
       "  <line fill=\"none\" fill-opacity=\"0\" id=\"svg_55\" stroke=\"#005fbf\" stroke-dasharray=\"null\" stroke-linecap=\"null\" stroke-linejoin=\"null\" stroke-width=\"3\" x1=\"508.013123\" x2=\"488.986825\" y1=\"248.5\" y2=\"248.5\"/>\n",
       "  <line fill=\"none\" fill-opacity=\"0\" id=\"svg_56\" stroke=\"#005fbf\" stroke-dasharray=\"null\" stroke-linecap=\"null\" stroke-linejoin=\"null\" stroke-width=\"3\" x1=\"508.013123\" x2=\"488.986825\" y1=\"218.5\" y2=\"218.5\"/>\n",
       "  <line fill=\"none\" fill-opacity=\"0\" id=\"svg_57\" stroke=\"#005fbf\" stroke-dasharray=\"null\" stroke-linecap=\"null\" stroke-linejoin=\"null\" stroke-width=\"3\" x1=\"508.013123\" x2=\"488.986825\" y1=\"188.5\" y2=\"188.5\"/>\n",
       "  <line fill=\"none\" fill-opacity=\"0\" id=\"svg_58\" stroke=\"#005fbf\" stroke-dasharray=\"null\" stroke-linecap=\"null\" stroke-linejoin=\"null\" stroke-width=\"3\" x1=\"267.013153\" x2=\"247.986855\" y1=\"157.5\" y2=\"157.5\"/>\n",
       "  <line fill=\"none\" fill-opacity=\"0\" id=\"svg_71\" stroke=\"#005fbf\" stroke-dasharray=\"null\" stroke-linecap=\"null\" stroke-linejoin=\"null\" stroke-width=\"3\" x1=\"246.261169\" x2=\"246.261169\" y1=\"118.75\" y2=\"189\"/>\n",
       "  <line fill=\"none\" fill-opacity=\"0\" id=\"svg_65\" stroke=\"#005fbf\" stroke-dasharray=\"null\" stroke-linecap=\"null\" stroke-linejoin=\"null\" stroke-width=\"3\" x1=\"267.013123\" x2=\"247.986825\" y1=\"187.5\" y2=\"187.5\"/>\n",
       "  <line fill=\"none\" fill-opacity=\"0\" id=\"svg_72\" stroke=\"#005fbf\" stroke-dasharray=\"null\" stroke-linecap=\"null\" stroke-linejoin=\"null\" stroke-width=\"3\" x1=\"306.261169\" x2=\"244.738816\" y1=\"117.75\" y2=\"117.75\"/>\n",
       "  <line fill=\"none\" fill-opacity=\"0\" id=\"svg_73\" stroke=\"#005fbf\" stroke-dasharray=\"null\" stroke-linecap=\"null\" stroke-linejoin=\"null\" stroke-width=\"3\" x1=\"306.261169\" x2=\"244.738816\" y1=\"117.75\" y2=\"117.75\"/>\n",
       "  <line fill=\"none\" fill-opacity=\"0\" id=\"svg_74\" stroke=\"#005fbf\" stroke-dasharray=\"null\" stroke-linecap=\"null\" stroke-linejoin=\"null\" stroke-width=\"3\" x1=\"487.261169\" x2=\"487.261169\" y1=\"119.75\" y2=\"280\"/>\n",
       "  <line fill=\"none\" fill-opacity=\"0\" id=\"svg_75\" stroke=\"#005fbf\" stroke-dasharray=\"null\" stroke-linecap=\"null\" stroke-linejoin=\"null\" stroke-width=\"3\" x1=\"547.261169\" x2=\"485.738816\" y1=\"118.75\" y2=\"118.75\"/>\n",
       "  <line fill=\"none\" fill-opacity=\"0\" id=\"svg_76\" stroke=\"#005fbf\" stroke-dasharray=\"null\" stroke-linecap=\"null\" stroke-linejoin=\"null\" stroke-width=\"3\" x1=\"547.261169\" x2=\"485.738816\" y1=\"118.75\" y2=\"118.75\"/>\n",
       "  <rect fill=\"#000000\" fill-opacity=\"0\" height=\"40\" id=\"svg_77\" rx=\"10\" ry=\"10\" stroke=\"#005fbf\" stroke-dasharray=\"null\" stroke-linecap=\"null\" stroke-linejoin=\"null\" stroke-width=\"3\" width=\"130\" x=\"307.5\" y=\"17.5\"/>\n",
       "  <text fill=\"#000000\" font-family=\"Sans-serif\" font-size=\"20\" id=\"svg_78\" stroke=\"#191919\" stroke-dasharray=\"null\" stroke-linecap=\"null\" stroke-linejoin=\"null\" stroke-width=\"0\" text-anchor=\"middle\" x=\"372.50781\" xml:space=\"preserve\" y=\"44.5\">RMTK</text>\n",
       "  <line fill=\"none\" fill-opacity=\"0\" id=\"svg_81\" stroke=\"#005fbf\" stroke-dasharray=\"null\" stroke-linecap=\"null\" stroke-linejoin=\"null\" stroke-width=\"3\" x1=\"375.5\" x2=\"375.5\" y1=\"58.374998\" y2=\"96.625001\"/>\n",
       "  <line fill=\"none\" fill-opacity=\"0\" id=\"svg_82\" stroke=\"#005fbf\" stroke-dasharray=\"null\" stroke-linecap=\"null\" stroke-linejoin=\"null\" stroke-width=\"3\" x1=\"135.5\" x2=\"135.5\" y1=\"76.5\" y2=\"96.625001\"/>\n",
       "  <line fill=\"none\" fill-opacity=\"0\" id=\"svg_80\" stroke=\"#005fbf\" stroke-dasharray=\"null\" stroke-linecap=\"null\" stroke-linejoin=\"null\" stroke-width=\"3\" x1=\"617.261181\" x2=\"133.738714\" y1=\"77.5\" y2=\"77.5\"/>\n",
       "  <line fill=\"none\" fill-opacity=\"0\" id=\"svg_83\" stroke=\"#005fbf\" stroke-dasharray=\"null\" stroke-linecap=\"null\" stroke-linejoin=\"null\" stroke-width=\"3\" x1=\"616.5\" x2=\"616.5\" y1=\"77.4375\" y2=\"97.562501\"/>\n",
       "  <a id=\"svg_32\" xlink:href=\"rmtk/risk/event_loss_tables/loss_modelling.ipynb\">\n",
       "   <text fill=\"#000000\" font-family=\"Sans-serif\" font-size=\"16\" id=\"svg_33\" stroke=\"#191919\" stroke-dasharray=\"null\" stroke-linecap=\"null\" stroke-linejoin=\"null\" stroke-width=\"0\" text-anchor=\"middle\" x=\"318.23438\" xml:space=\"preserve\" y=\"163\">PML curves</text>\n",
       "  </a>\n",
       " </g>\n",
       "</svg>"
      ],
      "text/plain": [
       "<IPython.core.display.SVG object>"
      ]
     },
     "execution_count": 5,
     "metadata": {},
     "output_type": "execute_result"
    }
   ],
   "source": [
    "from IPython.display import SVG\n",
    "SVG(filename='figures/rmtk_structure.svg')"
   ]
  },
  {
   "cell_type": "markdown",
   "metadata": {
    "collapsed": false
   },
   "source": [
    "##Plotting\n",
    "\n",
    "The Plotting facility of the Risk Modellers Toolkit offers a wide spectrum of modules to visualize maps, curves and other type of outputs produced by the OpenQuake-engine. Furthermore, it also enables users to convert their results from nrml (natural risks marked language), to other formats such as csv, which can then be used with other visualization tools such as [QGIS](http://www.qgis.org/en/site/). The figure below presents a loss map produced using one of modules of the Plotting facility.\n",
    "\n",
    "<img src=\"figures/risk_map_example.png\" width=\"400\" align=\"middle\">\n",
    "\n",
    "Currently, the Plotting facility of the Risk Modellers Toolkit can generate plots for the following outputs:\n",
    "\n",
    "###Collapse maps\n",
    "Collapse maps represent the spatial distribution of the mean number of assets that collapsed (or within the last damage state of the fragility model - e.g. destruction, complete). To use this feature click [here](rmtk/plotting/collapse_maps/plot_collapse_maps.ipynb)  \n",
    "###Damage distribution\n",
    "The OpenQuake-engine can calculate the damage distribution for a given earthquake scenario. This module can be used to plot the total damage distribution (i.e. mean number of assets in each damage state), as well as the distribution of damage for the vulnerability class (i.e. mean number of assets in each damage states, according to each vulnerabilioty class). To use this feature click [here](rmtk/plotting/damage_dist/plot_damage_dist.ipynb).\n",
    "###Loss maps\n",
    "Risk maps (or loss maps) represent the spatial distribution of the estimated losses (economic or human) within the region of interest. This maps can be derived for earthquake scenarios (single events) or considering probabilistic hazard. In the former case, the spatial distribution of the mean losses are illustrated. For the latter case, the losses corresponding to a given return period are presented. To use this feature click [here](rmtk/plotting/risk_maps/plot_risk_maps.ipynb)  \n",
    "###Hazard maps\n",
    "Hazard maps present the expected ground motion (e.g. peak ground acceleration, peak ground velocity, spectral acceleration at a given period of vibration) for a given level of frequency (represented by a probability of exceedance iwthin a given time span (e.g. 10% in 50 years) or return periods in years (e.g. 475-year). To use this feature click [here](rmtk/plotting/hazard_outputs/plot_hazard_maps.ipynb)\n",
    "###Hazard curves\n",
    "Seismic hazard curves express the relation between probability of exceedance (in a given time span) and a set of ground motion levels (e.g. peak ground acceleration, peak ground velocity, spectral acceleration at a given period of vibration). A seismic hazard curve is associated with a specific location. To use this feature click [here](rmtk/plotting/hazard_outputs/plot_hazard_curves.ipynb)\n",
    "###Uniform hazard spectra\n",
    "A uniform hazard spectrum (UHS) calculated at a specific location describes the spectral acceleration values at different periods of vibration which correspond to a particular \"uniform\" probability of exceedance (in a given time span). This feature enables a user to plot the UHS results obtained from an OpenQuake probabilistic hazard calculation. To use this feature click [here](rmtk/plotting/hazard_outputs/plot_hazard_curves.ipynb)\n",
    "###Loss curves\n",
    "Loss exceedance curves provide the probability of exceedance (in a given time span) for a set of loss levels. A seismic exceedance curve is associated with a specific asset. To use this feature click [here](rmtk/plotting/loss_curves/plot_loss_curves.ipynb) \n"
   ]
  },
  {
   "cell_type": "markdown",
   "metadata": {},
   "source": [
    "## Risk\n",
    "In addition to the risk outputs and capabilities already support by the OpenQuake-engine, there are other types of results or calculations that might be of interest of particular end users. This module of the Risk Modellers Toolkit aims to provide support to assess additional risk metrics. The Figure below illustrates one of these outputs.\n",
    "<img src=\"figures/pml_example.png\" width=\"350\" align=\"middle\">\n",
    "\n",
    "### Probable maximum loss curve\n",
    "This functionality of the Risk Modellers toolkit allows users to generate probable maximum loss curves, establishing the return period of exceedance for a set of loss levels. To use this feature click here [here](rmtk/risk/event_loss_tables/loss_modelling.ipynb)\n",
    "### Logic tree branch selector\n",
    "This feature of the risk Modellers Toolkit allows users to analyse sets of hazard curves derived using the Classical PSHA-based approach, and identify the branch of the logic tree that generated the hazard curve closest to the mean hazard curve, or a specific hazard curve fractile. This information can then be used to perform risk calculations for the identified logic tree branch. To use this feature click here [here](rmtk/risk/closest_curves/closest_curves.ipynb)."
   ]
  },
  {
   "cell_type": "markdown",
   "metadata": {},
   "source": [
    "##Vulnerability\n",
    "The Vulnerability Facility of the Risk Modellers Toolkit comprises a number of modules to generate a large number of numerical models (e.g. single degree of freedom ocilators (SDOF) or capacity curves establishing the relation between spectral acceleration and spectral displacement); conversion of results from multi degree of freedom systems (MDOF) to equivalent single degree ocilators (SDOF) or transformation of the elastic displacement to inelastic response, which is fundamental to derive fragility or vulnerability models for single structures or building classes. In the following figure, a fragility model developed using one of the support algorithms is depicted: \n",
    "<img src=\"figures/fragility_example.png\" width=\"400\" align=\"middle\">\n",
    "\n",
    "### Model generator\n",
    "This module enables users to generate a large number of numerical models that can be used in the derivation of fragility models. This feature allows the inclusion of the building-to-building variability necessary for the derivation of fragility functions for building classes. To use this feature click [here](rmtk/vulnerability/model_generator/model_generator.ipynb).\n",
    "### Convertor from MDOF to SDOF\n",
    "Several structural analysis packages allow the derivation of pushover curves (base shear versus top displacement) for multi degree of freedom systems (MDOF). This module allows the conversion of the MDOF results into the equivalent single degree of freedom (SDOF), thus making them compatible with a wide range of non-linear static procedures. To use this feature click [here](rmtk/vulnerability/mdof_to_sdof/mdof_to_sdof.ipynb).\n",
    "### Derivation of fragility and vulnerability models\n",
    "This module comprises a wide spectrum methdologies to assess the nonlinear response of one, or multiple, structures using nonlinear static procedures. One of the main outputs of this module are fragility functions, which can be converted into a vulnerability model using a damage-to-loss (i.e. consequence) model. To use this feature click [here](rmtk/vulnerability/derivation_fragility/derivation_fragility.ipynb)."
   ]
  }
 ],
 "metadata": {
  "kernelspec": {
   "display_name": "Python 2",
   "language": "python",
   "name": "python2"
  },
  "language_info": {
   "codemirror_mode": {
    "name": "ipython",
    "version": 2
   },
   "file_extension": ".py",
   "mimetype": "text/x-python",
   "name": "python",
   "nbconvert_exporter": "python",
   "pygments_lexer": "ipython2",
   "version": "2.7.9"
  }
 },
 "nbformat": 4,
 "nbformat_minor": 0
}
