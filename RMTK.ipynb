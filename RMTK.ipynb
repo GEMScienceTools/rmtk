{
 "cells": [
  {
   "cell_type": "markdown",
   "metadata": {},
   "source": [
    "<div class=\"clearfix\" style=\"padding: 10px; padding-left: 0px\">\n",
    "<a href=\"http://www.globalquakemodel.org/\"><img src=\"figures/gem-logo.png\" width=\"300px\" style=\"display: inline-block;\"></a>\n",
    "<a href=\"http://www.globalquakemodel.org/openquake/\"><img src=\"figures/oq-logo.png\" width=\"300px\" class=\"pull-right\" style=\"display: inline-block;\"></a>\n",
    "</div>"
   ]
  },
  {
   "cell_type": "markdown",
   "metadata": {},
   "source": [
    "# Risk Modeller's Toolkit\n",
    "\n",
    "The OpenQuake Risk Modeller’s Toolkit (RMTK) is a suite of tools written by scientists, which supports engineers and other experts in the visualization of the outputs of the OpenQuake-engine, in the calculation of specific risk metrics, and in the creation of fragility and vulnerability models. This software contains some of the most commonly used algorithms for risk and vulnerability assessment, and it is intended to be an ever growing tool. The current architecture of the Risk Modeller's Toolkit is depicted in the figure below:<br />\n",
    "\n",
    "<img src=\"figures/rmtk_structure.svg\" width=800>\n",
    "\n",
    "The RMTK offers risk modellers a highly customizable and interactive computing experience through the use of [IPython notebooks](http://ipython.org/notebook.html). The RMTK notebooks allow you to combine live code, mathematics and TeX equations, plots, descriptive text, and HTML in the same document. The use of these notebooks enables risk modellers to maintain a fully reproducible record of a computation. The results obtained can be easily shared with colleagues through email or web-hosting services such as [GitHub](https://github.com/), [Dropbox](https://www.dropbox.com/), and [nbviewer](http://nbviewer.ipython.org).\n",
    "\n",
    "All of the RMTK notebooks are open-source and fully editable, including the text you are currently reading."
   ]
  },
  {
   "cell_type": "markdown",
   "metadata": {
    "collapsed": false
   },
   "source": [
    "---\n",
    "## Plotting Module\n",
    "\n",
    "The *Plotting Module* of the Risk Modeller's Toolkit offers a wide spectrum of tools to visualize maps, curves and other type of outputs produced by the OpenQuake-engine. Furthermore, it also enables users to convert their results from XML, to other formats such as CSV, which can then be used with other visualization tools such as [QGIS](http://www.qgis.org/en/site/). The figure below presents a loss map produced using one of modules of the Plotting facility.\n",
    "\n",
    "<img src=\"figures/risk_map_example.png\" width=\"400\" align=\"middle\">\n",
    "\n",
    "Currently, the Plotting module of the Risk Modeller's Toolkit can generate plots for the following outputs:\n",
    "\n",
    "### Collapse maps\n",
    "Collapse maps represent the spatial distribution of the estimated mean number of assets that will collapse (or exceed the ultimate damage state described in the fragility model - e.g. destruction, complete). To use this feature click [here](rmtk/plotting/collapse_maps/plot_collapse_maps.ipynb).\n",
    "\n",
    "### Damage distribution\n",
    "The OpenQuake-engine can calculate the damage distribution for a given earthquake scenario. This module can be used to plot the total damage distribution (i.e. mean number of assets in each damage state), as well as the distribution of damage for building classes or typologies (i.e. mean number of assets in each damage state, according to each building class). To use this feature click [here](rmtk/plotting/damage_dist/plot_damage_dist.ipynb).\n",
    "\n",
    "### Loss maps\n",
    "Risk maps (or loss maps) represent the spatial distribution of the estimated losses (economic or human) within the region of interest. These maps can be derived for earthquake scenarios (single events) or considering probabilistic hazard. In the former case, the spatial distribution of the mean losses are illustrated on the loss map. For the latter case, the losses corresponding to a given return period are presented in the loss map. To use this feature click [here](rmtk/plotting/risk_maps/plot_risk_maps.ipynb).\n",
    "\n",
    "### Hazard maps\n",
    "Hazard maps present the expected ground motion (e.g. peak ground acceleration, peak ground velocity, spectral acceleration at a given period of vibration) for a given level of frequency (represented by a probability of exceedance within a given time span (e.g. 10% in 50 years) or return periods in years (e.g. 475-year). To use this feature click [here](rmtk/plotting/hazard_outputs/plot_hazard_maps.ipynb).\n",
    "\n",
    "### Hazard curves\n",
    "Seismic hazard curves express the relation between probability of exceedance (in a given time span) and a set of ground motion levels (e.g. peak ground acceleration, peak ground velocity, spectral acceleration at a given period of vibration). A seismic hazard curve is associated with a specific location. To use this feature click [here](rmtk/plotting/hazard_outputs/plot_hazard_curves.ipynb).\n",
    "\n",
    "### Uniform hazard spectra\n",
    "A uniform hazard spectrum (UHS) calculated at a specific location describes the spectral acceleration values at different periods of vibration which correspond to a particular \"uniform\" probability of exceedance (in a given time span). This feature enables a user to plot the UHS results obtained from an OpenQuake probabilistic hazard calculation. To use this feature click [here](rmtk/plotting/hazard_outputs/plot_hazard_curves.ipynb).\n",
    "\n",
    "### Loss curves\n",
    "Loss exceedance curves provide the probability of exceedance (in a given time span) for a set of loss levels. A seismic loss exceedance curve is associated with a specific asset. Aggregate loss exceedance curves describing the probability of exceedance of loss values for a portfolio of assets can also be calculated using the OpenQuake-engine and plotted using this notebook. To use this feature click [here](rmtk/plotting/loss_curves/plot_loss_curves.ipynb).\n"
   ]
  },
  {
   "cell_type": "markdown",
   "metadata": {},
   "source": [
    "---\n",
    "## Risk Module\n",
    "In addition to the risk outputs and capabilities already supported by the OpenQuake-engine, there are other types of results or calculations that might be of interest to particular end users. The *Risk Module* of the Risk Modeller's Toolkit aims to provide support to assess additional risk metrics. The figure below illustrates one of these outputs.\n",
    "<img src=\"figures/pml_example.png\" width=\"400\" align=\"middle\">\n",
    "\n",
    "### Probable maximum loss curve\n",
    "This functionality of the Risk Modeller's Toolkit allows users to generate probable maximum loss curves, establishing the return period of exceedance for a set of loss levels. To use this feature click here [here](rmtk/risk/event_loss_tables/loss_modelling.ipynb).\n",
    "\n",
    "### Logic tree branch selector\n",
    "This feature of the Risk Modeller's Toolkit allows users to analyse sets of hazard curves derived using the Classical PSHA-based approach, and identify the branch of the logic tree that generated the hazard curve closest to the mean hazard curve, or a specific hazard curve fractile. This information can then be used to perform risk calculations for the identified logic tree branch. To use this feature click here [here](rmtk/risk/closest_curves/closest_curves.ipynb).\n"
   ]
  },
  {
   "cell_type": "markdown",
   "metadata": {},
   "source": [
    "---\n",
    "## Vulnerability Module\n",
    "The *Vulnerability Module* of the Risk Modeller's Toolkit comprises a number of tools to generate a large number of numerical models (e.g. single degree of freedom oscillators (SDOF) or capacity curves establishing the relation between spectral acceleration and spectral displacement); for the conversion of results from multiple degree of freedom systems (MDOF) to equivalent single degree ocilators (SDOF) or for the transformation of the elastic displacement to inelastic response, which is fundamental to derive fragility or vulnerability models for single structures or building classes. In the following figure, a fragility model developed using one of algorithms supported by this toolkit is depicted: \n",
    "<img src=\"figures/fragility_example.png\" width=\"400\" align=\"middle\">\n",
    "\n",
    "### Capacity model generator\n",
    "This module enables users to generate a large number of numerical models that can be used in the derivation of fragility models. This feature allows the inclusion of the building-to-building variability necessary for the derivation of fragility functions for building classes. To use this feature click [here](rmtk/vulnerability/model_generator/model_generator.ipynb).\n",
    "\n",
    "### Conversion from MDOF to SDOF\n",
    "Several structural analysis packages allow the derivation of pushover curves (base shear versus top displacement) for multiple degree of freedom systems (MDOF). This module allows the conversion of results from MDOF analyses into equivalent single degree of freedom (SDOF) models, thus making them compatible with a wide range of non-linear static procedures. To use this feature click [here](rmtk/vulnerability/mdof_to_sdof/mdof_to_sdof.ipynb).\n",
    "\n",
    "### Derivation of fragility and vulnerability models\n",
    "This module comprises a wide spectrum methdologies to assess the nonlinear response of one, or multiple, structures using nonlinear static procedures. One of the main outputs of this module are fragility functions. Fragility functions obtained using this module can be further transformed into vulnerability functions using appropriate damage-to-loss (i.e. consequence) models. To use this feature click [here](rmtk/vulnerability/derivation_fragility/derivation_fragility.ipynb).\n"
   ]
  },
  {
   "cell_type": "markdown",
   "metadata": {},
   "source": [
    "---\n",
    "<strong><span style=\"color:#444444\">The OpenQuake Risk Modeller's Toolkit (RMTK)</span></strong>\n",
    "\n",
    "© 2015, [GEM Foundation](http://www.globalquakemodel.org/), [Chiara Casotto](https://github.com/ccasotto/), [Vitor Silva](https://github.com/vsilva), [Anirudh Rao](https://github.com/raoanirudh/), [Mabé Villar](https://github.com/mabevillar).<br/>\n",
    "\n",
    "<small>\n",
    "This program is free software: you can redistribute it and/or modify it under the terms of the GNU General Public License as published by the Free Software Foundation, either [version 3 of the License](http://www.gnu.org/licenses/agpl-3.0.en.html), or (at your option) any later version.\n",
    "\n",
    "This program is distributed in the hope that it will be useful, but WITHOUT ANY WARRANTY; without even the implied warranty of MERCHANTABILITY or FITNESS FOR A PARTICULAR PURPOSE. See the GNU General Public License for more details.</small>\n",
    "\n",
    "---"
   ]
  }
 ],
 "metadata": {
  "kernelspec": {
   "display_name": "Python 2",
   "language": "python",
   "name": "python2"
  },
  "language_info": {
   "codemirror_mode": {
    "name": "ipython",
    "version": 2
   },
   "file_extension": ".py",
   "mimetype": "text/x-python",
   "name": "python",
   "nbconvert_exporter": "python",
   "pygments_lexer": "ipython2",
   "version": "2.7.10"
  }
 },
 "nbformat": 4,
 "nbformat_minor": 0
}
