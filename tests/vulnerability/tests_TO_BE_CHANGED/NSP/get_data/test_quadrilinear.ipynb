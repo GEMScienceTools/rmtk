{
 "metadata": {
  "name": ""
 },
 "nbformat": 3,
 "nbformat_minor": 0,
 "worksheets": [
  {
   "cells": [
    {
     "cell_type": "code",
     "collapsed": false,
     "input": [
      "\"\"\"\n",
      "Created on Wed May 28 15:23:24 2014\n",
      "\n",
      "@author: chiaracasotto\n",
      "\"\"\"\n",
      "import numpy as np\n",
      "import matplotlib.pyplot as plt\n",
      "from idealisation import bilinear\n",
      "from idealisation import quadrilinear\n",
      "import os\n",
      "import csv\n",
      "\n",
      "cd = os.getcwd()\n",
      "input1 = cd+'/inputs/displacements_pushover.csv' # storeys height and displacements at story levels starting from level 0\n",
      "input2 = cd+'/inputs/reactions_pushover.csv' # Base Reactions [kN]\n",
      "input3 = cd+'/inputs/building_parameters.csv' # First period of vibration and partecipation factor normalised with respect to top floor\n",
      "input4 = cd+'/inputs/limits.csv' # Limit States expressed as drifts"
     ],
     "language": "python",
     "metadata": {},
     "outputs": [],
     "prompt_number": 9
    },
    {
     "cell_type": "code",
     "collapsed": false,
     "input": [
      "with open(input3, 'rb') as f:\n",
      "    reader = csv.reader(f)\n",
      "    newlist = [row for row in reader]\n",
      "T = [float(ele[1]) for ele in newlist[1:]] # First period\n",
      "Gamma = [float(ele[2]) for ele in newlist[1:]] # first modal participation factor normalised with respect to the top displ., Dispersions\n",
      "w = [float(ele[3]) for ele in newlist[1:]] # weight assigned to each building if multiple buildings are input\n",
      "noStorey = [int(ele[4]) for ele in newlist[1:]]\n",
      "noBlg = len(T)\n",
      "H = []\n",
      "for i in range(1,len(newlist)):\n",
      "    H.append([float(ele) for ele in newlist[i][5:5+int(noStorey[i-1])]])\n",
      "    #H.append(np.array(newlist[i][5:5+int(noStorey[i-1])],float)) # storeys height [m]\n",
      "        \n",
      "with open(input1, 'rb') as f:\n",
      "    reader = csv.reader(f)\n",
      "    newlist = [row for row in reader]\n",
      "tmp, disp = [],[]\n",
      "tmp.append([[] for i in range(0,len(newlist))]); tmp = tmp[0]\n",
      "disp.append([[] for i in range(0,noBlg)]); disp = disp[0]\n",
      "for i in range(1,len(newlist)):        \n",
      "    for ele in newlist[i][2:]:\n",
      "        if ele is not '':\n",
      "            tmp[i-1].append(ele)\n",
      "    j = int((i-1)/noStorey[0])\n",
      "    disp[j].append(abs(np.array(tmp[i-1][:],float)))\n",
      "\n",
      "with open(input2, 'rb') as f:\n",
      "    reader = csv.reader(f)\n",
      "    newlist = [row for row in reader] \n",
      "react = newlist[1:]\n",
      "R, tmp = [],[]\n",
      "tmp.append([[] for i in range(0,len(react))]); tmp = tmp[0]\n",
      "for i in range(0,len(react)):\n",
      "    for ele in react[i]:\n",
      "        if ele is not '':\n",
      "            tmp[i].append(ele)\n",
      "    R.append(abs(np.array(tmp[i][1:],float)))\n",
      "\n",
      "with open(input4, 'rb') as f:\n",
      "    reader = csv.reader(f)\n",
      "    newlist = [row for row in reader]\n",
      "newlist = [ele[1:] for ele in newlist]\n",
      "limits = np.array(newlist[1::2],float) #limit states [drifts]\n",
      "bUthd = np.array(newlist[2::2],float)\n",
      "\n",
      "if len(limits) < noBlg:\n",
      "    limits = np.repeat(limits,noBlg,axis=0)\n",
      "    bUthd = np.repeat(bUthd,noBlg,axis=0)\n",
      "bUthd = bUthd.tolist()\n",
      "limits = limits.tolist()\n",
      "    \n",
      "# Assign damage to each analysis and return displacement profile at each Limit state attainment\n",
      "droof = []\n",
      "for blg in range(0,len(disp)):\n",
      "    droof.append(disp[blg][noStorey[blg]-1]) # roof displacements  "
     ],
     "language": "python",
     "metadata": {},
     "outputs": [],
     "prompt_number": 10
    },
    {
     "cell_type": "code",
     "collapsed": false,
     "input": [
      "flag = 1\n",
      "linew = 2\n",
      "fontsize = 10\n",
      "units = ['[m]', '[kN]', '[g]']"
     ],
     "language": "python",
     "metadata": {},
     "outputs": [],
     "prompt_number": 11
    },
    {
     "cell_type": "code",
     "collapsed": false,
     "input": [
      "blg = 0\n",
      "droof,Vb = droof[blg],R[blg]\n",
      "\n",
      "droof = np.array(droof)\n",
      "Fmax = np.max(Vb)\n",
      "for index, item in enumerate(Vb):\n",
      "    if item >= Fmax:\n",
      "        break \n",
      "fmax = index\n",
      "dmax = droof[fmax]"
     ],
     "language": "python",
     "metadata": {},
     "outputs": [],
     "prompt_number": 12
    },
    {
     "cell_type": "code",
     "collapsed": false,
     "input": [
      "#   Yielding point:\n",
      "#   Vulnerability guidelines method\n",
      "#   Find yielding displacement with equal energy principle n the interval from 0 to Dmax\n",
      "Areas = np.array([(Vb[i+1]+Vb[i])/2 for i in range(0,fmax)])\n",
      "dd = np.array([droof[i+1]-droof[i] for i in range(0,fmax)])    \n",
      "Edmax = np.sum(dd*Areas) #Area under the pushover curve in the interval from 0 to Dmax         \n",
      "dy = 2*(dmax-Edmax/Fmax)\n",
      "Fy = Fmax"
     ],
     "language": "python",
     "metadata": {},
     "outputs": [],
     "prompt_number": 13
    },
    {
     "cell_type": "code",
     "collapsed": false,
     "input": [
      "#   Onset of plateu\n",
      "#   Find were slope of pushover curve before decreasing in the plateu\n",
      "Vb_norm = Vb/Fy\n",
      "d_norm = droof/dy\n",
      "slp = [(Vb_norm[i]-Vb_norm[i-1])/(d_norm[i]-d_norm[i-1]) for i in xrange(1,len(Vb))]\n",
      "\n",
      "indy_soft = np.nonzero(abs(np.array(slp))>0.3)\n",
      "fmin = indy_soft[0][-1]\n",
      "print fmin\n",
      "Fmin = Vb[fmin]\n",
      "dmin = droof[fmin]\n",
      "print Fmin"
     ],
     "language": "python",
     "metadata": {},
     "outputs": [
      {
       "output_type": "stream",
       "stream": "stdout",
       "text": [
        "2941\n",
        "1234.25\n"
       ]
      }
     ],
     "prompt_number": 17
    },
    {
     "cell_type": "code",
     "collapsed": false,
     "input": [
      "#   Onset of softening\n",
      "#   Find yielding displacement with equal energy principle n the interval from Dmax to Dmin (onset of plateu)\n",
      "Areas = np.array([(Vb[i+1]+Vb[i])/2 for i in range(fmax,fmin)])\n",
      "dd = np.array([droof[i+1]-droof[i] for i in range(fmax,fmin)])\n",
      "Edmin = np.sum(dd*Areas)\n",
      "ds = 2/(Fmax-Fmin)*(Edmin - (dmin-dmax)*Fmax + 0.5*dmin*(Fmax-Fmin))\n",
      "du = np.max(droof)"
     ],
     "language": "python",
     "metadata": {},
     "outputs": [],
     "prompt_number": 7
    },
    {
     "cell_type": "code",
     "collapsed": false,
     "input": [
      "#   Residual Plateu     \n",
      "Areas= np.array([(Vb[i+1]+Vb[i])/2 for i in range(fmin,len(Vb)-1)])\n",
      "dd = np.array([droof[i+1]-droof[i] for i in range(fmin,len(Vb)-1)])\n",
      "Edplat = np.sum(dd*Areas)\n",
      "Fres = Edplat/(droof[-1]-dmin)\n",
      "slp_soft = abs((Fmax-Fmin)/(ds-dmin))\n",
      "dmin = dmin+(Fmin-Fres)/slp_soft\n",
      "Fmin = Fres\n",
      "\n",
      "if flag:\n",
      "    # Plot pushover curve and bilinear curve\n",
      "    plt.plot(droof,Vb,color='b',linewidth=linew,label='pushover input')\n",
      "    x = np.array([0, dy, ds, dmin, du])\n",
      "    y = np.array([0, Fy, Fy, Fmin, Fmin])\n",
      "    plt.plot(x,y,color='r',marker = 'o', linewidth=linew, label='quadrilinear idealisation')\n",
      "    plt.xlabel('roof displacement, droof '+units[0],fontsize = fontsize)\n",
      "    plt.ylabel('base shear, Vb '+units[1],fontsize = fontsize)\n",
      "    plt.suptitle('Pushover curve',fontsize = fontsize)\n",
      "    plt.legend(loc='lower right',frameon = False)\n",
      "    plt.show()\n",
      "print dy,ds,dmin,du,Fy,Fmax,Fmin"
     ],
     "language": "python",
     "metadata": {},
     "outputs": [
      {
       "metadata": {},
       "output_type": "display_data",
       "png": "[encoded data removed]",
       "text": [
        "<matplotlib.figure.Figure at 0x103da18d0>"
       ]
      },
      {
       "output_type": "stream",
       "stream": "stdout",
       "text": [
        "0.0422728605913 0.113278436093 0.123312633118 0.290448402 2133.26 2133.26 939.913228223\n"
       ]
      }
     ],
     "prompt_number": 18
    },
    {
     "cell_type": "code",
     "collapsed": false,
     "input": [],
     "language": "python",
     "metadata": {},
     "outputs": []
    }
   ],
   "metadata": {}
  }
 ]
}