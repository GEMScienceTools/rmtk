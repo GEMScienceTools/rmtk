{
 "metadata": {
  "name": ""
 },
 "nbformat": 3,
 "nbformat_minor": 0,
 "worksheets": [
  {
   "cells": [
    {
     "cell_type": "code",
     "collapsed": false,
     "input": [
      "# Clear existing variables\n",
      "def clearall():\n",
      "    all = [var for var in globals() if var[0] != \"_\"]\n",
      "    for var in all:\n",
      "        del globals()[var]\n",
      "clearall()\n",
      "import numpy as np\n",
      "import scipy.stats as stat\n",
      "import matplotlib.pyplot as plt\n",
      "from conversions import from_median_to_mean\n",
      "# variables\n",
      "iml = np.linspace(0.01,10,50)\n",
      "w = [0.33, 0.33, 0.34]\n",
      "SaLS = np.log(np.array([1., 2., 3.]))\n",
      "StdSaLS = np.array([ 0.5, 0.6, 0.7])"
     ],
     "language": "python",
     "metadata": {},
     "outputs": [],
     "prompt_number": 37
    },
    {
     "cell_type": "code",
     "collapsed": false,
     "input": [
      "log_meanSa = (np.average(SaLS,weights = w)) # weighted log-mean\n",
      "log_stSa =(np.sqrt(np.sum(w*(np.power((SaLS-log_meanSa),2)+np.power(StdSaLS,2))))) # weighted log-std (dispersion)\n",
      "print log_meanSa, log_stSa"
     ],
     "language": "python",
     "metadata": {},
     "outputs": [
      {
       "output_type": "stream",
       "stream": "stdout",
       "text": [
        "0.602266747732 0.757685228737\n"
       ]
      }
     ],
     "prompt_number": 38
    },
    {
     "cell_type": "code",
     "collapsed": false,
     "input": [
      "# Plot fragility curves\n",
      "colours = ['b','r','g','k','c','y']\n",
      "Sa50 = np.exp(log_meanSa)\n",
      "bTSa = log_stSa\n",
      "y = stat.norm(np.log(Sa50),bTSa).cdf(np.log(iml))\n",
      "plt.plot(iml,y,color=colours[0])"
     ],
     "language": "python",
     "metadata": {},
     "outputs": [
      {
       "metadata": {},
       "output_type": "pyout",
       "prompt_number": 39,
       "text": [
        "[<matplotlib.lines.Line2D at 0x10e40df50>]"
       ]
      },
      {
       "metadata": {},
       "output_type": "display_data",
       "png": "[encoded data removed]",
       "text": [
        "<matplotlib.figure.Figure at 0x10e314ad0>"
       ]
      }
     ],
     "prompt_number": 39
    }
   ],
   "metadata": {}
  }
 ]
}