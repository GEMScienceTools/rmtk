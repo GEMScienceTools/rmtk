{
 "metadata": {
  "name": ""
 },
 "nbformat": 3,
 "nbformat_minor": 0,
 "worksheets": [
  {
   "cells": [
    {
     "cell_type": "code",
     "collapsed": false,
     "input": [
      "# Clear existing variables\n",
      "def clearall():\n",
      "    all = [var for var in globals() if var[0] != \"_\"]\n",
      "    for var in all:\n",
      "        del globals()[var]\n",
      "clearall()\n",
      "import numpy as np\n",
      "import scipy.stats as stat\n",
      "import matplotlib.pyplot as plt\n",
      "import os\n",
      "from conversions import from_median_to_mean\n",
      "noBlg = 3\n",
      "Sa_ratios = [1, 1.2, 0.9]\n",
      "bTSa = [np.array([0.1904678,   0.34344428,  0.37524771,  0.3902132,   0.39421843]),\n",
      "        np.array([ 0.21424855,  0.36911505,  0.3990526,   0.41032909,  0.41265483]),\n",
      "        np.array([ 0.21367852,  0.35846285,  0.38356651,  0.39371426,  0.39636487])]\n",
      "SaT50 =[np.array([0.2,  0.5,  0.6,  0.7,   0.9]),\n",
      "        np.array([0.3,  0.6,  0.7,  0.8,  1.0]),\n",
      "        np.array([0.5,  0.7,  0.8,  0.9,  1.1])]\n",
      "w = np.array([0.3, 0.3, 0.4])\n",
      "allSa, allbTSa = [], []"
     ],
     "language": "python",
     "metadata": {},
     "outputs": [],
     "prompt_number": 22
    },
    {
     "cell_type": "code",
     "collapsed": false,
     "input": [
      "# Converting the Sa(T1) to Sa(Tav), the common IM\n",
      "for blg in range(0,noBlg):\n",
      "    SaTlogmean_av, bTSa_av = np.log(SaT50[blg])*Sa_ratios[blg], np.array(bTSa[blg])*Sa_ratios[blg]\n",
      "    allSa.append(SaTlogmean_av)\n",
      "    allbTSa.append(bTSa_av)\n",
      "    print \"log_mean\", SaTlogmean_av\n",
      "    print \"beta\", bTSa_av"
     ],
     "language": "python",
     "metadata": {},
     "outputs": [
      {
       "output_type": "stream",
       "stream": "stdout",
       "text": [
        "log_mean [-1.60943791 -0.69314718 -0.51082562 -0.35667494 -0.10536052]\n",
        "beta [ 0.1904678   0.34344428  0.37524771  0.3902132   0.39421843]\n",
        "log_mean [-1.44476737 -0.61299075 -0.42800993 -0.26777226  0.        ]\n",
        "beta [ 0.25709826  0.44293806  0.47886312  0.49239491  0.4951858 ]\n",
        "log_mean [-0.62383246 -0.32100745 -0.2008292  -0.09482446  0.08577916]\n",
        "beta [ 0.19231067  0.32261657  0.34520986  0.35434283  0.35672838]\n"
       ]
      }
     ],
     "prompt_number": 23
    },
    {
     "cell_type": "code",
     "collapsed": false,
     "input": [
      "# Combine the fragility of each building in a single lognormal curve with\n",
      "# mean = weighted_mean(means) and std = SRSS(weighted_std(means),weighted_mean(stds))\n",
      "log_meanSa, log_stSa = [],[]\n",
      "for i in range(0,len(SaT50[0])):\n",
      "    SaLS = [ele[i] for ele in allSa]\n",
      "    StdSaLS = [ele[i] for ele in allbTSa]\n",
      "    log_meanSa.append(np.average(SaLS,weights = w)) # weighted log-mean\n",
      "    log_stSa.append(np.sqrt(np.sum(w*(np.power((SaLS-log_meanSa[i]),2)+np.power(StdSaLS,2))))) # weighted log-std (dispersion)\n",
      "\n",
      "[meanSa, stSa] = from_median_to_mean(np.exp(log_meanSa),log_stSa)\n",
      "cov = np.divide(stSa,meanSa)\n",
      "print \"mean_tot(ln(x)) = \", meanSa\n",
      "print \"cov_tot(ln(x)) = \", cov"
     ],
     "language": "python",
     "metadata": {},
     "outputs": [
      {
       "output_type": "stream",
       "stream": "stdout",
       "text": [
        "mean_tot(ln(x)) =  [ 0.35236071  0.64494374  0.76074345  0.8739955   1.0956855 ]\n",
        "cov_tot(ln(x)) =  [ 0.68570668  0.65813327  0.66267092  0.66403787  0.66277261]\n"
       ]
      }
     ],
     "prompt_number": 24
    },
    {
     "cell_type": "code",
     "collapsed": false,
     "input": [],
     "language": "python",
     "metadata": {},
     "outputs": [],
     "prompt_number": 24
    }
   ],
   "metadata": {}
  }
 ]
}