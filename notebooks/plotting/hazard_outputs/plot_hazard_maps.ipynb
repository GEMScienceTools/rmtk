{
 "cells": [
  {
   "cell_type": "markdown",
   "metadata": {},
   "source": [
    "# Hazard Maps\n",
    "\n",
    "This IPython notebook allows users to plot hazard maps generated from probabilistic seismic hazard analysis. \n",
    "\n",
    "**Export options:**\n",
    "The figure generated can be saved to an image file by providing a filename to the `output_file` parameter below. The output resolution and image format can be set using the parameters `output_dpi` and `output_fmt` respectively. The formats png, pdf, ps, eps and svg are currently supported.\n",
    "\n",
    "Note: The bounding box defining the extents of the map is estimated directly from the list of sites in the results file."
   ]
  },
  {
   "cell_type": "code",
   "execution_count": null,
   "metadata": {
    "collapsed": false,
    "scrolled": true
   },
   "outputs": [],
   "source": [
    "%matplotlib inline\n",
    "from plot_hazard_outputs import HazardMap\n",
    "\n",
    "hazard_map_file = \"../sample_outputs/hazard/hazard_map-poe_0.02.xml\"\n",
    "\n",
    "hazard_map = HazardMap(hazard_map_file)\n",
    "marker_size = 15\n",
    "log_scale = False\n",
    "output_file = None\n",
    "output_dpi = 300\n",
    "output_fmt = \"png\"\n",
    "\n",
    "hazard_map.plot(log_scale, marker_size, output_file, output_dpi, output_fmt)"
   ]
  }
 ],
 "metadata": {
  "kernelspec": {
   "display_name": "Python 2",
   "language": "python",
   "name": "python2"
  },
  "language_info": {
   "codemirror_mode": {
    "name": "ipython",
    "version": 2
   },
   "file_extension": ".py",
   "mimetype": "text/x-python",
   "name": "python",
   "nbconvert_exporter": "python",
   "pygments_lexer": "ipython2",
   "version": "2.7.9"
  }
 },
 "nbformat": 4,
 "nbformat_minor": 0
}
