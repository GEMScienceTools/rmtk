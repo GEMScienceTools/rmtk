{
 "cells": [
  {
   "cell_type": "markdown",
   "metadata": {},
   "source": [
    "# MDOF pushover curves to equivalent SDOF capacity curves\n",
    "\n",
    "This feature of the Risk Modeller's Toolkit enables the user to derive equivalent single-degree-of-freedom (SDOF) capacity curves from multiple-degree-of-freedom (MDOF) structures. Several structural analysis packages allow the user to perform a reliable pushover analysis on a nonlinear model of the MDOF structure. The results of the pushover analysis (in terms of a pushover curve) can be provided as input to one of the methods in this module. This module allows the conversion of the MDOF results into 'equivalent SDOF' results, thus making them compatible with a wide range of non-linear static procedures. At present, two methods are provided in this module for obtaining equivalent SDOF capacity curves for an MDOF system."
   ]
  },
  {
   "cell_type": "markdown",
   "metadata": {
    "collapsed": true
   },
   "source": [
    "## Equivalent SDOF capacity curves based on the first mode response\n",
    "\n",
    "This method requires the user to provide the first mode of vibration of the structure. The supplied pushover curve, which is in terms of base shear and roof displacement, is transformed into an equivalent SDOF capacity curve, which is in terms of spectral acceleration and spectral displacement.\n",
    "\n",
    "For more details on this procedure and the equations used to make the transformation, refer to: Applied Technology Council. (1996). Seismic Evaluation and Retrofit of Concrete Buildings (Vol. 1). To use this feature, click [here](./first_mode/first_mode.ipynb)."
   ]
  },
  {
   "cell_type": "markdown",
   "metadata": {},
   "source": [
    "## Equivalent SDOF capacity curves based on the adaptive approach\n",
    "\n",
    "The equivalent SDOF capacity curve is calculated step by step based on the actual displacements, rather than a transformation of the capacity curve referred to the roof displacement. In this method, the equivalent system displacement and acceleration are calculated at each analysis step, using the actual displacements at that step.\n",
    "\n",
    "For more details on this procedure and the equations used to make the transformation, refer to: Casarotti, C., & Pinho, R. (2007). An adaptive capacity spectrum method for assessment of bridges subjected to earthquake action. Bulletin of Earthquake Engineering, 5(3), 377–390. To use this feature click [here](./adaptive/adaptive.ipynb)."
   ]
  }
 ],
 "metadata": {
  "kernelspec": {
   "display_name": "Python 2",
   "language": "python",
   "name": "python2"
  },
  "language_info": {
   "codemirror_mode": {
    "name": "ipython",
    "version": 2
   },
   "file_extension": ".py",
   "mimetype": "text/x-python",
   "name": "python",
   "nbconvert_exporter": "python",
   "pygments_lexer": "ipython2",
   "version": "2.7.10"
  }
 },
 "nbformat": 4,
 "nbformat_minor": 0
}
