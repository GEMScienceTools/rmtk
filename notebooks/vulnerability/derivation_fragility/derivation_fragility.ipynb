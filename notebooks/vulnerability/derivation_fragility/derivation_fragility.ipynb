{
 "cells": [
  {
   "cell_type": "markdown",
   "metadata": {},
   "source": [
    "# Derivation of fragility and vulnerability models\n",
    "\n",
    "This module comprises  methodologies for the assessment of the nonlinear response of one or multiple structures using nonlinear dynamic analysis. One of the main outputs of this module are fragility functions, which can be converted into vulnerability functions by employing a suitable damage-to-loss (i.e. consequence) model.\n"
   ]
  },
  {
   "cell_type": "markdown",
   "metadata": {},
   "source": [
    "---\n",
    "## 3 — Nonlinear Time History Analysis of SDOF Oscillators\n",
    "\n",
    "In this method, a single degree of freedom (SDOF) model of each structure is subjected to non-linear time history analysis (NLTHA) using a suite of ground motion records. \n",
    "\n",
    "### 3.1 Unscaled Records\n",
    "In this method ground motion records are unscaled. The displacements of the SDOF due to each ground motion record are used as input to determine the distribution of buildings in each damage state for each level of ground motion intensity. A regression algorithm is then applied to derive the fragility model.\n",
    "To use this module click [here](../../vulnerability/derivation_fragility/NLTHA_on_SDOF/NLTHA_on_SDOF.ipynb).\n",
    "\n",
    "### 3.2 Multiple Stripe Analysis\n",
    "Multiple Stripe Analysis (MSA) consists of applying a set of ground motion records that are scaled to multiple levels of intensity measure (intensity measure bins). Multiple “stripes” of response are thus obtained from the displacements of the SDOF due to each ground motion record and used as input to determine the distribution of buildings in each damage state for intensity measure bin.\n",
    "To use this module click [here](../../vulnerability/derivation_fragility/NLTHA_on_SDOF/MSA_on_SDOF.ipynb).\n",
    "\n",
    "---"
   ]
  },
  {
   "cell_type": "code",
   "execution_count": null,
   "metadata": {
    "collapsed": true
   },
   "outputs": [],
   "source": []
  }
 ],
 "metadata": {
  "kernelspec": {
   "display_name": "Python 3",
   "language": "python",
   "name": "python3"
  },
  "language_info": {
   "codemirror_mode": {
    "name": "ipython",
    "version": 3
   },
   "file_extension": ".py",
   "mimetype": "text/x-python",
   "name": "python",
   "nbconvert_exporter": "python",
   "pygments_lexer": "ipython3",
   "version": "3.7.0"
  }
 },
 "nbformat": 4,
 "nbformat_minor": 1
}
