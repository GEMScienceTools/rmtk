{
 "cells": [
  {
   "cell_type": "markdown",
   "metadata": {},
   "source": [
    "# Capacity Spectrum Method (CSM)\n",
    "\n",
    "The Capacity Spectrum Method (CSM) is a procedure capable of estimating the nonlinear response of structures, utilizing overdamped response spectra. These response spectra can either be obtained from a building code or derived based on ground motion records.\n",
    "\n",
    "The figure below illustrates a fragility model developed using this method.\n",
    "\n",
    "<img src=\"../../../../../figures/fragility_example.png\" width=\"400\" align=\"middle\">\n",
    "\n",
    "**Note**: To run the code in a cell:\n",
    "\n",
    "1. Click on the cell to select it.\n",
    "2. Press `SHIFT+ENTER` on your keyboard or press the play button (<button class='fa fa-play icon-play btn btn-xs btn-default'></button>) in the toolbar above."
   ]
  },
  {
   "cell_type": "code",
   "execution_count": null,
   "metadata": {
    "collapsed": true
   },
   "outputs": [],
   "source": [
    "import capacitySpectrumMethod\n",
    "from rmtk.vulnerability.common import utils\n",
    "%matplotlib inline "
   ]
  },
  {
   "cell_type": "markdown",
   "metadata": {
    "collapsed": false
   },
   "source": [
    "---\n",
    "### Load capacity curves\n",
    "\n",
    "In order to use this methodology, it is necessary to provide one (or a group) of capacity curves, defined according to the format described in the [RMTK manual](../../../../../rmtk-docs.pdf).\n",
    "\n",
    "Please provide the location of the file containing the capacity curves using the parameter `capacity_curves_file`."
   ]
  },
  {
   "cell_type": "code",
   "execution_count": null,
   "metadata": {
    "collapsed": true
   },
   "outputs": [],
   "source": [
    "capacity_curves_file = \"../../../../../../rmtk_data/capacity_curves_Sa-Sd.csv\""
   ]
  },
  {
   "cell_type": "code",
   "execution_count": null,
   "metadata": {
    "collapsed": false
   },
   "outputs": [],
   "source": [
    "capacity_curves = utils.read_capacity_curves(capacity_curves_file)\n",
    "utils.plot_capacity_curves(capacity_curves)"
   ]
  },
  {
   "cell_type": "markdown",
   "metadata": {},
   "source": [
    "### Load ground motion records\n",
    "\n",
    "Please indicate the path to the folder containing the ground motion records to be used in the analysis through the parameter `gmrs_folder`.\n",
    "\n",
    "**Note**: Each accelerogram needs to be in a separate CSV file as described in the [RMTK manual](../../../../../rmtk-docs.pdf).\n",
    "\n",
    "The parameters `minT` and `maxT` are used to define the period bounds when plotting the spectra for the provided ground motion fields."
   ]
  },
  {
   "cell_type": "code",
   "execution_count": null,
   "metadata": {
    "collapsed": false,
    "scrolled": false
   },
   "outputs": [],
   "source": [
    "gmrs_folder = \"../../../../../../rmtk_data/accelerograms\"\n",
    "minT, maxT = 0.1, 2.0\n",
    "\n",
    "gmrs = utils.read_gmrs(gmrs_folder)\n",
    "#utils.plot_response_spectra(gmrs, minT, maxT)"
   ]
  },
  {
   "cell_type": "markdown",
   "metadata": {},
   "source": [
    "### Load damage state thresholds\n",
    "\n",
    "Please provide the path to your damage model file using the parameter `damage_model_file` in the cell below.\n",
    "\n",
    "The damage types currently supported are: `capacity curve dependent`, `spectral displacement` and `interstorey drift`. If the damage model type is `interstorey drift` the user can provide the pushover curve in terms of Vb-dfloor to be able to convert interstorey drift limit states to roof displacements and spectral displacements, otherwise a linear relationship is assumed."
   ]
  },
  {
   "cell_type": "code",
   "execution_count": null,
   "metadata": {
    "collapsed": true
   },
   "outputs": [],
   "source": [
    "damage_model_file = \"../../../../../../rmtk_data/damage_model.csv\""
   ]
  },
  {
   "cell_type": "code",
   "execution_count": null,
   "metadata": {
    "collapsed": false
   },
   "outputs": [],
   "source": [
    "damage_model = utils.read_damage_model(damage_model_file)"
   ]
  },
  {
   "cell_type": "markdown",
   "metadata": {},
   "source": [
    "### Obtain the damage probability matrix\n",
    "\n",
    "The following parameters need to be defined in the cell below in order to calculate the damage probability matrix:\n",
    "1. `damping_model`: This parameter defines the type of damping model to be used in the analysis. The valid options are listed below; please refer to the [RMTK manual](../../../../../rmtk-docs.pdf) for additional details about these models:\n",
    "  1. \"FEMA_2005\"\n",
    "  2. \"Kowalsky_1994\"\n",
    "  3. \"Iwan_1980\"\n",
    "  4. \"Gulkan_Sozen_1974\"\n",
    "  5. \"Priesley_et_al2007_frames\"\n",
    "  6. \"Priesley_et_al2007_walls\"\n",
    "  7. \"Calvi_1999\"\n",
    "2. `damping_ratio`: This parameter defines the damping ratio for the structure"
   ]
  },
  {
   "cell_type": "code",
   "execution_count": null,
   "metadata": {
    "collapsed": false,
    "scrolled": true
   },
   "outputs": [],
   "source": [
    "damping_model = \"Iwan_1980\"\n",
    "damping_ratio = 0.05\n",
    "PDM, Sds = capacitySpectrumMethod.calculate_fragility(capacity_curves, gmrs, damage_model, \n",
    "                                                      damping_model, damping_ratio)"
   ]
  },
  {
   "cell_type": "markdown",
   "metadata": {},
   "source": [
    "### Fit lognormal CDF fragility curves\n",
    "The following parameters need to be defined in the cell below in order to fit lognormal CDF fragility curves to the damage probability matrix obtained above:\n",
    "1. `IMT`: This parameter specifies the intensity measure type to be used. Currently supported options are `\"PGA\"`, `\"Sd\"` and `\"Sa\"`.\n",
    "2. `period`: This parameter defines the time period of the fundamental mode of vibration of the structure.\n",
    "3. `regression_method`: This parameter defines the regression method to be used for estimating the parameters of the fragility functions. The valid options are \"least squares\" and \"max likelihood\"."
   ]
  },
  {
   "cell_type": "code",
   "execution_count": null,
   "metadata": {
    "collapsed": true
   },
   "outputs": [],
   "source": [
    "IMT = \"Sa\"\n",
    "period = 0.3\n",
    "regression_method = \"least squares\""
   ]
  },
  {
   "cell_type": "code",
   "execution_count": null,
   "metadata": {
    "collapsed": true
   },
   "outputs": [],
   "source": [
    "fragility_model = utils.calculate_mean_fragility(gmrs, PDM, period, damping_ratio, \n",
    "                                                 IMT, damage_model, regression_method)"
   ]
  },
  {
   "cell_type": "markdown",
   "metadata": {},
   "source": [
    "### Plot fragility functions\n",
    "\n",
    "The following parameters need to be defined in the cell below in order to plot the lognormal CDF fragility curves obtained above:\n",
    "* `minIML` and `maxIML`: These parameters define the limits of the intensity measure level for plotting the functions"
   ]
  },
  {
   "cell_type": "code",
   "execution_count": null,
   "metadata": {
    "collapsed": true
   },
   "outputs": [],
   "source": [
    "minIML, maxIML = 0.01, 2.00"
   ]
  },
  {
   "cell_type": "code",
   "execution_count": null,
   "metadata": {
    "collapsed": false
   },
   "outputs": [],
   "source": [
    "utils.plot_fragility_model(fragility_model, minIML, maxIML)\n",
    "# utils.plot_fragility_stats(fragility_statistics,minIML,maxIML)"
   ]
  },
  {
   "cell_type": "markdown",
   "metadata": {},
   "source": [
    "### Save fragility functions\n",
    "\n",
    "The derived parametric fragility functions can be saved to a file in either CSV format or in the NRML format that is used by all OpenQuake input models. The following parameters need to be defined in the cell below in order to save the lognormal CDF fragility curves obtained above:\n",
    "1. `taxonomy`: This parameter specifies a taxonomy string for the the fragility functions.\n",
    "2. `minIML` and `maxIML`: These parameters define the bounds of applicability of the functions.\n",
    "3. `output_type`: This parameter specifies the file format to be used for saving the functions. Currently, the formats supported are \"csv\" and \"nrml\"."
   ]
  },
  {
   "cell_type": "code",
   "execution_count": null,
   "metadata": {
    "collapsed": true
   },
   "outputs": [],
   "source": [
    "taxonomy = \"RC\"\n",
    "minIML, maxIML = 0.01, 2.00\n",
    "output_type = \"csv\"\n",
    "output_path = \"../../../../../../rmtk_data/output/\""
   ]
  },
  {
   "cell_type": "code",
   "execution_count": null,
   "metadata": {
    "collapsed": false,
    "scrolled": false
   },
   "outputs": [],
   "source": [
    "utils.save_mean_fragility(taxonomy, fragility_model, minIML, maxIML, output_type, output_path)"
   ]
  },
  {
   "cell_type": "markdown",
   "metadata": {},
   "source": [
    "### Obtain vulnerability function\n",
    "\n",
    "A vulnerability model can be derived by combining the set of fragility functions obtained above with a consequence model. In this process, the fractions of buildings in each damage state are multiplied by the associated damage ratio from the consequence model, in order to obtain a distribution of loss ratio for each intensity measure level. \n",
    "\n",
    "The following parameters need to be defined in the cell below in order to calculate vulnerability functions using the above derived fragility functions:\n",
    "1. `cons_model_file`: This parameter specifies the path of the consequence model file.\n",
    "2. `imls`: This parameter specifies a list of intensity measure levels in increasing order at which the distribution of loss ratios are required to be calculated.\n",
    "3. `distribution_type`: This parameter specifies the type of distribution to be used for calculating the vulnerability function. The distribution types currently supported are \"lognormal\", \"beta\", and \"PMF\"."
   ]
  },
  {
   "cell_type": "code",
   "execution_count": null,
   "metadata": {
    "collapsed": true
   },
   "outputs": [],
   "source": [
    "cons_model_file = \"../../../../../../rmtk_data/cons_model.csv\"\n",
    "imls = [0.05, 0.10, 0.15, 0.20, 0.25, 0.30, 0.35, 0.40, 0.45, 0.50, \n",
    "        0.60, 0.70, 0.80, 0.90, 1.00, 1.20, 1.40, 1.60, 1.80, 2.00, \n",
    "        2.20, 2.40, 2.60, 2.80, 3.00, 3.20, 3.40, 3.60, 3.80, 4.00]\n",
    "distribution_type = \"lognormal\""
   ]
  },
  {
   "cell_type": "code",
   "execution_count": null,
   "metadata": {
    "collapsed": false
   },
   "outputs": [],
   "source": [
    "cons_model = utils.read_consequence_model(cons_model_file)\n",
    "vulnerability_model = utils.convert_fragility_vulnerability(fragility_model, cons_model, \n",
    "                                                            imls, distribution_type)"
   ]
  },
  {
   "cell_type": "markdown",
   "metadata": {},
   "source": [
    "### Plot vulnerability function"
   ]
  },
  {
   "cell_type": "code",
   "execution_count": null,
   "metadata": {
    "collapsed": true
   },
   "outputs": [],
   "source": [
    "utils.plot_vulnerability_model(vulnerability_model)"
   ]
  },
  {
   "cell_type": "markdown",
   "metadata": {},
   "source": [
    "### Save vulnerability function\n",
    "\n",
    "The derived parametric or nonparametric vulnerability function can be saved to a file in either CSV format or in the NRML format that is used by all OpenQuake input models. The following parameters need to be defined in the cell below in order to save the lognormal CDF fragility curves obtained above:\n",
    "1. `taxonomy`: This parameter specifies a taxonomy string for the the fragility functions.\n",
    "3. `output_type`: This parameter specifies the file format to be used for saving the functions. Currently, the formats supported are \"csv\" and \"nrml\"."
   ]
  },
  {
   "cell_type": "code",
   "execution_count": null,
   "metadata": {
    "collapsed": true
   },
   "outputs": [],
   "source": [
    "taxonomy = \"RC\"\n",
    "output_type = \"csv\"\n",
    "output_path = \"../../../../../../rmtk_data/output/\""
   ]
  },
  {
   "cell_type": "code",
   "execution_count": null,
   "metadata": {
    "collapsed": false
   },
   "outputs": [],
   "source": [
    "utils.save_vulnerability(taxonomy, vulnerability_model, output_type, output_path)"
   ]
  }
 ],
 "metadata": {
  "kernelspec": {
   "display_name": "Python 2",
   "language": "python",
   "name": "python2"
  },
  "language_info": {
   "codemirror_mode": {
    "name": "ipython",
    "version": 2
   },
   "file_extension": ".py",
   "mimetype": "text/x-python",
   "name": "python",
   "nbconvert_exporter": "python",
   "pygments_lexer": "ipython2",
   "version": "2.7.10"
  }
 },
 "nbformat": 4,
 "nbformat_minor": 0
}
