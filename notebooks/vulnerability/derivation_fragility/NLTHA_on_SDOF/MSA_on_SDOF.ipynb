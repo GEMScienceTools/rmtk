{
 "cells": [
  {
   "cell_type": "markdown",
   "metadata": {
    "deletable": true,
    "editable": true
   },
   "source": [
    "# Multiple Stripe Analysis (MSA) for Single Degree of Freedom (SDOF) Oscillators\n",
    "\n",
    "In this method, a single degree of freedom (SDOF) model of each structure is subjected to non-linear time history analysis using a suite of ground motion records scaled to multple stripes of intensity measure. The displacements of the SDOF due to each ground motion record are used as input to determine the distribution of buildings in each damage state for each level of ground motion intensity. A regression algorithm is then applied to derive the fragility model.\n",
    "\n",
    "The figure below illustrates the results of a Multiple Stripe Analysis, from which the fragility function is built.\n",
    "\n",
    "<img src=\"../../../../figures/MSA_example.jpg\" width=\"500\" align=\"middle\">\n",
    "\n",
    "**Note**: To run the code in a cell:\n",
    "\n",
    "1. Click on the cell to select it.\n",
    "2. Press `SHIFT+ENTER` on your keyboard or press the play button (<button class='fa fa-play icon-play btn btn-xs btn-default'></button>) in the toolbar above."
   ]
  },
  {
   "cell_type": "code",
   "execution_count": 1,
   "metadata": {
    "collapsed": false,
    "deletable": true,
    "editable": true
   },
   "outputs": [],
   "source": [
    "import numpy as np\n",
    "from rmtk.vulnerability.common import utils\n",
    "from rmtk.vulnerability.derivation_fragility.NLTHA_on_SDOF import MSA_on_SDOF\n",
    "from rmtk.vulnerability.derivation_fragility.NLTHA_on_SDOF import MSA_utils\n",
    "from rmtk.vulnerability.derivation_fragility.NLTHA_on_SDOF.read_pinching_parameters import read_parameters\n",
    "%matplotlib inline "
   ]
  },
  {
   "cell_type": "markdown",
   "metadata": {
    "deletable": true,
    "editable": true
   },
   "source": [
    "---\n",
    "### Load capacity curves\n",
    "\n",
    "In order to use this methodology, it is necessary to provide one (or a group) of capacity curves, defined according to the format described in the [RMTK manual](../../../../rmtk-docs.pdf).\n",
    "\n",
    "Please provide the location of the file containing the capacity curves using the parameter `capacity_curves_file`.\n",
    "\n",
    "If the User wants to specify the cyclic hysteretic behaviour of the SDOF system, please input the path of the file where the hysteretic parameters are contained, using the variable `sdof_hysteresis`. The parameters should be defined according to the format described in the [RMTK manual](../../../../rmtk-docs.pdf). If instead default parameters want to be assumed, please set the `sdof_hysteresis` variable to `\"Default\"`"
   ]
  },
  {
   "cell_type": "code",
   "execution_count": 2,
   "metadata": {
    "collapsed": true,
    "deletable": true,
    "editable": true
   },
   "outputs": [],
   "source": [
    "capacity_curves_file = '../../../../../rmtk_data/capacity_curves_sdof_first_mode.csv'\n",
    "sdof_hysteresis = \"../../../../../rmtk_data/pinching_parameters.csv\""
   ]
  },
  {
   "cell_type": "code",
   "execution_count": 3,
   "metadata": {
    "collapsed": false,
    "deletable": true,
    "editable": true
   },
   "outputs": [
    {
     "data": {
      "image/png": "iVBORw0KGgoAAAANSUhEUgAAAYYAAAEhCAYAAAB7mQezAAAABHNCSVQICAgIfAhkiAAAAAlwSFlz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\nhG6JY38AAAAISURBVDDW/wPdPlIZFt/XUQAAAABJRU5ErkJggg==\n",
      "text/plain": [
       "<matplotlib.figure.Figure at 0x113275850>"
      ]
     },
     "metadata": {},
     "output_type": "display_data"
    }
   ],
   "source": [
    "capacity_curves = utils.read_capacity_curves(capacity_curves_file)\n",
    "capacity_curves = utils.check_SDOF_curves(capacity_curves)\n",
    "utils.plot_capacity_curves(capacity_curves)\n",
    "hysteresis = read_parameters(sdof_hysteresis)"
   ]
  },
  {
   "cell_type": "markdown",
   "metadata": {
    "deletable": true,
    "editable": true
   },
   "source": [
    "### Load ground motion records\n",
    "For what concerns the ground motions to be used in th Multiple Stripe Analysis the following inputs are required:\n",
    " 1. `gmrs_folder`: path to the folder containing the ground motion records to be used in the analysis. Each accelerogram needs to be in a separate CSV file as described in the [RMTK manual](../../../../rmtk-docs.pdf).\n",
    " 2. `record_scaled_folder`. In this folder there should be a csv file for each Intensity Measure bin selected for the MSA, containing the names of the records that should be scaled to that IM bin, and the corresponding scaling factors. An example of this type of file is provided in the [RMTK manual](../../../../rmtk-docs.pdf).\n",
    " 3. `no_bins`: number of Intensity Measure bins.\n",
    " 4. `no_rec_bin`: number of records per bin\n",
    "\n",
    "If the user wants to plot acceleration, displacement and velocity response spectra, the function `utils.plot_response_spectra(gmrs, minT, maxT)` should be un-commented. The parameters `minT` and `maxT` are used to define the period bounds when plotting the spectra for the provided ground motion fields."
   ]
  },
  {
   "cell_type": "code",
   "execution_count": 4,
   "metadata": {
    "collapsed": false,
    "deletable": true,
    "editable": true
   },
   "outputs": [],
   "source": [
    "gmrs_folder = \"../../../../../rmtk_data/MSA_records\"\n",
    "minT, maxT = 0.1, 2.0\n",
    "no_bins = 10\n",
    "no_rec_bin = 30\n",
    "record_scaled_folder = \"../../../../../rmtk_data/Scaling_factors\"\n",
    "\n",
    "gmrs = utils.read_gmrs(gmrs_folder)\n",
    "#utils.plot_response_spectra(gmrs, minT, maxT)"
   ]
  },
  {
   "cell_type": "markdown",
   "metadata": {
    "deletable": true,
    "editable": true
   },
   "source": [
    "### Load damage state thresholds\n",
    "\n",
    "Please provide the path to your damage model file using the parameter `damage_model_file` in the cell below.\n",
    "\n",
    "Currently the user can provide `spectral displacement`, `capacity curve dependent` and `interstorey drift` damage model type.\n",
    "If the damage model type is `interstorey drift` the user has to input interstorey drift values of the MDOF system. The user can then provide the pushover curve in terms of `Vb-dfloor` to be able to convert interstorey drift limit states to roof displacements and spectral displacements of the SDOF system, otherwise a linear relationship is assumed."
   ]
  },
  {
   "cell_type": "code",
   "execution_count": 5,
   "metadata": {
    "collapsed": false,
    "deletable": true,
    "editable": true
   },
   "outputs": [],
   "source": [
    "damage_model_file = \"../../../../../rmtk_data/damage_model_Sd.csv\"\n",
    "\n",
    "damage_model = utils.read_damage_model(damage_model_file)"
   ]
  },
  {
   "cell_type": "markdown",
   "metadata": {
    "deletable": true,
    "editable": true
   },
   "source": [
    "### Obtain the damage probability matrix\n",
    "\n",
    "The following parameters need to be defined in the cell below in order to calculate the damage probability matrix:\n",
    "1. `damping_ratio`: This parameter defines the damping ratio for the structure.\n",
    "2. `degradation`: This boolean parameter should be set to `True` or `False` to specify whether structural degradation should be considered in the analysis or not."
   ]
  },
  {
   "cell_type": "code",
   "execution_count": 6,
   "metadata": {
    "collapsed": false,
    "deletable": true,
    "editable": true
   },
   "outputs": [
    {
     "name": "stdout",
     "output_type": "stream",
     "text": [
      "100%\n",
      "records_target1.csv\n",
      "gmr n. 1 max disp. = 0.030532 DS = 0\n",
      "gmr n. 2 max disp. = 0.00960258 DS = 0\n",
      "gmr n. 3 max disp. = 0.0125027 DS = 0\n",
      "gmr n. 4 max disp. = 0.013395 DS = 0\n",
      "gmr n. 5 max disp. = 0.0150967 DS = 0\n",
      "gmr n. 6 max disp. = 0.0331434 DS = 0\n",
      "gmr n. 7 max disp. = 0.0176914 DS = 0\n",
      "gmr n. 8 max disp. = 0.00967813 DS = 0\n",
      "gmr n. 9 max disp. = 0.0115933 DS = 0\n",
      "gmr n. 10 max disp. = 0.015782 DS = 0\n",
      "gmr n. 11 max disp. = 0.0355044 DS = 0\n",
      "gmr n. 12 max disp. = 0.0135778 DS = 0\n",
      "gmr n. 13 max disp. = 0.0138091 DS = 0\n",
      "gmr n. 14 max disp. = 0.0180118 DS = 0\n",
      "gmr n. 15 max disp. = 0.0206155 DS = 0\n",
      "gmr n. 16 max disp. = 0.0293895 DS = 0\n",
      "gmr n. 17 max disp. = 0.00870001 DS = 0\n",
      "gmr n. 18 max disp. = 0.0508702 DS = 1\n",
      "gmr n. 19 max disp. = 0.0100003 DS = 0\n",
      "gmr n. 20 max disp. = 0.0162743 DS = 0\n",
      "gmr n. 21 max disp. = 0.0157157 DS = 0\n",
      "gmr n. 22 max disp. = 0.0140869 DS = 0\n",
      "gmr n. 23 max disp. = 0.0119166 DS = 0\n",
      "gmr n. 24 max disp. = 0.0141829 DS = 0\n",
      "gmr n. 25 max disp. = 0.0152947 DS = 0\n",
      "gmr n. 26 max disp. = 0.00595904 DS = 0\n",
      "gmr n. 27 max disp. = 0.0177645 DS = 0\n",
      "gmr n. 28 max disp. = 0.0185632 DS = 0\n",
      "gmr n. 29 max disp. = 0.0208413 DS = 0\n",
      "gmr n. 30 max disp. = 0.0193175 DS = 0\n",
      "records_target10.csv\n",
      "gmr n. 31 max disp. = 0.174464 DS = 3\n",
      "gmr n. 32 max disp. = 0.595029 DS = 4\n",
      "gmr n. 33 max disp. = 0.226867 DS = 3\n",
      "gmr n. 34 max disp. = 0.126029 DS = 2\n",
      "gmr n. 35 max disp. = 0.17018 DS = 2\n",
      "gmr n. 36 max disp. = 0.0845435 DS = 1\n",
      "gmr n. 37 max disp. = 0.416261 DS = 4\n",
      "gmr n. 38 max disp. = 1.07995 DS = 4\n",
      "gmr n. 39 max disp. = 0.111581 DS = 2\n",
      "gmr n. 40 max disp. = 0.179576 DS = 2\n",
      "gmr n. 41 max disp. = 0.171156 DS = 2\n",
      "gmr n. 42 max disp. = 0.180297 DS = 3\n",
      "gmr n. 43 max disp. = 0.944711 DS = 4\n",
      "gmr n. 44 max disp. = 0.258832 DS = 3\n",
      "gmr n. 45 max disp. = 0.20028 DS = 3\n",
      "gmr n. 46 max disp. = 0.353009 DS = 3\n",
      "gmr n. 47 max disp. = 0.27184 DS = 3\n",
      "gmr n. 48 max disp. = 0.109132 DS = 2\n",
      "gmr n. 49 max disp. = 0.981691 DS = 4\n",
      "gmr n. 50 max disp. = 1.6521 DS = 4\n",
      "gmr n. 51 max disp. = 0.0908508 DS = 1\n",
      "gmr n. 52 max disp. = 0.371237 DS = 4\n",
      "gmr n. 53 max disp. = 0.194956 DS = 2\n",
      "gmr n. 54 max disp. = 0.633649 DS = 4\n",
      "gmr n. 55 max disp. = 1.34025 DS = 4\n",
      "gmr n. 56 max disp. = 0.0982313 DS = 1\n",
      "gmr n. 57 max disp. = 0.24975 DS = 3\n",
      "gmr n. 58 max disp. = 0.134847 DS = 2\n",
      "gmr n. 59 max disp. = 0.187193 DS = 2\n",
      "gmr n. 60 max disp. = 0.248009 DS = 3\n",
      "records_target2.csv\n",
      "gmr n. 61 max disp. = 0.0343947 DS = 0\n",
      "gmr n. 62 max disp. = 0.044324 DS = 0\n",
      "gmr n. 63 max disp. = 0.0567092 DS = 1\n",
      "gmr n. 64 max disp. = 0.0310478 DS = 0\n",
      "gmr n. 65 max disp. = 0.0348064 DS = 0\n",
      "gmr n. 66 max disp. = 0.0250398 DS = 0\n",
      "gmr n. 67 max disp. = 0.0636247 DS = 1\n",
      "gmr n. 68 max disp. = 0.025838 DS = 0\n",
      "gmr n. 69 max disp. = 0.108937 DS = 2\n",
      "gmr n. 70 max disp. = 0.0354593 DS = 0\n",
      "gmr n. 71 max disp. = 0.0701282 DS = 1\n",
      "gmr n. 72 max disp. = 0.0397287 DS = 0\n",
      "gmr n. 73 max disp. = 0.0416269 DS = 0\n",
      "gmr n. 74 max disp. = 0.0466866 DS = 0\n",
      "gmr n. 75 max disp. = 0.031617 DS = 0\n",
      "gmr n. 76 max disp. = 0.0394723 DS = 0\n",
      "gmr n. 77 max disp. = 0.0585621 DS = 1\n",
      "gmr n. 78 max disp. = 0.0365147 DS = 0\n",
      "gmr n. 79 max disp. = 0.0292419 DS = 0\n",
      "gmr n. 80 max disp. = 0.0188428 DS = 0\n",
      "gmr n. 81 max disp. = 0.0358055 DS = 0\n",
      "gmr n. 82 max disp. = 0.0490605 DS = 0\n",
      "gmr n. 83 max disp. = 0.0542773 DS = 1\n",
      "gmr n. 84 max disp. = 0.0386004 DS = 0\n",
      "gmr n. 85 max disp. = 0.0436483 DS = 0\n",
      "gmr n. 86 max disp. = 0.0264224 DS = 0\n",
      "gmr n. 87 max disp. = 0.0369341 DS = 0\n",
      "gmr n. 88 max disp. = 0.133419 DS = 2\n",
      "gmr n. 89 max disp. = 0.0261509 DS = 0\n",
      "gmr n. 90 max disp. = 0.0704623 DS = 1\n",
      "records_target3.csv\n",
      "gmr n. 91 max disp. = 0.0372403 DS = 0\n",
      "gmr n. 92 max disp. = 0.162409 DS = 3\n",
      "gmr n. 93 max disp. = 0.094902 DS = 1\n",
      "gmr n. 94 max disp. = 0.0619054 DS = 1\n",
      "gmr n. 95 max disp. = 0.119035 DS = 3\n",
      "gmr n. 96 max disp. = 0.0561403 DS = 1\n",
      "gmr n. 97 max disp. = 0.120923 DS = 2\n",
      "gmr n. 98 max disp. = 0.0728781 DS = 1\n",
      "gmr n. 99 max disp. = 0.0786627 DS = 1\n",
      "gmr n. 100 max disp. = 0.0426544 DS = 0\n",
      "gmr n. 101 max disp. = 0.204676 DS = 2\n",
      "gmr n. 102 max disp. = 0.0683891 DS = 1\n",
      "gmr n. 103 max disp. = 0.0350737 DS = 0\n",
      "gmr n. 104 max disp. = 0.0771037 DS = 1\n",
      "gmr n. 105 max disp. = 0.0662186 DS = 1\n",
      "gmr n. 106 max disp. = 0.0442403 DS = 0\n",
      "gmr n. 107 max disp. = 0.118578 DS = 2\n",
      "gmr n. 108 max disp. = 0.0491551 DS = 0\n",
      "gmr n. 109 max disp. = 0.148919 DS = 2\n",
      "gmr n. 110 max disp. = 0.0672511 DS = 1\n",
      "gmr n. 111 max disp. = 0.0260468 DS = 0\n",
      "gmr n. 112 max disp. = 0.0736572 DS = 1\n",
      "gmr n. 113 max disp. = 0.0435116 DS = 0\n",
      "gmr n. 114 max disp. = 0.0540341 DS = 1\n",
      "gmr n. 115 max disp. = 0.0507709 DS = 1\n",
      "gmr n. 116 max disp. = 0.068014 DS = 1\n",
      "gmr n. 117 max disp. = 0.0779111 DS = 1\n",
      "gmr n. 118 max disp. = 0.0828309 DS = 1\n",
      "gmr n. 119 max disp. = 0.0908102 DS = 1\n",
      "gmr n. 120 max disp. = 0.117133 DS = 2\n",
      "records_target4.csv\n",
      "gmr n. 121 max disp. = 0.114854 DS = 2\n",
      "gmr n. 122 max disp. = 0.148853 DS = 2\n",
      "gmr n. 123 max disp. = 0.104603 DS = 2\n",
      "gmr n. 124 max disp. = 0.108061 DS = 2\n",
      "gmr n. 125 max disp. = 0.0957639 DS = 1\n",
      "gmr n. 126 max disp. = 0.0372646 DS = 0\n",
      "gmr n. 127 max disp. = 0.0679567 DS = 1\n",
      "gmr n. 128 max disp. = 0.119298 DS = 2\n",
      "gmr n. 129 max disp. = 0.389829 DS = 4\n",
      "gmr n. 130 max disp. = 0.0442115 DS = 0\n",
      "gmr n. 131 max disp. = 0.0826494 DS = 1\n",
      "gmr n. 132 max disp. = 0.0320946 DS = 0\n",
      "gmr n. 133 max disp. = 0.106241 DS = 2\n",
      "gmr n. 134 max disp. = 0.0853677 DS = 1\n",
      "gmr n. 135 max disp. = 0.0436446 DS = 0\n",
      "gmr n. 136 max disp. = 0.129535 DS = 2\n",
      "gmr n. 137 max disp. = 0.184545 DS = 2\n",
      "gmr n. 138 max disp. = 0.106701 DS = 2\n",
      "gmr n. 139 max disp. = 0.153903 DS = 2\n",
      "gmr n. 140 max disp. = 0.036442 DS = 0\n",
      "gmr n. 141 max disp. = 0.0935023 DS = 2\n",
      "gmr n. 142 max disp. = 0.0687846 DS = 1\n",
      "gmr n. 143 max disp. = 0.0330132 DS = 0\n",
      "gmr n. 144 max disp. = 0.0978925 DS = 1\n",
      "gmr n. 145 max disp. = 0.105376 DS = 2\n",
      "gmr n. 146 max disp. = 0.198299 DS = 2\n",
      "gmr n. 147 max disp. = 0.0796365 DS = 1\n",
      "gmr n. 148 max disp. = 0.119837 DS = 2\n",
      "gmr n. 149 max disp. = 0.0521236 DS = 1\n",
      "gmr n. 150 max disp. = 0.308872 DS = 3\n",
      "records_target5.csv\n",
      "gmr n. 151 max disp. = 0.0430778 DS = 0\n",
      "gmr n. 152 max disp. = 0.22771 DS = 4\n",
      "gmr n. 153 max disp. = 0.200028 DS = 4\n",
      "gmr n. 154 max disp. = 0.056353 DS = 1\n",
      "gmr n. 155 max disp. = 0.0583987 DS = 1\n",
      "gmr n. 156 max disp. = 0.116537 DS = 2\n",
      "gmr n. 157 max disp. = 0.0867363 DS = 1\n",
      "gmr n. 158 max disp. = 0.169576 DS = 2\n",
      "gmr n. 159 max disp. = 0.117925 DS = 2\n",
      "gmr n. 160 max disp. = 0.133555 DS = 2\n",
      "gmr n. 161 max disp. = 0.154858 DS = 4\n",
      "gmr n. 162 max disp. = 0.117011 DS = 2\n",
      "gmr n. 163 max disp. = 0.0479222 DS = 0\n",
      "gmr n. 164 max disp. = 0.471455 DS = 4\n",
      "gmr n. 165 max disp. = 0.120029 DS = 2\n",
      "gmr n. 166 max disp. = 0.0643549 DS = 1\n",
      "gmr n. 167 max disp. = 0.112375 DS = 2\n",
      "gmr n. 168 max disp. = 0.0412646 DS = 0\n",
      "gmr n. 169 max disp. = 0.148417 DS = 2\n",
      "gmr n. 170 max disp. = 0.125604 DS = 2\n",
      "gmr n. 171 max disp. = 0.177567 DS = 2\n",
      "gmr n. 172 max disp. = 0.154828 DS = 2\n",
      "gmr n. 173 max disp. = 0.0468674 DS = 0\n",
      "gmr n. 174 max disp. = 0.125558 DS = 2\n",
      "gmr n. 175 max disp. = 0.0976694 DS = 2\n",
      "gmr n. 176 max disp. = 0.12562 DS = 2\n",
      "gmr n. 177 max disp. = 0.134294 DS = 2\n",
      "gmr n. 178 max disp. = 0.325751 DS = 3\n",
      "gmr n. 179 max disp. = 0.1016 DS = 2\n",
      "gmr n. 180 max disp. = 0.165709 DS = 2\n",
      "records_target6.csv\n",
      "gmr n. 181 max disp. = 0.163719 DS = 2\n",
      "gmr n. 182 max disp. = 0.0786487 DS = 1\n",
      "gmr n. 183 max disp. = 0.052447 DS = 1\n",
      "gmr n. 184 max disp. = 0.35453 DS = 4\n",
      "gmr n. 185 max disp. = 0.281301 DS = 3\n",
      "gmr n. 186 max disp. = 0.0714464 DS = 1\n",
      "gmr n. 187 max disp. = 0.136674 DS = 2\n",
      "gmr n. 188 max disp. = 0.0713292 DS = 1\n",
      "gmr n. 189 max disp. = 0.155083 DS = 3\n",
      "gmr n. 190 max disp. = 0.106646 DS = 2\n",
      "gmr n. 191 max disp. = 0.174986 DS = 2\n",
      "gmr n. 192 max disp. = 0.151707 DS = 2\n",
      "gmr n. 193 max disp. = 0.170502 DS = 2\n",
      "gmr n. 194 max disp. = 0.162677 DS = 2\n",
      "gmr n. 195 max disp. = 0.142388 DS = 2\n",
      "gmr n. 196 max disp. = 0.0585556 DS = 1\n",
      "gmr n. 197 max disp. = 0.44746 DS = 4\n",
      "gmr n. 198 max disp. = 0.185608 DS = 3\n",
      "gmr n. 199 max disp. = 0.20785 DS = 3\n",
      "gmr n. 200 max disp. = 0.050559 DS = 1\n",
      "gmr n. 201 max disp. = 0.198302 DS = 2\n",
      "gmr n. 202 max disp. = 0.144102 DS = 2\n",
      "gmr n. 203 max disp. = 0.147323 DS = 2\n",
      "gmr n. 204 max disp. = 0.187029 DS = 2\n",
      "gmr n. 205 max disp. = 0.266828 DS = 3\n",
      "gmr n. 206 max disp. = 0.0572625 DS = 1\n",
      "gmr n. 207 max disp. = 0.117927 DS = 2\n",
      "gmr n. 208 max disp. = 0.112442 DS = 2\n",
      "gmr n. 209 max disp. = 0.122105 DS = 2\n",
      "gmr n. 210 max disp. = 0.125851 DS = 2\n",
      "records_target7.csv\n",
      "gmr n. 211 max disp. = 0.102788 DS = 1\n",
      "gmr n. 212 max disp. = 0.179966 DS = 2\n",
      "gmr n. 213 max disp. = 0.162792 DS = 3\n",
      "gmr n. 214 max disp. = 0.189161 DS = 2\n",
      "gmr n. 215 max disp. = 0.0612566 DS = 1\n",
      "gmr n. 216 max disp. = 0.237491 DS = 3\n",
      "gmr n. 217 max disp. = 0.531322 DS = 4\n",
      "gmr n. 218 max disp. = 0.359482 DS = 4\n",
      "gmr n. 219 max disp. = 0.0842017 DS = 1\n",
      "gmr n. 220 max disp. = 0.0835698 DS = 1\n",
      "gmr n. 221 max disp. = 0.185923 DS = 3\n",
      "gmr n. 222 max disp. = 0.132173 DS = 2\n",
      "gmr n. 223 max disp. = 0.213725 DS = 2\n",
      "gmr n. 224 max disp. = 0.190741 DS = 2\n",
      "gmr n. 225 max disp. = 0.190339 DS = 3\n",
      "gmr n. 226 max disp. = 0.205008 DS = 3\n",
      "gmr n. 227 max disp. = 0.12186 DS = 2\n",
      "gmr n. 228 max disp. = 0.0692519 DS = 1\n",
      "gmr n. 229 max disp. = 0.610474 DS = 4\n",
      "gmr n. 230 max disp. = 0.27308 DS = 3\n",
      "gmr n. 231 max disp. = 0.0595747 DS = 1\n",
      "gmr n. 232 max disp. = 0.280604 DS = 3\n",
      "gmr n. 233 max disp. = 0.157658 DS = 2\n",
      "gmr n. 234 max disp. = 0.16215 DS = 2\n",
      "gmr n. 235 max disp. = 0.442112 DS = 4\n",
      "gmr n. 236 max disp. = 0.0676878 DS = 1\n",
      "gmr n. 237 max disp. = 0.143033 DS = 2\n",
      "gmr n. 238 max disp. = 0.110425 DS = 2\n",
      "gmr n. 239 max disp. = 0.143821 DS = 2\n",
      "gmr n. 240 max disp. = 0.151304 DS = 3\n",
      "records_target8.csv\n",
      "gmr n. 241 max disp. = 0.21084 DS = 2\n",
      "gmr n. 242 max disp. = 0.175814 DS = 3\n",
      "gmr n. 243 max disp. = 0.109504 DS = 2\n",
      "gmr n. 244 max disp. = 0.175711 DS = 2\n",
      "gmr n. 245 max disp. = 0.323076 DS = 3\n",
      "gmr n. 246 max disp. = 0.0706728 DS = 1\n",
      "gmr n. 247 max disp. = 0.561079 DS = 4\n",
      "gmr n. 248 max disp. = 0.900615 DS = 4\n",
      "gmr n. 249 max disp. = 0.102611 DS = 2\n",
      "gmr n. 250 max disp. = 0.0975079 DS = 1\n",
      "gmr n. 251 max disp. = 0.167716 DS = 2\n",
      "gmr n. 252 max disp. = 0.152279 DS = 3\n",
      "gmr n. 253 max disp. = 0.273576 DS = 3\n",
      "gmr n. 254 max disp. = 0.23613 DS = 4\n",
      "gmr n. 255 max disp. = 0.180505 DS = 3\n",
      "gmr n. 256 max disp. = 0.246791 DS = 3\n",
      "gmr n. 257 max disp. = 0.143567 DS = 2\n",
      "gmr n. 258 max disp. = 0.0798804 DS = 1\n",
      "gmr n. 259 max disp. = 1.11383 DS = 4\n",
      "gmr n. 260 max disp. = 0.312067 DS = 4\n",
      "gmr n. 261 max disp. = 0.0687438 DS = 1\n",
      "gmr n. 262 max disp. = 0.331454 DS = 3\n",
      "gmr n. 263 max disp. = 0.186411 DS = 3\n",
      "gmr n. 264 max disp. = 0.215493 DS = 3\n",
      "gmr n. 265 max disp. = 0.916223 DS = 4\n",
      "gmr n. 266 max disp. = 0.0780831 DS = 1\n",
      "gmr n. 267 max disp. = 0.171339 DS = 2\n",
      "gmr n. 268 max disp. = 0.141559 DS = 3\n",
      "gmr n. 269 max disp. = 0.163706 DS = 2\n",
      "gmr n. 270 max disp. = 0.184064 DS = 2\n",
      "records_target9.csv\n",
      "gmr n. 271 max disp. = 0.213949 DS = 3\n",
      "gmr n. 272 max disp. = 0.167356 DS = 3\n",
      "gmr n. 273 max disp. = 0.433522 DS = 4\n",
      "gmr n. 274 max disp. = 0.109442 DS = 3\n",
      "gmr n. 275 max disp. = 0.173605 DS = 2\n",
      "gmr n. 276 max disp. = 0.0828076 DS = 1\n",
      "gmr n. 277 max disp. = 0.616454 DS = 4\n",
      "gmr n. 278 max disp. = 0.756873 DS = 4\n",
      "gmr n. 279 max disp. = 0.109012 DS = 2\n",
      "gmr n. 280 max disp. = 0.113218 DS = 1\n",
      "gmr n. 281 max disp. = 0.15488 DS = 2\n",
      "gmr n. 282 max disp. = 0.157781 DS = 2\n",
      "gmr n. 283 max disp. = 0.493989 DS = 3\n",
      "gmr n. 284 max disp. = 0.260113 DS = 3\n",
      "gmr n. 285 max disp. = 0.190007 DS = 3\n",
      "gmr n. 286 max disp. = 0.299699 DS = 4\n",
      "gmr n. 287 max disp. = 0.185498 DS = 2\n",
      "gmr n. 288 max disp. = 0.0899791 DS = 2\n",
      "gmr n. 289 max disp. = 0.822791 DS = 4\n",
      "gmr n. 290 max disp. = 0.781392 DS = 4\n",
      "gmr n. 291 max disp. = 0.077917 DS = 1\n",
      "gmr n. 292 max disp. = 0.350271 DS = 4\n",
      "gmr n. 293 max disp. = 0.139519 DS = 2\n",
      "gmr n. 294 max disp. = 0.226589 DS = 3\n",
      "gmr n. 295 max disp. = 1.10222 DS = 4\n",
      "gmr n. 296 max disp. = 0.0881818 DS = 1\n",
      "gmr n. 297 max disp. = 0.201249 DS = 3\n",
      "gmr n. 298 max disp. = 0.160283 DS = 2\n",
      "gmr n. 299 max disp. = 0.178179 DS = 2\n",
      "gmr n. 300 max disp. = 0.217322 DS = 4\n"
     ]
    }
   ],
   "source": [
    "damping_ratio = 0.05\n",
    "degradation = False\n",
    "\n",
    "msa = {}; msa['n. bins']=no_bins; msa['records per bin']=no_rec_bin; msa['input folder']=record_scaled_folder\n",
    "PDM, Sds, IML_info = MSA_on_SDOF.calculate_fragility(capacity_curves, hysteresis, msa, gmrs, \n",
    "                                                      damage_model, damping_ratio, degradation)"
   ]
  },
  {
   "cell_type": "markdown",
   "metadata": {
    "deletable": true,
    "editable": true
   },
   "source": [
    "### Fit lognormal CDF fragility curves\n",
    "\n",
    "The following parameters need to be defined in the cell below in order to fit lognormal CDF fragility curves to the damage probability matrix obtained above:\n",
    "1. `IMT`: This parameter specifies the intensity measure type to be used. Currently supported options are `\"PGA\"`, `\"Sa\"`,`\"Sd\"` and `\"HI\"` (Housner Intensity).\n",
    "2. `period`: This parameter defines the period for which a spectral intensity measure should be computed. If Housner Intensity is selected as intensity measure a range of periods should be defined instead (for example `T=np.arange(0.3,3.61,0.01)`).\n",
    "3. `regression_method`: This parameter defines the regression method to be used for estimating the parameters of the fragility functions. The valid options are `\"least squares\"` and `\"max likelihood\"`."
   ]
  },
  {
   "cell_type": "code",
   "execution_count": 7,
   "metadata": {
    "collapsed": false,
    "deletable": true,
    "editable": true
   },
   "outputs": [
    {
     "name": "stdout",
     "output_type": "stream",
     "text": [
      "Optimization terminated successfully.\n",
      "         Current function value: 12.720442\n",
      "         Iterations: 37\n",
      "         Function evaluations: 72\n",
      "Optimization terminated successfully.\n",
      "         Current function value: 17.007628\n",
      "         Iterations: 29\n",
      "         Function evaluations: 57\n",
      "Optimization terminated successfully.\n",
      "         Current function value: 15.088181\n",
      "         Iterations: 44\n",
      "         Function evaluations: 84\n",
      "Optimization terminated successfully.\n",
      "         Current function value: 12.629564\n",
      "         Iterations: 50\n",
      "         Function evaluations: 96\n"
     ]
    }
   ],
   "source": [
    "IMT = \"Sa\"\n",
    "T = 0.47\n",
    "#T = np.arange(0.4,1.91,0.01)\n",
    "regression_method = \"max likelihood\"\n",
    "\n",
    "fragility_model = MSA_utils.calculate_fragility_model(PDM,gmrs,IML_info,IMT,msa,damage_model,\n",
    "                                                                        T,damping_ratio, regression_method)"
   ]
  },
  {
   "cell_type": "markdown",
   "metadata": {
    "deletable": true,
    "editable": true
   },
   "source": [
    "### Plot fragility functions\n",
    "\n",
    "The following parameters need to be defined in the cell below in order to plot the lognormal CDF fragility curves obtained above:\n",
    "* `minIML` and `maxIML`: These parameters define the limits of the intensity measure level for plotting the functions"
   ]
  },
  {
   "cell_type": "code",
   "execution_count": 8,
   "metadata": {
    "collapsed": false,
    "deletable": true,
    "editable": true
   },
   "outputs": [
    {
     "data": {
      "image/png": "iVBORw0KGgoAAAANSUhEUgAAAYkAAAESCAYAAAAIfCk9AAAABHNCSVQICAgIfAhkiAAAAAlwSFlz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\nUCgUCoVCUTT/D9BE1TDU4+JUAAAAAElFTkSuQmCC\n",
      "text/plain": [
       "<matplotlib.figure.Figure at 0x1132757d0>"
      ]
     },
     "metadata": {},
     "output_type": "display_data"
    }
   ],
   "source": [
    "minIML, maxIML = 0.01, 4\n",
<<<<<<< HEAD:rmtk/vulnerability/derivation_fragility/NLTHA_on_SDOF/MSA_on_SDOF.ipynb
    "utils.plot_fragility_MSA(fragility_model, minIML, maxIML)"
=======
    "utils.plot_fragility_model(fragility_model, minIML, maxIML)"
   ]
  },
  {
   "cell_type": "code",
   "execution_count": null,
   "metadata": {
    "collapsed": false,
    "deletable": true,
    "editable": true
   },
   "outputs": [],
   "source": [
    "print fragility_model['damage_states'][0:]"
>>>>>>> master:notebooks/vulnerability/derivation_fragility/NLTHA_on_SDOF/MSA_on_SDOF.ipynb
   ]
  },
  {
   "cell_type": "markdown",
   "metadata": {
    "deletable": true,
    "editable": true
   },
   "source": [
    "\n",
    "### Save fragility functions\n",
    " \n",
    "The derived parametric fragility functions can be saved to a file in either CSV format or in the NRML format that is used by all OpenQuake input models. The following parameters need to be defined in the cell below in order to save the lognormal CDF fragility curves obtained above:\n",
    " 1. `taxonomy`: This parameter specifies a taxonomy string for the the fragility functions.\n",
    " 2. `minIML` and `maxIML`: These parameters define the bounds of applicability of the functions.\n",
    " 3. `output_type`: This parameter specifies the file format to be used for saving the functions. Currently, the formats supported are \"csv\" and \"nrml\"."
   ]
  },
  {
   "cell_type": "code",
   "execution_count": 9,
   "metadata": {
    "collapsed": true,
    "deletable": true,
    "editable": true
   },
   "outputs": [],
   "source": [
    "taxonomy = \"RC_1st\"\n",
    "output_type = \"csv\"\n",
    "output_path = \"../../../../../rmtk_data/\""
   ]
  },
  {
   "cell_type": "code",
   "execution_count": 10,
   "metadata": {
    "collapsed": false,
    "deletable": true,
    "editable": true
   },
   "outputs": [],
   "source": [
    "utils.save_mean_fragility(taxonomy, fragility_model, minIML, maxIML, output_type, output_path)"
   ]
  },
  {
   "cell_type": "markdown",
   "metadata": {
    "collapsed": true,
    "deletable": true,
    "editable": true
   },
   "source": [
    "### Obtain vulnerability function\n",
    "\n",
    "A vulnerability model can be derived by combining the set of fragility functions obtained above with a consequence model. In this process, the fractions of buildings in each damage state are multiplied by the associated damage ratio from the consequence model, in order to obtain a distribution of loss ratio for each intensity measure level. \n",
    "\n",
    "The following parameters need to be defined in the cell below in order to calculate vulnerability functions using the above derived fragility functions:\n",
    "1. `cons_model_file`: This parameter specifies the path of the consequence model file.\n",
    "2. `imls`: This parameter specifies a list of intensity measure levels in increasing order at which the distribution of loss ratios are required to be calculated.\n",
    "3. `distribution_type`: This parameter specifies the type of distribution to be used for calculating the vulnerability function. The distribution types currently supported are \"lognormal\", \"beta\", and \"PMF\"."
   ]
  },
  {
   "cell_type": "code",
   "execution_count": 11,
   "metadata": {
    "collapsed": true,
    "deletable": true,
    "editable": true
   },
   "outputs": [],
   "source": [
    "cons_model_file = \"../../../../../rmtk_data/cons_model.csv\"\n",
    "imls = np.linspace(minIML, maxIML, 20)\n",
    "distribution_type = \"lognormal\""
   ]
  },
  {
   "cell_type": "code",
   "execution_count": 12,
   "metadata": {
    "collapsed": true,
    "deletable": true,
    "editable": true
   },
   "outputs": [],
   "source": [
    "cons_model = utils.read_consequence_model(cons_model_file)\n",
    "vulnerability_model = utils.convert_fragility_vulnerability(fragility_model, cons_model, \n",
    "                                                            imls, distribution_type)"
   ]
  },
  {
   "cell_type": "code",
   "execution_count": 13,
   "metadata": {
    "collapsed": false,
    "deletable": true,
    "editable": true
   },
   "outputs": [
    {
     "data": {
      "image/png": "iVBORw0KGgoAAAANSUhEUgAAAYkAAAEkCAYAAADaX82NAAAABHNCSVQICAgIfAhkiAAAAAlwSFlz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\nAAAASUVORK5CYII=\n",
      "text/plain": [
       "<matplotlib.figure.Figure at 0x113312b90>"
      ]
     },
     "metadata": {},
     "output_type": "display_data"
    }
   ],
   "source": [
    "utils.plot_vulnerability_model(vulnerability_model)"
   ]
  },
  {
   "cell_type": "markdown",
   "metadata": {
    "deletable": true,
    "editable": true
   },
   "source": [
    "### Save vulnerability function\n",
    "\n",
    "The derived parametric or nonparametric vulnerability function can be saved to a file in either CSV format or in the NRML format that is used by all OpenQuake input models. The following parameters need to be defined in the cell below in order to save the lognormal CDF fragility curves obtained above:\n",
    "1. `taxonomy`: This parameter specifies a taxonomy string for the the fragility functions.\n",
    "3. `output_type`: This parameter specifies the file format to be used for saving the functions. Currently, the formats supported are \"csv\" and \"nrml\"."
   ]
  },
  {
   "cell_type": "code",
   "execution_count": 14,
   "metadata": {
    "collapsed": true,
    "deletable": true,
    "editable": true
   },
   "outputs": [],
   "source": [
    "taxonomy = \"RC\"\n",
    "output_type = \"csv\"\n",
    "output_path = \"../../../../../rmtk_data/output/\""
   ]
  },
  {
   "cell_type": "code",
   "execution_count": 15,
   "metadata": {
    "collapsed": false,
    "deletable": true,
    "editable": true
   },
   "outputs": [],
   "source": [
    "utils.save_vulnerability(taxonomy, vulnerability_model, output_type, output_path)"
   ]
  },
  {
   "cell_type": "code",
   "execution_count": null,
   "metadata": {
    "collapsed": true,
    "deletable": true,
    "editable": true
   },
   "outputs": [],
   "source": []
  }
 ],
 "metadata": {
  "kernelspec": {
   "display_name": "Python 2",
   "language": "python",
   "name": "python2"
  },
  "language_info": {
   "codemirror_mode": {
    "name": "ipython",
    "version": 2
   },
   "file_extension": ".py",
   "mimetype": "text/x-python",
   "name": "python",
   "nbconvert_exporter": "python",
   "pygments_lexer": "ipython2",
   "version": "2.7.13"
  }
 },
 "nbformat": 4,
 "nbformat_minor": 0
}
