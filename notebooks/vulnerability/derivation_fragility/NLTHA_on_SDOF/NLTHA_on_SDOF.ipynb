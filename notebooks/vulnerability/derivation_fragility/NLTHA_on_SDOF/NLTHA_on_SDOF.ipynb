{
 "cells": [
  {
   "cell_type": "markdown",
   "metadata": {},
   "source": [
    "# Non-Linear Time History Analysis (NLTHA) on Single Degree of Freedom (SDOF) Oscillators\n",
    "\n",
    "In this method, a single degree of freedom (SDOF) model of each structure is subjected to non-linear time history analysis (NLTHA) using a suite of ground motion records. The displacements of the SDOF due to each ground motion record are used as input to determine the distribution of buildings in each damage state for each level of ground motion intensity. A regression algorithm is then applied to derive the fragility model.\n",
    "\n",
    "The figure below illustrates a fragility model developed using this method.\n",
    "\n",
    "<img src=\"../../../../figures/NLTHA_SDOF.png\" width=\"400\" align=\"middle\">\n",
    "\n",
    "**Note**: To run the code in a cell:\n",
    "\n",
    "1. Click on the cell to select it.\n",
    "2. Press `SHIFT+ENTER` on your keyboard or press the play button (<button class='fa fa-play icon-play btn btn-xs btn-default'></button>) in the toolbar above."
   ]
  },
  {
   "cell_type": "code",
<<<<<<< HEAD
   "execution_count": null,
=======
   "execution_count": 1,
>>>>>>> parent of 5c46312... Update NLTHA_on_SDOF.ipynb
   "metadata": {},
   "outputs": [],
   "source": [
    "from rmtk.vulnerability.common import utils\n",
    "from rmtk.vulnerability.derivation_fragility.NLTHA_on_SDOF import NLTHA_on_SDOF\n",
    "from rmtk.vulnerability.derivation_fragility.NLTHA_on_SDOF.read_pinching_parameters import read_parameters\n",
    "%matplotlib inline"
   ]
  },
  {
   "cell_type": "markdown",
   "metadata": {},
   "source": [
    "---\n",
    "### Load capacity curves\n",
    "\n",
    "In order to use this methodology, it is necessary to provide one (or a group) of capacity curves, defined according to the format described in the [RMTK manual](../../../../rmtk-docs.pdf).\n",
    "\n",
    "Please provide the location of the file containing the capacity curves using the parameter `capacity_curves_file`."
   ]
  },
  {
   "cell_type": "code",
<<<<<<< HEAD
   "execution_count": null,
=======
   "execution_count": 2,
>>>>>>> parent of 5c46312... Update NLTHA_on_SDOF.ipynb
   "metadata": {},
   "outputs": [],
   "source": [
    "capacity_curves_file = \"../../../../sample_data/capacity_curves_point.csv\"\n",
    "sdof_hysteresis = \"Default\"\n",
    "#sdof_hysteresis = \"../../../../../rmtk_data/pinching_parameters.csv\""
   ]
  },
  {
   "cell_type": "code",
<<<<<<< HEAD
   "execution_count": null,
   "metadata": {
    "scrolled": false
   },
   "outputs": [],
=======
   "execution_count": 3,
   "metadata": {
    "scrolled": false
   },
   "outputs": [
    {
     "data": {
      "image/png": "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\n",
      "text/plain": [
       "<Figure size 432x288 with 1 Axes>"
      ]
     },
     "metadata": {
      "needs_background": "light"
     },
     "output_type": "display_data"
    }
   ],
>>>>>>> parent of 5c46312... Update NLTHA_on_SDOF.ipynb
   "source": [
    "capacity_curves = utils.read_capacity_curves(capacity_curves_file)\n",
    "utils.plot_capacity_curves(capacity_curves)\n",
    "hysteresis = read_parameters(sdof_hysteresis)"
   ]
  },
  {
   "cell_type": "markdown",
   "metadata": {},
   "source": [
    "### Load ground motion records\n",
    "\n",
    "Please indicate the path to the folder containing the ground motion records to be used in the analysis through the parameter `gmrs_folder`.\n",
    "\n",
    "**Note**: Each accelerogram needs to be in a separate CSV file as described in the [RMTK manual](../../../../rmtk-docs.pdf).\n",
    "\n",
    "The parameters `minT` and `maxT` are used to define the period bounds when plotting the spectra for the provided ground motion fields."
   ]
  },
  {
   "cell_type": "code",
<<<<<<< HEAD
   "execution_count": null,
=======
   "execution_count": 4,
>>>>>>> parent of 5c46312... Update NLTHA_on_SDOF.ipynb
   "metadata": {
    "scrolled": false
   },
   "outputs": [],
   "source": [
    "gmrs_folder = '../../../../sample_data/accelerograms'\n",
    "minT, maxT = 0.0, 2.0\n",
    "gmrs = utils.read_gmrs(gmrs_folder)\n",
    "#utils.plot_response_spectra(gmrs, minT, maxT)"
   ]
  },
  {
   "cell_type": "markdown",
   "metadata": {},
   "source": [
    "### Load damage state thresholds\n",
    "\n",
    "Please provide the path to your damage model file using the parameter `damage_model_file` in the cell below.\n",
    "\n",
    "The damage types currently supported are: `capacity curve dependent`, `spectral displacement` and `interstorey drift`. If the damage model type is `interstorey drift` the user can provide the pushover curve in terms of Vb-dfloor to be able to convert interstorey drift limit states to roof displacements and spectral displacements, otherwise a linear relationship is assumed."
   ]
  },
  {
   "cell_type": "code",
<<<<<<< HEAD
   "execution_count": null,
   "metadata": {},
   "outputs": [],
=======
   "execution_count": 5,
   "metadata": {},
   "outputs": [
    {
     "name": "stdout",
     "output_type": "stream",
     "text": [
      "['Slight', 'Sdy', 'normal', '', '0']\n",
      "['Moderate', '2 Sdy 1 Sdu', 'normal', '', '0']\n",
      "['Extensive', '1 Sdy 2 Sdu', 'normal', '', '0']\n",
      "['Collapse', 'Sdu', 'normal', '', '0']\n"
     ]
    }
   ],
>>>>>>> parent of 5c46312... Update NLTHA_on_SDOF.ipynb
   "source": [
    "damage_model_file = \"../../../../sample_data/damage_model.csv\"\n",
    "damage_model = utils.read_damage_model(damage_model_file)"
   ]
  },
  {
   "cell_type": "markdown",
   "metadata": {},
   "source": [
    "### Obtain the damage probability matrix\n",
    "\n",
    "The following parameters need to be defined in the cell below in order to calculate the damage probability matrix:\n",
    "1. `damping_ratio`: This parameter defines the damping ratio for the structure.\n",
    "2. `degradation`: This boolean parameter should be set to `True` or `False` to specify whether structural degradation should be considered in the analysis or not."
   ]
  },
  {
   "cell_type": "code",
<<<<<<< HEAD
   "execution_count": null,
   "metadata": {
    "scrolled": false
   },
   "outputs": [],
=======
   "execution_count": 7,
   "metadata": {
    "scrolled": false
   },
   "outputs": [
    {
     "name": "stdout",
     "output_type": "stream",
     "text": [
      "100.0%\n"
     ]
    },
    {
     "ename": "TypeError",
     "evalue": "plotIMEDP() missing 2 required positional arguments: 'damping' and 'IMT'",
     "output_type": "error",
     "traceback": [
      "\u001b[0;31m---------------------------------------------------------------------------\u001b[0m",
      "\u001b[0;31mTypeError\u001b[0m                                 Traceback (most recent call last)",
      "\u001b[0;32m<ipython-input-7-e342033de15f>\u001b[0m in \u001b[0;36m<module>\u001b[0;34m\u001b[0m\n\u001b[1;32m      4\u001b[0m \u001b[0mresponse\u001b[0m\u001b[0;34m=\u001b[0m\u001b[0;34m[\u001b[0m\u001b[0mPDM\u001b[0m\u001b[0;34m,\u001b[0m\u001b[0mSds\u001b[0m\u001b[0;34m]\u001b[0m\u001b[0;34m\u001b[0m\u001b[0m\n\u001b[1;32m      5\u001b[0m \u001b[0mT\u001b[0m \u001b[0;34m=\u001b[0m \u001b[0;36m0.5\u001b[0m\u001b[0;34m\u001b[0m\u001b[0m\n\u001b[0;32m----> 6\u001b[0;31m \u001b[0mutils\u001b[0m\u001b[0;34m.\u001b[0m\u001b[0mplotIMEDP\u001b[0m\u001b[0;34m(\u001b[0m\u001b[0mgmrs\u001b[0m\u001b[0;34m,\u001b[0m\u001b[0mT\u001b[0m\u001b[0;34m,\u001b[0m\u001b[0mSds\u001b[0m\u001b[0;34m,\u001b[0m\u001b[0;34m'Log'\u001b[0m\u001b[0;34m)\u001b[0m\u001b[0;34m\u001b[0m\u001b[0m\n\u001b[0m\u001b[1;32m      7\u001b[0m \u001b[0;34m\u001b[0m\u001b[0m\n\u001b[1;32m      8\u001b[0m \u001b[0mutils\u001b[0m\u001b[0;34m.\u001b[0m\u001b[0msave_result\u001b[0m\u001b[0;34m(\u001b[0m\u001b[0mPDM\u001b[0m\u001b[0;34m,\u001b[0m\u001b[0;34m'../../../../sample_data/PDM.csv'\u001b[0m\u001b[0;34m)\u001b[0m\u001b[0;34m\u001b[0m\u001b[0m\n",
      "\u001b[0;31mTypeError\u001b[0m: plotIMEDP() missing 2 required positional arguments: 'damping' and 'IMT'"
     ]
    }
   ],
>>>>>>> parent of 5c46312... Update NLTHA_on_SDOF.ipynb
   "source": [
    "damping_ratio = 0.05\n",
    "degradation = True\n",
    "[PDM,Sds]= NLTHA_on_SDOF.calculate_response(capacity_curves, hysteresis, gmrs, damage_model, damping_ratio, degradation)\n",
    "response=[PDM,Sds]\n",
<<<<<<< HEAD
    "\n",
=======
    "T = 0.5\n",
>>>>>>> parent of 5c46312... Update NLTHA_on_SDOF.ipynb
    "utils.plotIMEDP(gmrs,T,Sds,'Log')\n",
    "\n",
    "utils.save_result(PDM,'../../../../sample_data/PDM.csv')"
   ]
  },
  {
   "cell_type": "markdown",
   "metadata": {},
   "source": [
    "### Find an adequate intensity measure\n",
    "\n",
    "This sections allows users to find an intensity measure (PGA or Spectral Acceleration) that correlates well with damage. To do so, it is necessary to establish a range of periods of vibration and step (`minT`, `maxT` and `stepT`).\n"
   ]
  },
  {
   "cell_type": "code",
   "execution_count": null,
   "metadata": {
    "scrolled": false
   },
   "outputs": [],
   "source": [
    "minT, maxT,stepT  = 0.0, 2.0, 0.3\n",
    "cov_hazard=0.7\n",
    "PDM,ext_imls,ext_edps= utils.addShakingVaribility(response,cov_hazard,gmrs,T,damping,IMT)\n",
    "regression_method = 'cloud analysis'\n",
    "utils.evaluate_optimal_IM(gmrs,response,minT,maxT,stepT,damage_model,damping_ratio,regression_method,capacity_curves,cov_hazard,'Sa')"
   ]
  },
  {
   "cell_type": "markdown",
   "metadata": {},
   "source": [
    "### Fit lognormal CDF fragility curves\n",
    "\n",
    "The following parameters need to be defined in the cell below in order to fit lognormal CDF fragility curves to the damage probability matrix obtained above:\n",
    "1. `IMT`: This parameter specifies the intensity measure type to be used. Currently supported options are `\"PGA\"`, `\"Sa\"` and `\"Sd\"`.\n",
    "2. `T`: This parameter defines the time period of the fundamental mode of vibration of the structure.\n",
    "3. `regression_method`: This parameter defines the regression method to be used for estimating the parameters of the fragility functions. The valid options are \"cloud analysis\", \"least squares\" and \"max likelihood\"."
   ]
  },
  {
   "cell_type": "code",
   "execution_count": null,
   "metadata": {
    "scrolled": false
   },
   "outputs": [],
   "source": [
    "IMT = \"Sa\"\n",
    "T = 0.7\n",
    "#utils.export_IMLs_PDM(gmrs,T,PDM,damping_ratio,damage_model,'../../../../../rmtk_data/IMLs_PDM.csv')\n",
    "response=[PDM,Sds]\n",
    "fragility_model = utils.calculate_mean_fragility(gmrs,response, T, damping_ratio,IMT, damage_model, regression_method,capacity_curves,cov_hazard)"
   ]
  },
  {
   "cell_type": "markdown",
   "metadata": {},
   "source": [
    "### Plot fragility functions\n",
    "\n",
    "The following parameters need to be defined in the cell below in order to plot the lognormal CDF fragility curves obtained above:\n",
    "* `minIML` and `maxIML`: These parameters define the limits of the intensity measure level for plotting the functions"
   ]
  },
  {
   "cell_type": "code",
   "execution_count": null,
   "metadata": {},
   "outputs": [],
   "source": [
    "minIML, maxIML = 0.0, 1.2\n",
    "utils.plot_fragility_model(fragility_model, minIML, maxIML)\n",
    "utils.plot_fragility_scatter(fragility_model, minIML, maxIML, PDM, gmrs, IMT, T, damping_ratio)"
   ]
  },
  {
   "cell_type": "markdown",
   "metadata": {},
   "source": [
    "### Save fragility functions\n",
    "\n",
    "The derived parametric fragility functions can be saved to a file in either CSV format or in the NRML format that is used by all OpenQuake input models. The following parameters need to be defined in the cell below in order to save the lognormal CDF fragility curves obtained above:\n",
    "1. `taxonomy`: This parameter specifies a taxonomy string for the the fragility functions.\n",
    "2. `minIML` and `maxIML`: These parameters define the bounds of applicability of the functions.\n",
    "3. `output_type`: This parameter specifies the file format to be used for saving the functions. Currently, the formats supported are \"csv\" and \"nrml\"."
   ]
  },
  {
   "cell_type": "code",
   "execution_count": null,
   "metadata": {},
   "outputs": [],
   "source": [
    "taxonomy = \"RC\"\n",
    "minIML, maxIML = 0.01, 2.00\n",
    "output_type = \"csv\"\n",
    "output_path = \"../../../../../rmtk_data/output/\"\n",
    "utils.save_mean_fragility(taxonomy, fragility_model, minIML, maxIML, output_type, output_path)"
   ]
  },
  {
   "cell_type": "markdown",
   "metadata": {
    "collapsed": true
   },
   "source": [
    "### Obtain vulnerability function\n",
    "\n",
    "A vulnerability model can be derived by combining the set of fragility functions obtained above with a consequence model. In this process, the fractions of buildings in each damage state are multiplied by the associated damage ratio from the consequence model, in order to obtain a distribution of loss ratio for each intensity measure level. \n",
    "\n",
    "The following parameters need to be defined in the cell below in order to calculate vulnerability functions using the above derived fragility functions:\n",
    "1. `cons_model_file`: This parameter specifies the path of the consequence model file.\n",
    "2. `imls`: This parameter specifies a list of intensity measure levels in increasing order at which the distribution of loss ratios are required to be calculated.\n",
    "3. `distribution_type`: This parameter specifies the type of distribution to be used for calculating the vulnerability function. The distribution types currently supported are \"lognormal\", \"beta\", and \"PMF\"."
   ]
  },
  {
   "cell_type": "code",
   "execution_count": null,
   "metadata": {},
   "outputs": [],
   "source": [
    "cons_model_file = \"../../../../../rmtk_data/cons_model.csv\"\n",
    "imls = [0.05, 0.10, 0.15, 0.20, 0.25, 0.30, 0.35, 0.40, 0.45, 0.50, \n",
    "        0.60, 0.70, 0.80, 0.90, 1.00, 1.20, 1.40, 1.60, 1.80, 2.00, \n",
    "        2.20, 2.40, 2.60, 2.80, 3.00, 3.20, 3.40, 3.60, 3.80, 4.00]\n",
    "distribution_type = \"lognormal\"\n",
    "cons_model = utils.read_consequence_model(cons_model_file)\n",
    "vulnerability_model = utils.convert_fragility_vulnerability(fragility_model, cons_model, \n",
    "                                                            imls, distribution_type)"
   ]
  },
  {
   "cell_type": "markdown",
   "metadata": {},
   "source": [
    "### Plot vulnerability function"
   ]
  },
  {
   "cell_type": "code",
   "execution_count": null,
   "metadata": {
    "scrolled": true
   },
   "outputs": [],
   "source": [
    "utils.plot_vulnerability_model(vulnerability_model)"
   ]
  },
  {
   "cell_type": "markdown",
   "metadata": {},
   "source": [
    "### Save vulnerability function\n",
    "\n",
    "The derived parametric or nonparametric vulnerability function can be saved to a file in either CSV format or in the NRML format that is used by all OpenQuake input models. The following parameters need to be defined in the cell below in order to save the lognormal CDF fragility curves obtained above:\n",
    "1. `taxonomy`: This parameter specifies a taxonomy string for the the fragility functions.\n",
    "3. `output_type`: This parameter specifies the file format to be used for saving the functions. Currently, the formats supported are \"csv\" and \"nrml\"."
   ]
  },
  {
   "cell_type": "code",
   "execution_count": null,
   "metadata": {},
   "outputs": [],
   "source": [
    "taxonomy = \"RC\"\n",
    "output_type = \"csv\"\n",
    "output_path = \"../../../../../rmtk_data/output/\"\n",
    "utils.save_vulnerability(taxonomy, vulnerability_model, output_type, output_path)"
   ]
  }
 ],
 "metadata": {
  "kernelspec": {
   "display_name": "Python 3",
   "language": "python",
   "name": "python3"
  },
  "language_info": {
   "codemirror_mode": {
    "name": "ipython",
    "version": 3
   },
   "file_extension": ".py",
   "mimetype": "text/x-python",
   "name": "python",
   "nbconvert_exporter": "python",
   "pygments_lexer": "ipython3",
<<<<<<< HEAD
   "version": "3.7.0"
=======
   "version": "3.6.6"
>>>>>>> parent of 5c46312... Update NLTHA_on_SDOF.ipynb
  },
  "widgets": {
   "application/vnd.jupyter.widget-state+json": {
    "state": {},
    "version_major": 2,
    "version_minor": 0
   }
  }
 },
 "nbformat": 4,
 "nbformat_minor": 1
}
