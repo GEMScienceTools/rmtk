{
 "cells": [
  {
   "cell_type": "markdown",
   "metadata": {
    "deletable": true,
    "editable": true
   },
   "source": [
    "# RMTK batch facility\n",
    "\n",
    "The risk Modellers toolkit Batch Facility allows users to derive fragility models for a set of building classes sequenteally. This way, it is not necessary to run each building class at the time, but simply to provide the location of the folder containing the necessary ground motion records and capacity curves.<br />\n",
    "\n",
    "In the following figure, a set of fragility models calculated using the N2 method and the batch facility are presented: \n",
    "<img src=\"../../../figures/fragility_batch.png\" height=\"400\" width=\"800\" align=\"middle\">\n"
   ]
  },
  {
   "cell_type": "markdown",
   "metadata": {
    "deletable": true,
    "editable": true
   },
   "source": [
    "##Load capacity curves\n",
    "\n",
    "In order to use this methodology, it is necessary to provide one (or a group) of capacity curves, defined according to the format established on the [RMTK manual](../../../../../rmtk-docs.pdf). Please provide the location of the folder containing this input using the parameter input_folder."
   ]
  },
  {
   "cell_type": "code",
   "execution_count": null,
   "metadata": {
    "collapsed": false,
    "deletable": true,
    "editable": true
   },
   "outputs": [],
   "source": [
    "from rmtk.vulnerability.common import utils\n",
    "from rmtk.vulnerability.derivation_fragility.hybrid_methods.N2 import N2Method\n",
    "\n",
    "%matplotlib inline \n",
    "files_folder = '../../../../rmtk_data/portfolio_Italy'\n",
    "models = utils.read_set_models(files_folder)"
   ]
  },
  {
   "cell_type": "markdown",
   "metadata": {
    "deletable": true,
    "editable": true
   },
   "source": [
    "## Load ground motion records\n",
    "\n",
    "The demand in this methodology is input by a set of ground motion records, which should follow the format established in the [RMTK manual](../../../../../rmtk-docs.pdf). Please provide the location of this folder using the parameter gmrs_folder. It is also possible to plot the corresponding response spectra (displacement, pseudo-acceleration, and Sa-Sd), for which the minimum and maximum periods of interest (minT and maxT) should also be provided."
   ]
  },
  {
   "cell_type": "code",
   "execution_count": null,
   "metadata": {
    "collapsed": false,
    "deletable": true,
    "editable": true
   },
   "outputs": [],
   "source": [
    "gmrs_folder = '../../../../rmtk_data/accelerograms'\n",
    "gmrs = utils.read_gmrs(gmrs_folder)\n",
    "minT = 0.1\n",
    "maxT = 2\n",
    "utils.plot_response_spectra(gmrs,minT,maxT)"
   ]
  },
  {
   "cell_type": "code",
   "execution_count": null,
   "metadata": {
    "collapsed": false,
    "deletable": true,
    "editable": true
   },
   "outputs": [],
   "source": [
    "damage_model = utils.read_damage_model('../../../../../rmtk_data/damage_model.csv')\n",
    "damping = 0.05\n",
    "T = 2.0\n",
    "\n",
    "for imodel in range(len(models['name'])):\n",
    "    print models['name'][imodel]\n",
    "    capacity_curves = utils.read_capacity_curves(models['location'][imodel])\n",
    "    utils.plot_capacity_curves(capacity_curves)    \n",
    "    PDM, Sds = N2Method.calculate_fragility(capacity_curves,gmrs,damage_model,damping)\n",
    "    fragility_model = utils.calculate_mean_fragility(gmrs,PDM,T,damping,'Sa',damage_model)\n",
    "    utils.plot_fragility_model(fragility_model,0.01,2)"
   ]
  },
  {
   "cell_type": "code",
   "execution_count": null,
   "metadata": {
    "collapsed": true,
    "deletable": true,
    "editable": true
   },
   "outputs": [],
   "source": []
  }
 ],
 "metadata": {
  "kernelspec": {
   "display_name": "Python 2",
   "language": "python",
   "name": "python2"
  },
  "language_info": {
   "codemirror_mode": {
    "name": "ipython",
    "version": 2
   },
   "file_extension": ".py",
   "mimetype": "text/x-python",
   "name": "python",
   "nbconvert_exporter": "python",
   "pygments_lexer": "ipython2",
   "version": "2.7.13"
  }
 },
 "nbformat": 4,
 "nbformat_minor": 0
}
