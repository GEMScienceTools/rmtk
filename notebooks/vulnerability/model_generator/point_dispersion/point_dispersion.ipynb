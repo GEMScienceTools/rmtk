{
 "cells": [
  {
   "cell_type": "markdown",
   "metadata": {
    "deletable": true,
    "editable": true
   },
   "source": [
    "# Generation of capacity curves using point dispersion\n",
    "This notebook can be used to generate many synthethic capacity curves (spectral acceleration versus spectrum displacement), starting from a median pushover curve and dispersion levels for a number of specific points on the capacity curve. The figure below presents a number of capacity curves generated from a median curve representative of a given building typology.\n",
    "\n",
    "<img src=\"../../../../figures/capacity_curves_dispersion.png\" width=\"350\" align=\"middle\">"
   ]
  },
  {
   "cell_type": "markdown",
   "metadata": {
    "deletable": true,
    "editable": true
   },
   "source": [
    "**Note**: To run the code in a cell:\n",
    "\n",
    "1. Click on the cell to select it.\n",
    "2. Press `SHIFT+ENTER` on your keyboard or press the play button (<button class='fa fa-play icon-play btn btn-xs btn-default'></button>) in the toolbar above."
   ]
  },
  {
   "cell_type": "code",
   "execution_count": null,
   "metadata": {
    "collapsed": true,
    "deletable": true,
    "editable": true
   },
   "outputs": [],
   "source": [
    "from rmtk.vulnerability.model_generator.point_dispersion import point_dispersion as pd\n",
    "from rmtk.vulnerability.common import utils\n",
    "%matplotlib inline "
   ]
  },
  {
   "cell_type": "markdown",
   "metadata": {
    "deletable": true,
    "editable": true
   },
   "source": [
    "---\n",
    "### Capacity curve generator\n",
    "* The various points of the capacity curve should be defined in the vectors `Sa` (spectral acceleration) and `Sd` (spectral displacement).\n",
    "* For each of these points, the variability is specified in the form of coefficients of variation, using the vectors `Sa_cov` and `Sd_cov`.\n",
    "* The `distribution` can be set to \"normal\" or \"lognormal\" and controls the distribution used for the sampling.\n",
    "* The parameters `Sa_corr`, `Sd_corr`, and `Sa_Sd_corr` control the correlation used for sampling points on. A correlation factor equal to 1.0 implies full correlation, whereas a value equal to 0.0 will lead to an independent sampling process.\n",
    "* The parameter `truncation_level` specifies the number of standard deviations on either side of the mean of the distribution that will be considered during the sampling process.\n",
    "* The number of capacity curves that will be generated is specified by the parameter `no_capacity_curves`."
   ]
  },
  {
   "cell_type": "code",
   "execution_count": null,
   "metadata": {
    "collapsed": false,
    "deletable": true,
    "editable": true
   },
   "outputs": [],
   "source": [
    "Sa_means = [0.40, 0.40, 0.40, 0.40]\n",
    "Sa_covs  = [0.20, 0.20, 0.20, 0.20]\n",
    "Sd_means = [0.03, 0.05, 0.08, 0.1]\n",
    "Sd_covs  = [0.20, 0.20, 0.20, 0.20]\n",
    "distribution = \"normal\"\n",
    "Sa_corr = 0.99999\n",
    "Sd_corr = 0.99999\n",
    "Sa_Sd_corr = 0.5\n",
    "truncation_level = 1\n",
    "no_capacity_curves = 50\n",
    "capacity_curves = pd.generate_capacity_curves(Sa_means, Sa_covs, Sd_means, Sd_covs,\n",
    "                                              distribution, no_capacity_curves, \n",
    "                                              Sa_corr, Sd_corr, Sa_Sd_corr, truncation_level)\n",
    "utils.plot_capacity_curves(capacity_curves)"
   ]
  },
  {
   "cell_type": "markdown",
   "metadata": {
    "deletable": true,
    "editable": true
   },
   "source": [
    "### Include additional information\n",
    "Additional information can be added to the capacity curves generated using the above method. \n",
    "\n",
    "After generating the required capacity curves by running the cells above, you can add the following information to the capacity curves:\n",
    "\n",
    "* The parameter `gamma` defines the modal participation factor\n",
    "* The parameter `height` defines the height of the structure\n",
    "* The parameter `elastic_period` defines the elastic period of the first mode of vibration\n",
    "* The parameter `yielding_point_index` defines the yielding point"
   ]
  },
  {
   "cell_type": "code",
   "execution_count": null,
   "metadata": {
    "collapsed": false,
    "deletable": true,
    "editable": true,
    "scrolled": false
   },
   "outputs": [],
   "source": [
    "gamma = 1.2\n",
    "height = 3.0\n",
    "elastic_period = 0.6\n",
    "yielding_point_index = 1\n",
    "capacity_curves = utils.add_information(capacity_curves, 'gamma', 'value', gamma)\n",
    "capacity_curves = utils.add_information(capacity_curves, 'heights', 'value', height)\n",
    "capacity_curves = utils.add_information(capacity_curves, 'periods', 'calculate', 1)\n",
    "capacity_curves = utils.add_information(capacity_curves, 'yielding point', 'point', yielding_point_index)"
   ]
  },
  {
   "cell_type": "markdown",
   "metadata": {
    "deletable": true,
    "editable": true
   },
   "source": [
    "### Save capacity curves\n",
    "Please specify below the path for the output file to save the capacity curves:"
   ]
  },
  {
   "cell_type": "code",
   "execution_count": null,
   "metadata": {
    "collapsed": true,
    "deletable": true,
    "editable": true
   },
   "outputs": [],
   "source": [
    "output_file = \"../../../../../rmtk_data/capacity_curves_point.csv\"\n",
    "utils.save_SdSa_capacity_curves(capacity_curves, output_file)"
   ]
  },
  {
   "cell_type": "code",
   "execution_count": null,
   "metadata": {
    "collapsed": true,
    "deletable": true,
    "editable": true
   },
   "outputs": [],
   "source": []
  }
 ],
 "metadata": {
  "kernelspec": {
   "display_name": "Python 2",
   "language": "python",
   "name": "python2"
  },
  "language_info": {
   "codemirror_mode": {
    "name": "ipython",
    "version": 2
   },
   "file_extension": ".py",
   "mimetype": "text/x-python",
   "name": "python",
   "nbconvert_exporter": "python",
   "pygments_lexer": "ipython2",
   "version": "2.7.13"
  }
 },
 "nbformat": 4,
 "nbformat_minor": 0
}
