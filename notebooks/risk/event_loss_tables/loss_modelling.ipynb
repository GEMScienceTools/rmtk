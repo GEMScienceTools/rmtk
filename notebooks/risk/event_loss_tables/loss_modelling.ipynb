{
 "cells": [
  {
   "cell_type": "markdown",
   "metadata": {
    "deletable": true,
    "editable": true
   },
   "source": [
    "# Probable Maximum Losses (PML)\n",
    "\n",
    "This script processes event loss tables and calculates varies metrics such as loss exceedance curves, average annual losses, and losses for a number of return periods. It can also extract seismic events for specific levels of losses.\n",
    "<br />\n",
    "<br />\n",
    "It is necessary to include all of the event loss table outputs and associated stochastic event sets in the same folder (event_loss_table_folder)."
   ]
  },
  {
   "cell_type": "code",
   "execution_count": null,
   "metadata": {
    "collapsed": false,
    "deletable": true,
    "editable": true,
    "scrolled": false
   },
   "outputs": [],
   "source": [
    "from rmtk.risk.event_loss_tables.loss_modelling import lossModelling\n",
    "%matplotlib inline\n",
    "\n",
    "import os\n",
    "print os.getcwd()\n",
    "\n",
    "event_loss_table_folder = 'Nepal'\n",
    "total_cost = 62e9\n",
    "investigationTime = 10000\n",
    "return_periods = [100,475,950]\n",
    "\n",
    "save_elt_csv = False\n",
    "save_ses_csv = False\n",
    "\n",
    "lossModelling(event_loss_table_folder,save_ses_csv,save_elt_csv,total_cost,investigationTime,return_periods)"
   ]
  },
  {
   "cell_type": "code",
   "execution_count": null,
   "metadata": {
    "collapsed": false,
    "deletable": true,
    "editable": true,
    "scrolled": false
   },
   "outputs": [],
   "source": [
    "from loss_modelling import selectRuptures \n",
    "return_periods = [500,5000]\n",
    "rups_for_return_period = 10\n",
    "selectRuptures(event_loss_table_folder,return_periods,rups_for_return_period)"
   ]
  },
  {
   "cell_type": "code",
   "execution_count": null,
   "metadata": {
    "collapsed": true,
    "deletable": true,
    "editable": true
   },
   "outputs": [],
   "source": []
  }
 ],
 "metadata": {
  "kernelspec": {
   "display_name": "Python 2",
   "language": "python",
   "name": "python2"
  },
  "language_info": {
   "codemirror_mode": {
    "name": "ipython",
    "version": 2
   },
   "file_extension": ".py",
   "mimetype": "text/x-python",
   "name": "python",
   "nbconvert_exporter": "python",
   "pygments_lexer": "ipython2",
   "version": "2.7.13"
  }
 },
 "nbformat": 4,
 "nbformat_minor": 0
}
