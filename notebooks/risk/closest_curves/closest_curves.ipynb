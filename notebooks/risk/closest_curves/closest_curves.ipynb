{
 "cells": [
  {
   "cell_type": "markdown",
   "metadata": {},
   "source": [
    "# Logic tree branch selector"
   ]
  },
  {
   "cell_type": "markdown",
   "metadata": {},
   "source": [
    "This feature of the Risk Modeller's Toolkit allows users to analyse sets of hazard curves derived using the Classical PSHA-based approach, and identify the branch of the logic tree that generated the hazard curve closest to the mean hazard curve, or a specific hazard curve fractile. This IPython notebook allows the user to sort a list of hazard curves in descending order of the root mean square relative error between the branch hazard curves and mean hazard curve. An average of the RMSE distance across all locations is used for the sorting."
   ]
  },
  {
   "cell_type": "code",
   "execution_count": 1,
   "metadata": {
    "collapsed": false
   },
   "outputs": [],
   "source": [
    "import closest_curves as cc"
   ]
  },
  {
   "cell_type": "markdown",
   "metadata": {},
   "source": [
    "Please specify below the path of the directory containing the hazard curve NRML files:"
   ]
  },
  {
   "cell_type": "code",
   "execution_count": 2,
   "metadata": {
    "collapsed": false
   },
   "outputs": [],
   "source": [
    "input_dir = '../../../../rmtk_data/hazard_curves/'"
   ]
  },
  {
   "cell_type": "code",
   "execution_count": 3,
   "metadata": {
    "collapsed": false
   },
   "outputs": [
    {
     "name": "stdout",
     "output_type": "stream",
     "text": [
      "gsimlt_path=CauzziFaccioli2008_Toro2002SHARE_*_*_*_*_*,smlt_path=b2 0.0847919470655\n",
      "gsimlt_path=ZhaoEtAl2006Asc_Toro2002SHARE_*_*_*_*_*,smlt_path=b2 0.0848318418032\n",
      "gsimlt_path=AkkarBommer2010_Toro2002SHARE_*_*_*_*_*,smlt_path=b2 0.0848420322196\n",
      "gsimlt_path=ChiouYoungs2008_Toro2002SHARE_*_*_*_*_*,smlt_path=b2 0.0849064677496\n",
      "gsimlt_path=ChiouYoungs2008_Toro2002SHARE_Toro2002SHARE_*_*_FaccioliEtAl2010_*,smlt_path=b1 0.0850259901133\n",
      "gsimlt_path=ChiouYoungs2008_Toro2002SHARE_Campbell2003SHARE_*_*_FaccioliEtAl2010_*,smlt_path=b1 0.0850260944879\n",
      "gsimlt_path=AkkarBommer2010_Toro2002SHARE_Toro2002SHARE_*_*_FaccioliEtAl2010_*,smlt_path=b1 0.0850653783651\n",
      "gsimlt_path=AkkarBommer2010_Toro2002SHARE_Campbell2003SHARE_*_*_FaccioliEtAl2010_*,smlt_path=b1 0.0850654826913\n",
      "gsimlt_path=ZhaoEtAl2006Asc_Toro2002SHARE_Toro2002SHARE_*_*_FaccioliEtAl2010_*,smlt_path=b1 0.0850668072792\n",
      "gsimlt_path=ZhaoEtAl2006Asc_Toro2002SHARE_Campbell2003SHARE_*_*_FaccioliEtAl2010_*,smlt_path=b1 0.0850669116037\n",
      "gsimlt_path=CauzziFaccioli2008_Toro2002SHARE_Toro2002SHARE_*_*_FaccioliEtAl2010_*,smlt_path=b1 0.0854499431266\n",
      "gsimlt_path=CauzziFaccioli2008_Toro2002SHARE_Campbell2003SHARE_*_*_FaccioliEtAl2010_*,smlt_path=b1 0.0854500469833\n",
      "gsimlt_path=ChiouYoungs2008_CauzziFaccioli2008_Campbell2003SHARE_*_*_FaccioliEtAl2010_*,smlt_path=b3 0.130789343431\n",
      "gsimlt_path=ChiouYoungs2008_CauzziFaccioli2008_Toro2002SHARE_*_*_FaccioliEtAl2010_*,smlt_path=b3 0.13078963624\n",
      "gsimlt_path=AkkarBommer2010_CauzziFaccioli2008_Campbell2003SHARE_*_*_FaccioliEtAl2010_*,smlt_path=b3 0.130873927961\n",
      "gsimlt_path=AkkarBommer2010_CauzziFaccioli2008_Toro2002SHARE_*_*_FaccioliEtAl2010_*,smlt_path=b3 0.13087422058\n",
      "gsimlt_path=CauzziFaccioli2008_CauzziFaccioli2008_Campbell2003SHARE_*_*_FaccioliEtAl2010_*,smlt_path=b3 0.130929956138\n",
      "gsimlt_path=CauzziFaccioli2008_CauzziFaccioli2008_Toro2002SHARE_*_*_FaccioliEtAl2010_*,smlt_path=b3 0.130930248633\n",
      "gsimlt_path=ZhaoEtAl2006Asc_CauzziFaccioli2008_Campbell2003SHARE_*_*_FaccioliEtAl2010_*,smlt_path=b3 0.133892636771\n",
      "gsimlt_path=ZhaoEtAl2006Asc_CauzziFaccioli2008_Toro2002SHARE_*_*_FaccioliEtAl2010_*,smlt_path=b3 0.133892922793\n",
      "gsimlt_path=CauzziFaccioli2008_Campbell2003SHARE_*_*_*_*_*,smlt_path=b2 0.135733885976\n",
      "gsimlt_path=CauzziFaccioli2008_Campbell2003SHARE_Toro2002SHARE_*_*_FaccioliEtAl2010_*,smlt_path=b1 0.135764812219\n",
      "gsimlt_path=CauzziFaccioli2008_Campbell2003SHARE_Campbell2003SHARE_*_*_FaccioliEtAl2010_*,smlt_path=b1 0.135764993002\n",
      "gsimlt_path=ZhaoEtAl2006Asc_Campbell2003SHARE_*_*_*_*_*,smlt_path=b2 0.135773047011\n",
      "gsimlt_path=AkkarBommer2010_Campbell2003SHARE_*_*_*_*_*,smlt_path=b2 0.135779376957\n",
      "gsimlt_path=ChiouYoungs2008_Campbell2003SHARE_*_*_*_*_*,smlt_path=b2 0.135800339924\n",
      "gsimlt_path=ChiouYoungs2008_Campbell2003SHARE_Toro2002SHARE_*_*_FaccioliEtAl2010_*,smlt_path=b1 0.135921928347\n",
      "gsimlt_path=ChiouYoungs2008_Campbell2003SHARE_Campbell2003SHARE_*_*_FaccioliEtAl2010_*,smlt_path=b1 0.135922108921\n",
      "gsimlt_path=ZhaoEtAl2006Asc_Campbell2003SHARE_Toro2002SHARE_*_*_FaccioliEtAl2010_*,smlt_path=b1 0.135983794726\n",
      "gsimlt_path=ZhaoEtAl2006Asc_Campbell2003SHARE_Campbell2003SHARE_*_*_FaccioliEtAl2010_*,smlt_path=b1 0.135983975218\n",
      "gsimlt_path=AkkarBommer2010_Campbell2003SHARE_Toro2002SHARE_*_*_FaccioliEtAl2010_*,smlt_path=b1 0.135987024029\n",
      "gsimlt_path=AkkarBommer2010_Campbell2003SHARE_Campbell2003SHARE_*_*_FaccioliEtAl2010_*,smlt_path=b1 0.135987204516\n",
      "gsimlt_path=CauzziFaccioli2008_AkkarBommer2010_Toro2002SHARE_*_*_FaccioliEtAl2010_*,smlt_path=b1 0.136894940324\n",
      "gsimlt_path=CauzziFaccioli2008_AkkarBommer2010_Campbell2003SHARE_*_*_FaccioliEtAl2010_*,smlt_path=b1 0.136894956804\n",
      "gsimlt_path=ZhaoEtAl2006Asc_AkkarBommer2010_Toro2002SHARE_*_*_FaccioliEtAl2010_*,smlt_path=b1 0.137067562408\n",
      "gsimlt_path=ZhaoEtAl2006Asc_AkkarBommer2010_Campbell2003SHARE_*_*_FaccioliEtAl2010_*,smlt_path=b1 0.137067578867\n",
      "gsimlt_path=ChiouYoungs2008_AkkarBommer2010_Toro2002SHARE_*_*_FaccioliEtAl2010_*,smlt_path=b1 0.137070243489\n",
      "gsimlt_path=ChiouYoungs2008_AkkarBommer2010_Campbell2003SHARE_*_*_FaccioliEtAl2010_*,smlt_path=b1 0.137070259948\n",
      "gsimlt_path=AkkarBommer2010_AkkarBommer2010_Toro2002SHARE_*_*_FaccioliEtAl2010_*,smlt_path=b1 0.137070995268\n",
      "gsimlt_path=AkkarBommer2010_AkkarBommer2010_Campbell2003SHARE_*_*_FaccioliEtAl2010_*,smlt_path=b1 0.137071011727\n",
      "gsimlt_path=CauzziFaccioli2008_AkkarBommer2010_*_*_*_*_*,smlt_path=b2 0.137218098757\n",
      "gsimlt_path=ZhaoEtAl2006Asc_AkkarBommer2010_*_*_*_*_*,smlt_path=b2 0.13723069386\n",
      "gsimlt_path=AkkarBommer2010_AkkarBommer2010_*_*_*_*_*,smlt_path=b2 0.137241747195\n",
      "gsimlt_path=ChiouYoungs2008_AkkarBommer2010_*_*_*_*_*,smlt_path=b2 0.137294748373\n",
      "gsimlt_path=CauzziFaccioli2008_ChiouYoungs2008_Toro2002SHARE_*_*_FaccioliEtAl2010_*,smlt_path=b1 0.140200756381\n",
      "gsimlt_path=CauzziFaccioli2008_ChiouYoungs2008_Campbell2003SHARE_*_*_FaccioliEtAl2010_*,smlt_path=b1 0.140200770312\n",
      "gsimlt_path=ZhaoEtAl2006Asc_ChiouYoungs2008_Toro2002SHARE_*_*_FaccioliEtAl2010_*,smlt_path=b1 0.140367452207\n",
      "gsimlt_path=ZhaoEtAl2006Asc_ChiouYoungs2008_Campbell2003SHARE_*_*_FaccioliEtAl2010_*,smlt_path=b1 0.140367466121\n",
      "gsimlt_path=AkkarBommer2010_ChiouYoungs2008_Toro2002SHARE_*_*_FaccioliEtAl2010_*,smlt_path=b1 0.140372046773\n",
      "gsimlt_path=AkkarBommer2010_ChiouYoungs2008_Campbell2003SHARE_*_*_FaccioliEtAl2010_*,smlt_path=b1 0.140372060687\n",
      "gsimlt_path=ChiouYoungs2008_ChiouYoungs2008_Toro2002SHARE_*_*_FaccioliEtAl2010_*,smlt_path=b1 0.140384961604\n",
      "gsimlt_path=ChiouYoungs2008_ChiouYoungs2008_Campbell2003SHARE_*_*_FaccioliEtAl2010_*,smlt_path=b1 0.140384975516\n",
      "gsimlt_path=CauzziFaccioli2008_ChiouYoungs2008_*_*_*_*_*,smlt_path=b2 0.140579439424\n",
      "gsimlt_path=ZhaoEtAl2006Asc_ChiouYoungs2008_*_*_*_*_*,smlt_path=b2 0.140586132361\n",
      "gsimlt_path=AkkarBommer2010_ChiouYoungs2008_*_*_*_*_*,smlt_path=b2 0.140597554658\n",
      "gsimlt_path=ChiouYoungs2008_ChiouYoungs2008_*_*_*_*_*,smlt_path=b2 0.140656249795\n",
      "gsimlt_path=ChiouYoungs2008_AkkarBommer2010_Campbell2003SHARE_*_*_FaccioliEtAl2010_*,smlt_path=b3 0.140794652897\n",
      "gsimlt_path=ChiouYoungs2008_AkkarBommer2010_Toro2002SHARE_*_*_FaccioliEtAl2010_*,smlt_path=b3 0.14079490728\n",
      "gsimlt_path=AkkarBommer2010_AkkarBommer2010_Campbell2003SHARE_*_*_FaccioliEtAl2010_*,smlt_path=b3 0.140903568143\n",
      "gsimlt_path=AkkarBommer2010_AkkarBommer2010_Toro2002SHARE_*_*_FaccioliEtAl2010_*,smlt_path=b3 0.140903822329\n",
      "gsimlt_path=CauzziFaccioli2008_AkkarBommer2010_Campbell2003SHARE_*_*_FaccioliEtAl2010_*,smlt_path=b3 0.140947809394\n",
      "gsimlt_path=CauzziFaccioli2008_AkkarBommer2010_Toro2002SHARE_*_*_FaccioliEtAl2010_*,smlt_path=b3 0.1409480635\n",
      "gsimlt_path=ZhaoEtAl2006Asc_AkkarBommer2010_Campbell2003SHARE_*_*_FaccioliEtAl2010_*,smlt_path=b3 0.141073944924\n",
      "gsimlt_path=ZhaoEtAl2006Asc_AkkarBommer2010_Toro2002SHARE_*_*_FaccioliEtAl2010_*,smlt_path=b3 0.141074198803\n",
      "gsimlt_path=ChiouYoungs2008_ChiouYoungs2008_Campbell2003SHARE_*_*_FaccioliEtAl2010_*,smlt_path=b3 0.141484129241\n",
      "gsimlt_path=ChiouYoungs2008_ChiouYoungs2008_Toro2002SHARE_*_*_FaccioliEtAl2010_*,smlt_path=b3 0.141484368305\n",
      "gsimlt_path=AkkarBommer2010_ChiouYoungs2008_Campbell2003SHARE_*_*_FaccioliEtAl2010_*,smlt_path=b3 0.141613977877\n",
      "gsimlt_path=AkkarBommer2010_ChiouYoungs2008_Toro2002SHARE_*_*_FaccioliEtAl2010_*,smlt_path=b3 0.141614216722\n",
      "gsimlt_path=CauzziFaccioli2008_ChiouYoungs2008_Campbell2003SHARE_*_*_FaccioliEtAl2010_*,smlt_path=b3 0.141646548848\n",
      "gsimlt_path=CauzziFaccioli2008_ChiouYoungs2008_Toro2002SHARE_*_*_FaccioliEtAl2010_*,smlt_path=b3 0.141646787638\n",
      "gsimlt_path=ZhaoEtAl2006Asc_ChiouYoungs2008_Campbell2003SHARE_*_*_FaccioliEtAl2010_*,smlt_path=b3 0.141738048883\n",
      "gsimlt_path=ZhaoEtAl2006Asc_ChiouYoungs2008_Toro2002SHARE_*_*_FaccioliEtAl2010_*,smlt_path=b3 0.14173828752\n",
      "gsimlt_path=ChiouYoungs2008_Campbell2003SHARE_Campbell2003SHARE_*_*_FaccioliEtAl2010_*,smlt_path=b3 0.145216604883\n",
      "gsimlt_path=ChiouYoungs2008_Campbell2003SHARE_Toro2002SHARE_*_*_FaccioliEtAl2010_*,smlt_path=b3 0.145216654481\n",
      "gsimlt_path=CauzziFaccioli2008_Campbell2003SHARE_Campbell2003SHARE_*_*_FaccioliEtAl2010_*,smlt_path=b3 0.145362515121\n",
      "gsimlt_path=CauzziFaccioli2008_Campbell2003SHARE_Toro2002SHARE_*_*_FaccioliEtAl2010_*,smlt_path=b3 0.145362564668\n",
      "gsimlt_path=AkkarBommer2010_Campbell2003SHARE_Campbell2003SHARE_*_*_FaccioliEtAl2010_*,smlt_path=b3 0.145407138941\n",
      "gsimlt_path=AkkarBommer2010_Campbell2003SHARE_Toro2002SHARE_*_*_FaccioliEtAl2010_*,smlt_path=b3 0.145407188474\n",
      "gsimlt_path=ZhaoEtAl2006Asc_Campbell2003SHARE_Campbell2003SHARE_*_*_FaccioliEtAl2010_*,smlt_path=b3 0.145522047807\n",
      "gsimlt_path=ZhaoEtAl2006Asc_Campbell2003SHARE_Toro2002SHARE_*_*_FaccioliEtAl2010_*,smlt_path=b3 0.145522097301\n",
      "gsimlt_path=AkkarBommer2010_CauzziFaccioli2008_Campbell2003SHARE_*_*_FaccioliEtAl2010_*,smlt_path=b1 0.272436870971\n",
      "gsimlt_path=AkkarBommer2010_CauzziFaccioli2008_Toro2002SHARE_*_*_FaccioliEtAl2010_*,smlt_path=b1 0.272436878179\n",
      "gsimlt_path=ZhaoEtAl2006Asc_CauzziFaccioli2008_Campbell2003SHARE_*_*_FaccioliEtAl2010_*,smlt_path=b1 0.27243847263\n",
      "gsimlt_path=ZhaoEtAl2006Asc_CauzziFaccioli2008_Toro2002SHARE_*_*_FaccioliEtAl2010_*,smlt_path=b1 0.272438479838\n",
      "gsimlt_path=ChiouYoungs2008_CauzziFaccioli2008_Campbell2003SHARE_*_*_FaccioliEtAl2010_*,smlt_path=b1 0.272445204902\n",
      "gsimlt_path=ChiouYoungs2008_CauzziFaccioli2008_Toro2002SHARE_*_*_FaccioliEtAl2010_*,smlt_path=b1 0.27244521211\n",
      "gsimlt_path=CauzziFaccioli2008_CauzziFaccioli2008_Campbell2003SHARE_*_*_FaccioliEtAl2010_*,smlt_path=b1 0.273085939673\n",
      "gsimlt_path=CauzziFaccioli2008_CauzziFaccioli2008_Toro2002SHARE_*_*_FaccioliEtAl2010_*,smlt_path=b1 0.273085946864\n",
      "gsimlt_path=ZhaoEtAl2006Asc_CauzziFaccioli2008_*_*_*_*_*,smlt_path=b2 0.273209868842\n",
      "gsimlt_path=CauzziFaccioli2008_CauzziFaccioli2008_*_*_*_*_*,smlt_path=b2 0.273212080723\n",
      "gsimlt_path=AkkarBommer2010_CauzziFaccioli2008_*_*_*_*_*,smlt_path=b2 0.273213499085\n",
      "gsimlt_path=ChiouYoungs2008_CauzziFaccioli2008_*_*_*_*_*,smlt_path=b2 0.273243965883\n",
      "gsimlt_path=ChiouYoungs2008_Toro2002SHARE_Campbell2003SHARE_*_*_FaccioliEtAl2010_*,smlt_path=b3 0.999535378154\n",
      "gsimlt_path=ChiouYoungs2008_Toro2002SHARE_Toro2002SHARE_*_*_FaccioliEtAl2010_*,smlt_path=b3 0.999535398355\n",
      "gsimlt_path=AkkarBommer2010_Toro2002SHARE_Campbell2003SHARE_*_*_FaccioliEtAl2010_*,smlt_path=b3 0.999558146551\n",
      "gsimlt_path=AkkarBommer2010_Toro2002SHARE_Toro2002SHARE_*_*_FaccioliEtAl2010_*,smlt_path=b3 0.999558166751\n",
      "gsimlt_path=CauzziFaccioli2008_Toro2002SHARE_Campbell2003SHARE_*_*_FaccioliEtAl2010_*,smlt_path=b3 0.999567009306\n",
      "gsimlt_path=CauzziFaccioli2008_Toro2002SHARE_Toro2002SHARE_*_*_FaccioliEtAl2010_*,smlt_path=b3 0.999567029506\n",
      "gsimlt_path=ZhaoEtAl2006Asc_Toro2002SHARE_Campbell2003SHARE_*_*_FaccioliEtAl2010_*,smlt_path=b3 0.999999979808\n",
      "gsimlt_path=ZhaoEtAl2006Asc_Toro2002SHARE_Toro2002SHARE_*_*_FaccioliEtAl2010_*,smlt_path=b3 1.0\n"
     ]
    }
   ],
   "source": [
    "cc.list_closest_curves(input_dir)"
   ]
  }
 ],
 "metadata": {
  "kernelspec": {
   "display_name": "Python 2",
   "language": "python",
   "name": "python2"
  },
  "language_info": {
   "codemirror_mode": {
    "name": "ipython",
    "version": 2
   },
   "file_extension": ".py",
   "mimetype": "text/x-python",
   "name": "python",
   "nbconvert_exporter": "python",
   "pygments_lexer": "ipython2",
   "version": "2.7.9"
  }
 },
 "nbformat": 4,
 "nbformat_minor": 0
}
